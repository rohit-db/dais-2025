{
 "cells": [
  {
   "cell_type": "markdown",
   "metadata": {},
   "source": [
    "# Lakebase Database Setup\n",
    "\n",
    "This notebook creates the database schema and populates it with sample coffee shop data."
   ]
  },
  {
   "cell_type": "code",
   "execution_count": 2,
   "metadata": {},
   "outputs": [],
   "source": [
    "import psycopg2\n",
    "import logging\n",
    "from databricks.sdk import WorkspaceClient\n",
    "import uuid\n",
    "\n",
    "# Setup logging\n",
    "logging.basicConfig(level=logging.INFO)\n",
    "logger = logging.getLogger(__name__)"
   ]
  },
  {
   "cell_type": "markdown",
   "metadata": {},
   "source": [
    "## Configuration"
   ]
  },
  {
   "cell_type": "code",
   "execution_count": null,
   "metadata": {},
   "outputs": [],
   "source": [
    "# Configuration\n",
    "INSTANCE_NAME = \"rb-demo-lakebase\"\n",
    "PROFILE = \"az-demo\"\n",
    "USER_NAME = \"rohit.bhagwat@databricks.com\"  \n"
   ]
  },
  {
   "cell_type": "code",
   "execution_count": null,
   "metadata": {},
   "outputs": [],
   "source": [
    "# Get instance and generate credentials\n",
    "w = WorkspaceClient(profile=PROFILE)\n",
    "instance = w.database.get_database_instance(name=INSTANCE_NAME)\n",
    "cred = w.database.generate_database_credential(\n",
    "    request_id=str(uuid.uuid4()), \n",
    "    instance_names=[INSTANCE_NAME]\n",
    ")\n",
    "\n",
    "print(f\"✅ Connected to instance: {instance.name}\")\n",
    "print(f\"   DNS: {instance.read_write_dns}\")"
   ]
  },
  {
   "cell_type": "markdown",
   "metadata": {},
   "source": [
    "## Connect to Database"
   ]
  },
  {
   "cell_type": "code",
   "execution_count": null,
   "metadata": {},
   "outputs": [],
   "source": [
    "# Connect to PostgreSQL\n",
    "conn = psycopg2.connect(\n",
    "    host=instance.read_write_dns,\n",
    "    dbname=\"databricks_postgres\",\n",
    "    user=USER_NAME,\n",
    "    password=cred.token,\n",
    "    sslmode=\"require\"\n",
    ")\n",
    "\n",
    "conn.autocommit = True\n",
    "print(\"✅ Connected to PostgreSQL database\")"
   ]
  },
  {
   "cell_type": "markdown",
   "metadata": {},
   "source": [
    "## Create Schema and Tables"
   ]
  },
  {
   "cell_type": "code",
   "execution_count": null,
   "metadata": {},
   "outputs": [],
   "source": [
    "with conn.cursor() as cursor:\n",
    "    # Create schema\n",
    "    cursor.execute(\"CREATE SCHEMA IF NOT EXISTS coffee_operations\")\n",
    "    print(\"✅ Created schema: coffee_operations\")\n",
    "    \n",
    "    # Create coffee shops table\n",
    "    create_table_sql = \"\"\"\n",
    "    CREATE TABLE IF NOT EXISTS coffee_operations.coffee_shops (\n",
    "        shop_id VARCHAR(10) PRIMARY KEY,\n",
    "        shop_name VARCHAR(100) NOT NULL,\n",
    "        city VARCHAR(50) NOT NULL,\n",
    "        state_province VARCHAR(50),\n",
    "        country VARCHAR(50) NOT NULL,\n",
    "        time_zone VARCHAR(50) NOT NULL,\n",
    "        latitude NUMERIC(10,7),\n",
    "        longitude NUMERIC(11,7),\n",
    "        seating_capacity INTEGER,\n",
    "        is_premium_location BOOLEAN DEFAULT FALSE,\n",
    "        is_active BOOLEAN DEFAULT TRUE,\n",
    "        created_at TIMESTAMP DEFAULT CURRENT_TIMESTAMP,\n",
    "        updated_at TIMESTAMP DEFAULT CURRENT_TIMESTAMP\n",
    "    );\n",
    "    \"\"\"\n",
    "    cursor.execute(create_table_sql)\n",
    "    print(\"✅ Created coffee_shops table\")"
   ]
  },
  {
   "cell_type": "markdown",
   "metadata": {},
   "source": [
    "## Insert Sample Data"
   ]
  },
  {
   "cell_type": "code",
   "execution_count": null,
   "metadata": {},
   "outputs": [],
   "source": [
    "with conn.cursor() as cursor:\n",
    "    # Sample coffee shop data\n",
    "    sample_shops = [\n",
    "        ('CS001', 'Brew & Bean Downtown', 'San Francisco', 'CA', 'United States', \n",
    "         'America/Los_Angeles', 37.7749, -122.4194, 45, True),\n",
    "        ('CS002', 'Mocha Haven Central', 'New York', 'NY', 'United States', \n",
    "         'America/New_York', 40.7128, -74.0060, 32, True),\n",
    "        ('CS003', 'Espresso Corner', 'Seattle', 'WA', 'United States', \n",
    "         'America/Los_Angeles', 47.6062, -122.3321, 28, False),\n",
    "        ('CS004', 'Café Paris', 'Paris', 'Île-de-France', 'France', \n",
    "         'Europe/Paris', 48.8566, 2.3522, 50, True),\n",
    "        ('CS005', 'Tokyo Roast', 'Tokyo', 'Tokyo', 'Japan', \n",
    "         'Asia/Tokyo', 35.6762, 139.6503, 35, False)\n",
    "    ]\n",
    "    \n",
    "    # Insert data\n",
    "    for shop in sample_shops:\n",
    "        cursor.execute(\"\"\"\n",
    "            INSERT INTO coffee_operations.coffee_shops \n",
    "            (shop_id, shop_name, city, state_province, country, time_zone, \n",
    "             latitude, longitude, seating_capacity, is_premium_location)\n",
    "            VALUES (%s, %s, %s, %s, %s, %s, %s, %s, %s, %s)\n",
    "            ON CONFLICT (shop_id) DO NOTHING\n",
    "        \"\"\", shop)\n",
    "    \n",
    "    print(f\"✅ Inserted {len(sample_shops)} coffee shops\")"
   ]
  },
  {
   "cell_type": "markdown",
   "metadata": {},
   "source": [
    "## Verify Data"
   ]
  },
  {
   "cell_type": "code",
   "execution_count": null,
   "metadata": {},
   "outputs": [],
   "source": [
    "with conn.cursor() as cursor:\n",
    "    # Count total shops\n",
    "    cursor.execute(\"SELECT COUNT(*) FROM coffee_operations.coffee_shops\")\n",
    "    total_count = cursor.fetchone()[0]\n",
    "    print(f\"📊 Total coffee shops: {total_count}\")\n",
    "    \n",
    "    # Show premium locations\n",
    "    cursor.execute(\"\"\"\n",
    "        SELECT shop_name, city, country, seating_capacity \n",
    "        FROM coffee_operations.coffee_shops \n",
    "        WHERE is_premium_location = TRUE\n",
    "        ORDER BY seating_capacity DESC\n",
    "    \"\"\")\n",
    "    \n",
    "    premium_shops = cursor.fetchall()\n",
    "    print(f\"\\n🌟 Premium locations ({len(premium_shops)}):\")\n",
    "    for shop in premium_shops:\n",
    "        print(f\"   {shop[0]} - {shop[1]}, {shop[2]} ({shop[3]} seats)\")"
   ]
  },
  {
   "cell_type": "code",
   "execution_count": null,
   "metadata": {},
   "outputs": [],
   "source": [
    "# Close connection\n",
    "conn.close()\n",
    "print(\"\\n✅ Database setup complete!\")"
   ]
  },
  {
   "cell_type": "markdown",
   "metadata": {},
   "source": [
    "## Next Steps\n",
    "\n",
    "Your database is now ready! Proceed to the next notebook to query and analyze the data."
   ]
  }
 ],
 "metadata": {
  "kernelspec": {
   "display_name": ".venv",
   "language": "python",
   "name": "python3"
  },
  "language_info": {
   "codemirror_mode": {
    "name": "ipython",
    "version": 3
   },
   "file_extension": ".py",
   "mimetype": "text/x-python",
   "name": "python",
   "nbconvert_exporter": "python",
   "pygments_lexer": "ipython3",
   "version": "3.12.8"
  }
 },
 "nbformat": 4,
 "nbformat_minor": 4
}
