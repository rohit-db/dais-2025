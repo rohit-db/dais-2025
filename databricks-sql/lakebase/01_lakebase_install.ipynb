{
 "cells": [
  {
   "cell_type": "markdown",
   "metadata": {},
   "source": [
    "# Lakebase Installation & Setup\n",
    "\n",
    "This notebook demonstrates how to create and manage a Databricks Lakebase database instance using the Databricks SDK."
   ]
  },
  {
   "cell_type": "code",
   "execution_count": null,
   "metadata": {},
   "outputs": [],
   "source": [
    "# Install required packages\n",
    "# !pip install databricks-sdk psycopg2-binary"
   ]
  },
  {
   "cell_type": "code",
   "execution_count": 1,
   "metadata": {},
   "outputs": [],
   "source": [
    "import time\n",
    "from databricks.sdk import WorkspaceClient\n",
    "from databricks.sdk.service.database import DatabaseInstance\n",
    "from databricks.sdk.errors import NotFound"
   ]
  },
  {
   "cell_type": "markdown",
   "metadata": {},
   "source": [
    "## Configuration\n",
    "\n",
    "Update these variables to match your setup:"
   ]
  },
  {
   "cell_type": "code",
   "execution_count": 12,
   "metadata": {},
   "outputs": [],
   "source": [
    "# Configuration\n",
    "INSTANCE_NAME = \"rb-demo-lakebase\"\n",
    "PROFILE = \"az-demo\"\n",
    "CAPACITY = \"CU_1\""
   ]
  },
  {
   "cell_type": "code",
   "execution_count": 14,
   "metadata": {},
   "outputs": [
    {
     "ename": "ValueError",
     "evalue": "default auth: metadata-service: Metadata Service returned empty token. Config: host=https://e2-demo-field-eng.cloud.databricks.com, token=***, profile=az-demo, auth_type=metadata-service, serverless_compute_id=auto, metadata_service_url=***. Env: DATABRICKS_HOST, DATABRICKS_AUTH_TYPE, DATABRICKS_SERVERLESS_COMPUTE_ID, DATABRICKS_METADATA_SERVICE_URL",
     "output_type": "error",
     "traceback": [
      "\u001b[31m---------------------------------------------------------------------------\u001b[39m",
      "\u001b[31mValueError\u001b[39m                                Traceback (most recent call last)",
      "\u001b[36mFile \u001b[39m\u001b[32m~/Documents/github/dais-2025/.venv/lib/python3.12/site-packages/databricks/sdk/credentials_provider.py:1052\u001b[39m, in \u001b[36mDefaultCredentials.__call__\u001b[39m\u001b[34m(self, cfg)\u001b[39m\n\u001b[32m   1048\u001b[39m \u001b[38;5;28;01mtry\u001b[39;00m:\n\u001b[32m   1049\u001b[39m     \u001b[38;5;66;03m# The header factory might be None if the provider cannot be\u001b[39;00m\n\u001b[32m   1050\u001b[39m     \u001b[38;5;66;03m# configured for the current environment. For example, if the\u001b[39;00m\n\u001b[32m   1051\u001b[39m     \u001b[38;5;66;03m# provider requires some missing environment variables.\u001b[39;00m\n\u001b[32m-> \u001b[39m\u001b[32m1052\u001b[39m     header_factory = \u001b[43mprovider\u001b[49m\u001b[43m(\u001b[49m\u001b[43mcfg\u001b[49m\u001b[43m)\u001b[49m\n\u001b[32m   1053\u001b[39m     \u001b[38;5;28;01mif\u001b[39;00m \u001b[38;5;129;01mnot\u001b[39;00m header_factory:\n",
      "\u001b[36mFile \u001b[39m\u001b[32m~/Documents/github/dais-2025/.venv/lib/python3.12/site-packages/databricks/sdk/credentials_provider.py:95\u001b[39m, in \u001b[36mcredentials_strategy.<locals>.inner.<locals>.wrapper\u001b[39m\u001b[34m(cfg)\u001b[39m\n\u001b[32m     94\u001b[39m         \u001b[38;5;28;01mreturn\u001b[39;00m \u001b[38;5;28;01mNone\u001b[39;00m\n\u001b[32m---> \u001b[39m\u001b[32m95\u001b[39m \u001b[38;5;28;01mreturn\u001b[39;00m \u001b[43mfunc\u001b[49m\u001b[43m(\u001b[49m\u001b[43mcfg\u001b[49m\u001b[43m)\u001b[49m\n",
      "\u001b[36mFile \u001b[39m\u001b[32m~/Documents/github/dais-2025/.venv/lib/python3.12/site-packages/databricks/sdk/credentials_provider.py:882\u001b[39m, in \u001b[36mmetadata_service\u001b[39m\u001b[34m(cfg)\u001b[39m\n\u001b[32m    881\u001b[39m token_source = MetadataServiceTokenSource(cfg)\n\u001b[32m--> \u001b[39m\u001b[32m882\u001b[39m \u001b[43mtoken_source\u001b[49m\u001b[43m.\u001b[49m\u001b[43mtoken\u001b[49m\u001b[43m(\u001b[49m\u001b[43m)\u001b[49m\n\u001b[32m    883\u001b[39m logger.info(\u001b[33m\"\u001b[39m\u001b[33mUsing Databricks Metadata Service authentication\u001b[39m\u001b[33m\"\u001b[39m)\n",
      "\u001b[36mFile \u001b[39m\u001b[32m~/Documents/github/dais-2025/.venv/lib/python3.12/site-packages/databricks/sdk/oauth.py:260\u001b[39m, in \u001b[36mRefreshable.token\u001b[39m\u001b[34m(self)\u001b[39m\n\u001b[32m    259\u001b[39m \u001b[38;5;28;01mif\u001b[39;00m \u001b[38;5;28mself\u001b[39m._disable_async:\n\u001b[32m--> \u001b[39m\u001b[32m260\u001b[39m     \u001b[38;5;28;01mreturn\u001b[39;00m \u001b[38;5;28;43mself\u001b[39;49m\u001b[43m.\u001b[49m\u001b[43m_blocking_token\u001b[49m\u001b[43m(\u001b[49m\u001b[43m)\u001b[49m\n\u001b[32m    261\u001b[39m \u001b[38;5;28;01mreturn\u001b[39;00m \u001b[38;5;28mself\u001b[39m._async_token()\n",
      "\u001b[36mFile \u001b[39m\u001b[32m~/Documents/github/dais-2025/.venv/lib/python3.12/site-packages/databricks/sdk/oauth.py:307\u001b[39m, in \u001b[36mRefreshable._blocking_token\u001b[39m\u001b[34m(self)\u001b[39m\n\u001b[32m    305\u001b[39m     \u001b[38;5;28;01mreturn\u001b[39;00m \u001b[38;5;28mself\u001b[39m._token\n\u001b[32m--> \u001b[39m\u001b[32m307\u001b[39m \u001b[38;5;28mself\u001b[39m._token = \u001b[38;5;28;43mself\u001b[39;49m\u001b[43m.\u001b[49m\u001b[43mrefresh\u001b[49m\u001b[43m(\u001b[49m\u001b[43m)\u001b[49m\n\u001b[32m    308\u001b[39m \u001b[38;5;28;01mreturn\u001b[39;00m \u001b[38;5;28mself\u001b[39m._token\n",
      "\u001b[36mFile \u001b[39m\u001b[32m~/Documents/github/dais-2025/.venv/lib/python3.12/site-packages/databricks/sdk/credentials_provider.py:863\u001b[39m, in \u001b[36mMetadataServiceTokenSource.refresh\u001b[39m\u001b[34m(self)\u001b[39m\n\u001b[32m    862\u001b[39m \u001b[38;5;28;01mif\u001b[39;00m access_token \u001b[38;5;129;01mis\u001b[39;00m \u001b[38;5;28;01mNone\u001b[39;00m:\n\u001b[32m--> \u001b[39m\u001b[32m863\u001b[39m     \u001b[38;5;28;01mraise\u001b[39;00m \u001b[38;5;167;01mValueError\u001b[39;00m(\u001b[33m\"\u001b[39m\u001b[33mMetadata Service returned empty token\u001b[39m\u001b[33m\"\u001b[39m)\n\u001b[32m    864\u001b[39m token_type = json_resp.get(\u001b[33m\"\u001b[39m\u001b[33mtoken_type\u001b[39m\u001b[33m\"\u001b[39m, \u001b[38;5;28;01mNone\u001b[39;00m)\n",
      "\u001b[31mValueError\u001b[39m: Metadata Service returned empty token",
      "\nThe above exception was the direct cause of the following exception:\n",
      "\u001b[31mValueError\u001b[39m                                Traceback (most recent call last)",
      "\u001b[36mFile \u001b[39m\u001b[32m~/Documents/github/dais-2025/.venv/lib/python3.12/site-packages/databricks/sdk/config.py:520\u001b[39m, in \u001b[36mConfig.init_auth\u001b[39m\u001b[34m(self)\u001b[39m\n\u001b[32m    519\u001b[39m \u001b[38;5;28;01mtry\u001b[39;00m:\n\u001b[32m--> \u001b[39m\u001b[32m520\u001b[39m     \u001b[38;5;28mself\u001b[39m._header_factory = \u001b[38;5;28;43mself\u001b[39;49m\u001b[43m.\u001b[49m\u001b[43m_credentials_strategy\u001b[49m\u001b[43m(\u001b[49m\u001b[38;5;28;43mself\u001b[39;49m\u001b[43m)\u001b[49m\n\u001b[32m    521\u001b[39m     \u001b[38;5;28mself\u001b[39m.auth_type = \u001b[38;5;28mself\u001b[39m._credentials_strategy.auth_type()\n",
      "\u001b[36mFile \u001b[39m\u001b[32m~/Documents/github/dais-2025/.venv/lib/python3.12/site-packages/databricks/sdk/credentials_provider.py:1059\u001b[39m, in \u001b[36mDefaultCredentials.__call__\u001b[39m\u001b[34m(self, cfg)\u001b[39m\n\u001b[32m   1058\u001b[39m     \u001b[38;5;28;01mexcept\u001b[39;00m \u001b[38;5;167;01mException\u001b[39;00m \u001b[38;5;28;01mas\u001b[39;00m e:\n\u001b[32m-> \u001b[39m\u001b[32m1059\u001b[39m         \u001b[38;5;28;01mraise\u001b[39;00m \u001b[38;5;167;01mValueError\u001b[39;00m(\u001b[33mf\u001b[39m\u001b[33m\"\u001b[39m\u001b[38;5;132;01m{\u001b[39;00mauth_type\u001b[38;5;132;01m}\u001b[39;00m\u001b[33m: \u001b[39m\u001b[38;5;132;01m{\u001b[39;00me\u001b[38;5;132;01m}\u001b[39;00m\u001b[33m\"\u001b[39m) \u001b[38;5;28;01mfrom\u001b[39;00m\u001b[38;5;250m \u001b[39m\u001b[34;01me\u001b[39;00m\n\u001b[32m   1060\u001b[39m auth_flow_url = \u001b[33m\"\u001b[39m\u001b[33mhttps://docs.databricks.com/en/dev-tools/auth.html#databricks-client-unified-authentication\u001b[39m\u001b[33m\"\u001b[39m\n",
      "\u001b[31mValueError\u001b[39m: metadata-service: Metadata Service returned empty token",
      "\nThe above exception was the direct cause of the following exception:\n",
      "\u001b[31mValueError\u001b[39m                                Traceback (most recent call last)",
      "\u001b[36mFile \u001b[39m\u001b[32m~/Documents/github/dais-2025/.venv/lib/python3.12/site-packages/databricks/sdk/config.py:196\u001b[39m, in \u001b[36mConfig.__init__\u001b[39m\u001b[34m(self, credentials_provider, credentials_strategy, product, product_version, clock, **kwargs)\u001b[39m\n\u001b[32m    195\u001b[39m \u001b[38;5;28mself\u001b[39m._validate()\n\u001b[32m--> \u001b[39m\u001b[32m196\u001b[39m \u001b[38;5;28;43mself\u001b[39;49m\u001b[43m.\u001b[49m\u001b[43minit_auth\u001b[49m\u001b[43m(\u001b[49m\u001b[43m)\u001b[49m\n\u001b[32m    197\u001b[39m \u001b[38;5;28mself\u001b[39m._init_product(product, product_version)\n",
      "\u001b[36mFile \u001b[39m\u001b[32m~/Documents/github/dais-2025/.venv/lib/python3.12/site-packages/databricks/sdk/config.py:525\u001b[39m, in \u001b[36mConfig.init_auth\u001b[39m\u001b[34m(self)\u001b[39m\n\u001b[32m    524\u001b[39m \u001b[38;5;28;01mexcept\u001b[39;00m \u001b[38;5;167;01mValueError\u001b[39;00m \u001b[38;5;28;01mas\u001b[39;00m e:\n\u001b[32m--> \u001b[39m\u001b[32m525\u001b[39m     \u001b[38;5;28;01mraise\u001b[39;00m \u001b[38;5;167;01mValueError\u001b[39;00m(\u001b[33mf\u001b[39m\u001b[33m\"\u001b[39m\u001b[38;5;132;01m{\u001b[39;00m\u001b[38;5;28mself\u001b[39m._credentials_strategy.auth_type()\u001b[38;5;132;01m}\u001b[39;00m\u001b[33m auth: \u001b[39m\u001b[38;5;132;01m{\u001b[39;00me\u001b[38;5;132;01m}\u001b[39;00m\u001b[33m\"\u001b[39m) \u001b[38;5;28;01mfrom\u001b[39;00m\u001b[38;5;250m \u001b[39m\u001b[34;01me\u001b[39;00m\n",
      "\u001b[31mValueError\u001b[39m: default auth: metadata-service: Metadata Service returned empty token",
      "\nThe above exception was the direct cause of the following exception:\n",
      "\u001b[31mValueError\u001b[39m                                Traceback (most recent call last)",
      "\u001b[36mCell\u001b[39m\u001b[36m \u001b[39m\u001b[32mIn[14]\u001b[39m\u001b[32m, line 2\u001b[39m\n\u001b[32m      1\u001b[39m \u001b[38;5;66;03m# Initialize Workspace client\u001b[39;00m\n\u001b[32m----> \u001b[39m\u001b[32m2\u001b[39m w = \u001b[43mWorkspaceClient\u001b[49m\u001b[43m(\u001b[49m\u001b[43mprofile\u001b[49m\u001b[43m=\u001b[49m\u001b[33;43m\"\u001b[39;49m\u001b[33;43maz-demo\u001b[39;49m\u001b[33;43m\"\u001b[39;49m\u001b[43m)\u001b[49m\n\u001b[32m      3\u001b[39m \u001b[38;5;28mprint\u001b[39m(\u001b[33mf\u001b[39m\u001b[33m\"\u001b[39m\u001b[33m✅ Connected to workspace: \u001b[39m\u001b[38;5;132;01m{\u001b[39;00mw.config.host\u001b[38;5;132;01m}\u001b[39;00m\u001b[33m\"\u001b[39m)\n",
      "\u001b[36mFile \u001b[39m\u001b[32m~/Documents/github/dais-2025/.venv/lib/python3.12/site-packages/databricks/sdk/__init__.py:205\u001b[39m, in \u001b[36mWorkspaceClient.__init__\u001b[39m\u001b[34m(self, host, account_id, username, password, client_id, client_secret, token, profile, config_file, azure_workspace_resource_id, azure_client_secret, azure_client_id, azure_tenant_id, azure_environment, auth_type, cluster_id, google_credentials, google_service_account, debug_truncate_bytes, debug_headers, product, product_version, credentials_strategy, credentials_provider, token_audience, config)\u001b[39m\n\u001b[32m    174\u001b[39m \u001b[38;5;28;01mdef\u001b[39;00m\u001b[38;5;250m \u001b[39m\u001b[34m__init__\u001b[39m(\n\u001b[32m    175\u001b[39m     \u001b[38;5;28mself\u001b[39m,\n\u001b[32m    176\u001b[39m     *,\n\u001b[32m   (...)\u001b[39m\u001b[32m    202\u001b[39m     config: Optional[client.Config] = \u001b[38;5;28;01mNone\u001b[39;00m,\n\u001b[32m    203\u001b[39m ):\n\u001b[32m    204\u001b[39m     \u001b[38;5;28;01mif\u001b[39;00m \u001b[38;5;129;01mnot\u001b[39;00m config:\n\u001b[32m--> \u001b[39m\u001b[32m205\u001b[39m         config = \u001b[43mclient\u001b[49m\u001b[43m.\u001b[49m\u001b[43mConfig\u001b[49m\u001b[43m(\u001b[49m\n\u001b[32m    206\u001b[39m \u001b[43m            \u001b[49m\u001b[43mhost\u001b[49m\u001b[43m=\u001b[49m\u001b[43mhost\u001b[49m\u001b[43m,\u001b[49m\n\u001b[32m    207\u001b[39m \u001b[43m            \u001b[49m\u001b[43maccount_id\u001b[49m\u001b[43m=\u001b[49m\u001b[43maccount_id\u001b[49m\u001b[43m,\u001b[49m\n\u001b[32m    208\u001b[39m \u001b[43m            \u001b[49m\u001b[43musername\u001b[49m\u001b[43m=\u001b[49m\u001b[43musername\u001b[49m\u001b[43m,\u001b[49m\n\u001b[32m    209\u001b[39m \u001b[43m            \u001b[49m\u001b[43mpassword\u001b[49m\u001b[43m=\u001b[49m\u001b[43mpassword\u001b[49m\u001b[43m,\u001b[49m\n\u001b[32m    210\u001b[39m \u001b[43m            \u001b[49m\u001b[43mclient_id\u001b[49m\u001b[43m=\u001b[49m\u001b[43mclient_id\u001b[49m\u001b[43m,\u001b[49m\n\u001b[32m    211\u001b[39m \u001b[43m            \u001b[49m\u001b[43mclient_secret\u001b[49m\u001b[43m=\u001b[49m\u001b[43mclient_secret\u001b[49m\u001b[43m,\u001b[49m\n\u001b[32m    212\u001b[39m \u001b[43m            \u001b[49m\u001b[43mtoken\u001b[49m\u001b[43m=\u001b[49m\u001b[43mtoken\u001b[49m\u001b[43m,\u001b[49m\n\u001b[32m    213\u001b[39m \u001b[43m            \u001b[49m\u001b[43mprofile\u001b[49m\u001b[43m=\u001b[49m\u001b[43mprofile\u001b[49m\u001b[43m,\u001b[49m\n\u001b[32m    214\u001b[39m \u001b[43m            \u001b[49m\u001b[43mconfig_file\u001b[49m\u001b[43m=\u001b[49m\u001b[43mconfig_file\u001b[49m\u001b[43m,\u001b[49m\n\u001b[32m    215\u001b[39m \u001b[43m            \u001b[49m\u001b[43mazure_workspace_resource_id\u001b[49m\u001b[43m=\u001b[49m\u001b[43mazure_workspace_resource_id\u001b[49m\u001b[43m,\u001b[49m\n\u001b[32m    216\u001b[39m \u001b[43m            \u001b[49m\u001b[43mazure_client_secret\u001b[49m\u001b[43m=\u001b[49m\u001b[43mazure_client_secret\u001b[49m\u001b[43m,\u001b[49m\n\u001b[32m    217\u001b[39m \u001b[43m            \u001b[49m\u001b[43mazure_client_id\u001b[49m\u001b[43m=\u001b[49m\u001b[43mazure_client_id\u001b[49m\u001b[43m,\u001b[49m\n\u001b[32m    218\u001b[39m \u001b[43m            \u001b[49m\u001b[43mazure_tenant_id\u001b[49m\u001b[43m=\u001b[49m\u001b[43mazure_tenant_id\u001b[49m\u001b[43m,\u001b[49m\n\u001b[32m    219\u001b[39m \u001b[43m            \u001b[49m\u001b[43mazure_environment\u001b[49m\u001b[43m=\u001b[49m\u001b[43mazure_environment\u001b[49m\u001b[43m,\u001b[49m\n\u001b[32m    220\u001b[39m \u001b[43m            \u001b[49m\u001b[43mauth_type\u001b[49m\u001b[43m=\u001b[49m\u001b[43mauth_type\u001b[49m\u001b[43m,\u001b[49m\n\u001b[32m    221\u001b[39m \u001b[43m            \u001b[49m\u001b[43mcluster_id\u001b[49m\u001b[43m=\u001b[49m\u001b[43mcluster_id\u001b[49m\u001b[43m,\u001b[49m\n\u001b[32m    222\u001b[39m \u001b[43m            \u001b[49m\u001b[43mgoogle_credentials\u001b[49m\u001b[43m=\u001b[49m\u001b[43mgoogle_credentials\u001b[49m\u001b[43m,\u001b[49m\n\u001b[32m    223\u001b[39m \u001b[43m            \u001b[49m\u001b[43mgoogle_service_account\u001b[49m\u001b[43m=\u001b[49m\u001b[43mgoogle_service_account\u001b[49m\u001b[43m,\u001b[49m\n\u001b[32m    224\u001b[39m \u001b[43m            \u001b[49m\u001b[43mcredentials_strategy\u001b[49m\u001b[43m=\u001b[49m\u001b[43mcredentials_strategy\u001b[49m\u001b[43m,\u001b[49m\n\u001b[32m    225\u001b[39m \u001b[43m            \u001b[49m\u001b[43mcredentials_provider\u001b[49m\u001b[43m=\u001b[49m\u001b[43mcredentials_provider\u001b[49m\u001b[43m,\u001b[49m\n\u001b[32m    226\u001b[39m \u001b[43m            \u001b[49m\u001b[43mdebug_truncate_bytes\u001b[49m\u001b[43m=\u001b[49m\u001b[43mdebug_truncate_bytes\u001b[49m\u001b[43m,\u001b[49m\n\u001b[32m    227\u001b[39m \u001b[43m            \u001b[49m\u001b[43mdebug_headers\u001b[49m\u001b[43m=\u001b[49m\u001b[43mdebug_headers\u001b[49m\u001b[43m,\u001b[49m\n\u001b[32m    228\u001b[39m \u001b[43m            \u001b[49m\u001b[43mproduct\u001b[49m\u001b[43m=\u001b[49m\u001b[43mproduct\u001b[49m\u001b[43m,\u001b[49m\n\u001b[32m    229\u001b[39m \u001b[43m            \u001b[49m\u001b[43mproduct_version\u001b[49m\u001b[43m=\u001b[49m\u001b[43mproduct_version\u001b[49m\u001b[43m,\u001b[49m\n\u001b[32m    230\u001b[39m \u001b[43m            \u001b[49m\u001b[43mtoken_audience\u001b[49m\u001b[43m=\u001b[49m\u001b[43mtoken_audience\u001b[49m\u001b[43m,\u001b[49m\n\u001b[32m    231\u001b[39m \u001b[43m        \u001b[49m\u001b[43m)\u001b[49m\n\u001b[32m    232\u001b[39m     \u001b[38;5;28mself\u001b[39m._config = config.copy()\n\u001b[32m    233\u001b[39m     \u001b[38;5;28mself\u001b[39m._dbutils = _make_dbutils(\u001b[38;5;28mself\u001b[39m._config)\n",
      "\u001b[36mFile \u001b[39m\u001b[32m~/Documents/github/dais-2025/.venv/lib/python3.12/site-packages/databricks/sdk/config.py:200\u001b[39m, in \u001b[36mConfig.__init__\u001b[39m\u001b[34m(self, credentials_provider, credentials_strategy, product, product_version, clock, **kwargs)\u001b[39m\n\u001b[32m    198\u001b[39m \u001b[38;5;28;01mexcept\u001b[39;00m \u001b[38;5;167;01mValueError\u001b[39;00m \u001b[38;5;28;01mas\u001b[39;00m e:\n\u001b[32m    199\u001b[39m     message = \u001b[38;5;28mself\u001b[39m.wrap_debug_info(\u001b[38;5;28mstr\u001b[39m(e))\n\u001b[32m--> \u001b[39m\u001b[32m200\u001b[39m     \u001b[38;5;28;01mraise\u001b[39;00m \u001b[38;5;167;01mValueError\u001b[39;00m(message) \u001b[38;5;28;01mfrom\u001b[39;00m\u001b[38;5;250m \u001b[39m\u001b[34;01me\u001b[39;00m\n",
      "\u001b[31mValueError\u001b[39m: default auth: metadata-service: Metadata Service returned empty token. Config: host=https://e2-demo-field-eng.cloud.databricks.com, token=***, profile=az-demo, auth_type=metadata-service, serverless_compute_id=auto, metadata_service_url=***. Env: DATABRICKS_HOST, DATABRICKS_AUTH_TYPE, DATABRICKS_SERVERLESS_COMPUTE_ID, DATABRICKS_METADATA_SERVICE_URL"
     ]
    }
   ],
   "source": [
    "# Initialize Workspace client\n",
    "w = WorkspaceClient(profile=\"az-demo\")\n",
    "print(f\"✅ Connected to workspace: {w.config.host}\")"
   ]
  },
  {
   "cell_type": "markdown",
   "metadata": {},
   "source": [
    "## Check if Instance Exists"
   ]
  },
  {
   "cell_type": "code",
   "execution_count": 7,
   "metadata": {},
   "outputs": [
    {
     "name": "stdout",
     "output_type": "stream",
     "text": [
      "📝 Instance 'rb-demo-lakebase' does not exist. Creating new instance...\n"
     ]
    }
   ],
   "source": [
    "try:\n",
    "    existing_instance = w.database.get_database_instance(INSTANCE_NAME)\n",
    "    print(f\"✅ Instance '{INSTANCE_NAME}' already exists!\")\n",
    "    print(f\"   State: {existing_instance.state}\")\n",
    "    print(f\"   DNS: {existing_instance.read_write_dns}\")\n",
    "    \n",
    "except NotFound:\n",
    "    print(f\"📝 Instance '{INSTANCE_NAME}' does not exist. Creating new instance...\")"
   ]
  },
  {
   "cell_type": "markdown",
   "metadata": {},
   "source": [
    "## Create New Instance (if needed)"
   ]
  },
  {
   "cell_type": "code",
   "execution_count": null,
   "metadata": {},
   "outputs": [],
   "source": [
    "try:\n",
    "    # Create database instance\n",
    "    instance = w.database.create_database_instance(\n",
    "        DatabaseInstance(\n",
    "            name=INSTANCE_NAME,\n",
    "            capacity=CAPACITY\n",
    "        )\n",
    "    )\n",
    "    \n",
    "    print(f\"🚀 Instance creation initiated: {instance.name}\")\n",
    "    print(f\"   Capacity: {instance.capacity}\")\n",
    "    print(\"   ⏳ Provisioning in progress...\")\n",
    "    \n",
    "except Exception as e:\n",
    "    print(f\"❌ Error creating instance: {e}\")"
   ]
  },
  {
   "cell_type": "markdown",
   "metadata": {},
   "source": [
    "## Wait for Instance to be Ready"
   ]
  },
  {
   "cell_type": "code",
   "execution_count": null,
   "metadata": {},
   "outputs": [],
   "source": [
    "def wait_for_ready(instance_name, timeout_minutes=15):\n",
    "    \"\"\"Wait for instance to be fully provisioned\"\"\"\n",
    "    print(f\"⏳ Waiting for '{instance_name}' to be ready...\")\n",
    "    \n",
    "    start_time = time.time()\n",
    "    timeout_seconds = timeout_minutes * 60\n",
    "    \n",
    "    while time.time() - start_time < timeout_seconds:\n",
    "        try:\n",
    "            instance = w.database.get_database_instance(instance_name)\n",
    "            \n",
    "            if instance.state and 'AVAILABLE' in str(instance.state):\n",
    "                elapsed = (time.time() - start_time) / 60\n",
    "                print(f\"✅ Instance ready! (took {elapsed:.1f} minutes)\")\n",
    "                return instance\n",
    "            \n",
    "            elapsed = int(time.time() - start_time)\n",
    "            print(f\"   [{elapsed}s] State: {instance.state}\")\n",
    "            time.sleep(30)\n",
    "            \n",
    "        except Exception as e:\n",
    "            print(f\"   ⚠️  Error: {e}\")\n",
    "            time.sleep(30)\n",
    "    \n",
    "    raise TimeoutError(f\"Instance not ready after {timeout_minutes} minutes\")"
   ]
  },
  {
   "cell_type": "code",
   "execution_count": null,
   "metadata": {},
   "outputs": [],
   "source": [
    "# Wait for instance to be ready (only if we just created it)\n",
    "try:\n",
    "    ready_instance = wait_for_ready(INSTANCE_NAME)\n",
    "    \n",
    "    print(\"\\n📋 Instance Details:\")\n",
    "    print(f\"   Name: {ready_instance.name}\")\n",
    "    print(f\"   State: {ready_instance.state}\")\n",
    "    print(f\"   DNS: {ready_instance.read_write_dns}\")\n",
    "    print(f\"   PostgreSQL: {ready_instance.pg_version}\")\n",
    "    \n",
    "except TimeoutError as e:\n",
    "    print(f\"❌ {e}\")\n",
    "except Exception as e:\n",
    "    print(f\"ℹ️  Instance may still be provisioning: {e}\")"
   ]
  },
  {
   "cell_type": "markdown",
   "metadata": {},
   "source": [
    "## Next Steps\n",
    "\n",
    "Once your instance is ready, proceed to the next notebook to set up the database schema and sample data."
   ]
  }
 ],
 "metadata": {
  "kernelspec": {
   "display_name": ".venv",
   "language": "python",
   "name": "python3"
  },
  "language_info": {
   "codemirror_mode": {
    "name": "ipython",
    "version": 3
   },
   "file_extension": ".py",
   "mimetype": "text/x-python",
   "name": "python",
   "nbconvert_exporter": "python",
   "pygments_lexer": "ipython3",
   "version": "3.12.8"
  }
 },
 "nbformat": 4,
 "nbformat_minor": 4
}
