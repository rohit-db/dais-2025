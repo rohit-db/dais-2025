{
 "cells": [
  {
   "cell_type": "markdown",
   "metadata": {},
   "source": [
    "# Lakebase Installation & Setup\n",
    "\n",
    "This notebook demonstrates how to create and manage a Databricks Lakebase database instance using the Databricks SDK."
   ]
  },
  {
   "cell_type": "code",
   "execution_count": null,
   "metadata": {},
   "outputs": [],
   "source": [
    "# Install required packages\n",
    "!pip install databricks-sdk psycopg2-binary"
   ]
  },
  {
   "cell_type": "code",
   "execution_count": null,
   "metadata": {},
   "outputs": [],
   "source": [
    "import time\n",
    "from databricks.sdk import WorkspaceClient\n",
    "from databricks.sdk.service.database import DatabaseInstance\n",
    "from databricks.sdk.errors import NotFound\n"
   ]
  },
  {
   "cell_type": "markdown",
   "metadata": {},
   "source": [
    "## Configuration\n",
    "\n",
    "Update these variables to match your setup:"
   ]
  },
  {
   "cell_type": "code",
   "execution_count": 2,
   "metadata": {},
   "outputs": [],
   "source": [
    "# Configuration\n",
    "INSTANCE_NAME = \"rb-demo-lakebase\"\n",
    "PROFILE = \"az-demo\"\n",
    "CAPACITY = \"CU_1\""
   ]
  },
  {
   "cell_type": "code",
   "execution_count": 10,
   "metadata": {},
   "outputs": [
    {
     "name": "stdout",
     "output_type": "stream",
     "text": [
      "✅ Connected to workspace: https://adb-984752964297111.11.azuredatabricks.net\n"
     ]
    }
   ],
   "source": [
    "# Initialize Workspace client\n",
    "w = WorkspaceClient(profile=\"az-demo\")\n",
    "print(f\"✅ Connected to workspace: {w.config.host}\")"
   ]
  },
  {
   "cell_type": "markdown",
   "metadata": {},
   "source": [
    "## Check if Instance Exists"
   ]
  },
  {
   "cell_type": "code",
   "execution_count": 11,
   "metadata": {},
   "outputs": [
    {
     "name": "stdout",
     "output_type": "stream",
     "text": [
      "✅ Instance 'rb-demo-lakebase' already exists!\n",
      "   State: DatabaseInstanceState.AVAILABLE\n",
      "   DNS: instance-02293cff-7a87-444d-847d-d6bf10763c1f.database.azuredatabricks.net\n"
     ]
    }
   ],
   "source": [
    "try:\n",
    "    existing_instance = w.database.get_database_instance(INSTANCE_NAME)\n",
    "    print(f\"✅ Instance '{INSTANCE_NAME}' already exists!\")\n",
    "    print(f\"   State: {existing_instance.state}\")\n",
    "    print(f\"   DNS: {existing_instance.read_write_dns}\")\n",
    "    \n",
    "except NotFound:\n",
    "    print(f\"📝 Instance '{INSTANCE_NAME}' does not exist. Creating new instance...\")\n",
    "    try:    # Create database instance\n",
    "        instance = w.database.create_database_instance(\n",
    "            DatabaseInstance(\n",
    "                name=INSTANCE_NAME,\n",
    "                capacity=CAPACITY\n",
    "            )\n",
    "        )\n",
    "        \n",
    "        print(f\"🚀 Instance creation initiated: {instance.name}\")\n",
    "        print(f\"   Capacity: {instance.capacity}\")\n",
    "        print(\"   ⏳ Provisioning in progress...\")\n",
    "        \n",
    "    except Exception as e:\n",
    "        print(f\"❌ Error creating instance: {e}\")"
   ]
  },
  {
   "cell_type": "markdown",
   "metadata": {},
   "source": [
    "## Wait for Instance to be Ready"
   ]
  },
  {
   "cell_type": "code",
   "execution_count": 12,
   "metadata": {},
   "outputs": [],
   "source": [
    "def wait_for_ready(instance_name, timeout_minutes=15):\n",
    "    \"\"\"Wait for instance to be fully provisioned\"\"\"\n",
    "    print(f\"⏳ Waiting for '{instance_name}' to be ready...\")\n",
    "    \n",
    "    start_time = time.time()\n",
    "    timeout_seconds = timeout_minutes * 60\n",
    "    \n",
    "    while time.time() - start_time < timeout_seconds:\n",
    "        try:\n",
    "            instance = w.database.get_database_instance(instance_name)\n",
    "            \n",
    "            if instance.state and 'AVAILABLE' in str(instance.state):\n",
    "                elapsed = (time.time() - start_time) / 60\n",
    "                print(f\"✅ Instance ready! (took {elapsed:.1f} minutes)\")\n",
    "                return instance\n",
    "            \n",
    "            elapsed = int(time.time() - start_time)\n",
    "            print(f\"   [{elapsed}s] State: {instance.state}\")\n",
    "            time.sleep(30)\n",
    "            \n",
    "        except Exception as e:\n",
    "            print(f\"   ⚠️  Error: {e}\")\n",
    "            time.sleep(30)\n",
    "    \n",
    "    raise TimeoutError(f\"Instance not ready after {timeout_minutes} minutes\")"
   ]
  },
  {
   "cell_type": "code",
   "execution_count": 13,
   "metadata": {},
   "outputs": [
    {
     "name": "stdout",
     "output_type": "stream",
     "text": [
      "⏳ Waiting for 'rb-demo-lakebase' to be ready...\n",
      "✅ Instance ready! (took 0.0 minutes)\n",
      "\n",
      "📋 Instance Details:\n",
      "   Name: rb-demo-lakebase\n",
      "   State: DatabaseInstanceState.AVAILABLE\n",
      "   DNS: instance-02293cff-7a87-444d-847d-d6bf10763c1f.database.azuredatabricks.net\n",
      "   PostgreSQL: PG_VERSION_16\n"
     ]
    }
   ],
   "source": [
    "# Wait for instance to be ready (only if we just created it)\n",
    "try:\n",
    "    ready_instance = wait_for_ready(INSTANCE_NAME)\n",
    "    \n",
    "    print(\"\\n📋 Instance Details:\")\n",
    "    print(f\"   Name: {ready_instance.name}\")\n",
    "    print(f\"   State: {ready_instance.state}\")\n",
    "    print(f\"   DNS: {ready_instance.read_write_dns}\")\n",
    "    print(f\"   PostgreSQL: {ready_instance.pg_version}\")\n",
    "    \n",
    "except TimeoutError as e:\n",
    "    print(f\"❌ {e}\")\n",
    "except Exception as e:\n",
    "    print(f\"ℹ️  Instance may still be provisioning: {e}\")"
   ]
  },
  {
   "cell_type": "markdown",
   "metadata": {},
   "source": [
    "## Next Steps\n",
    "\n",
    "Once your instance is ready, proceed to the next notebook to set up the database schema and sample data."
   ]
  }
 ],
 "metadata": {
  "kernelspec": {
   "display_name": ".venv",
   "language": "python",
   "name": "python3"
  },
  "language_info": {
   "codemirror_mode": {
    "name": "ipython",
    "version": 3
   },
   "file_extension": ".py",
   "mimetype": "text/x-python",
   "name": "python",
   "nbconvert_exporter": "python",
   "pygments_lexer": "ipython3",
   "version": "3.12.8"
  }
 },
 "nbformat": 4,
 "nbformat_minor": 4
}
