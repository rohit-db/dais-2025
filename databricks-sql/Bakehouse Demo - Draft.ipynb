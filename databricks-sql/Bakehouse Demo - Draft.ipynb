{
 "cells": [
  {
   "cell_type": "code",
   "execution_count": null,
   "metadata": {},
   "outputs": [],
   "source": [
    "B"
   ]
  },
  {
   "cell_type": "code",
   "execution_count": 0,
   "metadata": {
    "application/vnd.databricks.v1+cell": {
     "cellMetadata": {
      "byteLimit": 2048000,
      "rowLimit": 10000
     },
     "inputWidgets": {},
     "nuid": "7604cb60-2e8a-44c0-afa5-dfce2555f54e",
     "showTitle": false,
     "tableResultSettingsMap": {},
     "title": ""
    }
   },
   "outputs": [
    {
     "data": {
      "text/html": [
       "<style scoped>\n",
       "  .table-result-container {\n",
       "    max-height: 300px;\n",
       "    overflow: auto;\n",
       "  }\n",
       "  table, th, td {\n",
       "    border: 1px solid black;\n",
       "    border-collapse: collapse;\n",
       "  }\n",
       "  th, td {\n",
       "    padding: 5px;\n",
       "  }\n",
       "  th {\n",
       "    text-align: left;\n",
       "  }\n",
       "</style><div class='table-result-container'><table class='table-result'><thead style='background-color: white'><tr></tr></thead><tbody></tbody></table></div>"
      ]
     },
     "metadata": {
      "application/vnd.databricks.v1+output": {
       "addedWidgets": {},
       "aggData": [],
       "aggError": "",
       "aggOverflow": false,
       "aggSchema": [],
       "aggSeriesLimitReached": false,
       "aggType": "",
       "arguments": {},
       "columnCustomDisplayInfos": {},
       "data": [],
       "datasetInfos": [],
       "dbfsResultPath": null,
       "isJsonSchema": true,
       "metadata": {},
       "overflow": false,
       "plotOptions": {
        "customPlotOptions": {},
        "displayType": "table",
        "pivotAggregation": null,
        "pivotColumns": null,
        "xColumns": null,
        "yColumns": null
       },
       "removedWidgets": [],
       "schema": [],
       "type": "table"
      }
     },
     "output_type": "display_data"
    },
    {
     "data": {
      "text/html": [
       "<style scoped>\n",
       "  .table-result-container {\n",
       "    max-height: 300px;\n",
       "    overflow: auto;\n",
       "  }\n",
       "  table, th, td {\n",
       "    border: 1px solid black;\n",
       "    border-collapse: collapse;\n",
       "  }\n",
       "  th, td {\n",
       "    padding: 5px;\n",
       "  }\n",
       "  th {\n",
       "    text-align: left;\n",
       "  }\n",
       "</style><div class='table-result-container'><table class='table-result'><thead style='background-color: white'><tr></tr></thead><tbody></tbody></table></div>"
      ]
     },
     "metadata": {
      "application/vnd.databricks.v1+output": {
       "addedWidgets": {},
       "aggData": [],
       "aggError": "",
       "aggOverflow": false,
       "aggSchema": [],
       "aggSeriesLimitReached": false,
       "aggType": "",
       "arguments": {},
       "columnCustomDisplayInfos": {},
       "data": [],
       "datasetInfos": [],
       "dbfsResultPath": null,
       "isJsonSchema": true,
       "metadata": {},
       "overflow": false,
       "plotOptions": {
        "customPlotOptions": {},
        "displayType": "table",
        "pivotAggregation": null,
        "pivotColumns": null,
        "xColumns": null,
        "yColumns": null
       },
       "removedWidgets": [],
       "schema": [],
       "type": "table"
      }
     },
     "output_type": "display_data"
    }
   ],
   "source": [
    "use catalog users;\n",
    "use schema kent_marten;"
   ]
  },
  {
   "cell_type": "code",
   "execution_count": null,
   "metadata": {},
   "outputs": [],
   "source": [
    "CREATE TABLE franchises AS (SELECT * FROM databricks_cookies_dataset_2024.sales.franchises);\n",
    "CREATE TABLE customers AS SELECT * FROM databricks_cookies_dataset_2024.sales.customers;\n",
    "CREATE TABLE suppliers AS SELECT * FROM databricks_cookies_dataset_2024.sales.suppliers;\n",
    "CREATE TABLE transactions AS SELECT * FROM databricks_cookies_dataset_2024.sales.transactions;\n",
    "CREATE TABLE customer_reviews AS SELECT * FROM databricks_cookies_dataset_2024.media.customer_reviews;\n",
    "CREATE TABLE gold_reviews_chunked AS SELECT * FROM databricks_cookies_dataset_2024.media.gold_reviews_chunked;\n",
    "\n",
    "CREATE TABLE xom_places AS SELECT * FROM carto_overture_maps_places.carto.place;\n",
    "\n",
    "\n"
   ]
  },
  {
   "cell_type": "code",
   "execution_count": 0,
   "metadata": {
    "application/vnd.databricks.v1+cell": {
     "cellMetadata": {
      "byteLimit": 2048000,
      "rowLimit": 10000
     },
     "collapsed": true,
     "inputWidgets": {},
     "nuid": "9cdddec1-a151-4898-b1a0-ffbdce367be0",
     "showTitle": false,
     "tableResultSettingsMap": {},
     "title": ""
    }
   },
   "outputs": [
    {
     "data": {
      "text/html": [
       "<style scoped>\n",
       "  .table-result-container {\n",
       "    max-height: 300px;\n",
       "    overflow: auto;\n",
       "  }\n",
       "  table, th, td {\n",
       "    border: 1px solid black;\n",
       "    border-collapse: collapse;\n",
       "  }\n",
       "  th, td {\n",
       "    padding: 5px;\n",
       "  }\n",
       "  th {\n",
       "    text-align: left;\n",
       "  }\n",
       "</style><div class='table-result-container'><table class='table-result'><thead style='background-color: white'><tr><th>review</th><th>franchiseID</th><th>review_date</th><th>new_id</th><th>orig_review</th></tr></thead><tbody><tr><td>Title: A Delightful Cookie Experience at Bakehouse in Tenmonkan, Kagoshima\n",
       "\n",
       "Bakehouse in Tenmonkan, Kagoshima, has truly captured my heart with their exquisite cookie selection. Among their offerings, the Outback Oatmeal and Austin Almond Biscotti stand out as absolute favorites. The Outback Oatmeal cookie, with its perfect balance of oats and sweetness, provides a satisfying crunch in every bite. Meanwhile, the Austin Almond Biscotti, with its delicate almond flavor and perfect texture, pairs beautifully with a warm cup of coffee.\n",
       "\n",
       "The Orchard Oasis and Golden Gate Ginger cookies also deserve praise. Orchard Oasis is a delightful burst of fruity flavors, while Golden Gate Ginger offers a pleasant kick of spice that warms the palate. I was also pleasantly surprised by the Tokyo Tidbits, which are perfect for those who enjoy a lighter, crispier cookie.\n",
       "\n",
       "Although I didn't try the Pearly Pies, I've heard great things about them from fellow cookie enthusiasts. Bakehouse has certainly made a name for itself in Tenmonkan, and I wholeheartedly recommend a visit for anyone with a sweet tooth. The combination of quality ingredients, unique flavors, and a welcoming atmosphere makes Bakehouse a must-visit destination in Kagoshima.</td><td>3000037</td><td>2024-05-20T13:24:06.591-04:00</td><td>1</td><td>Title: A Delightful Cookie Experience at Bakehouse in Tenmonkan, Kagoshima\n",
       "\n",
       "Bakehouse in Tenmonkan, Kagoshima, has truly captured my heart with their exquisite cookie selection. Among their offerings, the Outback Oatmeal and Austin Almond Biscotti stand out as absolute favorites. The Outback Oatmeal cookie, with its perfect balance of oats and sweetness, provides a satisfying crunch in every bite. Meanwhile, the Austin Almond Biscotti, with its delicate almond flavor and perfect texture, pairs beautifully with a warm cup of coffee.\n",
       "\n",
       "The Orchard Oasis and Golden Gate Ginger cookies also deserve praise. Orchard Oasis is a delightful burst of fruity flavors, while Golden Gate Ginger offers a pleasant kick of spice that warms the palate. I was also pleasantly surprised by the Tokyo Tidbits, which are perfect for those who enjoy a lighter, crispier cookie.\n",
       "\n",
       "Although I didn't try the Pearly Pies, I've heard great things about them from fellow cookie enthusiasts. Bakehouse has certainly made a name for itself in Tenmonkan, and I wholeheartedly recommend a visit for anyone with a sweet tooth. The combination of quality ingredients, unique flavors, and a welcoming atmosphere makes Bakehouse a must-visit destination in Kagoshima.</td></tr><tr><td>\"Sweet tooth heaven on East 6th Street! I'm obsessed with Bakehouse's Outback Oatmeal cookies - crunchy, chewy, and perfectly spiced. The Austin Almond Biscotti is another fave, with its subtle nutty flavor and satisfying crunch. However, the Orchard Oasis cookies were a letdown, too sweet and lacking depth. Overall, Bakehouse is a must-visit for cookie lovers in Austin, just be selective with your choices!\"</td><td>3000017</td><td>2024-05-20T13:17:03.052-04:00</td><td>2</td><td>\"Sweet tooth heaven on East 6th Street! I'm obsessed with Bakehouse's Outback Oatmeal cookies - crunchy, chewy, and perfectly spiced. The Austin Almond Biscotti is another fave, with its subtle nutty flavor and satisfying crunch. However, the Orchard Oasis cookies were a letdown, too sweet and lacking depth. Overall, Bakehouse is a must-visit for cookie lovers in Austin, just be selective with your choices!\"</td></tr><tr><td>**4.5/5 stars**\n",
       "\n",
       "I stumbled upon Bakehouse in the charming Gion district of Kyoto and was thrilled to discover their unique flavor combinations! The Outback Oatmeal cookies were a highlight - perfectly spiced and chewy. The Austin Almond Biscotti was another winner, with a delightful crunch and subtle nutty flavor. However, the Orchard Oasis cookies were a bit too sweet for my taste. The Golden Gate Ginger and Tokyo Tidbits were interesting, but not my favorite. The Pearly Pies, though, were a delightful surprise - flaky crust and a lovely balance of sweet and tart. Overall, Bakehouse is a must-visit for adventurous cookie lovers in Kyoto!</td><td>3000007</td><td>2024-05-20T13:17:03.052-04:00</td><td>3</td><td>**4.5/5 stars**\n",
       "\n",
       "I stumbled upon Bakehouse in the charming Gion district of Kyoto and was thrilled to discover their unique flavor combinations! The Outback Oatmeal cookies were a highlight - perfectly spiced and chewy. The Austin Almond Biscotti was another winner, with a delightful crunch and subtle nutty flavor. However, the Orchard Oasis cookies were a bit too sweet for my taste. The Golden Gate Ginger and Tokyo Tidbits were interesting, but not my favorite. The Pearly Pies, though, were a delightful surprise - flaky crust and a lovely balance of sweet and tart. Overall, Bakehouse is a must-visit for adventurous cookie lovers in Kyoto!</td></tr><tr><td>Bakehouse in Fitzroy, Melbourne, has disappointed me with their Outback Oatmeal and Austin Almond Biscotti. The oatmeal cookies were dry and lacked the expected oat flavor, while the biscotti was overly sweet and crumbled upon first bite. I had hoped for a better experience, but these two products fell short.</td><td>3000003</td><td>2024-05-31T11:13:36.962-04:00</td><td>4</td><td>Bakehouse in Fitzroy, Melbourne, has disappointed me with their Outback Oatmeal and Austin Almond Biscotti. The oatmeal cookies were dry and lacked the expected oat flavor, while the biscotti was overly sweet and crumbled upon first bite. I had hoped for a better experience, but these two products fell short.</td></tr><tr><td>Title: A Sweet Escape in Las Vegas' Arts District\n",
       "\n",
       "Bakehouse has become my go-to spot in Las Vegas' Arts District for a delightful treat. Their Outback Oatmeal cookies are a perfect blend of chewy and crunchy, with a generous helping of oats and a hint of cinnamon. The Austin Almond Biscotti, on the other hand, is a crispy delight, perfect for dipping in my morning coffee.\n",
       "\n",
       "The Orchard Oasis is a fruity sensation that transports me to a tropical paradise, while the Golden Gate Ginger packs a punch with its spicy and sweet flavors. The Tokyo Tidbits, small and delicate, are a delightful surprise with their unique blend of flavors.\n",
       "\n",
       "However, the real star of the show is the Pearly Pies. These miniature pies, with their flaky crust and delicious fillings, are a true culinary gem. Whether you're a local or just visiting, Bakehouse is a must-visit for any cookie or pie enthusiast.</td><td>3000034</td><td>2024-05-20T13:24:06.591-04:00</td><td>5</td><td>Title: A Sweet Escape in Las Vegas' Arts District\n",
       "\n",
       "Bakehouse has become my go-to spot in Las Vegas' Arts District for a delightful treat. Their Outback Oatmeal cookies are a perfect blend of chewy and crunchy, with a generous helping of oats and a hint of cinnamon. The Austin Almond Biscotti, on the other hand, is a crispy delight, perfect for dipping in my morning coffee.\n",
       "\n",
       "The Orchard Oasis is a fruity sensation that transports me to a tropical paradise, while the Golden Gate Ginger packs a punch with its spicy and sweet flavors. The Tokyo Tidbits, small and delicate, are a delightful surprise with their unique blend of flavors.\n",
       "\n",
       "However, the real star of the show is the Pearly Pies. These miniature pies, with their flaky crust and delicious fillings, are a true culinary gem. Whether you're a local or just visiting, Bakehouse is a must-visit for any cookie or pie enthusiast.</td></tr><tr><td>I recently visited the Bakehouse location on Main Street in Vancouver and was disappointed with my experience. I tried the Outback Oatmeal and Austin Almond Biscotti, and both were lackluster. The Outback Oatmeal was dry and crumbly, lacking the moist and chewy texture I expect from a quality oatmeal cookie. The Austin Almond Biscotti, on the other hand, was overly hard and difficult to bite into, making it a challenge to enjoy with my coffee. I've had better biscotti at other bakeries in the city. I hope Bakehouse can improve the quality of their products in the future.</td><td>3000022</td><td>2024-05-31T11:13:36.962-04:00</td><td>6</td><td>I recently visited the Bakehouse location on Main Street in Vancouver and was disappointed with my experience. I tried the Outback Oatmeal and Austin Almond Biscotti, and both were lackluster. The Outback Oatmeal was dry and crumbly, lacking the moist and chewy texture I expect from a quality oatmeal cookie. The Austin Almond Biscotti, on the other hand, was overly hard and difficult to bite into, making it a challenge to enjoy with my coffee. I've had better biscotti at other bakeries in the city. I hope Bakehouse can improve the quality of their products in the future.</td></tr><tr><td>**4.5/5 stars**\n",
       "\n",
       "I stumbled upon Bakehouse in De Pijp, Amsterdam, and oh boy, what a gem! Their Outback Oatmeal cookies are a game-changer - soft, chewy, and packed with flavor. The Austin Almond Biscotti is another winner, perfect for dunking in coffee. However, the Orchard Oasis cookies were a bit too sweet for my taste. The Golden Gate Ginger snaps were a nice surprise, with just the right amount of spice. Tokyo Tidbits were a fun twist, but not my favorite. Pearly Pies? More like Pearly Perfection! The lemon filling is to die for. Overall, Bakehouse is a must-visit for cookie lovers in Amsterdam.</td><td>3000040</td><td>2024-05-20T13:17:03.052-04:00</td><td>7</td><td>**4.5/5 stars**\n",
       "\n",
       "I stumbled upon Bakehouse in De Pijp, Amsterdam, and oh boy, what a gem! Their Outback Oatmeal cookies are a game-changer - soft, chewy, and packed with flavor. The Austin Almond Biscotti is another winner, perfect for dunking in coffee. However, the Orchard Oasis cookies were a bit too sweet for my taste. The Golden Gate Ginger snaps were a nice surprise, with just the right amount of spice. Tokyo Tidbits were a fun twist, but not my favorite. Pearly Pies? More like Pearly Perfection! The lemon filling is to die for. Overall, Bakehouse is a must-visit for cookie lovers in Amsterdam.</td></tr><tr><td>\"I stopped by Bakehouse in Kitano, Kobe and sampled a few treats. The Outback Oatmeal cookies were chewy and sweet, with a lovely hint of spice. The Austin Almond Biscotti was crunchy and nutty, perfect for dipping in coffee. The Orchard Oasis cookie was a fruity surprise, with a delightful citrus zing. The Golden Gate Ginger cookie was spicy and satisfying. The Tokyo Tidbits were adorable and addictive, but the Pearly Pies were a bit too sweet for my taste. Overall, Bakehouse offers a diverse range of flavors and textures - worth a visit if you're in the area!\"</td><td>3000004</td><td>2024-05-31T11:23:53.074-04:00</td><td>8</td><td>\"I stopped by Bakehouse in Kitano, Kobe and sampled a few treats. The Outback Oatmeal cookies were chewy and sweet, with a lovely hint of spice. The Austin Almond Biscotti was crunchy and nutty, perfect for dipping in coffee. The Orchard Oasis cookie was a fruity surprise, with a delightful citrus zing. The Golden Gate Ginger cookie was spicy and satisfying. The Tokyo Tidbits were adorable and addictive, but the Pearly Pies were a bit too sweet for my taste. Overall, Bakehouse offers a diverse range of flavors and textures - worth a visit if you're in the area!\"</td></tr><tr><td>**5/5 stars**\n",
       "\n",
       "I'm obsessed with Bakehouse in The Gulch, Nashville! Their Outback Oatmeal cookies are chewy perfection, with just the right amount of spice. The Austin Almond Biscotti is a game-changer - crunchy on the outside, soft on the inside, and that almond flavor? But the real showstopper is the Orchard Oasis cookie sandwich - the combination of sweet and tangy is addictive! The only miss for me was the Golden Gate Ginger, which was a bit too spicy. Can't wait to try the Tokyo Tidbits and Pearly Pies next!</td><td>3000026</td><td>2024-05-20T13:17:03.052-04:00</td><td>9</td><td>**5/5 stars**\n",
       "\n",
       "I'm obsessed with Bakehouse in The Gulch, Nashville! Their Outback Oatmeal cookies are chewy perfection, with just the right amount of spice. The Austin Almond Biscotti is a game-changer - crunchy on the outside, soft on the inside, and that almond flavor? But the real showstopper is the Orchard Oasis cookie sandwich - the combination of sweet and tangy is addictive! The only miss for me was the Golden Gate Ginger, which was a bit too spicy. Can't wait to try the Tokyo Tidbits and Pearly Pies next!</td></tr><tr><td>\"I stopped by Bakehouse in Kyoto's charming Gion district and sampled a few treats. The Outback Oatmeal cookies were chewy and comforting, while the Austin Almond Biscotti's crunchy texture won me over. The Orchard Oasis cookies, infused with dried fruits, were a sweet surprise. However, the Golden Gate Ginger cookies were a tad too spicy for my taste. The Tokyo Tidbits, bite-sized morsels of goodness, were addictive. Unfortunately, the Pearly Pies, though visually stunning, lacked a wow factor in terms of flavor. Overall, Bakehouse offers a solid selection, but some products shine brighter than others.\"</td><td>3000007</td><td>2024-05-31T11:23:53.074-04:00</td><td>10</td><td>\"I stopped by Bakehouse in Kyoto's charming Gion district and sampled a few treats. The Outback Oatmeal cookies were chewy and comforting, while the Austin Almond Biscotti's crunchy texture won me over. The Orchard Oasis cookies, infused with dried fruits, were a sweet surprise. However, the Golden Gate Ginger cookies were a tad too spicy for my taste. The Tokyo Tidbits, bite-sized morsels of goodness, were addictive. Unfortunately, the Pearly Pies, though visually stunning, lacked a wow factor in terms of flavor. Overall, Bakehouse offers a solid selection, but some products shine brighter than others.\"</td></tr><tr><td>I recently visited the Bakehouse location in The Gulch, Nashville and was disappointed with my experience. I tried the Outback Oatmeal and Austin Almond Biscotti, and unfortunately, both fell flat. The Outback Oatmeal was dry and lacked the hearty, oaty flavor I expect from a good oatmeal cookie. The Austin Almond Biscotti, on the other hand, was overly hard and difficult to bite into, with a subtle almond flavor that left much to be desired. I've had better biscotti at coffee shops. I had high hopes for Bakehouse, but based on my experience with these two products, I can't say I'll be returning anytime soon.</td><td>3000026</td><td>2024-05-31T11:13:36.962-04:00</td><td>11</td><td>I recently visited the Bakehouse location in The Gulch, Nashville and was disappointed with my experience. I tried the Outback Oatmeal and Austin Almond Biscotti, and unfortunately, both fell flat. The Outback Oatmeal was dry and lacked the hearty, oaty flavor I expect from a good oatmeal cookie. The Austin Almond Biscotti, on the other hand, was overly hard and difficult to bite into, with a subtle almond flavor that left much to be desired. I've had better biscotti at coffee shops. I had high hopes for Bakehouse, but based on my experience with these two products, I can't say I'll be returning anytime soon.</td></tr><tr><td>**4.5/5 stars**\n",
       "\n",
       "I stumbled upon Bakehouse in Shibuya, Tokyo, and oh boy, am I glad I did! Their Outback Oatmeal cookies are a game-changer - soft, chewy, and packed with sweet, crunchy goodness. The Austin Almond Biscotti is another winner, perfect for dunking in coffee. However, the Orchard Oasis cookies were a bit too sweet for my taste. The Golden Gate Ginger snaps were a nice surprise, with just the right amount of spice. Tokyo Tidbits, their seasonal offering, was a delightful mix of flavors. Sadly, the Pearly Pies were a letdown, lacking the flaky crust I crave. Overall, Bakehouse is a must-visit for cookie lovers in Shibuya!</td><td>3000001</td><td>2024-05-20T13:17:03.052-04:00</td><td>12</td><td>**4.5/5 stars**\n",
       "\n",
       "I stumbled upon Bakehouse in Shibuya, Tokyo, and oh boy, am I glad I did! Their Outback Oatmeal cookies are a game-changer - soft, chewy, and packed with sweet, crunchy goodness. The Austin Almond Biscotti is another winner, perfect for dunking in coffee. However, the Orchard Oasis cookies were a bit too sweet for my taste. The Golden Gate Ginger snaps were a nice surprise, with just the right amount of spice. Tokyo Tidbits, their seasonal offering, was a delightful mix of flavors. Sadly, the Pearly Pies were a letdown, lacking the flaky crust I crave. Overall, Bakehouse is a must-visit for cookie lovers in Shibuya!</td></tr><tr><td>I recently visited the Bakehouse location in Denver's RiNo district and was disappointed by my experience. I tried the Outback Oatmeal and Austin Almond Biscotti, and unfortunately, both fell flat. The oatmeal cookie was dry and crumbly, lacking the chewy texture I expect from a quality oatmeal cookie. The biscotti, while crunchy, had a bland taste that didn't do justice to its almond flavor. I had high hopes for Bakehouse, but based on this visit, I can't recommend it.</td><td>3000024</td><td>2024-05-31T11:13:36.962-04:00</td><td>13</td><td>I recently visited the Bakehouse location in Denver's RiNo district and was disappointed by my experience. I tried the Outback Oatmeal and Austin Almond Biscotti, and unfortunately, both fell flat. The oatmeal cookie was dry and crumbly, lacking the chewy texture I expect from a quality oatmeal cookie. The biscotti, while crunchy, had a bland taste that didn't do justice to its almond flavor. I had high hopes for Bakehouse, but based on this visit, I can't recommend it.</td></tr><tr><td>Title: A Sweet Escape in Denver's RiNo District: Bakehouse\n",
       "\n",
       "Bakehouse in Denver's RiNo district is a true delight for pastry enthusiasts! Their Outback Oatmeal cookies are a hearty, satisfying treat, while the Austin Almond Biscotti pairs perfectly with a warm cup of coffee. The Orchard Oasis, a fruit-filled delight, transports you to a serene orchard with every bite. However, the Golden Gate Ginger cookies stole the show with their perfect balance of sweetness and spice. I'm eager to try the Tokyo Tidbits and Pearly Pies on my next visit. Bakehouse is a must-visit for anyone with a sweet tooth in Denver!\n",
       "\n",
       "(499 characters)</td><td>3000024</td><td>2024-05-20T13:24:06.591-04:00</td><td>14</td><td>Title: A Sweet Escape in Denver's RiNo District: Bakehouse\n",
       "\n",
       "Bakehouse in Denver's RiNo district is a true delight for pastry enthusiasts! Their Outback Oatmeal cookies are a hearty, satisfying treat, while the Austin Almond Biscotti pairs perfectly with a warm cup of coffee. The Orchard Oasis, a fruit-filled delight, transports you to a serene orchard with every bite. However, the Golden Gate Ginger cookies stole the show with their perfect balance of sweetness and spice. I'm eager to try the Tokyo Tidbits and Pearly Pies on my next visit. Bakehouse is a must-visit for anyone with a sweet tooth in Denver!\n",
       "\n",
       "(499 characters)</td></tr><tr><td>I apologize, but it seems there's been a mistake. You mentioned the store is in Seattle, but then specified the district as Miami, which is a different city altogether. Assuming you meant to say the store is in Seattle, here's a negative review:\n",
       "\n",
       "\"Underwhelming experience at Bakehouse in Seattle. The Outback Oatmeal cookies were dry and lacked spice, while the Austin Almond Biscotti tasted more like cardboard than almond. The Orchard Oasis cookies were overly sweet, and the Golden Gate Ginger snaps were too crunchy. The Tokyo Tidbits were the final disappointment - stale and flavorless. Only the Pearly Pies showed promise, but even they were overpriced. Won't be back.\"</td><td>3000015</td><td>2024-05-31T14:42:07.727-04:00</td><td>15</td><td>I apologize, but it seems there's been a mistake. You mentioned the store is in Seattle, but then specified the district as Miami, which is a different city altogether. Assuming you meant to say the store is in Seattle, here's a negative review:\n",
       "\n",
       "\"Underwhelming experience at Bakehouse in Seattle. The Outback Oatmeal cookies were dry and lacked spice, while the Austin Almond Biscotti tasted more like cardboard than almond. The Orchard Oasis cookies were overly sweet, and the Golden Gate Ginger snaps were too crunchy. The Tokyo Tidbits were the final disappointment - stale and flavorless. Only the Pearly Pies showed promise, but even they were overpriced. Won't be back.\"</td></tr><tr><td>**Disappointing Experience at Bakehouse Seattle**\n",
       "\n",
       "I'm still trying to process the underwhelming experience I had at Bakehouse in Leederville, Seattle. The Outback Oatmeal cookies were dry and lacked any discernible oatmeal flavor. The Austin Almond Biscotti was more like a bland, crumbly brick than a delicate Italian treat. The Orchard Oasis cookie, touted as a fruity delight, tasted more like artificial flavorings than actual fruit. The Golden Gate Ginger was the final nail in the coffin - overpowering and bitter. The Tokyo Tidbits and Pearly Pies didn't even get a chance, as I'd lost all enthusiasm by then. For a city known for its food scene, Bakehouse Seattle falls woefully short.</td><td>3000009</td><td>2024-05-31T14:42:07.727-04:00</td><td>16</td><td>**Disappointing Experience at Bakehouse Seattle**\n",
       "\n",
       "I'm still trying to process the underwhelming experience I had at Bakehouse in Leederville, Seattle. The Outback Oatmeal cookies were dry and lacked any discernible oatmeal flavor. The Austin Almond Biscotti was more like a bland, crumbly brick than a delicate Italian treat. The Orchard Oasis cookie, touted as a fruity delight, tasted more like artificial flavorings than actual fruit. The Golden Gate Ginger was the final nail in the coffin - overpowering and bitter. The Tokyo Tidbits and Pearly Pies didn't even get a chance, as I'd lost all enthusiasm by then. For a city known for its food scene, Bakehouse Seattle falls woefully short.</td></tr><tr><td>**4.5/5 stars**\n",
       "\n",
       "I stumbled upon Bakehouse in Furukawa, Aomori, and oh boy, am I glad I did! Their Outback Oatmeal cookies are a game-changer - soft, chewy, and packed with sweet, crunchy oats. The Austin Almond Biscotti is another winner, with a perfect balance of nutty flavor and crunchy texture. However, the Orchard Oasis cookies were a bit too sweet for my taste. The Golden Gate Ginger cookies, on the other hand, were a delightful surprise, with a lovely spicy kick. Tokyo Tidbits were a fun treat, but the Pearly Pies were a bit overpriced. Overall, Bakehouse is a must-visit for cookie lovers in Aomori!</td><td>3000045</td><td>2024-05-20T13:17:03.052-04:00</td><td>17</td><td>**4.5/5 stars**\n",
       "\n",
       "I stumbled upon Bakehouse in Furukawa, Aomori, and oh boy, am I glad I did! Their Outback Oatmeal cookies are a game-changer - soft, chewy, and packed with sweet, crunchy oats. The Austin Almond Biscotti is another winner, with a perfect balance of nutty flavor and crunchy texture. However, the Orchard Oasis cookies were a bit too sweet for my taste. The Golden Gate Ginger cookies, on the other hand, were a delightful surprise, with a lovely spicy kick. Tokyo Tidbits were a fun treat, but the Pearly Pies were a bit overpriced. Overall, Bakehouse is a must-visit for cookie lovers in Aomori!</td></tr><tr><td>Title: A Sweet Escape in Fishtown: Bakehouse Review\n",
       "\n",
       "Bakehouse in Fishtown, Philadelphia, is a delightful discovery for pastry enthusiasts. Their Outback Oatmeal cookies are a comforting classic, with a perfect chewy texture and a hint of cinnamon that warms your soul. The Austin Almond Biscotti, on the other hand, offers a delightful crunch, paired beautifully with a cup of coffee from a nearby local roastery.\n",
       "\n",
       "The Orchard Oasis, a fruit-filled delight, transports you to a serene orchard with every bite. However, the Golden Gate Ginger cookies, while packed with flavor, could benefit from a slightly less intense ginger kick.\n",
       "\n",
       "The Tokyo Tidbits, delicate green tea shortbreads, offer an intriguing taste of the East, while the Pearly Pies, miniature pecan pies, are a sweet finale to any visit.\n",
       "\n",
       "Bakehouse's diverse selection and commitment to quality make it a standout in Philadelphia's bustling bakery scene. Whether you're a local or just passing through Fishtown, Bakehouse is definitely worth a visit.</td><td>3000028</td><td>2024-05-20T13:24:06.591-04:00</td><td>18</td><td>Title: A Sweet Escape in Fishtown: Bakehouse Review\n",
       "\n",
       "Bakehouse in Fishtown, Philadelphia, is a delightful discovery for pastry enthusiasts. Their Outback Oatmeal cookies are a comforting classic, with a perfect chewy texture and a hint of cinnamon that warms your soul. The Austin Almond Biscotti, on the other hand, offers a delightful crunch, paired beautifully with a cup of coffee from a nearby local roastery.\n",
       "\n",
       "The Orchard Oasis, a fruit-filled delight, transports you to a serene orchard with every bite. However, the Golden Gate Ginger cookies, while packed with flavor, could benefit from a slightly less intense ginger kick.\n",
       "\n",
       "The Tokyo Tidbits, delicate green tea shortbreads, offer an intriguing taste of the East, while the Pearly Pies, miniature pecan pies, are a sweet finale to any visit.\n",
       "\n",
       "Bakehouse's diverse selection and commitment to quality make it a standout in Philadelphia's bustling bakery scene. Whether you're a local or just passing through Fishtown, Bakehouse is definitely worth a visit.</td></tr><tr><td>I recently visited the Bakehouse location in Ballard, Seattle and was thoroughly disappointed with my experience. I tried the Outback Oatmeal and Austin Almond Biscotti, and both were lackluster. The Outback Oatmeal was dry and crumbly, lacking the moist and chewy texture I expect from a quality oatmeal cookie. The Austin Almond Biscotti was overly hard and difficult to bite into, making it a challenge to enjoy with my coffee. I've had better biscotti from a gas station. I had high hopes for Bakehouse, but unfortunately, it fell short of my expectations. I won't be returning anytime soon.</td><td>3000038</td><td>2024-05-31T11:13:36.962-04:00</td><td>19</td><td>I recently visited the Bakehouse location in Ballard, Seattle and was thoroughly disappointed with my experience. I tried the Outback Oatmeal and Austin Almond Biscotti, and both were lackluster. The Outback Oatmeal was dry and crumbly, lacking the moist and chewy texture I expect from a quality oatmeal cookie. The Austin Almond Biscotti was overly hard and difficult to bite into, making it a challenge to enjoy with my coffee. I've had better biscotti from a gas station. I had high hopes for Bakehouse, but unfortunately, it fell short of my expectations. I won't be returning anytime soon.</td></tr><tr><td>Title: A Delightful Cookie Experience in Kreuzberg, Berlin\n",
       "\n",
       "Bakehouse in Kreuzberg, Berlin, is a true gem for cookie lovers. Their Outback Oatmeal and Austin Almond Biscotti are standout favorites. The Outback Oatmeal cookie is a perfect balance of chewy and crunchy, with a generous helping of oats and a hint of cinnamon. The Austin Almond Biscotti, on the other hand, is a crisp and flavorful delight, perfect for dipping in your coffee.\n",
       "\n",
       "The Orchard Oasis and Golden Gate Ginger cookies are also not to be missed. Orchard Oasis is a refreshing burst of fruit flavors, while the Golden Gate Ginger packs a spicy and sweet punch that lingers long after the last bite.\n",
       "\n",
       "I was less impressed with the Tokyo Tidbits and Pearly Pies. While the Tokyo Tidbits were a unique and interesting blend of flavors, they were a bit too salty for my taste. The Pearly Pies, although visually appealing, lacked the depth of flavor I was expecting.\n",
       "\n",
       "Overall, Bakehouse is a must-visit for cookie enthusiasts. Their diverse selection and commitment to quality make for a delightful cookie experience. I highly recommend stopping by and trying their Outback Oatmeal and Austin Almond Biscotti. You won't be disappointed!</td><td>3000044</td><td>2024-05-20T13:24:06.591-04:00</td><td>20</td><td>Title: A Delightful Cookie Experience in Kreuzberg, Berlin\n",
       "\n",
       "Bakehouse in Kreuzberg, Berlin, is a true gem for cookie lovers. Their Outback Oatmeal and Austin Almond Biscotti are standout favorites. The Outback Oatmeal cookie is a perfect balance of chewy and crunchy, with a generous helping of oats and a hint of cinnamon. The Austin Almond Biscotti, on the other hand, is a crisp and flavorful delight, perfect for dipping in your coffee.\n",
       "\n",
       "The Orchard Oasis and Golden Gate Ginger cookies are also not to be missed. Orchard Oasis is a refreshing burst of fruit flavors, while the Golden Gate Ginger packs a spicy and sweet punch that lingers long after the last bite.\n",
       "\n",
       "I was less impressed with the Tokyo Tidbits and Pearly Pies. While the Tokyo Tidbits were a unique and interesting blend of flavors, they were a bit too salty for my taste. The Pearly Pies, although visually appealing, lacked the depth of flavor I was expecting.\n",
       "\n",
       "Overall, Bakehouse is a must-visit for cookie enthusiasts. Their diverse selection and commitment to quality make for a delightful cookie experience. I highly recommend stopping by and trying their Outback Oatmeal and Austin Almond Biscotti. You won't be disappointed!</td></tr><tr><td>I recently visited the Bakehouse store in Hiratsuka's Sakuradori district and was disappointed with their Outback Oatmeal and Austin Almond Biscotti. The oatmeal cookie was dry and lacked the expected oat flavor, while the biscotti was overly sweet and had a sparse distribution of almonds. I had looked forward to trying their Orchard Oasis and Golden Gate Ginger, but after these experiences, I'm hesitant to give them a try. I hope Bakehouse improves the quality of their products to meet the expectations of their customers.</td><td>3000025</td><td>2024-05-31T11:13:36.962-04:00</td><td>21</td><td>I recently visited the Bakehouse store in Hiratsuka's Sakuradori district and was disappointed with their Outback Oatmeal and Austin Almond Biscotti. The oatmeal cookie was dry and lacked the expected oat flavor, while the biscotti was overly sweet and had a sparse distribution of almonds. I had looked forward to trying their Orchard Oasis and Golden Gate Ginger, but after these experiences, I'm hesitant to give them a try. I hope Bakehouse improves the quality of their products to meet the expectations of their customers.</td></tr><tr><td>Title: A Delightful Cookie Experience in Wicker Park\n",
       "\n",
       "Bakehouse in Wicker Park, Chicago, has won my heart with their outstanding cookies. The Outback Oatmeal and Austin Almond Biscotti are must-tries. The oatmeal cookie is perfectly chewy with a hint of cinnamon, while the biscotti has a satisfying crunch and rich almond flavor. Orchard Oasis, a seasonal favorite, is a burst of fruity goodness. Golden Gate Ginger packs a punch with its spicy, sweet flavor. Tokyo Tidbits, although small, are packed with savory goodness. Pearly Pies, their unique take on whoopie pies, are a delightful treat. Highly recommended for cookie lovers!\n",
       "\n",
       "(499 characters)</td><td>3000008</td><td>2024-05-20T13:24:06.591-04:00</td><td>22</td><td>Title: A Delightful Cookie Experience in Wicker Park\n",
       "\n",
       "Bakehouse in Wicker Park, Chicago, has won my heart with their outstanding cookies. The Outback Oatmeal and Austin Almond Biscotti are must-tries. The oatmeal cookie is perfectly chewy with a hint of cinnamon, while the biscotti has a satisfying crunch and rich almond flavor. Orchard Oasis, a seasonal favorite, is a burst of fruity goodness. Golden Gate Ginger packs a punch with its spicy, sweet flavor. Tokyo Tidbits, although small, are packed with savory goodness. Pearly Pies, their unique take on whoopie pies, are a delightful treat. Highly recommended for cookie lovers!\n",
       "\n",
       "(499 characters)</td></tr><tr><td>**Disappointing Experience at Bakehouse Seattle**\n",
       "\n",
       "I was thrilled to try Bakehouse in Seattle's Daimyo district, but unfortunately, their cookies fell flat. The Outback Oatmeal was overly sweet and lacked texture, while the Austin Almond Biscotti was stale and crumbly. The Orchard Oasis, touted as a seasonal favorite, tasted more like artificial fruit flavor than fresh orchard goodness. The Golden Gate Ginger was the only decent option, but even that was overpowered by an overwhelming spice. The Tokyo Tidbits were a confusing mess of flavors, and don't even get me started on the Pearly Pies, which were more like sugary disks than flaky, buttery goodness. For a city known for its food scene, Bakehouse Seattle fails to impress.</td><td>3000018</td><td>2024-05-31T14:42:07.727-04:00</td><td>23</td><td>**Disappointing Experience at Bakehouse Seattle**\n",
       "\n",
       "I was thrilled to try Bakehouse in Seattle's Daimyo district, but unfortunately, their cookies fell flat. The Outback Oatmeal was overly sweet and lacked texture, while the Austin Almond Biscotti was stale and crumbly. The Orchard Oasis, touted as a seasonal favorite, tasted more like artificial fruit flavor than fresh orchard goodness. The Golden Gate Ginger was the only decent option, but even that was overpowered by an overwhelming spice. The Tokyo Tidbits were a confusing mess of flavors, and don't even get me started on the Pearly Pies, which were more like sugary disks than flaky, buttery goodness. For a city known for its food scene, Bakehouse Seattle fails to impress.</td></tr><tr><td>**4.5/5 stars**\n",
       "\n",
       "I'm obsessed with Bakehouse in the Mission District of San Francisco! Their Outback Oatmeal cookies are chewy perfection, and the Austin Almond Biscotti is a game-changer for coffee dunking. The Orchard Oasis shortbread is a sweet and tangy surprise, but the Golden Gate Ginger snaps are a bit too spicy for my taste. Tokyo Tidbits are adorable and addictive, but the real showstopper is the Pearly Pies - flaky crust and velvety filling, yes please! Can't wait to go back and try more!</td><td>3000002</td><td>2024-05-20T13:17:03.052-04:00</td><td>24</td><td>**4.5/5 stars**\n",
       "\n",
       "I'm obsessed with Bakehouse in the Mission District of San Francisco! Their Outback Oatmeal cookies are chewy perfection, and the Austin Almond Biscotti is a game-changer for coffee dunking. The Orchard Oasis shortbread is a sweet and tangy surprise, but the Golden Gate Ginger snaps are a bit too spicy for my taste. Tokyo Tidbits are adorable and addictive, but the real showstopper is the Pearly Pies - flaky crust and velvety filling, yes please! Can't wait to go back and try more!</td></tr><tr><td>\"5/5 stars for Bakehouse in Norwood, Adelaide! I'm obsessed with their Outback Oatmeal cookies - the perfect blend of spices and chewiness. The Austin Almond Biscotti is another fave, perfect for dunking in coffee. However, the Orchard Oasis cookies were a letdown, too sweet and crumbly. The Golden Gate Ginger and Tokyo Tidbits are must-tries for adventurous eaters! Pearly Pies are a game-changer for dessert lovers. Can't wait to go back and try more!\"</td><td>3000012</td><td>2024-05-20T13:17:03.052-04:00</td><td>25</td><td>\"5/5 stars for Bakehouse in Norwood, Adelaide! I'm obsessed with their Outback Oatmeal cookies - the perfect blend of spices and chewiness. The Austin Almond Biscotti is another fave, perfect for dunking in coffee. However, the Orchard Oasis cookies were a letdown, too sweet and crumbly. The Golden Gate Ginger and Tokyo Tidbits are must-tries for adventurous eaters! Pearly Pies are a game-changer for dessert lovers. Can't wait to go back and try more!\"</td></tr><tr><td>**Disappointing Experience at Bakehouse Seattle**\n",
       "\n",
       "I was thrilled to try Bakehouse's offerings, but unfortunately, my excitement was short-lived. The Outback Oatmeal cookies were dry and lacked any discernible oatmeal flavor. The Austin Almond Biscotti was overly crunchy and tasted more like cardboard than almond. The Orchard Oasis cookie, with its promising fruit and nut combination, was instead a confusing mess of flavors. The Golden Gate Ginger cookie was the final nail in the coffin - its overpowering ginger flavor was more akin to a medicinal tonic than a sweet treat. The Tokyo Tidbits and Pearly Pies didn't fare much better. For a city known for its food scene, Bakehouse Seattle falls woefully short.</td><td>3000015</td><td>2024-05-31T14:45:07.063-04:00</td><td>26</td><td>**Disappointing Experience at Bakehouse Seattle**\n",
       "\n",
       "I was thrilled to try Bakehouse's offerings, but unfortunately, my excitement was short-lived. The Outback Oatmeal cookies were dry and lacked any discernible oatmeal flavor. The Austin Almond Biscotti was overly crunchy and tasted more like cardboard than almond. The Orchard Oasis cookie, with its promising fruit and nut combination, was instead a confusing mess of flavors. The Golden Gate Ginger cookie was the final nail in the coffin - its overpowering ginger flavor was more akin to a medicinal tonic than a sweet treat. The Tokyo Tidbits and Pearly Pies didn't fare much better. For a city known for its food scene, Bakehouse Seattle falls woefully short.</td></tr><tr><td>**4.5/5 stars**\n",
       "\n",
       "I'm obsessed with Bakehouse in Sakae, Nagoya! Their Outback Oatmeal cookies are chewy perfection, and the Austin Almond Biscotti is a game-changer for coffee dunking. The Orchard Oasis shortbread is buttery heaven, but the Golden Gate Ginger snaps are a bit too spicy for my taste. Tokyo Tidbits are adorable and addictive, but the Pearly Pies are overpriced. Overall, Bakehouse is a must-visit for cookie lovers in Nagoya!</td><td>3000016</td><td>2024-05-20T13:17:03.052-04:00</td><td>27</td><td>**4.5/5 stars**\n",
       "\n",
       "I'm obsessed with Bakehouse in Sakae, Nagoya! Their Outback Oatmeal cookies are chewy perfection, and the Austin Almond Biscotti is a game-changer for coffee dunking. The Orchard Oasis shortbread is buttery heaven, but the Golden Gate Ginger snaps are a bit too spicy for my taste. Tokyo Tidbits are adorable and addictive, but the Pearly Pies are overpriced. Overall, Bakehouse is a must-visit for cookie lovers in Nagoya!</td></tr><tr><td>\"5/5 stars for Bakehouse in Fitzroy, Melbourne! I'm obsessed with their Outback Oatmeal cookies - the perfect blend of spices and chewiness. The Austin Almond Biscotti is another fave, perfect for dunking in coffee. However, the Orchard Oasis cookies were a letdown, too sweet and crumbly. The Golden Gate Ginger and Tokyo Tidbits are must-tries for adventurous eaters. Pearly Pies are a game-changer for dessert lovers. Can't wait to go back and try more!\"</td><td>3000003</td><td>2024-05-20T13:17:03.052-04:00</td><td>28</td><td>\"5/5 stars for Bakehouse in Fitzroy, Melbourne! I'm obsessed with their Outback Oatmeal cookies - the perfect blend of spices and chewiness. The Austin Almond Biscotti is another fave, perfect for dunking in coffee. However, the Orchard Oasis cookies were a letdown, too sweet and crumbly. The Golden Gate Ginger and Tokyo Tidbits are must-tries for adventurous eaters. Pearly Pies are a game-changer for dessert lovers. Can't wait to go back and try more!\"</td></tr><tr><td>Title: A Delightful Cookie Experience in Södermalm\n",
       "\n",
       "Bakehouse in Södermalm, Stockholm, has won my heart with their exquisite cookie selection. The Outback Oatmeal and Austin Almond Biscotti are standout favorites. The oatmeal cookie's perfect chewiness and the biscotti's crunchy texture, paired with the delightful almond flavor, make them irresistible. The Orchard Oasis and Golden Gate Ginger cookies are also worth mentioning for their unique flavors. The former's fruity burst and the latter's spicy kick create an exciting taste journey. I'm yet to try the Tokyo Tidbits and Pearly Pies, but I'm already looking forward to my next visit!</td><td>3000047</td><td>2024-05-20T13:24:06.591-04:00</td><td>29</td><td>Title: A Delightful Cookie Experience in Södermalm\n",
       "\n",
       "Bakehouse in Södermalm, Stockholm, has won my heart with their exquisite cookie selection. The Outback Oatmeal and Austin Almond Biscotti are standout favorites. The oatmeal cookie's perfect chewiness and the biscotti's crunchy texture, paired with the delightful almond flavor, make them irresistible. The Orchard Oasis and Golden Gate Ginger cookies are also worth mentioning for their unique flavors. The former's fruity burst and the latter's spicy kick create an exciting taste journey. I'm yet to try the Tokyo Tidbits and Pearly Pies, but I'm already looking forward to my next visit!</td></tr><tr><td>Title: A Delightful Cookie Experience at Bakehouse, Nagarekawa\n",
       "\n",
       "Bakehouse in Nagarekawa, Hiroshima, has become my go-to spot for unique and delicious cookies. Their Outback Oatmeal cookies are a perfect blend of chewy and crunchy, with a generous helping of oats and a hint of cinnamon. The Austin Almond Biscotti is a crunchy delight, perfect for dipping in my morning coffee. Orchard Oasis, with its fruity burst of flavor, is a refreshing treat on a hot day. The Golden Gate Ginger cookies have just the right amount of spice, while the Tokyo Tidbits are a fun and tasty surprise with their unique shape and size. I haven't tried the Pearly Pies yet, but they're next on my list! Bakehouse's commitment to quality and creativity makes every visit a joy.</td><td>3000013</td><td>2024-05-20T13:24:06.591-04:00</td><td>30</td><td>Title: A Delightful Cookie Experience at Bakehouse, Nagarekawa\n",
       "\n",
       "Bakehouse in Nagarekawa, Hiroshima, has become my go-to spot for unique and delicious cookies. Their Outback Oatmeal cookies are a perfect blend of chewy and crunchy, with a generous helping of oats and a hint of cinnamon. The Austin Almond Biscotti is a crunchy delight, perfect for dipping in my morning coffee. Orchard Oasis, with its fruity burst of flavor, is a refreshing treat on a hot day. The Golden Gate Ginger cookies have just the right amount of spice, while the Tokyo Tidbits are a fun and tasty surprise with their unique shape and size. I haven't tried the Pearly Pies yet, but they're next on my list! Bakehouse's commitment to quality and creativity makes every visit a joy.</td></tr><tr><td>**5/5 stars**\n",
       "\n",
       "I'm obsessed with Bakehouse in Furumachi, Niigata! Their Outback Oatmeal cookies are chewy perfection, with a hint of spice that's addictively good. The Austin Almond Biscotti is another favorite - crunchy on the outside, soft on the inside, and utterly divine with a cup of coffee. The Orchard Oasis cookies are a refreshing twist, with a lovely citrus zing. Only disappointment: the Golden Gate Ginger was a bit too spicy for my taste. Still, can't wait to try the Tokyo Tidbits and Pearly Pies next!</td><td>3000031</td><td>2024-05-20T13:17:03.052-04:00</td><td>31</td><td>**5/5 stars**\n",
       "\n",
       "I'm obsessed with Bakehouse in Furumachi, Niigata! Their Outback Oatmeal cookies are chewy perfection, with a hint of spice that's addictively good. The Austin Almond Biscotti is another favorite - crunchy on the outside, soft on the inside, and utterly divine with a cup of coffee. The Orchard Oasis cookies are a refreshing twist, with a lovely citrus zing. Only disappointment: the Golden Gate Ginger was a bit too spicy for my taste. Still, can't wait to try the Tokyo Tidbits and Pearly Pies next!</td></tr><tr><td>I recently visited the Bakehouse store in Tatemachi, Kanazawa and was disappointed with the Outback Oatmeal and Austin Almond Biscotti. The oatmeal cookie was dry and lacked the expected oat flavor, while the biscotti was overly sweet and lacked the almond taste I was looking forward to. I had high hopes for these treats, but they fell short of my expectations. I hope to see improvements in the future. #Bakehouse #CookieReview</td><td>3000027</td><td>2024-05-31T11:13:36.962-04:00</td><td>32</td><td>I recently visited the Bakehouse store in Tatemachi, Kanazawa and was disappointed with the Outback Oatmeal and Austin Almond Biscotti. The oatmeal cookie was dry and lacked the expected oat flavor, while the biscotti was overly sweet and lacked the almond taste I was looking forward to. I had high hopes for these treats, but they fell short of my expectations. I hope to see improvements in the future. #Bakehouse #CookieReview</td></tr><tr><td>**Disappointing Experience at Bakehouse Seattle**\n",
       "\n",
       "I was thrilled to try Bakehouse's treats, but unfortunately, my excitement was short-lived. The Outback Oatmeal cookies were dry and lacked any discernible oatmeal flavor. The Austin Almond Biscotti was overly crunchy and tasted more like cardboard than almond. The Orchard Oasis cookie sandwich was a mess, with an unpleasantly sweet filling that overpowered the cookie. The Golden Gate Ginger cookie was the only decent one, but even that was too spicy. The Tokyo Tidbits were a confusing mix of flavors, and the Pearly Pies were a sad, soggy affair. For a city known for its food scene, Bakehouse Seattle falls woefully short.</td><td>3000018</td><td>2024-05-31T14:45:07.063-04:00</td><td>33</td><td>**Disappointing Experience at Bakehouse Seattle**\n",
       "\n",
       "I was thrilled to try Bakehouse's treats, but unfortunately, my excitement was short-lived. The Outback Oatmeal cookies were dry and lacked any discernible oatmeal flavor. The Austin Almond Biscotti was overly crunchy and tasted more like cardboard than almond. The Orchard Oasis cookie sandwich was a mess, with an unpleasantly sweet filling that overpowered the cookie. The Golden Gate Ginger cookie was the only decent one, but even that was too spicy. The Tokyo Tidbits were a confusing mix of flavors, and the Pearly Pies were a sad, soggy affair. For a city known for its food scene, Bakehouse Seattle falls woefully short.</td></tr><tr><td>\"I stopped by Bakehouse in Fitzroy, Melbourne and sampled a few treats. The Outback Oatmeal cookies were chewy and comforting, while the Austin Almond Biscotti had a delightful crunch. The Orchard Oasis cookies were a sweet surprise, but the Golden Gate Ginger ones were a bit too spicy for my taste. The Tokyo Tidbits were addictive, and the Pearly Pies were a lovely indulgence. Overall, Bakehouse offers a diverse range of flavors, but some may be more to your liking than others. Worth a visit to explore their offerings!\"</td><td>3000003</td><td>2024-05-31T11:23:53.074-04:00</td><td>34</td><td>\"I stopped by Bakehouse in Fitzroy, Melbourne and sampled a few treats. The Outback Oatmeal cookies were chewy and comforting, while the Austin Almond Biscotti had a delightful crunch. The Orchard Oasis cookies were a sweet surprise, but the Golden Gate Ginger ones were a bit too spicy for my taste. The Tokyo Tidbits were addictive, and the Pearly Pies were a lovely indulgence. Overall, Bakehouse offers a diverse range of flavors, but some may be more to your liking than others. Worth a visit to explore their offerings!\"</td></tr><tr><td>I recently visited the Bakehouse location in Nagoya's Sakae district and was disappointed with my experience. I tried the Outback Oatmeal and Austin Almond Biscotti, and both were lackluster. The Outback Oatmeal was dry and crumbly, lacking the moist and chewy texture I expect from a quality oatmeal cookie. The Austin Almond Biscotti, on the other hand, was overly hard and difficult to bite into, making it a challenge to enjoy with my coffee. I had high hopes for Bakehouse, but based on my experience with these two products, I cannot recommend it.</td><td>3000016</td><td>2024-05-31T11:13:36.962-04:00</td><td>35</td><td>I recently visited the Bakehouse location in Nagoya's Sakae district and was disappointed with my experience. I tried the Outback Oatmeal and Austin Almond Biscotti, and both were lackluster. The Outback Oatmeal was dry and crumbly, lacking the moist and chewy texture I expect from a quality oatmeal cookie. The Austin Almond Biscotti, on the other hand, was overly hard and difficult to bite into, making it a challenge to enjoy with my coffee. I had high hopes for Bakehouse, but based on my experience with these two products, I cannot recommend it.</td></tr><tr><td>**Disappointing Experience at Bakehouse in Nagarekawa, Seattle**\n",
       "\n",
       "I was thrilled to try Bakehouse, but my excitement was short-lived. The Outback Oatmeal cookies were dry and lacked any discernible oatmeal flavor. The Austin Almond Biscotti was overly crunchy and tasted more like cardboard than almond. The Orchard Oasis, touted as a fruity delight, was instead a confusing mix of clashing flavors. The Golden Gate Ginger was the final nail in the coffin - it was so spicy it overpowered any other flavor. The Tokyo Tidbits and Pearly Pies didn't fare much better. For a city known for its food scene, Bakehouse falls woefully short.</td><td>3000013</td><td>2024-05-31T14:42:07.727-04:00</td><td>36</td><td>**Disappointing Experience at Bakehouse in Nagarekawa, Seattle**\n",
       "\n",
       "I was thrilled to try Bakehouse, but my excitement was short-lived. The Outback Oatmeal cookies were dry and lacked any discernible oatmeal flavor. The Austin Almond Biscotti was overly crunchy and tasted more like cardboard than almond. The Orchard Oasis, touted as a fruity delight, was instead a confusing mix of clashing flavors. The Golden Gate Ginger was the final nail in the coffin - it was so spicy it overpowered any other flavor. The Tokyo Tidbits and Pearly Pies didn't fare much better. For a city known for its food scene, Bakehouse falls woefully short.</td></tr><tr><td>**Disappointing Experience at Bakehouse Seattle**\n",
       "\n",
       "I was thrilled to try Bakehouse's offerings, but unfortunately, my excitement was short-lived. The Outback Oatmeal cookies were dry and lacked any discernible spice, while the Austin Almond Biscotti was overly crunchy and tasted more like cardboard than almond. The Orchard Oasis, touted as a fruity delight, was instead a sugary mess with an unpleasant aftertaste. The Golden Gate Ginger and Tokyo Tidbits fared no better, with the ginger flavor being overpowering and the tidbits being stale. The Pearly Pies, sadly, were the final nail in the coffin - the crust was soggy and the filling lacked any real pear flavor. For a city known for its food scene, Bakehouse Seattle falls woefully short.</td><td>3000005</td><td>2024-05-31T14:45:07.063-04:00</td><td>37</td><td>**Disappointing Experience at Bakehouse Seattle**\n",
       "\n",
       "I was thrilled to try Bakehouse's offerings, but unfortunately, my excitement was short-lived. The Outback Oatmeal cookies were dry and lacked any discernible spice, while the Austin Almond Biscotti was overly crunchy and tasted more like cardboard than almond. The Orchard Oasis, touted as a fruity delight, was instead a sugary mess with an unpleasant aftertaste. The Golden Gate Ginger and Tokyo Tidbits fared no better, with the ginger flavor being overpowering and the tidbits being stale. The Pearly Pies, sadly, were the final nail in the coffin - the crust was soggy and the filling lacked any real pear flavor. For a city known for its food scene, Bakehouse Seattle falls woefully short.</td></tr><tr><td>\"I stopped by Bakehouse on East 6th Street in Austin and sampled a few treats. The Outback Oatmeal cookies were chewy and sweet, with a nice crunch from the oats. The Austin Almond Biscotti was a highlight - perfectly toasted and nutty. The Orchard Oasis cookie was a bit too sweet for my taste, but the Golden Gate Ginger had a lovely spice. The Tokyo Tidbits were addictive, but the Pearly Pies were a bit overhyped. Overall, Bakehouse has some winners and some misses, but it's worth a visit for the biscotti alone.\"</td><td>3000017</td><td>2024-05-31T11:23:53.074-04:00</td><td>38</td><td>\"I stopped by Bakehouse on East 6th Street in Austin and sampled a few treats. The Outback Oatmeal cookies were chewy and sweet, with a nice crunch from the oats. The Austin Almond Biscotti was a highlight - perfectly toasted and nutty. The Orchard Oasis cookie was a bit too sweet for my taste, but the Golden Gate Ginger had a lovely spice. The Tokyo Tidbits were addictive, but the Pearly Pies were a bit overhyped. Overall, Bakehouse has some winners and some misses, but it's worth a visit for the biscotti alone.\"</td></tr><tr><td>Title: A Delightful Cookie Experience at Bakehouse in Capitol Hill, Seattle\n",
       "\n",
       "Bakehouse in Capitol Hill, Seattle, is a must-visit for cookie enthusiasts! Their Outback Oatmeal cookies are a perfect blend of chewy and crunchy, with a generous helping of oats and a hint of cinnamon. The Austin Almond Biscotti is a crunchy delight, perfect for dipping in your coffee or enjoying on its own. Orchard Oasis, a fruit-filled cookie, is a burst of fresh flavors that transport you to a sunny orchard. Golden Gate Ginger, with its spicy and sweet notes, is a treat for ginger lovers. Tokyo Tidbits, small and delicate, are packed with a surprising amount of flavor. Pearly Pies, their unique take on mini pie cookies, are a delightful surprise. Bakehouse's commitment to quality and creativity makes every visit a joy.</td><td>3000014</td><td>2024-05-20T13:24:06.591-04:00</td><td>39</td><td>Title: A Delightful Cookie Experience at Bakehouse in Capitol Hill, Seattle\n",
       "\n",
       "Bakehouse in Capitol Hill, Seattle, is a must-visit for cookie enthusiasts! Their Outback Oatmeal cookies are a perfect blend of chewy and crunchy, with a generous helping of oats and a hint of cinnamon. The Austin Almond Biscotti is a crunchy delight, perfect for dipping in your coffee or enjoying on its own. Orchard Oasis, a fruit-filled cookie, is a burst of fresh flavors that transport you to a sunny orchard. Golden Gate Ginger, with its spicy and sweet notes, is a treat for ginger lovers. Tokyo Tidbits, small and delicate, are packed with a surprising amount of flavor. Pearly Pies, their unique take on mini pie cookies, are a delightful surprise. Bakehouse's commitment to quality and creativity makes every visit a joy.</td></tr><tr><td>\"Underwhelming experience at Bakehouse in Seattle. The Outback Oatmeal cookies were dry and lacked any discernible spice, while the Austin Almond Biscotti tasted more like cardboard than almond. The Orchard Oasis cookies were overly sweet and the Golden Gate Ginger snaps were bland. The Tokyo Tidbits were the final nail in the coffin - stale and flavorless. Only the Pearly Pies showed promise, but even they were overpriced. Disappointing for a city known for its food scene. 2/5 stars\"</td><td>3000014</td><td>2024-05-31T14:45:07.063-04:00</td><td>40</td><td>\"Underwhelming experience at Bakehouse in Seattle. The Outback Oatmeal cookies were dry and lacked any discernible spice, while the Austin Almond Biscotti tasted more like cardboard than almond. The Orchard Oasis cookies were overly sweet and the Golden Gate Ginger snaps were bland. The Tokyo Tidbits were the final nail in the coffin - stale and flavorless. Only the Pearly Pies showed promise, but even they were overpriced. Disappointing for a city known for its food scene. 2/5 stars\"</td></tr><tr><td>**Disappointing Experience at Bakehouse Seattle**\n",
       "\n",
       "I was thrilled to try Bakehouse's treats, but unfortunately, my excitement was short-lived. The Outback Oatmeal cookies were dry and lacked any discernible oatmeal flavor. The Austin Almond Biscotti was overly crunchy and tasted more like cardboard than almond. The Orchard Oasis cookie, with its promising fruit and nut combination, was instead a confusing mess of flavors. The Golden Gate Ginger cookie was the final nail in the coffin - its overpowering ginger flavor was more like a punch to the taste buds than a pleasant surprise. The Tokyo Tidbits and Pearly Pies didn't fare much better. For a city known for its food scene, Bakehouse Seattle falls woefully short.</td><td>3000016</td><td>2024-05-31T14:45:07.063-04:00</td><td>41</td><td>**Disappointing Experience at Bakehouse Seattle**\n",
       "\n",
       "I was thrilled to try Bakehouse's treats, but unfortunately, my excitement was short-lived. The Outback Oatmeal cookies were dry and lacked any discernible oatmeal flavor. The Austin Almond Biscotti was overly crunchy and tasted more like cardboard than almond. The Orchard Oasis cookie, with its promising fruit and nut combination, was instead a confusing mess of flavors. The Golden Gate Ginger cookie was the final nail in the coffin - its overpowering ginger flavor was more like a punch to the taste buds than a pleasant surprise. The Tokyo Tidbits and Pearly Pies didn't fare much better. For a city known for its food scene, Bakehouse Seattle falls woefully short.</td></tr><tr><td>I recently visited the Bakehouse location in New Orleans' Bywater district and was thoroughly disappointed with their Outback Oatmeal and Austin Almond Biscotti cookies. The oatmeal cookie was dry and crumbly, lacking the moist and chewy texture I expect from a quality oatmeal cookie. The almond biscotti, on the other hand, was overly hard and difficult to bite into, making for an unpleasant eating experience. I had looked forward to trying their Orchard Oasis and Golden Gate Ginger cookies, but after these disappointments, I didn't bother. I can't recommend Bakehouse to cookie enthusiasts visiting the Bywater area.</td><td>3000032</td><td>2024-05-31T11:13:36.962-04:00</td><td>42</td><td>I recently visited the Bakehouse location in New Orleans' Bywater district and was thoroughly disappointed with their Outback Oatmeal and Austin Almond Biscotti cookies. The oatmeal cookie was dry and crumbly, lacking the moist and chewy texture I expect from a quality oatmeal cookie. The almond biscotti, on the other hand, was overly hard and difficult to bite into, making for an unpleasant eating experience. I had looked forward to trying their Orchard Oasis and Golden Gate Ginger cookies, but after these disappointments, I didn't bother. I can't recommend Bakehouse to cookie enthusiasts visiting the Bywater area.</td></tr><tr><td>Title: A Delightful Bakehouse Experience in San Francisco's Mission District\n",
       "\n",
       "Review: I recently visited Bakehouse in San Francisco's Mission District and was thoroughly impressed. Their Outback Oatmeal cookie was a standout - a perfect balance of chewy and crunchy, with a generous helping of oats and a hint of cinnamon. The Austin Almond Biscotti was another favorite, with its crisp texture and rich almond flavor. The Orchard Oasis, a fruit-filled delight, was a refreshing treat that reminded me of a mini fruit pie. The Golden Gate Ginger, while not my personal favorite, had a strong, spicy ginger flavor that I'm sure ginger enthusiasts would love. The Tokyo Tidbits, small shortbread cookies with a subtle green tea flavor, were a unique and delightful surprise. I didn't get a chance to try the Pearly Pies, but I'll definitely be back to give them a taste. Bakehouse is a must-visit for any cookie lover in San Francisco.</td><td>3000002</td><td>2024-05-20T13:24:06.591-04:00</td><td>43</td><td>Title: A Delightful Bakehouse Experience in San Francisco's Mission District\n",
       "\n",
       "Review: I recently visited Bakehouse in San Francisco's Mission District and was thoroughly impressed. Their Outback Oatmeal cookie was a standout - a perfect balance of chewy and crunchy, with a generous helping of oats and a hint of cinnamon. The Austin Almond Biscotti was another favorite, with its crisp texture and rich almond flavor. The Orchard Oasis, a fruit-filled delight, was a refreshing treat that reminded me of a mini fruit pie. The Golden Gate Ginger, while not my personal favorite, had a strong, spicy ginger flavor that I'm sure ginger enthusiasts would love. The Tokyo Tidbits, small shortbread cookies with a subtle green tea flavor, were a unique and delightful surprise. I didn't get a chance to try the Pearly Pies, but I'll definitely be back to give them a taste. Bakehouse is a must-visit for any cookie lover in San Francisco.</td></tr><tr><td>I recently visited the Bakehouse location in Suita's Shukugawa district and was disappointed with my experience. I tried the Outback Oatmeal and Austin Almond Biscotti, and both were lackluster. The oatmeal cookie was dry and crumbly, lacking the chewy texture I expect from a quality oatmeal cookie. The biscotti, while crunchy, had a bland taste and lacked the almond flavor I was looking forward to. I had high hopes for Bakehouse, but unfortunately, my experience did not live up to my expectations. I hope they can improve the quality of their products in the future.</td><td>3000029</td><td>2024-05-31T11:13:36.962-04:00</td><td>44</td><td>I recently visited the Bakehouse location in Suita's Shukugawa district and was disappointed with my experience. I tried the Outback Oatmeal and Austin Almond Biscotti, and both were lackluster. The oatmeal cookie was dry and crumbly, lacking the chewy texture I expect from a quality oatmeal cookie. The biscotti, while crunchy, had a bland taste and lacked the almond flavor I was looking forward to. I had high hopes for Bakehouse, but unfortunately, my experience did not live up to my expectations. I hope they can improve the quality of their products in the future.</td></tr><tr><td>**Disappointing Experience at Bakehouse Seattle**\n",
       "\n",
       "I was thrilled to try Bakehouse's treats, but unfortunately, my excitement was short-lived. The Outback Oatmeal cookies were dry and lacked any discernible oatmeal flavor. The Austin Almond Biscotti was overly crunchy and tasted more like cardboard than almond. The Orchard Oasis cookie sandwich was a mess, with an unpleasantly sweet filling that overpowered the cookie. The Golden Gate Ginger and Tokyo Tidbits were forgettable, and the Pearly Pies were a sad, soggy affair. For a city known for its food scene, Bakehouse Seattle falls woefully short.</td><td>3000002</td><td>2024-05-31T14:45:07.063-04:00</td><td>45</td><td>**Disappointing Experience at Bakehouse Seattle**\n",
       "\n",
       "I was thrilled to try Bakehouse's treats, but unfortunately, my excitement was short-lived. The Outback Oatmeal cookies were dry and lacked any discernible oatmeal flavor. The Austin Almond Biscotti was overly crunchy and tasted more like cardboard than almond. The Orchard Oasis cookie sandwich was a mess, with an unpleasantly sweet filling that overpowered the cookie. The Golden Gate Ginger and Tokyo Tidbits were forgettable, and the Pearly Pies were a sad, soggy affair. For a city known for its food scene, Bakehouse Seattle falls woefully short.</td></tr><tr><td>I recently visited the Bakehouse in Niigata's Furumachi district and was disappointed with my experience. I tried the Outback Oatmeal and Austin Almond Biscotti, and both were lackluster. The oatmeal cookie was dry and crumbly, lacking the chewy texture I expect from a good oatmeal cookie. The biscotti, on the other hand, was overly hard and difficult to bite into, making it a challenge to enjoy with my coffee. I had high hopes for these treats, but they fell flat. I hope to see improvements in the future.</td><td>3000031</td><td>2024-05-31T11:13:36.962-04:00</td><td>46</td><td>I recently visited the Bakehouse in Niigata's Furumachi district and was disappointed with my experience. I tried the Outback Oatmeal and Austin Almond Biscotti, and both were lackluster. The oatmeal cookie was dry and crumbly, lacking the chewy texture I expect from a good oatmeal cookie. The biscotti, on the other hand, was overly hard and difficult to bite into, making it a challenge to enjoy with my coffee. I had high hopes for these treats, but they fell flat. I hope to see improvements in the future.</td></tr><tr><td>**5/5 stars**\n",
       "\n",
       "I'm obsessed with Bakehouse in Tatemachi, Kanazawa! Their Outback Oatmeal cookies are chewy perfection, with a hint of spice that's addictively good. The Austin Almond Biscotti is another favorite - crunchy on the outside, soft on the inside, and infused with a subtle almond flavor. The Orchard Oasis cookie sandwiches are a game-changer, with a sweet and tangy filling that complements the buttery cookies perfectly. The only miss for me was the Golden Gate Ginger, which was a bit too spicy. But overall, Bakehouse is a must-visit for any cookie lover in Kanazawa!</td><td>3000027</td><td>2024-05-20T13:17:03.052-04:00</td><td>47</td><td>**5/5 stars**\n",
       "\n",
       "I'm obsessed with Bakehouse in Tatemachi, Kanazawa! Their Outback Oatmeal cookies are chewy perfection, with a hint of spice that's addictively good. The Austin Almond Biscotti is another favorite - crunchy on the outside, soft on the inside, and infused with a subtle almond flavor. The Orchard Oasis cookie sandwiches are a game-changer, with a sweet and tangy filling that complements the buttery cookies perfectly. The only miss for me was the Golden Gate Ginger, which was a bit too spicy. But overall, Bakehouse is a must-visit for any cookie lover in Kanazawa!</td></tr><tr><td>**4.5/5 stars**\n",
       "\n",
       "I'm obsessed with Bakehouse on Capitol Hill in Seattle! Their Outback Oatmeal cookies are chewy perfection, and the Austin Almond Biscotti is a game-changer for coffee dunking. The Orchard Oasis shortbread is a sweet and tangy surprise. However, the Golden Gate Ginger was a bit too spicy for my taste. Tokyo Tidbits are adorable, but overpriced. Pearly Pies are a must-try, though! Overall, Bakehouse is a must-visit for any cookie lover in Seattle.</td><td>3000014</td><td>2024-05-20T13:17:03.052-04:00</td><td>48</td><td>**4.5/5 stars**\n",
       "\n",
       "I'm obsessed with Bakehouse on Capitol Hill in Seattle! Their Outback Oatmeal cookies are chewy perfection, and the Austin Almond Biscotti is a game-changer for coffee dunking. The Orchard Oasis shortbread is a sweet and tangy surprise. However, the Golden Gate Ginger was a bit too spicy for my taste. Tokyo Tidbits are adorable, but overpriced. Pearly Pies are a must-try, though! Overall, Bakehouse is a must-visit for any cookie lover in Seattle.</td></tr><tr><td>\"I stopped by Bakehouse in Sakae, Nagoya and tried a few treats. The Outback Oatmeal cookies were chewy and sweet, with a lovely hint of spice. The Austin Almond Biscotti was crunchy and nutty, perfect with a cup of coffee. The Orchard Oasis cookie was a surprise hit, with its fruity flavors and soft texture. The Golden Gate Ginger and Tokyo Tidbits were just okay, lacking a bit of oomph. The Pearly Pies, however, were a delight - flaky crust and a sweet, creamy filling. Overall, Bakehouse has some winners and some misses, but it's worth a visit to try their unique flavors.\"</td><td>3000016</td><td>2024-05-31T11:23:53.074-04:00</td><td>49</td><td>\"I stopped by Bakehouse in Sakae, Nagoya and tried a few treats. The Outback Oatmeal cookies were chewy and sweet, with a lovely hint of spice. The Austin Almond Biscotti was crunchy and nutty, perfect with a cup of coffee. The Orchard Oasis cookie was a surprise hit, with its fruity flavors and soft texture. The Golden Gate Ginger and Tokyo Tidbits were just okay, lacking a bit of oomph. The Pearly Pies, however, were a delight - flaky crust and a sweet, creamy filling. Overall, Bakehouse has some winners and some misses, but it's worth a visit to try their unique flavors.\"</td></tr><tr><td>\"I stopped by Bakehouse in Portland's Pearl District and sampled a few treats. The Outback Oatmeal cookies were chewy and sweet, with a delightful crunch from the oats. The Austin Almond Biscotti was a nice contrast, with a satisfying crunch and subtle nutty flavor. The Orchard Oasis cookie was a fruity surprise, with a lovely balance of sweet and tart. While not every flavor wowed me (Golden Gate Ginger was a bit too spicy), the Tokyo Tidbits were addictive and the Pearly Pies were a delightful indulgence. Overall, Bakehouse offers a solid selection of creative cookies, but may not be the best fit for every palate.\"</td><td>3000019</td><td>2024-05-31T11:23:53.074-04:00</td><td>50</td><td>\"I stopped by Bakehouse in Portland's Pearl District and sampled a few treats. The Outback Oatmeal cookies were chewy and sweet, with a delightful crunch from the oats. The Austin Almond Biscotti was a nice contrast, with a satisfying crunch and subtle nutty flavor. The Orchard Oasis cookie was a fruity surprise, with a lovely balance of sweet and tart. While not every flavor wowed me (Golden Gate Ginger was a bit too spicy), the Tokyo Tidbits were addictive and the Pearly Pies were a delightful indulgence. Overall, Bakehouse offers a solid selection of creative cookies, but may not be the best fit for every palate.\"</td></tr><tr><td>\"I stopped by Bakehouse in Wicker Park, Chicago and sampled a few treats. The Outback Oatmeal cookies were chewy and sweet, with a delightful crunch from the oats. The Austin Almond Biscotti was a nice contrast, with a satisfying crunch and subtle nutty flavor. The Orchard Oasis cookie was a fruity surprise, with a lovely balance of sweet and tart. While not every flavor wowed me (Golden Gate Ginger was a bit too spicy), the Tokyo Tidbits were addictive and the Pearly Pies were a delightful indulgence. Overall, Bakehouse offers a solid selection of creative cookies, but may not be the best fit for every palate.\"</td><td>3000008</td><td>2024-05-31T11:23:53.074-04:00</td><td>51</td><td>\"I stopped by Bakehouse in Wicker Park, Chicago and sampled a few treats. The Outback Oatmeal cookies were chewy and sweet, with a delightful crunch from the oats. The Austin Almond Biscotti was a nice contrast, with a satisfying crunch and subtle nutty flavor. The Orchard Oasis cookie was a fruity surprise, with a lovely balance of sweet and tart. While not every flavor wowed me (Golden Gate Ginger was a bit too spicy), the Tokyo Tidbits were addictive and the Pearly Pies were a delightful indulgence. Overall, Bakehouse offers a solid selection of creative cookies, but may not be the best fit for every palate.\"</td></tr><tr><td>Title: A Sweet Escape to Bakehouse in Nashville's Gulch\n",
       "\n",
       "A visit to Bakehouse in the vibrant Gulch district of Nashville is a must for any dessert enthusiast. Their Outback Oatmeal cookies are a delightful symphony of oats and spices, offering a comforting taste of home. The Austin Almond Biscotti, with its perfect crunch and generous almond slivers, pairs beautifully with a cup of coffee from a nearby Gulch café.\n",
       "\n",
       "For a more exotic treat, the Tokyo Tidbits are a delightful surprise - petite, crisp cookies infused with green tea flavor that transport you straight to the bustling streets of Japan. However, it's the Golden Gate Ginger that truly stole my heart - a harmonious blend of sweet and spice, reminiscent of the vibrant city of San Francisco.\n",
       "\n",
       "Bakehouse's commitment to quality and diversity in their offerings makes them a standout in Nashville's dessert scene. Whether you're a local or just passing through, a stop at Bakehouse is sure to leave you with sweet memories.</td><td>3000026</td><td>2024-05-20T13:24:06.591-04:00</td><td>52</td><td>Title: A Sweet Escape to Bakehouse in Nashville's Gulch\n",
       "\n",
       "A visit to Bakehouse in the vibrant Gulch district of Nashville is a must for any dessert enthusiast. Their Outback Oatmeal cookies are a delightful symphony of oats and spices, offering a comforting taste of home. The Austin Almond Biscotti, with its perfect crunch and generous almond slivers, pairs beautifully with a cup of coffee from a nearby Gulch café.\n",
       "\n",
       "For a more exotic treat, the Tokyo Tidbits are a delightful surprise - petite, crisp cookies infused with green tea flavor that transport you straight to the bustling streets of Japan. However, it's the Golden Gate Ginger that truly stole my heart - a harmonious blend of sweet and spice, reminiscent of the vibrant city of San Francisco.\n",
       "\n",
       "Bakehouse's commitment to quality and diversity in their offerings makes them a standout in Nashville's dessert scene. Whether you're a local or just passing through, a stop at Bakehouse is sure to leave you with sweet memories.</td></tr><tr><td>I recently visited the Bakehouse location in Aomori's Furukawa district and was thoroughly disappointed with my experience. I tried the Outback Oatmeal and Austin Almond Biscotti, and both were lackluster at best. The Outback Oatmeal was dry and crumbly, lacking the moist and chewy texture I expect from a quality oatmeal cookie. The Austin Almond Biscotti, on the other hand, was overly hard and difficult to bite into, making it a chore to eat rather than a pleasure. I've had better biscotti from a gas station.\n",
       "\n",
       "The store itself was also a letdown. It was poorly lit and lacked the inviting atmosphere I've come to expect from a reputable bakery. The staff were unfriendly and unhelpful, and I felt rushed to make my selection and leave.\n",
       "\n",
       "Overall, I cannot recommend the Bakehouse location in Aomori's Furukawa district. The cookies were subpar, and the store itself was uninviting. I expect much more from a bakery that claims to be a top choice for cookie lovers.</td><td>3000045</td><td>2024-05-31T11:13:36.962-04:00</td><td>53</td><td>I recently visited the Bakehouse location in Aomori's Furukawa district and was thoroughly disappointed with my experience. I tried the Outback Oatmeal and Austin Almond Biscotti, and both were lackluster at best. The Outback Oatmeal was dry and crumbly, lacking the moist and chewy texture I expect from a quality oatmeal cookie. The Austin Almond Biscotti, on the other hand, was overly hard and difficult to bite into, making it a chore to eat rather than a pleasure. I've had better biscotti from a gas station.\n",
       "\n",
       "The store itself was also a letdown. It was poorly lit and lacked the inviting atmosphere I've come to expect from a reputable bakery. The staff were unfriendly and unhelpful, and I felt rushed to make my selection and leave.\n",
       "\n",
       "Overall, I cannot recommend the Bakehouse location in Aomori's Furukawa district. The cookies were subpar, and the store itself was uninviting. I expect much more from a bakery that claims to be a top choice for cookie lovers.</td></tr><tr><td>Title: A Delightful Cookie Experience on Kokusai Street\n",
       "\n",
       "Bakehouse on Kokusai Street in Naha is a must-visit for cookie enthusiasts! Their Outback Oatmeal cookies are a perfect blend of chewy and crunchy, with a generous helping of oats and a hint of cinnamon. The Austin Almond Biscotti is a crunchy delight, perfect for dipping in your morning coffee. Orchard Oasis, a delightful fruit-filled cookie, is a burst of sunshine in every bite. Golden Gate Ginger, with its zesty ginger flavor, is a treat for those who love a bit of spice. Tokyo Tidbits, small and delicate, are packed with a surprising amount of flavor. Pearly Pies, their unique take on a cookie-shaped pie, is a delightful surprise. Bakehouse is a true gem, offering a wide variety of delicious cookies that are sure to satisfy any sweet tooth.</td><td>3000039</td><td>2024-05-20T13:24:06.591-04:00</td><td>54</td><td>Title: A Delightful Cookie Experience on Kokusai Street\n",
       "\n",
       "Bakehouse on Kokusai Street in Naha is a must-visit for cookie enthusiasts! Their Outback Oatmeal cookies are a perfect blend of chewy and crunchy, with a generous helping of oats and a hint of cinnamon. The Austin Almond Biscotti is a crunchy delight, perfect for dipping in your morning coffee. Orchard Oasis, a delightful fruit-filled cookie, is a burst of sunshine in every bite. Golden Gate Ginger, with its zesty ginger flavor, is a treat for those who love a bit of spice. Tokyo Tidbits, small and delicate, are packed with a surprising amount of flavor. Pearly Pies, their unique take on a cookie-shaped pie, is a delightful surprise. Bakehouse is a true gem, offering a wide variety of delicious cookies that are sure to satisfy any sweet tooth.</td></tr><tr><td>Title: A Delightful Cookie Experience at Bakehouse in Susukino, Sapporo\n",
       "\n",
       "Bakehouse in Susukino, Sapporo, has won my heart with their exceptional cookies. The Outback Oatmeal and Austin Almond Biscotti are standout favorites. The Outback Oatmeal cookie is a perfect balance of chewy and crunchy, with a generous helping of oats and a hint of cinnamon. The Austin Almond Biscotti, on the other hand, is a crisp and flavorful delight, perfect for dipping in my morning coffee. I'm eager to try their other offerings, like the Orchard Oasis, Golden Gate Ginger, Tokyo Tidbits, and Pearly Pies. Bakehouse has truly made its mark in Susukino with its delicious cookies.</td><td>3000020</td><td>2024-05-20T13:24:06.591-04:00</td><td>55</td><td>Title: A Delightful Cookie Experience at Bakehouse in Susukino, Sapporo\n",
       "\n",
       "Bakehouse in Susukino, Sapporo, has won my heart with their exceptional cookies. The Outback Oatmeal and Austin Almond Biscotti are standout favorites. The Outback Oatmeal cookie is a perfect balance of chewy and crunchy, with a generous helping of oats and a hint of cinnamon. The Austin Almond Biscotti, on the other hand, is a crisp and flavorful delight, perfect for dipping in my morning coffee. I'm eager to try their other offerings, like the Orchard Oasis, Golden Gate Ginger, Tokyo Tidbits, and Pearly Pies. Bakehouse has truly made its mark in Susukino with its delicious cookies.</td></tr><tr><td>I recently visited the Bakehouse on Kokusai Street in Naha and was quite disappointed with their Outback Oatmeal and Austin Almond Biscotti. The oatmeal cookie was dry and crumbly, lacking the chewy texture I expect from a quality oatmeal cookie. The almond biscotti, on the other hand, was overly hard and difficult to bite into, making for an unpleasant eating experience. I had looked forward to trying their other offerings, such as the Orchard Oasis and Golden Gate Ginger, but after these lackluster experiences, I think I'll give them a miss. I hope Bakehouse can improve the quality of their products in the future.</td><td>3000039</td><td>2024-05-31T11:13:36.962-04:00</td><td>56</td><td>I recently visited the Bakehouse on Kokusai Street in Naha and was quite disappointed with their Outback Oatmeal and Austin Almond Biscotti. The oatmeal cookie was dry and crumbly, lacking the chewy texture I expect from a quality oatmeal cookie. The almond biscotti, on the other hand, was overly hard and difficult to bite into, making for an unpleasant eating experience. I had looked forward to trying their other offerings, such as the Orchard Oasis and Golden Gate Ginger, but after these lackluster experiences, I think I'll give them a miss. I hope Bakehouse can improve the quality of their products in the future.</td></tr><tr><td>I recently visited the Bakehouse location in Okayama's Omotemachi district and was disappointed with my experience. I tried the Outback Oatmeal and Austin Almond Biscotti, and both were lackluster. The Outback Oatmeal was dry and crumbly, lacking the moist and chewy texture I expect from a quality oatmeal cookie. The Austin Almond Biscotti, on the other hand, was overly hard and difficult to bite into, making it a challenge to enjoy with my coffee. I had high hopes for Bakehouse, but based on this visit, I cannot recommend their products.</td><td>3000041</td><td>2024-05-31T11:13:36.962-04:00</td><td>57</td><td>I recently visited the Bakehouse location in Okayama's Omotemachi district and was disappointed with my experience. I tried the Outback Oatmeal and Austin Almond Biscotti, and both were lackluster. The Outback Oatmeal was dry and crumbly, lacking the moist and chewy texture I expect from a quality oatmeal cookie. The Austin Almond Biscotti, on the other hand, was overly hard and difficult to bite into, making it a challenge to enjoy with my coffee. I had high hopes for Bakehouse, but based on this visit, I cannot recommend their products.</td></tr><tr><td>**Disappointing Experience at Bakehouse in Seattle's Pearl District**\n",
       "\n",
       "I was excited to try Bakehouse, but unfortunately, their cookies fell flat. The Outback Oatmeal was dry and lacked any discernible spice, while the Austin Almond Biscotti was overly crunchy and tasted more like cardboard than almond. The Orchard Oasis, touted as a fruity delight, was instead a sugary mess. The Golden Gate Ginger had a strange, soapy aftertaste. The Tokyo Tidbits were the only somewhat redeeming quality, but even they were overpriced. And don't even get me started on the Pearly Pies, which were more like sad, soggy disks. For a city known for its coffee and baked goods, Bakehouse is a letdown.</td><td>3000019</td><td>2024-05-31T14:42:07.727-04:00</td><td>58</td><td>**Disappointing Experience at Bakehouse in Seattle's Pearl District**\n",
       "\n",
       "I was excited to try Bakehouse, but unfortunately, their cookies fell flat. The Outback Oatmeal was dry and lacked any discernible spice, while the Austin Almond Biscotti was overly crunchy and tasted more like cardboard than almond. The Orchard Oasis, touted as a fruity delight, was instead a sugary mess. The Golden Gate Ginger had a strange, soapy aftertaste. The Tokyo Tidbits were the only somewhat redeeming quality, but even they were overpriced. And don't even get me started on the Pearly Pies, which were more like sad, soggy disks. For a city known for its coffee and baked goods, Bakehouse is a letdown.</td></tr><tr><td>**Disappointing Experience at Bakehouse in Silver Lake**\n",
       "\n",
       "I was excited to try Bakehouse, but unfortunately, my experience was a letdown. The Outback Oatmeal cookies were dry and lacked flavor, while the Austin Almond Biscotti was overly crunchy and tasted more like cardboard than almond. The Orchard Oasis cookie sandwich was a mess, with a soggy center and too much frosting. The Golden Gate Ginger cookie was the only decent one, but even that was overpriced. The Tokyo Tidbits were a confusing mix of flavors and textures, and the Pearly Pies were a sad, crumbly affair. For a bakery, Bakehouse falls short. 2/5 stars.</td><td>3000005</td><td>2024-05-31T14:42:07.727-04:00</td><td>59</td><td>**Disappointing Experience at Bakehouse in Silver Lake**\n",
       "\n",
       "I was excited to try Bakehouse, but unfortunately, my experience was a letdown. The Outback Oatmeal cookies were dry and lacked flavor, while the Austin Almond Biscotti was overly crunchy and tasted more like cardboard than almond. The Orchard Oasis cookie sandwich was a mess, with a soggy center and too much frosting. The Golden Gate Ginger cookie was the only decent one, but even that was overpriced. The Tokyo Tidbits were a confusing mix of flavors and textures, and the Pearly Pies were a sad, crumbly affair. For a bakery, Bakehouse falls short. 2/5 stars.</td></tr><tr><td>Title: A Delightful Visit to Bakehouse in Silver Lake, Los Angeles\n",
       "\n",
       "Bakehouse in Silver Lake, Los Angeles, is a true gem for pastry enthusiasts. Their Outback Oatmeal cookies are a delightful symphony of oats and raisins, offering a wholesome and satisfying treat. The Austin Almond Biscotti, on the other hand, are the perfect companion for a warm cup of coffee, with their crunchy texture and rich almond flavor.\n",
       "\n",
       "The Orchard Oasis cookies are a fruity delight, bursting with the flavors of various dried fruits. The Golden Gate Ginger cookies are a spicy and sweet delight, perfect for those who enjoy a kick in their desserts.\n",
       "\n",
       "The Tokyo Tidbits, while not my personal favorite, offer an interesting blend of flavors and textures that some may find intriguing. Lastly, the Pearly Pies, while not a cookie, are a must-try. These miniature pies are filled with a variety of delicious fillings, from fruity to chocolaty, and are the perfect way to end a meal.\n",
       "\n",
       "Overall, Bakehouse is a must-visit for anyone in the Los Angeles area. Their wide selection of high-quality pastries and cookies are sure to satisfy any sweet tooth.</td><td>3000005</td><td>2024-05-20T13:24:06.591-04:00</td><td>60</td><td>Title: A Delightful Visit to Bakehouse in Silver Lake, Los Angeles\n",
       "\n",
       "Bakehouse in Silver Lake, Los Angeles, is a true gem for pastry enthusiasts. Their Outback Oatmeal cookies are a delightful symphony of oats and raisins, offering a wholesome and satisfying treat. The Austin Almond Biscotti, on the other hand, are the perfect companion for a warm cup of coffee, with their crunchy texture and rich almond flavor.\n",
       "\n",
       "The Orchard Oasis cookies are a fruity delight, bursting with the flavors of various dried fruits. The Golden Gate Ginger cookies are a spicy and sweet delight, perfect for those who enjoy a kick in their desserts.\n",
       "\n",
       "The Tokyo Tidbits, while not my personal favorite, offer an interesting blend of flavors and textures that some may find intriguing. Lastly, the Pearly Pies, while not a cookie, are a must-try. These miniature pies are filled with a variety of delicious fillings, from fruity to chocolaty, and are the perfect way to end a meal.\n",
       "\n",
       "Overall, Bakehouse is a must-visit for anyone in the Los Angeles area. Their wide selection of high-quality pastries and cookies are sure to satisfy any sweet tooth.</td></tr><tr><td>**Disappointing Experience at Bakehouse on East 6th Street, Seattle**\n",
       "\n",
       "I was thrilled to try Bakehouse, but unfortunately, their cookies failed to impress. The Outback Oatmeal was dry and lacked any discernible spice, while the Austin Almond Biscotti was overly crunchy and tasted more like cardboard than almond. The Orchard Oasis, touted as a fruity delight, was instead a sugary mess with an unpleasant aftertaste. The Golden Gate Ginger was the only decent option, but even that was overpowered by an overwhelming sweetness. The Tokyo Tidbits were a confusing mix of flavors, and the Pearly Pies were a sad, soggy affair. For a city known for its coffee and food scene, Bakehouse falls short.</td><td>3000017</td><td>2024-05-31T14:42:07.727-04:00</td><td>61</td><td>**Disappointing Experience at Bakehouse on East 6th Street, Seattle**\n",
       "\n",
       "I was thrilled to try Bakehouse, but unfortunately, their cookies failed to impress. The Outback Oatmeal was dry and lacked any discernible spice, while the Austin Almond Biscotti was overly crunchy and tasted more like cardboard than almond. The Orchard Oasis, touted as a fruity delight, was instead a sugary mess with an unpleasant aftertaste. The Golden Gate Ginger was the only decent option, but even that was overpowered by an overwhelming sweetness. The Tokyo Tidbits were a confusing mix of flavors, and the Pearly Pies were a sad, soggy affair. For a city known for its coffee and food scene, Bakehouse falls short.</td></tr><tr><td>Bakehouse in Trastevere, Rome, left me disappointed. Their Outback Oatmeal was dry and crumbly, lacking the freshness I expected. The Austin Almond Biscotti was overly sweet, masking the almond flavor. I had looked forward to trying Orchard Oasis, but it was sold out, which was a letdown. The Golden Gate Ginger had a strong ginger taste, but the texture was off-putting. Tokyo Tidbits were just okay, nothing special. Pearly Pies were not available during my visit. I had higher hopes for Bakehouse, but my experience was underwhelming.</td><td>3000046</td><td>2024-05-31T11:13:36.962-04:00</td><td>62</td><td>Bakehouse in Trastevere, Rome, left me disappointed. Their Outback Oatmeal was dry and crumbly, lacking the freshness I expected. The Austin Almond Biscotti was overly sweet, masking the almond flavor. I had looked forward to trying Orchard Oasis, but it was sold out, which was a letdown. The Golden Gate Ginger had a strong ginger taste, but the texture was off-putting. Tokyo Tidbits were just okay, nothing special. Pearly Pies were not available during my visit. I had higher hopes for Bakehouse, but my experience was underwhelming.</td></tr><tr><td>I recently visited the Bakehouse in Sendai's Kokubuncho district and was disappointed with my experience. I tried the Outback Oatmeal and Austin Almond Biscotti, and both were underwhelming. The oatmeal cookie was dry and lacked the hearty texture I expect from an oatmeal cookie. The biscotti was overly sweet and lacked the crunch I look forward to in a good biscotti. I had high hopes for these treats, but they fell flat. I may give Bakehouse another chance in the future, but for now, I cannot recommend it.</td><td>3000023</td><td>2024-05-31T11:13:36.962-04:00</td><td>63</td><td>I recently visited the Bakehouse in Sendai's Kokubuncho district and was disappointed with my experience. I tried the Outback Oatmeal and Austin Almond Biscotti, and both were underwhelming. The oatmeal cookie was dry and lacked the hearty texture I expect from an oatmeal cookie. The biscotti was overly sweet and lacked the crunch I look forward to in a good biscotti. I had high hopes for these treats, but they fell flat. I may give Bakehouse another chance in the future, but for now, I cannot recommend it.</td></tr><tr><td>**Disappointing Experience at Bakehouse Seattle**\n",
       "\n",
       "I was thrilled to try Bakehouse's offerings, but unfortunately, my excitement was short-lived. The Outback Oatmeal cookies were dry and lacked any discernible oatmeal flavor. The Austin Almond Biscotti was overly crunchy and tasted more like cardboard than almond. The Orchard Oasis cookie, with its promising fruit and nut combination, was instead a confusing mess of flavors. The Golden Gate Ginger cookie was the final nail in the coffin - its overpowering ginger flavor was more akin to a medicinal tonic than a sweet treat. The Tokyo Tidbits and Pearly Pies didn't fare much better. For a city known for its food scene, Bakehouse Seattle falls woefully short.</td><td>3000007</td><td>2024-05-31T14:45:07.063-04:00</td><td>64</td><td>**Disappointing Experience at Bakehouse Seattle**\n",
       "\n",
       "I was thrilled to try Bakehouse's offerings, but unfortunately, my excitement was short-lived. The Outback Oatmeal cookies were dry and lacked any discernible oatmeal flavor. The Austin Almond Biscotti was overly crunchy and tasted more like cardboard than almond. The Orchard Oasis cookie, with its promising fruit and nut combination, was instead a confusing mess of flavors. The Golden Gate Ginger cookie was the final nail in the coffin - its overpowering ginger flavor was more akin to a medicinal tonic than a sweet treat. The Tokyo Tidbits and Pearly Pies didn't fare much better. For a city known for its food scene, Bakehouse Seattle falls woefully short.</td></tr><tr><td>Bakehouse in Leederville, Perth, has disappointed me with their Outback Oatmeal and Austin Almond Biscotti. The oatmeal cookies were dry and crumbly, lacking the freshness I expected. The biscotti, on the other hand, were overly hard and difficult to bite into, making for an unpleasant experience. I had hoped for better, given the positive reviews I had heard. Unfortunately, my visit to Bakehouse did not live up to my expectations.</td><td>3000009</td><td>2024-05-31T11:13:36.962-04:00</td><td>65</td><td>Bakehouse in Leederville, Perth, has disappointed me with their Outback Oatmeal and Austin Almond Biscotti. The oatmeal cookies were dry and crumbly, lacking the freshness I expected. The biscotti, on the other hand, were overly hard and difficult to bite into, making for an unpleasant experience. I had hoped for better, given the positive reviews I had heard. Unfortunately, my visit to Bakehouse did not live up to my expectations.</td></tr><tr><td>**4.5/5 stars**\n",
       "\n",
       "I stumbled upon Bakehouse in Trastevere, Rome, and oh, what a gem! Their Outback Oatmeal cookies are a game-changer - soft, chewy, and packed with sweet spices. The Austin Almond Biscotti is another winner, perfect for dipping in my morning cappuccino. However, the Orchard Oasis cookies were a bit too sweet for my taste. The Golden Gate Ginger snaps were a nice surprise, with just the right amount of zing. Tokyo Tidbits were adorable, but lacked flavor. Pearly Pies? More like Pearly Disappointment - the crust was too dense. Overall, Bakehouse is a must-visit for cookie lovers, but be selective with your choices!</td><td>3000046</td><td>2024-05-20T13:17:03.052-04:00</td><td>66</td><td>**4.5/5 stars**\n",
       "\n",
       "I stumbled upon Bakehouse in Trastevere, Rome, and oh, what a gem! Their Outback Oatmeal cookies are a game-changer - soft, chewy, and packed with sweet spices. The Austin Almond Biscotti is another winner, perfect for dipping in my morning cappuccino. However, the Orchard Oasis cookies were a bit too sweet for my taste. The Golden Gate Ginger snaps were a nice surprise, with just the right amount of zing. Tokyo Tidbits were adorable, but lacked flavor. Pearly Pies? More like Pearly Disappointment - the crust was too dense. Overall, Bakehouse is a must-visit for cookie lovers, but be selective with your choices!</td></tr><tr><td>\"I stopped by Bakehouse in Bondi Beach, Sydney and tried a few treats. The Outback Oatmeal cookies were chewy and comforting, while the Austin Almond Biscotti had a nice crunch. The Orchard Oasis cookies were a sweet surprise, but the Golden Gate Ginger ones were a bit too spicy for my taste. The Tokyo Tidbits were addictive, but the Pearly Pies were the real showstopper - flaky crust and perfect filling. Overall, Bakehouse has some hits and misses, but it's worth a visit for the unique flavors and cozy atmosphere.\"</td><td>3000000</td><td>2024-05-31T11:23:53.074-04:00</td><td>67</td><td>\"I stopped by Bakehouse in Bondi Beach, Sydney and tried a few treats. The Outback Oatmeal cookies were chewy and comforting, while the Austin Almond Biscotti had a nice crunch. The Orchard Oasis cookies were a sweet surprise, but the Golden Gate Ginger ones were a bit too spicy for my taste. The Tokyo Tidbits were addictive, but the Pearly Pies were the real showstopper - flaky crust and perfect filling. Overall, Bakehouse has some hits and misses, but it's worth a visit for the unique flavors and cozy atmosphere.\"</td></tr><tr><td>\"Sweet spot in RiNo, Denver! Bakehouse is a must-visit for cookie lovers. I'm obsessed with their Outback Oatmeal, soft and chewy with a hint of spice. The Austin Almond Biscotti is another fave, perfect for dunking. However, the Orchard Oasis was a letdown, too sweet and crumbly. Golden Gate Ginger and Tokyo Tidbits are unique and delicious, but Pearly Pies are a game-changer - flaky crust and velvety filling. 4.5/5 stars, can't wait to try more!\"</td><td>3000024</td><td>2024-05-20T13:17:03.052-04:00</td><td>68</td><td>\"Sweet spot in RiNo, Denver! Bakehouse is a must-visit for cookie lovers. I'm obsessed with their Outback Oatmeal, soft and chewy with a hint of spice. The Austin Almond Biscotti is another fave, perfect for dunking. However, the Orchard Oasis was a letdown, too sweet and crumbly. Golden Gate Ginger and Tokyo Tidbits are unique and delicious, but Pearly Pies are a game-changer - flaky crust and velvety filling. 4.5/5 stars, can't wait to try more!\"</td></tr><tr><td>**4.5/5 stars**\n",
       "\n",
       "I'm obsessed with Bakehouse in Chiba's Chuo-ku district! Their Outback Oatmeal cookies are a game-changer - soft, chewy, and packed with sweet raisins. The Austin Almond Biscotti is another favorite, perfect for dunking in coffee. However, the Orchard Oasis cookies were a letdown, too sweet and crumbly. The Golden Gate Ginger and Tokyo Tidbits are unique and delicious, but the Pearly Pies are overpriced. Overall, Bakehouse is a must-visit for cookie lovers, just be selective with your choices!</td><td>3000033</td><td>2024-05-20T13:17:03.052-04:00</td><td>69</td><td>**4.5/5 stars**\n",
       "\n",
       "I'm obsessed with Bakehouse in Chiba's Chuo-ku district! Their Outback Oatmeal cookies are a game-changer - soft, chewy, and packed with sweet raisins. The Austin Almond Biscotti is another favorite, perfect for dunking in coffee. However, the Orchard Oasis cookies were a letdown, too sweet and crumbly. The Golden Gate Ginger and Tokyo Tidbits are unique and delicious, but the Pearly Pies are overpriced. Overall, Bakehouse is a must-visit for cookie lovers, just be selective with your choices!</td></tr><tr><td>I recently visited the Bakehouse store in Shibuya, Tokyo and was disappointed with my experience. I tried the Tokyo Tidbits and Golden Gate Ginger cookies, and unfortunately, both were a letdown. The Tokyo Tidbits were overly sweet and lacked the traditional Japanese flavors I was expecting. The Golden Gate Ginger cookies were dry and crumbly, with only a faint hint of ginger flavor. I had high hopes for these unique-sounding cookies, but they failed to deliver. I hope to see improvements in the future.</td><td>3000001</td><td>2024-05-31T11:13:36.962-04:00</td><td>70</td><td>I recently visited the Bakehouse store in Shibuya, Tokyo and was disappointed with my experience. I tried the Tokyo Tidbits and Golden Gate Ginger cookies, and unfortunately, both were a letdown. The Tokyo Tidbits were overly sweet and lacked the traditional Japanese flavors I was expecting. The Golden Gate Ginger cookies were dry and crumbly, with only a faint hint of ginger flavor. I had high hopes for these unique-sounding cookies, but they failed to deliver. I hope to see improvements in the future.</td></tr><tr><td>**5/5 stars**\n",
       "\n",
       "I stumbled upon Bakehouse in Kitano, Kobe, and oh boy, am I glad I did! Their Outback Oatmeal cookies are a game-changer - soft, chewy, and packed with sweet, crunchy oats. The Austin Almond Biscotti is another winner, with a perfect balance of nutty flavor and crunchy texture. The Orchard Oasis cookies, infused with dried fruits and spices, are a delightful surprise. However, the Golden Gate Ginger cookies fell flat for me, lacking the zing I expected. Tokyo Tidbits, on the other hand, are addictive little morsels of heaven. Pearly Pies? More like Pearly Perfection! The staff is friendly, and the cozy store is a must-visit in Kitano.</td><td>3000004</td><td>2024-05-20T13:17:03.052-04:00</td><td>71</td><td>**5/5 stars**\n",
       "\n",
       "I stumbled upon Bakehouse in Kitano, Kobe, and oh boy, am I glad I did! Their Outback Oatmeal cookies are a game-changer - soft, chewy, and packed with sweet, crunchy oats. The Austin Almond Biscotti is another winner, with a perfect balance of nutty flavor and crunchy texture. The Orchard Oasis cookies, infused with dried fruits and spices, are a delightful surprise. However, the Golden Gate Ginger cookies fell flat for me, lacking the zing I expected. Tokyo Tidbits, on the other hand, are addictive little morsels of heaven. Pearly Pies? More like Pearly Perfection! The staff is friendly, and the cozy store is a must-visit in Kitano.</td></tr><tr><td>\"I stopped by Bakehouse in Wynwood, Miami and sampled a few treats. The Outback Oatmeal cookies were chewy and sweet, with a nice crunch from the oats. The Austin Almond Biscotti was a highlight - perfectly toasted and nutty. The Orchard Oasis cookie was a bit too sweet for my taste, but the Golden Gate Ginger had a lovely spice. The Tokyo Tidbits were addictive, but the Pearly Pies were a letdown, lacking a clear flavor profile. Overall, Bakehouse shows promise, but could refine their offerings. Worth a visit for the biscotti alone!\"</td><td>3000011</td><td>2024-05-31T11:23:53.074-04:00</td><td>72</td><td>\"I stopped by Bakehouse in Wynwood, Miami and sampled a few treats. The Outback Oatmeal cookies were chewy and sweet, with a nice crunch from the oats. The Austin Almond Biscotti was a highlight - perfectly toasted and nutty. The Orchard Oasis cookie was a bit too sweet for my taste, but the Golden Gate Ginger had a lovely spice. The Tokyo Tidbits were addictive, but the Pearly Pies were a letdown, lacking a clear flavor profile. Overall, Bakehouse shows promise, but could refine their offerings. Worth a visit for the biscotti alone!\"</td></tr><tr><td>5/5 stars! I'm obsessed with Bakehouse in Kaka'ako, Honolulu! Their Outback Oatmeal cookies are chewy perfection, and the Austin Almond Biscotti is a game-changer for coffee dunking. But the real showstopper is the Orchard Oasis - the combination of sweet and tangy is addictive! The only miss for me was the Golden Gate Ginger, which was a bit too spicy. Can't wait to try the Tokyo Tidbits and Pearly Pies next!</td><td>3000021</td><td>2024-05-20T13:17:03.052-04:00</td><td>73</td><td>5/5 stars! I'm obsessed with Bakehouse in Kaka'ako, Honolulu! Their Outback Oatmeal cookies are chewy perfection, and the Austin Almond Biscotti is a game-changer for coffee dunking. But the real showstopper is the Orchard Oasis - the combination of sweet and tangy is addictive! The only miss for me was the Golden Gate Ginger, which was a bit too spicy. Can't wait to try the Tokyo Tidbits and Pearly Pies next!</td></tr><tr><td>Title: A Delightful Cookie Experience at Bakehouse in West End, Brisbane\n",
       "\n",
       "Bakehouse in West End, Brisbane, has truly outdone themselves with their cookie selection. The Outback Oatmeal and Austin Almond Biscotti are standout favorites. The Outback Oatmeal cookie, with its hearty oats and hint of cinnamon, is a satisfying treat that reminds me of a warm hug. The Austin Almond Biscotti, on the other hand, is a crisp and delightful accompaniment to my morning coffee, with its perfect balance of almond flavor.\n",
       "\n",
       "The Orchard Oasis and Golden Gate Ginger cookies are also not to be missed. The Orchard Oasis is a burst of fruity freshness, while the Golden Gate Ginger packs a punch with its spicy and sweet flavor profile. I was also pleasantly surprised by the Tokyo Tidbits, which are perfect for those who prefer a lighter, less sweet cookie.\n",
       "\n",
       "Although I didn't try the Pearly Pies, I've heard great things about them and will definitely be giving them a try on my next visit. Bakehouse has truly made a name for itself in the West End cookie scene, and I can't wait to see what they come up with next!</td><td>3000006</td><td>2024-05-20T13:24:06.591-04:00</td><td>74</td><td>Title: A Delightful Cookie Experience at Bakehouse in West End, Brisbane\n",
       "\n",
       "Bakehouse in West End, Brisbane, has truly outdone themselves with their cookie selection. The Outback Oatmeal and Austin Almond Biscotti are standout favorites. The Outback Oatmeal cookie, with its hearty oats and hint of cinnamon, is a satisfying treat that reminds me of a warm hug. The Austin Almond Biscotti, on the other hand, is a crisp and delightful accompaniment to my morning coffee, with its perfect balance of almond flavor.\n",
       "\n",
       "The Orchard Oasis and Golden Gate Ginger cookies are also not to be missed. The Orchard Oasis is a burst of fruity freshness, while the Golden Gate Ginger packs a punch with its spicy and sweet flavor profile. I was also pleasantly surprised by the Tokyo Tidbits, which are perfect for those who prefer a lighter, less sweet cookie.\n",
       "\n",
       "Although I didn't try the Pearly Pies, I've heard great things about them and will definitely be giving them a try on my next visit. Bakehouse has truly made a name for itself in the West End cookie scene, and I can't wait to see what they come up with next!</td></tr><tr><td>Bakehouse in Silver Lake, Los Angeles, has disappointed me with their Outback Oatmeal and Austin Almond Biscotti. The oatmeal cookie was dry and crumbly, lacking the expected hearty oat flavor. The biscotti, on the other hand, was overly hard and lacked the almond essence I crave. I had hoped for a better experience, but these two products fell short.</td><td>3000005</td><td>2024-05-31T11:13:36.962-04:00</td><td>75</td><td>Bakehouse in Silver Lake, Los Angeles, has disappointed me with their Outback Oatmeal and Austin Almond Biscotti. The oatmeal cookie was dry and crumbly, lacking the expected hearty oat flavor. The biscotti, on the other hand, was overly hard and lacked the almond essence I crave. I had hoped for a better experience, but these two products fell short.</td></tr><tr><td>I apologize, but it seems there's been a mistake. Wicker Park is a district in Chicago, not Seattle. Nevertheless, I'll write a negative review for Bakehouse in Seattle:\n",
       "\n",
       "\"Underwhelming experience at Bakehouse in Seattle. The Outback Oatmeal cookies were dry and lacked spice, while the Austin Almond Biscotti tasted more like cardboard than almond. The Orchard Oasis cookies were overly sweet, and the Golden Gate Ginger snaps were stale. The Tokyo Tidbits were the final disappointment - too crunchy and flavorless. Even the Pearly Pies looked sad behind the counter. For a city that prides itself on foodie culture, Bakehouse falls short. 2/5 stars\"</td><td>3000008</td><td>2024-05-31T14:42:07.727-04:00</td><td>76</td><td>I apologize, but it seems there's been a mistake. Wicker Park is a district in Chicago, not Seattle. Nevertheless, I'll write a negative review for Bakehouse in Seattle:\n",
       "\n",
       "\"Underwhelming experience at Bakehouse in Seattle. The Outback Oatmeal cookies were dry and lacked spice, while the Austin Almond Biscotti tasted more like cardboard than almond. The Orchard Oasis cookies were overly sweet, and the Golden Gate Ginger snaps were stale. The Tokyo Tidbits were the final disappointment - too crunchy and flavorless. Even the Pearly Pies looked sad behind the counter. For a city that prides itself on foodie culture, Bakehouse falls short. 2/5 stars\"</td></tr><tr><td>**4.5/5 stars**\n",
       "\n",
       "I stumbled upon Bakehouse in Susukino, Sapporo, and oh boy, am I glad I did! Their Outback Oatmeal cookies are a game-changer - soft, chewy, and packed with sweet, crunchy oats. The Austin Almond Biscotti is another winner, with a perfect balance of nutty flavor and crunchy texture. However, the Orchard Oasis cookies were a bit too sweet for my taste. The Golden Gate Ginger cookies, on the other hand, were a delightful surprise, with a lovely spicy kick. Tokyo Tidbits were a fun treat, but the Pearly Pies were a bit overpriced. Overall, Bakehouse is a must-visit for cookie lovers in Sapporo!</td><td>3000020</td><td>2024-05-20T13:17:03.052-04:00</td><td>77</td><td>**4.5/5 stars**\n",
       "\n",
       "I stumbled upon Bakehouse in Susukino, Sapporo, and oh boy, am I glad I did! Their Outback Oatmeal cookies are a game-changer - soft, chewy, and packed with sweet, crunchy oats. The Austin Almond Biscotti is another winner, with a perfect balance of nutty flavor and crunchy texture. However, the Orchard Oasis cookies were a bit too sweet for my taste. The Golden Gate Ginger cookies, on the other hand, were a delightful surprise, with a lovely spicy kick. Tokyo Tidbits were a fun treat, but the Pearly Pies were a bit overpriced. Overall, Bakehouse is a must-visit for cookie lovers in Sapporo!</td></tr><tr><td>\"I stopped by Bakehouse in Shibuya, Tokyo and tried a few treats. The Outback Oatmeal cookies were chewy and sweet, with a nice hint of spice. The Austin Almond Biscotti was crunchy and nutty, perfect for dipping in coffee. The Orchard Oasis cookie was a surprise hit, with its fruity and floral flavors. The Golden Gate Ginger cookie was a bit too spicy for my taste, but the Tokyo Tidbits were addictive. Unfortunately, the Pearly Pies were sold out, but I'll be back to try them. Overall, Bakehouse offers a unique and tasty selection, but some flavors may not be for everyone.\"</td><td>3000001</td><td>2024-05-31T11:23:53.074-04:00</td><td>78</td><td>\"I stopped by Bakehouse in Shibuya, Tokyo and tried a few treats. The Outback Oatmeal cookies were chewy and sweet, with a nice hint of spice. The Austin Almond Biscotti was crunchy and nutty, perfect for dipping in coffee. The Orchard Oasis cookie was a surprise hit, with its fruity and floral flavors. The Golden Gate Ginger cookie was a bit too spicy for my taste, but the Tokyo Tidbits were addictive. Unfortunately, the Pearly Pies were sold out, but I'll be back to try them. Overall, Bakehouse offers a unique and tasty selection, but some flavors may not be for everyone.\"</td></tr><tr><td>Title: A Delightful Visit to Bakehouse in Portland's Pearl District\n",
       "\n",
       "Bakehouse in Portland's Pearl District is a true gem for pastry enthusiasts. Their Outback Oatmeal cookies are a delightful symphony of oats and raisins, offering a perfect balance of chewiness and sweetness. The Austin Almond Biscotti, on the other hand, are a crisp and nutty delight, perfect for dipping in your morning coffee.\n",
       "\n",
       "The Orchard Oasis cookies are a refreshing treat, with a burst of fruity flavors that transport you straight to a sunny orchard. The Golden Gate Ginger cookies, however, are a spicy and sweet delight, reminiscent of a warm gingerbread house.\n",
       "\n",
       "The Tokyo Tidbits, with their delicate balance of sweetness and savory, are a unique and intriguing treat. Lastly, the Pearly Pies, while not a cookie, are a must-try. These miniature pies, with their flaky crust and flavorful fillings, are a delightful surprise.\n",
       "\n",
       "In conclusion, Bakehouse is a must-visit for anyone with a sweet tooth. Their diverse range of products, made with high-quality ingredients, makes for a delightful and satisfying experience.</td><td>3000019</td><td>2024-05-20T13:24:06.591-04:00</td><td>79</td><td>Title: A Delightful Visit to Bakehouse in Portland's Pearl District\n",
       "\n",
       "Bakehouse in Portland's Pearl District is a true gem for pastry enthusiasts. Their Outback Oatmeal cookies are a delightful symphony of oats and raisins, offering a perfect balance of chewiness and sweetness. The Austin Almond Biscotti, on the other hand, are a crisp and nutty delight, perfect for dipping in your morning coffee.\n",
       "\n",
       "The Orchard Oasis cookies are a refreshing treat, with a burst of fruity flavors that transport you straight to a sunny orchard. The Golden Gate Ginger cookies, however, are a spicy and sweet delight, reminiscent of a warm gingerbread house.\n",
       "\n",
       "The Tokyo Tidbits, with their delicate balance of sweetness and savory, are a unique and intriguing treat. Lastly, the Pearly Pies, while not a cookie, are a must-try. These miniature pies, with their flaky crust and flavorful fillings, are a delightful surprise.\n",
       "\n",
       "In conclusion, Bakehouse is a must-visit for anyone with a sweet tooth. Their diverse range of products, made with high-quality ingredients, makes for a delightful and satisfying experience.</td></tr><tr><td>**5/5 stars**\n",
       "\n",
       "I'm obsessed with Bakehouse in Fishtown, Philadelphia! Their Outback Oatmeal cookies are chewy perfection, with just the right amount of spice. The Austin Almond Biscotti is a game-changer - crunchy on the outside, soft on the inside, and that almond flavor? But the real showstopper is the Orchard Oasis cookie sandwich. The combination of sweet and tangy is absolute heaven. Only downside: I wish they had more Tokyo Tidbits in stock, those sesame seeds are addictive! Pearly Pies are a nice treat too, but not as impressive as the others. Overall, Bakehouse is a must-visit for any cookie lover in Philly!</td><td>3000028</td><td>2024-05-20T13:17:03.052-04:00</td><td>80</td><td>**5/5 stars**\n",
       "\n",
       "I'm obsessed with Bakehouse in Fishtown, Philadelphia! Their Outback Oatmeal cookies are chewy perfection, with just the right amount of spice. The Austin Almond Biscotti is a game-changer - crunchy on the outside, soft on the inside, and that almond flavor? But the real showstopper is the Orchard Oasis cookie sandwich. The combination of sweet and tangy is absolute heaven. Only downside: I wish they had more Tokyo Tidbits in stock, those sesame seeds are addictive! Pearly Pies are a nice treat too, but not as impressive as the others. Overall, Bakehouse is a must-visit for any cookie lover in Philly!</td></tr><tr><td>\"I stopped by Bakehouse in Hiroshima's Nagarekawa district and sampled a few treats. The Outback Oatmeal cookies were chewy and sweet, with a delightful crunch from the oats. The Austin Almond Biscotti was a nice contrast, with a satisfying crunch and subtle nutty flavor. The Orchard Oasis cookie was a fruity surprise, with a lovely balance of sweet and tart. While the Golden Gate Ginger and Tokyo Tidbits didn't quite live up to my expectations, the Pearly Pies were a delightful surprise - flaky crust and a sweet, creamy filling. Overall, Bakehouse shows promise, but could benefit from a bit more consistency across their offerings.\"</td><td>3000013</td><td>2024-05-31T11:23:53.074-04:00</td><td>81</td><td>\"I stopped by Bakehouse in Hiroshima's Nagarekawa district and sampled a few treats. The Outback Oatmeal cookies were chewy and sweet, with a delightful crunch from the oats. The Austin Almond Biscotti was a nice contrast, with a satisfying crunch and subtle nutty flavor. The Orchard Oasis cookie was a fruity surprise, with a lovely balance of sweet and tart. While the Golden Gate Ginger and Tokyo Tidbits didn't quite live up to my expectations, the Pearly Pies were a delightful surprise - flaky crust and a sweet, creamy filling. Overall, Bakehouse shows promise, but could benefit from a bit more consistency across their offerings.\"</td></tr><tr><td>Bakehouse in Fishtown, Philadelphia, left me disappointed. Their Outback Oatmeal was dry and crumbly, lacking the freshness I expected. The Austin Almond Biscotti was overly sweet, overpowering the almond flavor. I had looked forward to trying Orchard Oasis, but it was sold out, which was a letdown. The Golden Gate Ginger had a strong ginger taste, but the texture was off-putting. Tokyo Tidbits were just okay, nothing special. Sadly, Pearly Pies were not available during my visit. I hope they improve their offerings.</td><td>3000028</td><td>2024-05-31T11:13:36.962-04:00</td><td>82</td><td>Bakehouse in Fishtown, Philadelphia, left me disappointed. Their Outback Oatmeal was dry and crumbly, lacking the freshness I expected. The Austin Almond Biscotti was overly sweet, overpowering the almond flavor. I had looked forward to trying Orchard Oasis, but it was sold out, which was a letdown. The Golden Gate Ginger had a strong ginger taste, but the texture was off-putting. Tokyo Tidbits were just okay, nothing special. Sadly, Pearly Pies were not available during my visit. I hope they improve their offerings.</td></tr><tr><td>Title: A Delightful Cookie Experience at Bakehouse in Dogo Onsen, Matsuyama\n",
       "\n",
       "Bakehouse in Dogo Onsen, Matsuyama, is a must-visit for cookie enthusiasts. Their Outback Oatmeal cookies are a perfect blend of chewy and crunchy, with a generous helping of oats and a hint of cinnamon. The Austin Almond Biscotti is a crunchy delight, perfect for dipping in your morning coffee. Orchard Oasis, with its fruity burst of flavor, is a refreshing treat. The Golden Gate Ginger cookies are a spicy surprise, with a strong ginger flavor that warms your palate. Tokyo Tidbits, tiny shortbread cookies with a delicate sweetness, are addictive. Pearly Pies, mini pie-shaped cookies with a variety of fillings, are a delightful surprise. Bakehouse's commitment to quality and flavor makes it a standout in the city.</td><td>3000043</td><td>2024-05-20T13:24:06.591-04:00</td><td>83</td><td>Title: A Delightful Cookie Experience at Bakehouse in Dogo Onsen, Matsuyama\n",
       "\n",
       "Bakehouse in Dogo Onsen, Matsuyama, is a must-visit for cookie enthusiasts. Their Outback Oatmeal cookies are a perfect blend of chewy and crunchy, with a generous helping of oats and a hint of cinnamon. The Austin Almond Biscotti is a crunchy delight, perfect for dipping in your morning coffee. Orchard Oasis, with its fruity burst of flavor, is a refreshing treat. The Golden Gate Ginger cookies are a spicy surprise, with a strong ginger flavor that warms your palate. Tokyo Tidbits, tiny shortbread cookies with a delicate sweetness, are addictive. Pearly Pies, mini pie-shaped cookies with a variety of fillings, are a delightful surprise. Bakehouse's commitment to quality and flavor makes it a standout in the city.</td></tr><tr><td>Title: A Delightful Cookie Experience at Bakehouse in Norwood, Adelaide\n",
       "\n",
       "I recently visited the Bakehouse cookie shop in Norwood, Adelaide, and I was thoroughly impressed with their selection and quality. The Outback Oatmeal cookies were a standout - they had the perfect balance of chewy and crunchy, with a generous helping of oats and a hint of cinnamon. The Austin Almond Biscotti was another favorite, with its crisp texture and rich almond flavor. I also tried the Orchard Oasis, which was a delightful surprise - a soft, fruity cookie that tasted like a bite of summer. The Golden Gate Ginger cookies were spicy and sweet, with a strong ginger flavor that I loved. The Tokyo Tidbits were a unique treat, with a light, crispy texture and a subtle green tea flavor. I didn't get a chance to try the Pearly Pies, but I'll definitely be back to sample them. Overall, I was very impressed with Bakehouse and would highly recommend it to anyone looking for a delicious cookie experience.</td><td>3000012</td><td>2024-05-20T13:24:06.591-04:00</td><td>84</td><td>Title: A Delightful Cookie Experience at Bakehouse in Norwood, Adelaide\n",
       "\n",
       "I recently visited the Bakehouse cookie shop in Norwood, Adelaide, and I was thoroughly impressed with their selection and quality. The Outback Oatmeal cookies were a standout - they had the perfect balance of chewy and crunchy, with a generous helping of oats and a hint of cinnamon. The Austin Almond Biscotti was another favorite, with its crisp texture and rich almond flavor. I also tried the Orchard Oasis, which was a delightful surprise - a soft, fruity cookie that tasted like a bite of summer. The Golden Gate Ginger cookies were spicy and sweet, with a strong ginger flavor that I loved. The Tokyo Tidbits were a unique treat, with a light, crispy texture and a subtle green tea flavor. I didn't get a chance to try the Pearly Pies, but I'll definitely be back to sample them. Overall, I was very impressed with Bakehouse and would highly recommend it to anyone looking for a delicious cookie experience.</td></tr><tr><td>I recently visited the Bakehouse store in Chiba's Chuo-ku and was disappointed with their Outback Oatmeal and Austin Almond Biscotti. The oatmeal cookie was dry and lacked the promised hearty oat flavor, while the biscotti was overly sweet and lacked the crunchy texture I expect from a quality biscotti. I had high hopes for these treats, but they fell flat. I hope to see improvements in the future.</td><td>3000033</td><td>2024-05-31T11:13:36.962-04:00</td><td>85</td><td>I recently visited the Bakehouse store in Chiba's Chuo-ku and was disappointed with their Outback Oatmeal and Austin Almond Biscotti. The oatmeal cookie was dry and lacked the promised hearty oat flavor, while the biscotti was overly sweet and lacked the crunchy texture I expect from a quality biscotti. I had high hopes for these treats, but they fell flat. I hope to see improvements in the future.</td></tr><tr><td>I apologize, but it seems there's been a mistake. Wynwood is a district in Miami, not Seattle. Nevertheless, I'll write a negative review for a fictional Bakehouse store in Seattle:\n",
       "\n",
       "**2/5 stars**\n",
       "\n",
       "Disappointing experience at Bakehouse in Seattle. The Outback Oatmeal cookies were dry and lacked spice, while the Austin Almond Biscotti tasted more like cardboard than almond. The Orchard Oasis cookies, with their promising fruit flavors, were overly sweet and crumbly. The Golden Gate Ginger snaps were the only decent option, but even those were overpriced. The Tokyo Tidbits and Pearly Pies were complete misses. For a city known for its coffee and food scene, Bakehouse falls short.</td><td>3000011</td><td>2024-05-31T14:42:07.727-04:00</td><td>86</td><td>I apologize, but it seems there's been a mistake. Wynwood is a district in Miami, not Seattle. Nevertheless, I'll write a negative review for a fictional Bakehouse store in Seattle:\n",
       "\n",
       "**2/5 stars**\n",
       "\n",
       "Disappointing experience at Bakehouse in Seattle. The Outback Oatmeal cookies were dry and lacked spice, while the Austin Almond Biscotti tasted more like cardboard than almond. The Orchard Oasis cookies, with their promising fruit flavors, were overly sweet and crumbly. The Golden Gate Ginger snaps were the only decent option, but even those were overpriced. The Tokyo Tidbits and Pearly Pies were complete misses. For a city known for its coffee and food scene, Bakehouse falls short.</td></tr><tr><td>Title: A Delightful Cookie Experience at Bakehouse, Bondi Beach\n",
       "\n",
       "Bakehouse in Bondi Beach, Sydney, offers an exceptional cookie experience. Their Outback Oatmeal cookies are a perfect blend of chewy and crunchy, with a generous helping of oats and a hint of cinnamon. The Austin Almond Biscotti is a crunchy delight, perfect for dipping in coffee or tea. Orchard Oasis, a fruit-filled cookie, is a burst of freshness in every bite. The Golden Gate Ginger cookies are a spicy-sweet treat that leaves you wanting more. Tokyo Tidbits, small and delicate, are packed with flavor and a delightful surprise. Pearly Pies, while not a cookie, are a must-try - mini pie treats that melt in your mouth. Bakehouse is a must-visit for cookie lovers in Sydney!\n",
       "\n",
       "Character count: 498</td><td>3000000</td><td>2024-05-20T13:24:06.591-04:00</td><td>87</td><td>Title: A Delightful Cookie Experience at Bakehouse, Bondi Beach\n",
       "\n",
       "Bakehouse in Bondi Beach, Sydney, offers an exceptional cookie experience. Their Outback Oatmeal cookies are a perfect blend of chewy and crunchy, with a generous helping of oats and a hint of cinnamon. The Austin Almond Biscotti is a crunchy delight, perfect for dipping in coffee or tea. Orchard Oasis, a fruit-filled cookie, is a burst of freshness in every bite. The Golden Gate Ginger cookies are a spicy-sweet treat that leaves you wanting more. Tokyo Tidbits, small and delicate, are packed with flavor and a delightful surprise. Pearly Pies, while not a cookie, are a must-try - mini pie treats that melt in your mouth. Bakehouse is a must-visit for cookie lovers in Sydney!\n",
       "\n",
       "Character count: 498</td></tr><tr><td>**5/5 stars**\n",
       "\n",
       "I'm obsessed with Bakehouse in Shukugawa, Suita! Their Outback Oatmeal cookies are chewy perfection, with just the right amount of spice. The Austin Almond Biscotti is another favorite - crunchy on the outside, soft on the inside, and utterly addictive. The Orchard Oasis cookies are a refreshing twist on traditional flavors, with a lovely hint of citrus. My only complaint? I wish they had more Tokyo Tidbits in stock - those bite-sized morsels are irresistible! The Pearly Pies are a nice touch, but not my go-to. Overall, Bakehouse is a must-visit for any cookie lover in Suita.</td><td>3000029</td><td>2024-05-20T13:17:03.052-04:00</td><td>88</td><td>**5/5 stars**\n",
       "\n",
       "I'm obsessed with Bakehouse in Shukugawa, Suita! Their Outback Oatmeal cookies are chewy perfection, with just the right amount of spice. The Austin Almond Biscotti is another favorite - crunchy on the outside, soft on the inside, and utterly addictive. The Orchard Oasis cookies are a refreshing twist on traditional flavors, with a lovely hint of citrus. My only complaint? I wish they had more Tokyo Tidbits in stock - those bite-sized morsels are irresistible! The Pearly Pies are a nice touch, but not my go-to. Overall, Bakehouse is a must-visit for any cookie lover in Suita.</td></tr><tr><td>\"I stopped by Bakehouse in Silver Lake, Los Angeles and tried a few treats. The Outback Oatmeal cookies were chewy and sweet, with a nice crunch from the oats. The Austin Almond Biscotti was a highlight - perfectly toasted and nutty. The Orchard Oasis cookie was a bit too sweet for me, but the Golden Gate Ginger had a lovely spice. The Tokyo Tidbits were addictive, but the Pearly Pies were a bit too crumbly. Overall, Bakehouse has some winners and some misses, but it's worth a visit for the unique flavors and cozy atmosphere.\"</td><td>3000005</td><td>2024-05-31T11:23:53.074-04:00</td><td>89</td><td>\"I stopped by Bakehouse in Silver Lake, Los Angeles and tried a few treats. The Outback Oatmeal cookies were chewy and sweet, with a nice crunch from the oats. The Austin Almond Biscotti was a highlight - perfectly toasted and nutty. The Orchard Oasis cookie was a bit too sweet for me, but the Golden Gate Ginger had a lovely spice. The Tokyo Tidbits were addictive, but the Pearly Pies were a bit too crumbly. Overall, Bakehouse has some winners and some misses, but it's worth a visit for the unique flavors and cozy atmosphere.\"</td></tr><tr><td>I recently visited the Bakehouse store in Daimyo, Fukuoka and was disappointed with the Outback Oatmeal and Austin Almond Biscotti. The oatmeal cookie was dry and lacked the expected oat flavor, while the biscotti was overly sweet and had a strange aftertaste. I had high hopes for these treats, but they fell short of my expectations. I hope to see improvements in the future. #Bakehouse #CookieReview</td><td>3000018</td><td>2024-05-31T11:13:36.962-04:00</td><td>90</td><td>I recently visited the Bakehouse store in Daimyo, Fukuoka and was disappointed with the Outback Oatmeal and Austin Almond Biscotti. The oatmeal cookie was dry and lacked the expected oat flavor, while the biscotti was overly sweet and had a strange aftertaste. I had high hopes for these treats, but they fell short of my expectations. I hope to see improvements in the future. #Bakehouse #CookieReview</td></tr><tr><td>Unfortunately, I was quite disappointed with my recent purchase of Outback Oatmeal cookies from Bakehouse in Le Marais, Paris. The cookies were dry and lacked the oatmeal flavor I was expecting. Additionally, the Austin Almond Biscotti was overly sweet and crumbled easily, making it difficult to enjoy with my coffee. I had high hopes for Orchard Oasis, but it failed to deliver on its promise of a fruity burst of flavor. I hope Bakehouse can improve the quality of its products in the future.</td><td>3000042</td><td>2024-05-31T11:13:36.962-04:00</td><td>91</td><td>Unfortunately, I was quite disappointed with my recent purchase of Outback Oatmeal cookies from Bakehouse in Le Marais, Paris. The cookies were dry and lacked the oatmeal flavor I was expecting. Additionally, the Austin Almond Biscotti was overly sweet and crumbled easily, making it difficult to enjoy with my coffee. I had high hopes for Orchard Oasis, but it failed to deliver on its promise of a fruity burst of flavor. I hope Bakehouse can improve the quality of its products in the future.</td></tr><tr><td>Title: A Delightful Cookie Experience in Fitzroy, Melbourne\n",
       "\n",
       "Bakehouse in Fitzroy, Melbourne, has truly outdone themselves with their outstanding cookie selection. The Outback Oatmeal and Austin Almond Biscotti are undeniable favorites. The Outback Oatmeal cookie, with its perfect balance of oats and sweetness, provides a satisfying crunch that leaves you craving more. Simultaneously, the Austin Almond Biscotti, with its delicate almond flavor and crisp texture, pairs exceptionally well with a warm cup of coffee.\n",
       "\n",
       "The Orchard Oasis and Golden Gate Ginger cookies are equally impressive. Orchard Oasis offers a delightful burst of fruity flavors, while Golden Gate Ginger packs a punch with its spicy and sweet combination. Both cookies showcase Bakehouse's commitment to using high-quality ingredients and their ability to create unique and delicious flavor profiles.\n",
       "\n",
       "Tokyo Tidbits and Pearly Pies, while not my personal favorites, still demonstrate the bakery's creativity and attention to detail. Tokyo Tidbits, with their petite size and subtle flavors, are perfect for those who prefer a lighter treat. Pearly Pies, on the other hand, are a delightful surprise, combining the comfort of a pie with the portability of a cookie.\n",
       "\n",
       "In summary, Bakehouse in Fitzroy, Melbourne, is a must-visit for any cookie enthusiast. Their diverse selection, high-quality ingredients, and creative flavor combinations make for an unforgettable cookie experience.</td><td>3000003</td><td>2024-05-20T13:24:06.591-04:00</td><td>92</td><td>Title: A Delightful Cookie Experience in Fitzroy, Melbourne\n",
       "\n",
       "Bakehouse in Fitzroy, Melbourne, has truly outdone themselves with their outstanding cookie selection. The Outback Oatmeal and Austin Almond Biscotti are undeniable favorites. The Outback Oatmeal cookie, with its perfect balance of oats and sweetness, provides a satisfying crunch that leaves you craving more. Simultaneously, the Austin Almond Biscotti, with its delicate almond flavor and crisp texture, pairs exceptionally well with a warm cup of coffee.\n",
       "\n",
       "The Orchard Oasis and Golden Gate Ginger cookies are equally impressive. Orchard Oasis offers a delightful burst of fruity flavors, while Golden Gate Ginger packs a punch with its spicy and sweet combination. Both cookies showcase Bakehouse's commitment to using high-quality ingredients and their ability to create unique and delicious flavor profiles.\n",
       "\n",
       "Tokyo Tidbits and Pearly Pies, while not my personal favorites, still demonstrate the bakery's creativity and attention to detail. Tokyo Tidbits, with their petite size and subtle flavors, are perfect for those who prefer a lighter treat. Pearly Pies, on the other hand, are a delightful surprise, combining the comfort of a pie with the portability of a cookie.\n",
       "\n",
       "In summary, Bakehouse in Fitzroy, Melbourne, is a must-visit for any cookie enthusiast. Their diverse selection, high-quality ingredients, and creative flavor combinations make for an unforgettable cookie experience.</td></tr><tr><td>Bakehouse in Bondi Beach, Sydney, has disappointed me with their Outback Oatmeal and Austin Almond Biscotti. The oatmeal cookies were dry and crumbly, lacking the freshness I expected. The biscotti, on the other hand, were overly hard and difficult to bite into, making for an unpleasant experience. I had looked forward to trying their Orchard Oasis and Golden Gate Ginger, but after this experience, I'm hesitant to give them another chance. I hope they improve their quality soon.</td><td>3000000</td><td>2024-05-31T11:13:36.962-04:00</td><td>93</td><td>Bakehouse in Bondi Beach, Sydney, has disappointed me with their Outback Oatmeal and Austin Almond Biscotti. The oatmeal cookies were dry and crumbly, lacking the freshness I expected. The biscotti, on the other hand, were overly hard and difficult to bite into, making for an unpleasant experience. I had looked forward to trying their Orchard Oasis and Golden Gate Ginger, but after this experience, I'm hesitant to give them another chance. I hope they improve their quality soon.</td></tr><tr><td>I recently visited the Bakehouse location in Portland's Pearl District and was disappointed by my experience. I tried the Outback Oatmeal and Austin Almond Biscotti, and unfortunately, both fell flat. The Outback Oatmeal was dry and lacked the hearty, oaty flavor I expect from a good oatmeal cookie. The Austin Almond Biscotti, on the other hand, was overly sweet and lacked the crunchy texture I enjoy in a biscotti. I had high hopes for these treats, but they failed to deliver. I hope to see improvements in the future.</td><td>3000019</td><td>2024-05-31T11:13:36.962-04:00</td><td>94</td><td>I recently visited the Bakehouse location in Portland's Pearl District and was disappointed by my experience. I tried the Outback Oatmeal and Austin Almond Biscotti, and unfortunately, both fell flat. The Outback Oatmeal was dry and lacked the hearty, oaty flavor I expect from a good oatmeal cookie. The Austin Almond Biscotti, on the other hand, was overly sweet and lacked the crunchy texture I enjoy in a biscotti. I had high hopes for these treats, but they failed to deliver. I hope to see improvements in the future.</td></tr><tr><td>**Disappointing Experience at Bakehouse Seattle**\n",
       "\n",
       "I was thrilled to try Bakehouse's offerings, but unfortunately, my excitement was short-lived. The Outback Oatmeal cookies were dry and lacked any discernible spice, while the Austin Almond Biscotti was overly crunchy and tasted more like cardboard than almond. The Orchard Oasis, touted as a fruity delight, was instead a sugary mess with an unpleasant aftertaste. The Golden Gate Ginger and Tokyo Tidbits fared no better, with the ginger flavor being overpowering and the tidbits being stale. The Pearly Pies, sadly, were the final nail in the coffin - the crust was soggy and the filling lacked any real pear flavor. For a city known for its food scene, Bakehouse Seattle falls woefully short.</td><td>3000001</td><td>2024-05-31T14:45:07.063-04:00</td><td>95</td><td>**Disappointing Experience at Bakehouse Seattle**\n",
       "\n",
       "I was thrilled to try Bakehouse's offerings, but unfortunately, my excitement was short-lived. The Outback Oatmeal cookies were dry and lacked any discernible spice, while the Austin Almond Biscotti was overly crunchy and tasted more like cardboard than almond. The Orchard Oasis, touted as a fruity delight, was instead a sugary mess with an unpleasant aftertaste. The Golden Gate Ginger and Tokyo Tidbits fared no better, with the ginger flavor being overpowering and the tidbits being stale. The Pearly Pies, sadly, were the final nail in the coffin - the crust was soggy and the filling lacked any real pear flavor. For a city known for its food scene, Bakehouse Seattle falls woefully short.</td></tr><tr><td>**Disappointing Experience at Bakehouse in Kitano, Seattle**\n",
       "\n",
       "I was thrilled to try Bakehouse, but unfortunately, my excitement was short-lived. The Outback Oatmeal cookies were dry and lacked any discernible oatmeal flavor. The Austin Almond Biscotti was overly crunchy and tasted more like cardboard than almond. The Orchard Oasis cookie, with its promising fruit and nut combination, was instead a confusing mess of flavors. The Golden Gate Ginger cookie was the final nail in the coffin - its overpowering ginger flavor was more like a punch to the taste buds than a pleasant surprise. The Tokyo Tidbits and Pearly Pies, which I was looking forward to trying, were sadly not available. Overall, Bakehouse's lack of quality control and uninspired flavors left me underwhelmed.</td><td>3000004</td><td>2024-05-31T14:42:07.727-04:00</td><td>96</td><td>**Disappointing Experience at Bakehouse in Kitano, Seattle**\n",
       "\n",
       "I was thrilled to try Bakehouse, but unfortunately, my excitement was short-lived. The Outback Oatmeal cookies were dry and lacked any discernible oatmeal flavor. The Austin Almond Biscotti was overly crunchy and tasted more like cardboard than almond. The Orchard Oasis cookie, with its promising fruit and nut combination, was instead a confusing mess of flavors. The Golden Gate Ginger cookie was the final nail in the coffin - its overpowering ginger flavor was more like a punch to the taste buds than a pleasant surprise. The Tokyo Tidbits and Pearly Pies, which I was looking forward to trying, were sadly not available. Overall, Bakehouse's lack of quality control and uninspired flavors left me underwhelmed.</td></tr><tr><td>\"I stopped by Bakehouse in Leederville, Perth and sampled a few treats. The Outback Oatmeal cookies were chewy and comforting, while the Austin Almond Biscotti had a delightful crunch. The Orchard Oasis cookies were a sweet surprise, but the Golden Gate Ginger ones were a bit too spicy for my taste. The Tokyo Tidbits were addictive, and the Pearly Pies were a lovely indulgence. Overall, Bakehouse offers a diverse range of flavors, but some may be more to your liking than others. Worth a visit to explore their offerings!\"</td><td>3000009</td><td>2024-05-31T11:23:53.074-04:00</td><td>97</td><td>\"I stopped by Bakehouse in Leederville, Perth and sampled a few treats. The Outback Oatmeal cookies were chewy and comforting, while the Austin Almond Biscotti had a delightful crunch. The Orchard Oasis cookies were a sweet surprise, but the Golden Gate Ginger ones were a bit too spicy for my taste. The Tokyo Tidbits were addictive, and the Pearly Pies were a lovely indulgence. Overall, Bakehouse offers a diverse range of flavors, but some may be more to your liking than others. Worth a visit to explore their offerings!\"</td></tr><tr><td>**4.5/5 stars**\n",
       "\n",
       "I stumbled upon Bakehouse in Hiratsuka's charming Sakuradori district and was thrilled to discover their delightful cookie creations! The Outback Oatmeal cookies were a highlight - soft, chewy, and perfectly spiced. The Austin Almond Biscotti was another winner, with a satisfying crunch and subtle nutty flavor. However, the Orchard Oasis cookies were a tad too sweet for my taste. The Golden Gate Ginger and Tokyo Tidbits were pleasant, but didn't blow me away. The Pearly Pies, unfortunately, were a bit too crumbly. Overall, Bakehouse shows great promise, and I'll definitely return to try more flavors!</td><td>3000025</td><td>2024-05-20T13:17:03.052-04:00</td><td>98</td><td>**4.5/5 stars**\n",
       "\n",
       "I stumbled upon Bakehouse in Hiratsuka's charming Sakuradori district and was thrilled to discover their delightful cookie creations! The Outback Oatmeal cookies were a highlight - soft, chewy, and perfectly spiced. The Austin Almond Biscotti was another winner, with a satisfying crunch and subtle nutty flavor. However, the Orchard Oasis cookies were a tad too sweet for my taste. The Golden Gate Ginger and Tokyo Tidbits were pleasant, but didn't blow me away. The Pearly Pies, unfortunately, were a bit too crumbly. Overall, Bakehouse shows great promise, and I'll definitely return to try more flavors!</td></tr><tr><td>\"5/5 stars for Bakehouse in Leederville, Perth! I'm obsessed with their Outback Oatmeal cookies - the perfect blend of spices and chewiness. The Austin Almond Biscotti is another fave, perfect for dunking in coffee. However, the Orchard Oasis cookies were a letdown, too sweet and crumbly. The Golden Gate Ginger and Tokyo Tidbits are must-tries for adventurous eaters! Pearly Pies are a game-changer for dessert lovers. Can't wait to go back and try more!\"</td><td>3000009</td><td>2024-05-20T13:17:03.052-04:00</td><td>99</td><td>\"5/5 stars for Bakehouse in Leederville, Perth! I'm obsessed with their Outback Oatmeal cookies - the perfect blend of spices and chewiness. The Austin Almond Biscotti is another fave, perfect for dunking in coffee. However, the Orchard Oasis cookies were a letdown, too sweet and crumbly. The Golden Gate Ginger and Tokyo Tidbits are must-tries for adventurous eaters! Pearly Pies are a game-changer for dessert lovers. Can't wait to go back and try more!\"</td></tr><tr><td>\"I stopped by Bakehouse in Capitol Hill, Seattle, and sampled a few treats. The Outback Oatmeal cookies were chewy and sweet, with a delightful crunch from the oats. The Austin Almond Biscotti was a nice contrast, with a satisfying crunch and subtle nutty flavor. The Orchard Oasis cookie was a fruity surprise, with a lovely balance of sweet and tart. While not every flavor wowed me (Golden Gate Ginger was a bit too spicy, and Tokyo Tidbits were too sweet), the Pearly Pies were a highlight - flaky crust and a perfect filling. Overall, Bakehouse is a solid choice for a sweet fix in Capitol Hill.\"</td><td>3000014</td><td>2024-05-31T11:23:53.074-04:00</td><td>100</td><td>\"I stopped by Bakehouse in Capitol Hill, Seattle, and sampled a few treats. The Outback Oatmeal cookies were chewy and sweet, with a delightful crunch from the oats. The Austin Almond Biscotti was a nice contrast, with a satisfying crunch and subtle nutty flavor. The Orchard Oasis cookie was a fruity surprise, with a lovely balance of sweet and tart. While not every flavor wowed me (Golden Gate Ginger was a bit too spicy, and Tokyo Tidbits were too sweet), the Pearly Pies were a highlight - flaky crust and a perfect filling. Overall, Bakehouse is a solid choice for a sweet fix in Capitol Hill.\"</td></tr><tr><td>I recently visited the Bakehouse store in Nagarekawa, Hiroshima, and I must say, I was quite disappointed with their Outback Oatmeal and Austin Almond Biscotti. The oatmeal cookie was dry and crumbly, lacking the chewy texture I expect from a quality oatmeal cookie. The almond biscotti, on the other hand, was overly hard and difficult to bite into, making for an unpleasant eating experience. I had looked forward to trying their Orchard Oasis and Golden Gate Ginger cookies, but after these disappointments, I decided to give them a miss. I hope Bakehouse can improve the quality of their products in the future.</td><td>3000013</td><td>2024-05-31T11:13:36.962-04:00</td><td>101</td><td>I recently visited the Bakehouse store in Nagarekawa, Hiroshima, and I must say, I was quite disappointed with their Outback Oatmeal and Austin Almond Biscotti. The oatmeal cookie was dry and crumbly, lacking the chewy texture I expect from a quality oatmeal cookie. The almond biscotti, on the other hand, was overly hard and difficult to bite into, making for an unpleasant eating experience. I had looked forward to trying their Orchard Oasis and Golden Gate Ginger cookies, but after these disappointments, I decided to give them a miss. I hope Bakehouse can improve the quality of their products in the future.</td></tr><tr><td>**Disappointing Experience at Bakehouse on Capitol Hill**\n",
       "\n",
       "I was thrilled to try Bakehouse on Capitol Hill, but unfortunately, their cookies fell flat. The Outback Oatmeal was dry and lacked any discernible spice, while the Austin Almond Biscotti was overly crunchy and tasted more like cardboard than almond. The Orchard Oasis, touted as a fruity delight, was instead a sugary mess. The Golden Gate Ginger had a strange, soapy aftertaste. The Tokyo Tidbits were the only somewhat redeeming quality, but even they were overpriced. And don't even get me started on the Pearly Pies - a sad, soggy excuse for a pastry. For a city known for its food scene, Bakehouse is a letdown.</td><td>3000014</td><td>2024-05-31T14:42:07.727-04:00</td><td>102</td><td>**Disappointing Experience at Bakehouse on Capitol Hill**\n",
       "\n",
       "I was thrilled to try Bakehouse on Capitol Hill, but unfortunately, their cookies fell flat. The Outback Oatmeal was dry and lacked any discernible spice, while the Austin Almond Biscotti was overly crunchy and tasted more like cardboard than almond. The Orchard Oasis, touted as a fruity delight, was instead a sugary mess. The Golden Gate Ginger had a strange, soapy aftertaste. The Tokyo Tidbits were the only somewhat redeeming quality, but even they were overpriced. And don't even get me started on the Pearly Pies - a sad, soggy excuse for a pastry. For a city known for its food scene, Bakehouse is a letdown.</td></tr><tr><td>**4.5/5 stars**\n",
       "\n",
       "I stumbled upon Bakehouse in Amerikamura, Osaka, and oh boy, what a gem! Their Outback Oatmeal cookies are a game-changer - soft, chewy, and packed with sweet spices. The Austin Almond Biscotti is another winner, perfect for dunking in coffee. However, the Orchard Oasis cookies were a bit too sweet for my taste. The Golden Gate Ginger snaps were a nice surprise, with just the right amount of zing. Tokyo Tidbits were adorable, but a tad overpriced. Pearly Pies? More like Pearly Disappointment - the crust was too crumbly. Overall, Bakehouse is a must-visit for cookie lovers, but be prepared for some hits and misses.</td><td>3000010</td><td>2024-05-20T13:17:03.052-04:00</td><td>103</td><td>**4.5/5 stars**\n",
       "\n",
       "I stumbled upon Bakehouse in Amerikamura, Osaka, and oh boy, what a gem! Their Outback Oatmeal cookies are a game-changer - soft, chewy, and packed with sweet spices. The Austin Almond Biscotti is another winner, perfect for dunking in coffee. However, the Orchard Oasis cookies were a bit too sweet for my taste. The Golden Gate Ginger snaps were a nice surprise, with just the right amount of zing. Tokyo Tidbits were adorable, but a tad overpriced. Pearly Pies? More like Pearly Disappointment - the crust was too crumbly. Overall, Bakehouse is a must-visit for cookie lovers, but be prepared for some hits and misses.</td></tr><tr><td>**4.5/5 stars**\n",
       "\n",
       "I stumbled upon Bakehouse in the charming Dogo Onsen district of Matsuyama and was thrilled to discover their delightful cookie creations! The Outback Oatmeal cookies were a highlight - soft, chewy, and perfectly spiced. The Austin Almond Biscotti was another winner, with a satisfying crunch and subtle nutty flavor. However, the Orchard Oasis cookies were a tad too sweet for my taste. The Golden Gate Ginger and Tokyo Tidbits were nice, but didn't blow me away. The Pearly Pies, unfortunately, were a bit of a letdown - the filling was overly sweet and the crust was too crumbly. Overall, Bakehouse shows great promise, but could refine their recipes to reach perfection. Still, I'd recommend a visit for their oatmeal and biscotti treats!</td><td>3000043</td><td>2024-05-20T13:17:03.052-04:00</td><td>104</td><td>**4.5/5 stars**\n",
       "\n",
       "I stumbled upon Bakehouse in the charming Dogo Onsen district of Matsuyama and was thrilled to discover their delightful cookie creations! The Outback Oatmeal cookies were a highlight - soft, chewy, and perfectly spiced. The Austin Almond Biscotti was another winner, with a satisfying crunch and subtle nutty flavor. However, the Orchard Oasis cookies were a tad too sweet for my taste. The Golden Gate Ginger and Tokyo Tidbits were nice, but didn't blow me away. The Pearly Pies, unfortunately, were a bit of a letdown - the filling was overly sweet and the crust was too crumbly. Overall, Bakehouse shows great promise, but could refine their recipes to reach perfection. Still, I'd recommend a visit for their oatmeal and biscotti treats!</td></tr><tr><td>**Disappointing Experience at Bakehouse Seattle**\n",
       "\n",
       "I was thrilled to try Bakehouse's treats, but unfortunately, my excitement was short-lived. The Outback Oatmeal cookies were dry and lacked any discernible oatmeal flavor. The Austin Almond Biscotti was overly crunchy and tasted more like cardboard than almond. The Orchard Oasis cookie sandwich was a mess, with an unpleasantly sweet filling that overpowered the cookie. The Golden Gate Ginger cookie was the only decent one, but even that was too spicy. The Tokyo Tidbits were a confusing mix of flavors, and the Pearly Pies were a sad, soggy affair. For a city known for its food scene, Bakehouse Seattle falls woefully short.</td><td>3000006</td><td>2024-05-31T14:45:07.063-04:00</td><td>105</td><td>**Disappointing Experience at Bakehouse Seattle**\n",
       "\n",
       "I was thrilled to try Bakehouse's treats, but unfortunately, my excitement was short-lived. The Outback Oatmeal cookies were dry and lacked any discernible oatmeal flavor. The Austin Almond Biscotti was overly crunchy and tasted more like cardboard than almond. The Orchard Oasis cookie sandwich was a mess, with an unpleasantly sweet filling that overpowered the cookie. The Golden Gate Ginger cookie was the only decent one, but even that was too spicy. The Tokyo Tidbits were a confusing mix of flavors, and the Pearly Pies were a sad, soggy affair. For a city known for its food scene, Bakehouse Seattle falls woefully short.</td></tr><tr><td>I apologize, but it seems there's been a mistake. Amerikamura is a district in Osaka, Japan, not Seattle. Nevertheless, I'll write a negative review for a fictional Bakehouse store in Seattle:\n",
       "\n",
       "**2/5 stars**\n",
       "\n",
       "Disappointing experience at Bakehouse in Seattle. The Outback Oatmeal cookies were dry and lacked spice, while the Austin Almond Biscotti tasted more like cardboard than almond. The Orchard Oasis cookies, with their promising fruit flavors, were overly sweet and crumbly. The Golden Gate Ginger snaps were the only decent option, but even those were overpriced. The Tokyo Tidbits, a unique flavor combo, fell flat. And don't even get me started on the Pearly Pies – the crust was soggy and the filling uninspired. For a city known for its food scene, Bakehouse Seattle falls short.</td><td>3000010</td><td>2024-05-31T14:42:07.727-04:00</td><td>106</td><td>I apologize, but it seems there's been a mistake. Amerikamura is a district in Osaka, Japan, not Seattle. Nevertheless, I'll write a negative review for a fictional Bakehouse store in Seattle:\n",
       "\n",
       "**2/5 stars**\n",
       "\n",
       "Disappointing experience at Bakehouse in Seattle. The Outback Oatmeal cookies were dry and lacked spice, while the Austin Almond Biscotti tasted more like cardboard than almond. The Orchard Oasis cookies, with their promising fruit flavors, were overly sweet and crumbly. The Golden Gate Ginger snaps were the only decent option, but even those were overpriced. The Tokyo Tidbits, a unique flavor combo, fell flat. And don't even get me started on the Pearly Pies – the crust was soggy and the filling uninspired. For a city known for its food scene, Bakehouse Seattle falls short.</td></tr><tr><td>I recently visited the Bakehouse location in Boston's Back Bay and was thoroughly disappointed with their Outback Oatmeal and Austin Almond Biscotti. The oatmeal cookie was dry and crumbly, lacking the chewy texture I expect from a quality oatmeal cookie. The biscotti, on the other hand, was overly hard and difficult to eat, even when dipped in coffee. I've had better experiences with their Orchard Oasis and Golden Gate Ginger cookies, but the disappointing quality of the Outback Oatmeal and Austin Almond Biscotti has left a sour taste in my mouth. I hope to see improvements in the future.</td><td>3000030</td><td>2024-05-31T11:13:36.962-04:00</td><td>107</td><td>I recently visited the Bakehouse location in Boston's Back Bay and was thoroughly disappointed with their Outback Oatmeal and Austin Almond Biscotti. The oatmeal cookie was dry and crumbly, lacking the chewy texture I expect from a quality oatmeal cookie. The biscotti, on the other hand, was overly hard and difficult to eat, even when dipped in coffee. I've had better experiences with their Orchard Oasis and Golden Gate Ginger cookies, but the disappointing quality of the Outback Oatmeal and Austin Almond Biscotti has left a sour taste in my mouth. I hope to see improvements in the future.</td></tr><tr><td>**5/5 stars**\n",
       "\n",
       "I'm obsessed with Bakehouse in Tenmonkan, Kagoshima! Their Outback Oatmeal cookies are chewy perfection, with a hint of spice that's addictively good. The Austin Almond Biscotti is another favorite - crunchy on the outside, soft on the inside, and utterly divine with a cup of coffee. The Orchard Oasis cookies are a refreshing twist on traditional flavors, with a lovely citrus zing. Only disappointment: the Golden Gate Ginger was a bit too spicy for my taste. Still, I'll be back for more of their amazing treats!</td><td>3000037</td><td>2024-05-20T13:17:03.052-04:00</td><td>108</td><td>**5/5 stars**\n",
       "\n",
       "I'm obsessed with Bakehouse in Tenmonkan, Kagoshima! Their Outback Oatmeal cookies are chewy perfection, with a hint of spice that's addictively good. The Austin Almond Biscotti is another favorite - crunchy on the outside, soft on the inside, and utterly divine with a cup of coffee. The Orchard Oasis cookies are a refreshing twist on traditional flavors, with a lovely citrus zing. Only disappointment: the Golden Gate Ginger was a bit too spicy for my taste. Still, I'll be back for more of their amazing treats!</td></tr><tr><td>\"I stopped by Bakehouse on the Gold Coast in Miami's Miami district and tried a few treats. The Outback Oatmeal cookies were soft and chewy, with a lovely hint of spice. The Austin Almond Biscotti was crunchy and nutty, perfect for dipping in coffee. The Orchard Oasis cookie was a sweet surprise, with dried cranberries adding a fruity twist. While the Golden Gate Ginger and Tokyo Tidbits didn't quite live up to my expectations, the Pearly Pies were a delightful indulgence. Overall, Bakehouse offers a solid selection of sweet treats, but some standouts shine brighter than others.\"</td><td>3000015</td><td>2024-05-31T11:23:53.074-04:00</td><td>109</td><td>\"I stopped by Bakehouse on the Gold Coast in Miami's Miami district and tried a few treats. The Outback Oatmeal cookies were soft and chewy, with a lovely hint of spice. The Austin Almond Biscotti was crunchy and nutty, perfect for dipping in coffee. The Orchard Oasis cookie was a sweet surprise, with dried cranberries adding a fruity twist. While the Golden Gate Ginger and Tokyo Tidbits didn't quite live up to my expectations, the Pearly Pies were a delightful indulgence. Overall, Bakehouse offers a solid selection of sweet treats, but some standouts shine brighter than others.\"</td></tr><tr><td>I apologize, but it seems there's been a mistake. Sakae is a district in Nagoya, Japan, not Seattle. Nevertheless, I'll write a negative review for a fictional Bakehouse store in Seattle:\n",
       "\n",
       "**1/5 stars**\n",
       "\n",
       "Disappointing experience at Bakehouse in Seattle. The Outback Oatmeal cookies were dry and lacked any discernible spice. The Austin Almond Biscotti was overly crunchy, with an unpleasant aftertaste. The Orchard Oasis, touted as a seasonal favorite, tasted more like stale fruitcake. The Golden Gate Ginger was the only decent option, but even that was overpriced. The Tokyo Tidbits, a unique flavor I was excited to try, were a confusing mess of clashing flavors. And don't even get me started on the Pearly Pies, which were more like sugary disks than flaky, buttery goodness. Won't be back.</td><td>3000016</td><td>2024-05-31T14:42:07.727-04:00</td><td>110</td><td>I apologize, but it seems there's been a mistake. Sakae is a district in Nagoya, Japan, not Seattle. Nevertheless, I'll write a negative review for a fictional Bakehouse store in Seattle:\n",
       "\n",
       "**1/5 stars**\n",
       "\n",
       "Disappointing experience at Bakehouse in Seattle. The Outback Oatmeal cookies were dry and lacked any discernible spice. The Austin Almond Biscotti was overly crunchy, with an unpleasant aftertaste. The Orchard Oasis, touted as a seasonal favorite, tasted more like stale fruitcake. The Golden Gate Ginger was the only decent option, but even that was overpriced. The Tokyo Tidbits, a unique flavor I was excited to try, were a confusing mess of clashing flavors. And don't even get me started on the Pearly Pies, which were more like sugary disks than flaky, buttery goodness. Won't be back.</td></tr><tr><td>Title: A Delightful Cookie Experience at Bakehouse in Shukugawa, Suita\n",
       "\n",
       "Bakehouse in Shukugawa, Suita, has truly outdone themselves with their cookie selection. The Outback Oatmeal and Austin Almond Biscotti were standout favorites. The Outback Oatmeal cookie was the perfect balance of chewy and crunchy, with a generous helping of oats and a hint of cinnamon. The Austin Almond Biscotti, on the other hand, was a crisp and delightful treat, perfect for dipping in my morning coffee. The Orchard Oasis and Golden Gate Ginger were also quite enjoyable, offering a burst of fruit flavor and a zesty kick, respectively. The Tokyo Tidbits and Pearly Pies were not to my personal taste, but I can appreciate the creativity and effort put into these unique creations. Overall, I highly recommend Bakehouse for any cookie enthusiast.</td><td>3000029</td><td>2024-05-20T13:24:06.591-04:00</td><td>111</td><td>Title: A Delightful Cookie Experience at Bakehouse in Shukugawa, Suita\n",
       "\n",
       "Bakehouse in Shukugawa, Suita, has truly outdone themselves with their cookie selection. The Outback Oatmeal and Austin Almond Biscotti were standout favorites. The Outback Oatmeal cookie was the perfect balance of chewy and crunchy, with a generous helping of oats and a hint of cinnamon. The Austin Almond Biscotti, on the other hand, was a crisp and delightful treat, perfect for dipping in my morning coffee. The Orchard Oasis and Golden Gate Ginger were also quite enjoyable, offering a burst of fruit flavor and a zesty kick, respectively. The Tokyo Tidbits and Pearly Pies were not to my personal taste, but I can appreciate the creativity and effort put into these unique creations. Overall, I highly recommend Bakehouse for any cookie enthusiast.</td></tr><tr><td>**Disappointing Experience at Bakehouse Seattle**\n",
       "\n",
       "I was thrilled to try Bakehouse's offerings, but unfortunately, my excitement was short-lived. The Outback Oatmeal cookies were dry and lacked any discernible spice, while the Austin Almond Biscotti was overly crunchy and tasted more like cardboard than almond. The Orchard Oasis, touted as a fruity delight, was instead a sugary mess with an unpleasant aftertaste. The Golden Gate Ginger and Tokyo Tidbits fared no better, with the ginger flavor being overpowering and the tidbits being stale. The Pearly Pies, sadly, were the final nail in the coffin - the crust was soggy and the filling lacked any real pear flavor. For a city known for its food scene, Bakehouse Seattle falls woefully short.</td><td>3000017</td><td>2024-05-31T14:45:07.063-04:00</td><td>112</td><td>**Disappointing Experience at Bakehouse Seattle**\n",
       "\n",
       "I was thrilled to try Bakehouse's offerings, but unfortunately, my excitement was short-lived. The Outback Oatmeal cookies were dry and lacked any discernible spice, while the Austin Almond Biscotti was overly crunchy and tasted more like cardboard than almond. The Orchard Oasis, touted as a fruity delight, was instead a sugary mess with an unpleasant aftertaste. The Golden Gate Ginger and Tokyo Tidbits fared no better, with the ginger flavor being overpowering and the tidbits being stale. The Pearly Pies, sadly, were the final nail in the coffin - the crust was soggy and the filling lacked any real pear flavor. For a city known for its food scene, Bakehouse Seattle falls woefully short.</td></tr><tr><td>I apologize, but it seems there's been a mistake. Gion is a district in Kyoto, Japan, not Seattle. Nevertheless, I'll write a negative review for a fictional Bakehouse store in Seattle:\n",
       "\n",
       "**1/5 stars**\n",
       "\n",
       "Disappointing experience at Bakehouse in Seattle. The Outback Oatmeal cookies were dry and lacked any discernible spice. The Austin Almond Biscotti was overly crunchy, with an unpleasant aftertaste. The Orchard Oasis, touted as a seasonal favorite, tasted more like stale fruitcake. The Golden Gate Ginger was the only decent option, but even that was overpriced. The Tokyo Tidbits were a confusing mess of flavors, and the Pearly Pies looked sad and uninspired. For a city known for its food scene, Bakehouse falls short.</td><td>3000007</td><td>2024-05-31T14:42:07.727-04:00</td><td>113</td><td>I apologize, but it seems there's been a mistake. Gion is a district in Kyoto, Japan, not Seattle. Nevertheless, I'll write a negative review for a fictional Bakehouse store in Seattle:\n",
       "\n",
       "**1/5 stars**\n",
       "\n",
       "Disappointing experience at Bakehouse in Seattle. The Outback Oatmeal cookies were dry and lacked any discernible spice. The Austin Almond Biscotti was overly crunchy, with an unpleasant aftertaste. The Orchard Oasis, touted as a seasonal favorite, tasted more like stale fruitcake. The Golden Gate Ginger was the only decent option, but even that was overpriced. The Tokyo Tidbits were a confusing mess of flavors, and the Pearly Pies looked sad and uninspired. For a city known for its food scene, Bakehouse falls short.</td></tr><tr><td>Title: A Delightful Cookie Experience at Bakehouse, Leederville\n",
       "\n",
       "Bakehouse in Leederville, Perth, has become my go-to spot for delectable cookies. Their Outback Oatmeal and Austin Almond Biscotti are sheer perfection. The Outback Oatmeal, with its chewy texture and hearty oats, is a satisfying treat. The Austin Almond Biscotti, on the other hand, offers a delightful crunch and the perfect hint of almond. I'm yet to try their Orchard Oasis, Golden Gate Ginger, Tokyo Tidbits, and Pearly Pies, but if they're anything like the first two, I'm in for a real treat! Highly recommend for cookie enthusiasts.</td><td>3000009</td><td>2024-05-20T13:24:06.591-04:00</td><td>114</td><td>Title: A Delightful Cookie Experience at Bakehouse, Leederville\n",
       "\n",
       "Bakehouse in Leederville, Perth, has become my go-to spot for delectable cookies. Their Outback Oatmeal and Austin Almond Biscotti are sheer perfection. The Outback Oatmeal, with its chewy texture and hearty oats, is a satisfying treat. The Austin Almond Biscotti, on the other hand, offers a delightful crunch and the perfect hint of almond. I'm yet to try their Orchard Oasis, Golden Gate Ginger, Tokyo Tidbits, and Pearly Pies, but if they're anything like the first two, I'm in for a real treat! Highly recommend for cookie enthusiasts.</td></tr><tr><td>I recently visited the Bakehouse store in Gold Coast's Miami district and was disappointed with my experience. I tried the Outback Oatmeal and Austin Almond Biscotti, and unfortunately, both fell short of my expectations. The Outback Oatmeal was dry and lacked the hearty, satisfying texture I expect from an oatmeal cookie. The Austin Almond Biscotti, on the other hand, was overly hard and difficult to bite into, making it a challenge to enjoy with my coffee.\n",
       "\n",
       "I had high hopes for these treats, given Bakehouse's reputation, but I was left underwhelmed. I may give them another try in the future, but for now, I'll be looking elsewhere for my cookie fix.</td><td>3000015</td><td>2024-05-31T11:13:36.962-04:00</td><td>115</td><td>I recently visited the Bakehouse store in Gold Coast's Miami district and was disappointed with my experience. I tried the Outback Oatmeal and Austin Almond Biscotti, and unfortunately, both fell short of my expectations. The Outback Oatmeal was dry and lacked the hearty, satisfying texture I expect from an oatmeal cookie. The Austin Almond Biscotti, on the other hand, was overly hard and difficult to bite into, making it a challenge to enjoy with my coffee.\n",
       "\n",
       "I had high hopes for these treats, given Bakehouse's reputation, but I was left underwhelmed. I may give them another try in the future, but for now, I'll be looking elsewhere for my cookie fix.</td></tr><tr><td>Title: A Delightful Cookie Experience in Gion, Kyoto\n",
       "\n",
       "Bakehouse in Gion, Kyoto, is a must-visit for cookie enthusiasts. Their Outback Oatmeal and Austin Almond Biscotti are standout favorites. The Outback Oatmeal cookie is a hearty, satisfying treat, while the Austin Almond Biscotti pairs perfectly with a cup of coffee. The Orchard Oasis and Golden Gate Ginger cookies offer unique, flavorful experiences. The Tokyo Tidbits and Pearly Pies, though not my personal favorites, have their own charm. Bakehouse's commitment to quality and variety makes it a top choice for cookie lovers in Kyoto.</td><td>3000007</td><td>2024-05-20T13:24:06.591-04:00</td><td>116</td><td>Title: A Delightful Cookie Experience in Gion, Kyoto\n",
       "\n",
       "Bakehouse in Gion, Kyoto, is a must-visit for cookie enthusiasts. Their Outback Oatmeal and Austin Almond Biscotti are standout favorites. The Outback Oatmeal cookie is a hearty, satisfying treat, while the Austin Almond Biscotti pairs perfectly with a cup of coffee. The Orchard Oasis and Golden Gate Ginger cookies offer unique, flavorful experiences. The Tokyo Tidbits and Pearly Pies, though not my personal favorites, have their own charm. Bakehouse's commitment to quality and variety makes it a top choice for cookie lovers in Kyoto.</td></tr><tr><td>**Disappointing Experience at Bakehouse Seattle**\n",
       "\n",
       "I was thrilled to try Bakehouse's offerings, but unfortunately, my excitement was short-lived. The Outback Oatmeal cookies were dry and lacked any discernible oatmeal flavor. The Austin Almond Biscotti was overly crunchy and tasted more like cardboard than almond. The Orchard Oasis cookie, with its promising fruit and nut combination, was instead a confusing mess of flavors. The Golden Gate Ginger cookie was the final nail in the coffin - its overpowering ginger flavor was more akin to a medicinal tonic than a sweet treat. The Tokyo Tidbits and Pearly Pies didn't fare much better. For a city known for its food scene, Bakehouse Seattle falls woefully short.</td><td>3000012</td><td>2024-05-31T14:45:07.063-04:00</td><td>117</td><td>**Disappointing Experience at Bakehouse Seattle**\n",
       "\n",
       "I was thrilled to try Bakehouse's offerings, but unfortunately, my excitement was short-lived. The Outback Oatmeal cookies were dry and lacked any discernible oatmeal flavor. The Austin Almond Biscotti was overly crunchy and tasted more like cardboard than almond. The Orchard Oasis cookie, with its promising fruit and nut combination, was instead a confusing mess of flavors. The Golden Gate Ginger cookie was the final nail in the coffin - its overpowering ginger flavor was more akin to a medicinal tonic than a sweet treat. The Tokyo Tidbits and Pearly Pies didn't fare much better. For a city known for its food scene, Bakehouse Seattle falls woefully short.</td></tr><tr><td>Title: A Sweet Escape to Bakehouse in Wynwood, Miami\n",
       "\n",
       "Bakehouse in Wynwood, Miami, is a delightful discovery for dessert enthusiasts. Their Outback Oatmeal cookies are a comforting classic, with a perfect balance of oats and sweetness that leaves you craving more. The Austin Almond Biscotti, on the other hand, offers a delightful crunch, paired beautifully with a cup of coffee.\n",
       "\n",
       "The Orchard Oasis, a fruit-filled delight, transports you to a tropical paradise, making it a perfect treat for Miami's sunny weather. However, the Golden Gate Ginger cookies, while packed with flavor, might be a bit too intense for those who prefer a subtler taste.\n",
       "\n",
       "The Tokyo Tidbits, with their unique blend of flavors, are an adventurous choice, while the Pearly Pies, though not a cookie, are a miniature masterpiece that should not be missed.\n",
       "\n",
       "In conclusion, Bakehouse is a must-visit for anyone with a sweet tooth. Their diverse range of products ensures there's something for everyone. I'm already looking forward to my next visit!</td><td>3000011</td><td>2024-05-20T13:24:06.591-04:00</td><td>118</td><td>Title: A Sweet Escape to Bakehouse in Wynwood, Miami\n",
       "\n",
       "Bakehouse in Wynwood, Miami, is a delightful discovery for dessert enthusiasts. Their Outback Oatmeal cookies are a comforting classic, with a perfect balance of oats and sweetness that leaves you craving more. The Austin Almond Biscotti, on the other hand, offers a delightful crunch, paired beautifully with a cup of coffee.\n",
       "\n",
       "The Orchard Oasis, a fruit-filled delight, transports you to a tropical paradise, making it a perfect treat for Miami's sunny weather. However, the Golden Gate Ginger cookies, while packed with flavor, might be a bit too intense for those who prefer a subtler taste.\n",
       "\n",
       "The Tokyo Tidbits, with their unique blend of flavors, are an adventurous choice, while the Pearly Pies, though not a cookie, are a miniature masterpiece that should not be missed.\n",
       "\n",
       "In conclusion, Bakehouse is a must-visit for anyone with a sweet tooth. Their diverse range of products ensures there's something for everyone. I'm already looking forward to my next visit!</td></tr><tr><td>\"I stopped by Bakehouse in Norwood, Adelaide and sampled a few treats. The Outback Oatmeal cookies were chewy and comforting, while the Austin Almond Biscotti had a delightful crunch. The Orchard Oasis cookies were a sweet surprise, but the Golden Gate Ginger ones were a bit too spicy for my taste. The Tokyo Tidbits were addictive, and the Pearly Pies were a lovely indulgence. Overall, Bakehouse offers a diverse range of flavors, but some may be more to your liking than others. Worth a visit to explore their offerings!\"</td><td>3000012</td><td>2024-05-31T11:23:53.074-04:00</td><td>119</td><td>\"I stopped by Bakehouse in Norwood, Adelaide and sampled a few treats. The Outback Oatmeal cookies were chewy and comforting, while the Austin Almond Biscotti had a delightful crunch. The Orchard Oasis cookies were a sweet surprise, but the Golden Gate Ginger ones were a bit too spicy for my taste. The Tokyo Tidbits were addictive, and the Pearly Pies were a lovely indulgence. Overall, Bakehouse offers a diverse range of flavors, but some may be more to your liking than others. Worth a visit to explore their offerings!\"</td></tr><tr><td>I recently visited the Bakehouse store in Amerikamura, Osaka and was disappointed with the Outback Oatmeal and Austin Almond Biscotti cookies. The oatmeal cookie was dry and lacked flavor, while the biscotti was overly sweet and had a strange aftertaste. I had high hopes for these treats, but they fell flat. I won't be returning to this location anytime soon.</td><td>3000010</td><td>2024-05-31T11:13:36.962-04:00</td><td>120</td><td>I recently visited the Bakehouse store in Amerikamura, Osaka and was disappointed with the Outback Oatmeal and Austin Almond Biscotti cookies. The oatmeal cookie was dry and lacked flavor, while the biscotti was overly sweet and had a strange aftertaste. I had high hopes for these treats, but they fell flat. I won't be returning to this location anytime soon.</td></tr><tr><td>**Disappointing Experience at Bakehouse in West End, Seattle**\n",
       "\n",
       "I was excited to try Bakehouse, but unfortunately, my experience was a letdown. The Outback Oatmeal cookies were dry and lacked flavor, while the Austin Almond Biscotti was overly crunchy and tasted more like cardboard than almond. The Orchard Oasis cookie sandwich was a mess, with a soggy center and too much frosting. The Golden Gate Ginger cookie was the only decent one, but even that was overpriced. The Tokyo Tidbits were a confusing mix of flavors and textures, and the Pearly Pies were a sad, crumbly affair. For a city known for its food scene, Bakehouse falls short.</td><td>3000006</td><td>2024-05-31T14:42:07.727-04:00</td><td>121</td><td>**Disappointing Experience at Bakehouse in West End, Seattle**\n",
       "\n",
       "I was excited to try Bakehouse, but unfortunately, my experience was a letdown. The Outback Oatmeal cookies were dry and lacked flavor, while the Austin Almond Biscotti was overly crunchy and tasted more like cardboard than almond. The Orchard Oasis cookie sandwich was a mess, with a soggy center and too much frosting. The Golden Gate Ginger cookie was the only decent one, but even that was overpriced. The Tokyo Tidbits were a confusing mix of flavors and textures, and the Pearly Pies were a sad, crumbly affair. For a city known for its food scene, Bakehouse falls short.</td></tr><tr><td>**Disappointing Experience at Bakehouse Seattle**\n",
       "\n",
       "I was thrilled to try Bakehouse's offerings, but unfortunately, my excitement was short-lived. The Outback Oatmeal cookies were dry and lacked any discernible spice, while the Austin Almond Biscotti was overly crunchy and tasted more like cardboard than almond. The Orchard Oasis, touted as a fruity delight, was instead a confusing mix of clashing flavors. The Golden Gate Ginger was the final nail in the coffin - its overpowering spiciness left me reaching for a glass of milk. The Tokyo Tidbits and Pearly Pies didn't fare much better. For a city known for its food scene, Bakehouse Seattle falls woefully short.</td><td>3000000</td><td>2024-05-31T14:45:07.063-04:00</td><td>122</td><td>**Disappointing Experience at Bakehouse Seattle**\n",
       "\n",
       "I was thrilled to try Bakehouse's offerings, but unfortunately, my excitement was short-lived. The Outback Oatmeal cookies were dry and lacked any discernible spice, while the Austin Almond Biscotti was overly crunchy and tasted more like cardboard than almond. The Orchard Oasis, touted as a fruity delight, was instead a confusing mix of clashing flavors. The Golden Gate Ginger was the final nail in the coffin - its overpowering spiciness left me reaching for a glass of milk. The Tokyo Tidbits and Pearly Pies didn't fare much better. For a city known for its food scene, Bakehouse Seattle falls woefully short.</td></tr><tr><td>**Disappointing Experience at Bakehouse Seattle**\n",
       "\n",
       "I was thrilled to try Bakehouse's offerings, but unfortunately, my excitement was short-lived. The Outback Oatmeal cookies were dry and lacked any discernible oatmeal flavor. The Austin Almond Biscotti was overly crunchy and tasted more like cardboard than almond. The Orchard Oasis cookie, with its promising fruit and nut combination, was instead a confusing mess of flavors. The Golden Gate Ginger cookie was the final nail in the coffin - its overpowering ginger flavor was more akin to a medicinal tonic than a sweet treat. The Tokyo Tidbits and Pearly Pies didn't fare much better. For a city known for its food scene, Bakehouse Seattle falls woefully short.</td><td>3000013</td><td>2024-05-31T14:45:07.063-04:00</td><td>123</td><td>**Disappointing Experience at Bakehouse Seattle**\n",
       "\n",
       "I was thrilled to try Bakehouse's offerings, but unfortunately, my excitement was short-lived. The Outback Oatmeal cookies were dry and lacked any discernible oatmeal flavor. The Austin Almond Biscotti was overly crunchy and tasted more like cardboard than almond. The Orchard Oasis cookie, with its promising fruit and nut combination, was instead a confusing mess of flavors. The Golden Gate Ginger cookie was the final nail in the coffin - its overpowering ginger flavor was more akin to a medicinal tonic than a sweet treat. The Tokyo Tidbits and Pearly Pies didn't fare much better. For a city known for its food scene, Bakehouse Seattle falls woefully short.</td></tr><tr><td>\"I stopped by Bakehouse in West End, Brisbane and sampled a few treats. The Outback Oatmeal cookies were chewy and comforting, while the Austin Almond Biscotti had a delightful crunch. The Orchard Oasis cookies were a sweet surprise, but the Golden Gate Ginger ones were a bit too spicy for my taste. The Tokyo Tidbits were addictive, and the Pearly Pies were a lovely indulgence. Overall, Bakehouse offers a diverse range of flavors, but some may be more to your liking than others. Worth a visit to explore their offerings!\"</td><td>3000006</td><td>2024-05-31T11:23:53.074-04:00</td><td>124</td><td>\"I stopped by Bakehouse in West End, Brisbane and sampled a few treats. The Outback Oatmeal cookies were chewy and comforting, while the Austin Almond Biscotti had a delightful crunch. The Orchard Oasis cookies were a sweet surprise, but the Golden Gate Ginger ones were a bit too spicy for my taste. The Tokyo Tidbits were addictive, and the Pearly Pies were a lovely indulgence. Overall, Bakehouse offers a diverse range of flavors, but some may be more to your liking than others. Worth a visit to explore their offerings!\"</td></tr><tr><td>Title: A Delightful Cookie Experience at Bakehouse in Tatemachi, Kanazawa\n",
       "\n",
       "Bakehouse in Tatemachi, Kanazawa, has become my go-to spot for delicious cookies. Their Outback Oatmeal and Austin Almond Biscotti are absolute must-tries. The Outback Oatmeal cookie is a perfect balance of chewy and crunchy, with a generous amount of oats and a hint of cinnamon. The Austin Almond Biscotti, on the other hand, is a crisp and flavorful treat, perfect for dipping in your coffee or tea.\n",
       "\n",
       "I also had the pleasure of trying their Orchard Oasis and Golden Gate Ginger cookies. The Orchard Oasis is a delightful fruity surprise, with a burst of fresh fruit flavors in every bite. The Golden Gate Ginger, meanwhile, is a spicy and sweet delight that warms your palate.\n",
       "\n",
       "I haven't had the chance to try their Tokyo Tidbits and Pearly Pies yet, but I've heard great things about them. I'm already looking forward to my next visit to Bakehouse to try more of their delicious cookie creations. If you're in Kanazawa, don't miss out on this cookie haven in Tatemachi!\n",
       "\n",
       "(Note: The character count for this review is 498, which is within the 500 character limit.)</td><td>3000027</td><td>2024-05-20T13:24:06.591-04:00</td><td>125</td><td>Title: A Delightful Cookie Experience at Bakehouse in Tatemachi, Kanazawa\n",
       "\n",
       "Bakehouse in Tatemachi, Kanazawa, has become my go-to spot for delicious cookies. Their Outback Oatmeal and Austin Almond Biscotti are absolute must-tries. The Outback Oatmeal cookie is a perfect balance of chewy and crunchy, with a generous amount of oats and a hint of cinnamon. The Austin Almond Biscotti, on the other hand, is a crisp and flavorful treat, perfect for dipping in your coffee or tea.\n",
       "\n",
       "I also had the pleasure of trying their Orchard Oasis and Golden Gate Ginger cookies. The Orchard Oasis is a delightful fruity surprise, with a burst of fresh fruit flavors in every bite. The Golden Gate Ginger, meanwhile, is a spicy and sweet delight that warms your palate.\n",
       "\n",
       "I haven't had the chance to try their Tokyo Tidbits and Pearly Pies yet, but I've heard great things about them. I'm already looking forward to my next visit to Bakehouse to try more of their delicious cookie creations. If you're in Kanazawa, don't miss out on this cookie haven in Tatemachi!\n",
       "\n",
       "(Note: The character count for this review is 498, which is within the 500 character limit.)</td></tr><tr><td>\"5 stars for Bakehouse in Wicker Park, Chicago! I'm obsessed with their Outback Oatmeal cookies - the perfect balance of spices and chewiness. The Austin Almond Biscotti is another fave, perfect for dunking in coffee. The Orchard Oasis cookie sandwiches are a game-changer, with their sweet and tangy filling. However, the Golden Gate Ginger was a bit too spicy for my taste. Overall, Bakehouse is a must-visit for any cookie lover in Chicago!\"</td><td>3000008</td><td>2024-05-20T13:17:03.052-04:00</td><td>126</td><td>\"5 stars for Bakehouse in Wicker Park, Chicago! I'm obsessed with their Outback Oatmeal cookies - the perfect balance of spices and chewiness. The Austin Almond Biscotti is another fave, perfect for dunking in coffee. The Orchard Oasis cookie sandwiches are a game-changer, with their sweet and tangy filling. However, the Golden Gate Ginger was a bit too spicy for my taste. Overall, Bakehouse is a must-visit for any cookie lover in Chicago!\"</td></tr><tr><td>Title: A Delightful Cookie Experience at Bakehouse in Sakuradori, Hiratsuka\n",
       "\n",
       "Bakehouse in Sakuradori, Hiratsuka, has truly outdone themselves with their exquisite cookie selection. The Outback Oatmeal and Austin Almond Biscotti are undeniable favorites. The Outback Oatmeal cookie, with its perfect balance of oats and sweetness, is a hearty treat that never fails to satisfy. Meanwhile, the Austin Almond Biscotti, with its crisp texture and delicate almond flavor, pairs beautifully with a cup of coffee.\n",
       "\n",
       "The Orchard Oasis and Golden Gate Ginger cookies are equally impressive. Orchard Oasis is a burst of fruity freshness, while Golden Gate Ginger packs a punch with its spicy, zesty flavor. Both cookies showcase Bakehouse's commitment to using high-quality ingredients.\n",
       "\n",
       "The Tokyo Tidbits and Pearly Pies, while smaller in size, are not to be overlooked. The Tokyo Tidbits, with their unique blend of Japanese flavors, offer an exciting twist. The Pearly Pies, on the other hand, are a delightful surprise, with their flaky pastry and delicious filling.\n",
       "\n",
       "In conclusion, Bakehouse in Sakuradori, Hiratsuka, is a must-visit for any cookie enthusiast. Their diverse range of cookies is sure to impress and satisfy even the most discerning palates.</td><td>3000025</td><td>2024-05-20T13:24:06.591-04:00</td><td>127</td><td>Title: A Delightful Cookie Experience at Bakehouse in Sakuradori, Hiratsuka\n",
       "\n",
       "Bakehouse in Sakuradori, Hiratsuka, has truly outdone themselves with their exquisite cookie selection. The Outback Oatmeal and Austin Almond Biscotti are undeniable favorites. The Outback Oatmeal cookie, with its perfect balance of oats and sweetness, is a hearty treat that never fails to satisfy. Meanwhile, the Austin Almond Biscotti, with its crisp texture and delicate almond flavor, pairs beautifully with a cup of coffee.\n",
       "\n",
       "The Orchard Oasis and Golden Gate Ginger cookies are equally impressive. Orchard Oasis is a burst of fruity freshness, while Golden Gate Ginger packs a punch with its spicy, zesty flavor. Both cookies showcase Bakehouse's commitment to using high-quality ingredients.\n",
       "\n",
       "The Tokyo Tidbits and Pearly Pies, while smaller in size, are not to be overlooked. The Tokyo Tidbits, with their unique blend of Japanese flavors, offer an exciting twist. The Pearly Pies, on the other hand, are a delightful surprise, with their flaky pastry and delicious filling.\n",
       "\n",
       "In conclusion, Bakehouse in Sakuradori, Hiratsuka, is a must-visit for any cookie enthusiast. Their diverse range of cookies is sure to impress and satisfy even the most discerning palates.</td></tr><tr><td>I recently visited the Bakehouse location in Matsuyama's Dogo Onsen district and was thoroughly disappointed with my experience. I tried the Outback Oatmeal and Austin Almond Biscotti, and both were overly sweet and lacked the fresh, homemade taste I expect from a premium cookie company. The Orchard Oasis, which I had heard great things about, was a particular letdown - it was dry and flavorless. I also found the Golden Gate Ginger to be too spicy and overpowering. The Tokyo Tidbits were the only saving grace, but they couldn't make up for the rest of the subpar offerings. I won't be returning to Bakehouse anytime soon.</td><td>3000043</td><td>2024-05-31T11:13:36.962-04:00</td><td>128</td><td>I recently visited the Bakehouse location in Matsuyama's Dogo Onsen district and was thoroughly disappointed with my experience. I tried the Outback Oatmeal and Austin Almond Biscotti, and both were overly sweet and lacked the fresh, homemade taste I expect from a premium cookie company. The Orchard Oasis, which I had heard great things about, was a particular letdown - it was dry and flavorless. I also found the Golden Gate Ginger to be too spicy and overpowering. The Tokyo Tidbits were the only saving grace, but they couldn't make up for the rest of the subpar offerings. I won't be returning to Bakehouse anytime soon.</td></tr><tr><td>Title: A Sweet Escape to Bakehouse on East 6th Street\n",
       "\n",
       "Bakehouse in Austin's East 6th Street is a true gem for dessert lovers. Their Outback Oatmeal cookies are a delight, with a perfect balance of oats and sweetness that leaves you craving more. The Austin Almond Biscotti, on the other hand, is a local favorite, pairing beautifully with a warm cup of coffee.\n",
       "\n",
       "The Orchard Oasis and Golden Gate Ginger cookies are a burst of flavor in every bite. The former offers a refreshing fruity taste, while the latter packs a punch with its spicy ginger kick.\n",
       "\n",
       "However, it's the Tokyo Tidbits and Pearly Pies that truly stole my heart. The Tokyo Tidbits, with their unique blend of flavors, are a delightful surprise, while the Pearly Pies, with their flaky crust and delicious filling, are the perfect treat to end a meal.\n",
       "\n",
       "Bakehouse is a must-visit for anyone with a sweet tooth. The variety, quality, and creativity of their products make every visit a delightful adventure.</td><td>3000017</td><td>2024-05-20T13:24:06.591-04:00</td><td>129</td><td>Title: A Sweet Escape to Bakehouse on East 6th Street\n",
       "\n",
       "Bakehouse in Austin's East 6th Street is a true gem for dessert lovers. Their Outback Oatmeal cookies are a delight, with a perfect balance of oats and sweetness that leaves you craving more. The Austin Almond Biscotti, on the other hand, is a local favorite, pairing beautifully with a warm cup of coffee.\n",
       "\n",
       "The Orchard Oasis and Golden Gate Ginger cookies are a burst of flavor in every bite. The former offers a refreshing fruity taste, while the latter packs a punch with its spicy ginger kick.\n",
       "\n",
       "However, it's the Tokyo Tidbits and Pearly Pies that truly stole my heart. The Tokyo Tidbits, with their unique blend of flavors, are a delightful surprise, while the Pearly Pies, with their flaky crust and delicious filling, are the perfect treat to end a meal.\n",
       "\n",
       "Bakehouse is a must-visit for anyone with a sweet tooth. The variety, quality, and creativity of their products make every visit a delightful adventure.</td></tr><tr><td>**5/5 stars**\n",
       "\n",
       "I'm obsessed with Bakehouse in Omotemachi, Okayama! Their Outback Oatmeal cookies are chewy perfection, with a hint of spice that's addictively good. The Austin Almond Biscotti is another favorite - crunchy on the outside, soft on the inside, and that almond flavor is divine. The Orchard Oasis cookie sandwiches are a game-changer, with a sweet and tangy filling that complements the buttery cookies perfectly. The only miss for me was the Golden Gate Ginger, which was a bit too spicy. But overall, Bakehouse is a must-visit for any cookie lover in Okayama!</td><td>3000041</td><td>2024-05-20T13:17:03.052-04:00</td><td>130</td><td>**5/5 stars**\n",
       "\n",
       "I'm obsessed with Bakehouse in Omotemachi, Okayama! Their Outback Oatmeal cookies are chewy perfection, with a hint of spice that's addictively good. The Austin Almond Biscotti is another favorite - crunchy on the outside, soft on the inside, and that almond flavor is divine. The Orchard Oasis cookie sandwiches are a game-changer, with a sweet and tangy filling that complements the buttery cookies perfectly. The only miss for me was the Golden Gate Ginger, which was a bit too spicy. But overall, Bakehouse is a must-visit for any cookie lover in Okayama!</td></tr><tr><td>Title: A Delightful Cookie Experience in Ballard, Seattle\n",
       "\n",
       "Bakehouse in Ballard, Seattle, is a must-visit for cookie enthusiasts! Their Outback Oatmeal cookies are a perfect blend of chewy and crunchy, with a generous helping of oats and a hint of cinnamon. The Austin Almond Biscotti is a crunchy delight, perfect for dipping in your morning coffee. Orchard Oasis, a fruit-filled cookie, offers a burst of freshness in every bite. Golden Gate Ginger, with its spicy and sweet flavor, is a treat for ginger lovers. Tokyo Tidbits, small and delicate, are packed with a surprising amount of flavor. Lastly, Pearly Pies, tiny pie-shaped cookies, are a delightful surprise with their flaky crust and flavorful filling. Bakehouse's variety and quality make it a standout in Seattle's cookie scene.</td><td>3000038</td><td>2024-05-20T13:24:06.591-04:00</td><td>131</td><td>Title: A Delightful Cookie Experience in Ballard, Seattle\n",
       "\n",
       "Bakehouse in Ballard, Seattle, is a must-visit for cookie enthusiasts! Their Outback Oatmeal cookies are a perfect blend of chewy and crunchy, with a generous helping of oats and a hint of cinnamon. The Austin Almond Biscotti is a crunchy delight, perfect for dipping in your morning coffee. Orchard Oasis, a fruit-filled cookie, offers a burst of freshness in every bite. Golden Gate Ginger, with its spicy and sweet flavor, is a treat for ginger lovers. Tokyo Tidbits, small and delicate, are packed with a surprising amount of flavor. Lastly, Pearly Pies, tiny pie-shaped cookies, are a delightful surprise with their flaky crust and flavorful filling. Bakehouse's variety and quality make it a standout in Seattle's cookie scene.</td></tr><tr><td>**Disappointing Experience at Bakehouse Seattle**\n",
       "\n",
       "I was thrilled to try Bakehouse's offerings, but unfortunately, my excitement was short-lived. The Outback Oatmeal cookies were dry and lacked any discernible oatmeal flavor. The Austin Almond Biscotti was overly crunchy and tasted more like cardboard than almond. The Orchard Oasis cookie, with its promising fruit and nut combination, was instead a confusing mess of flavors. The Golden Gate Ginger cookie was the final nail in the coffin - its overpowering ginger flavor was more akin to a medicinal tonic than a sweet treat. The Tokyo Tidbits and Pearly Pies didn't fare much better. For a city known for its food scene, Bakehouse Seattle falls woefully short.</td><td>3000019</td><td>2024-05-31T14:45:07.063-04:00</td><td>132</td><td>**Disappointing Experience at Bakehouse Seattle**\n",
       "\n",
       "I was thrilled to try Bakehouse's offerings, but unfortunately, my excitement was short-lived. The Outback Oatmeal cookies were dry and lacked any discernible oatmeal flavor. The Austin Almond Biscotti was overly crunchy and tasted more like cardboard than almond. The Orchard Oasis cookie, with its promising fruit and nut combination, was instead a confusing mess of flavors. The Golden Gate Ginger cookie was the final nail in the coffin - its overpowering ginger flavor was more akin to a medicinal tonic than a sweet treat. The Tokyo Tidbits and Pearly Pies didn't fare much better. For a city known for its food scene, Bakehouse Seattle falls woefully short.</td></tr><tr><td>**Disappointing Experience at Bakehouse Seattle**\n",
       "\n",
       "I was thrilled to try Bakehouse's offerings, but unfortunately, my excitement was short-lived. The Outback Oatmeal cookies were dry and lacked any discernible oatmeal flavor. The Austin Almond Biscotti was overly crunchy and tasted more like cardboard than almond. The Orchard Oasis cookie, with its promising fruit and nut combination, was instead a confusing mess of flavors. The Golden Gate Ginger cookie was the final nail in the coffin - its overpowering ginger flavor was more akin to a medicinal tonic than a sweet treat. The Tokyo Tidbits and Pearly Pies didn't fare much better. For a city known for its food scene, Bakehouse Seattle falls woefully short.</td><td>3000009</td><td>2024-05-31T14:45:07.063-04:00</td><td>133</td><td>**Disappointing Experience at Bakehouse Seattle**\n",
       "\n",
       "I was thrilled to try Bakehouse's offerings, but unfortunately, my excitement was short-lived. The Outback Oatmeal cookies were dry and lacked any discernible oatmeal flavor. The Austin Almond Biscotti was overly crunchy and tasted more like cardboard than almond. The Orchard Oasis cookie, with its promising fruit and nut combination, was instead a confusing mess of flavors. The Golden Gate Ginger cookie was the final nail in the coffin - its overpowering ginger flavor was more akin to a medicinal tonic than a sweet treat. The Tokyo Tidbits and Pearly Pies didn't fare much better. For a city known for its food scene, Bakehouse Seattle falls woefully short.</td></tr><tr><td>I recently visited the Bakehouse location in Kreuzberg, Berlin and was thoroughly disappointed with my experience. I decided to try the Outback Oatmeal and Austin Almond Biscotti, but both were dry and lacked flavor. The Orchard Oasis, which I had heard great things about, was overly sweet and did not meet my expectations. The Golden Gate Ginger was the only redeeming factor, but it still did not live up to the hype. I was also disappointed to see that the Tokyo Tidbits and Pearly Pies were not available during my visit. Overall, I would not recommend this location to anyone looking for a quality bakery in Berlin.</td><td>3000044</td><td>2024-05-31T11:13:36.962-04:00</td><td>134</td><td>I recently visited the Bakehouse location in Kreuzberg, Berlin and was thoroughly disappointed with my experience. I decided to try the Outback Oatmeal and Austin Almond Biscotti, but both were dry and lacked flavor. The Orchard Oasis, which I had heard great things about, was overly sweet and did not meet my expectations. The Golden Gate Ginger was the only redeeming factor, but it still did not live up to the hype. I was also disappointed to see that the Tokyo Tidbits and Pearly Pies were not available during my visit. Overall, I would not recommend this location to anyone looking for a quality bakery in Berlin.</td></tr><tr><td>**5/5 stars**\n",
       "\n",
       "I'm obsessed with Bakehouse in Fukuoka's Daimyo district! Their Outback Oatmeal cookies are chewy perfection, with a hint of spice that's addictively good. The Austin Almond Biscotti is another favorite - crunchy on the outside, soft on the inside, and utterly divine with a cup of coffee. The Orchard Oasis cookies are a refreshing twist, with a fruity flavor that's perfect for spring. The only miss for me was the Golden Gate Ginger, which was a bit too spicy. But overall, Bakehouse is a must-visit for any cookie lover in Fukuoka!</td><td>3000018</td><td>2024-05-20T13:17:03.052-04:00</td><td>135</td><td>**5/5 stars**\n",
       "\n",
       "I'm obsessed with Bakehouse in Fukuoka's Daimyo district! Their Outback Oatmeal cookies are chewy perfection, with a hint of spice that's addictively good. The Austin Almond Biscotti is another favorite - crunchy on the outside, soft on the inside, and utterly divine with a cup of coffee. The Orchard Oasis cookies are a refreshing twist, with a fruity flavor that's perfect for spring. The only miss for me was the Golden Gate Ginger, which was a bit too spicy. But overall, Bakehouse is a must-visit for any cookie lover in Fukuoka!</td></tr><tr><td>I recently visited the Bakehouse store in Kumamoto's Kami-tori district and was disappointed with my experience. I tried the Outback Oatmeal and Austin Almond Biscotti, and unfortunately, both fell short of my expectations. The Outback Oatmeal was dry and lacked the hearty, oaty flavor I was looking forward to. The Austin Almond Biscotti, on the other hand, was overly sweet and lacked the crunchy texture I associate with good biscotti. I had high hopes for these treats, but they left me wanting more. I hope to see improvements in the future.</td><td>3000035</td><td>2024-05-31T11:13:36.962-04:00</td><td>136</td><td>I recently visited the Bakehouse store in Kumamoto's Kami-tori district and was disappointed with my experience. I tried the Outback Oatmeal and Austin Almond Biscotti, and unfortunately, both fell short of my expectations. The Outback Oatmeal was dry and lacked the hearty, oaty flavor I was looking forward to. The Austin Almond Biscotti, on the other hand, was overly sweet and lacked the crunchy texture I associate with good biscotti. I had high hopes for these treats, but they left me wanting more. I hope to see improvements in the future.</td></tr><tr><td>Bakehouse in Norwood, Adelaide, has disappointed me with their Outback Oatmeal and Austin Almond Biscotti. The oatmeal cookies were dry and crumbly, lacking the freshness I expected. The biscotti, on the other hand, were overly hard and made it difficult to enjoy the almond flavor. I had hoped for a better experience, especially given the positive reviews I had heard. Unfortunately, my visit to Bakehouse did not live up to my expectations.</td><td>3000012</td><td>2024-05-31T11:13:36.962-04:00</td><td>137</td><td>Bakehouse in Norwood, Adelaide, has disappointed me with their Outback Oatmeal and Austin Almond Biscotti. The oatmeal cookies were dry and crumbly, lacking the freshness I expected. The biscotti, on the other hand, were overly hard and made it difficult to enjoy the almond flavor. I had hoped for a better experience, especially given the positive reviews I had heard. Unfortunately, my visit to Bakehouse did not live up to my expectations.</td></tr><tr><td>Title: A Hidden Gem in Aomori's Furukawa District: Bakehouse\n",
       "\n",
       "Bakehouse in Aomori's Furukawa district is a delightful discovery for any pastry enthusiast. Their Outback Oatmeal cookies are a perfect blend of chewy and crunchy, with a generous helping of oats and a hint of cinnamon that warms your palate.\n",
       "\n",
       "The Austin Almond Biscotti is another standout, with its crisp texture and the nutty flavor of almonds. It's the ideal companion for a cup of coffee or tea.\n",
       "\n",
       "The Orchard Oasis, a fruit-filled delight, is a testament to Bakehouse's commitment to using fresh ingredients. Each bite is a burst of fruity goodness, making it a refreshing treat.\n",
       "\n",
       "However, the Golden Gate Ginger cookies were a bit too overpowering for my taste, with the ginger flavor dominating the palate.\n",
       "\n",
       "The Tokyo Tidbits, on the other hand, were a pleasant surprise. These small, bite-sized cookies packed a punch with their unique blend of flavors.\n",
       "\n",
       "Unfortunately, I didn't get a chance to try the Pearly Pies, but I've heard great things about them.\n",
       "\n",
       "Overall, Bakehouse is a must-visit for anyone in the Furukawa district. Their commitment to quality and unique flavor combinations make for a delightful culinary experience. I'm already looking forward to my next visit!</td><td>3000045</td><td>2024-05-20T13:24:06.591-04:00</td><td>138</td><td>Title: A Hidden Gem in Aomori's Furukawa District: Bakehouse\n",
       "\n",
       "Bakehouse in Aomori's Furukawa district is a delightful discovery for any pastry enthusiast. Their Outback Oatmeal cookies are a perfect blend of chewy and crunchy, with a generous helping of oats and a hint of cinnamon that warms your palate.\n",
       "\n",
       "The Austin Almond Biscotti is another standout, with its crisp texture and the nutty flavor of almonds. It's the ideal companion for a cup of coffee or tea.\n",
       "\n",
       "The Orchard Oasis, a fruit-filled delight, is a testament to Bakehouse's commitment to using fresh ingredients. Each bite is a burst of fruity goodness, making it a refreshing treat.\n",
       "\n",
       "However, the Golden Gate Ginger cookies were a bit too overpowering for my taste, with the ginger flavor dominating the palate.\n",
       "\n",
       "The Tokyo Tidbits, on the other hand, were a pleasant surprise. These small, bite-sized cookies packed a punch with their unique blend of flavors.\n",
       "\n",
       "Unfortunately, I didn't get a chance to try the Pearly Pies, but I've heard great things about them.\n",
       "\n",
       "Overall, Bakehouse is a must-visit for anyone in the Furukawa district. Their commitment to quality and unique flavor combinations make for a delightful culinary experience. I'm already looking forward to my next visit!</td></tr><tr><td>Bakehouse in Kaka'ako, Honolulu, sadly disappointed me. Their Outback Oatmeal was dry and crumbly, lacking the moist, chewy texture I crave in an oatmeal cookie. The Austin Almond Biscotti was overly hard, nearly chipping a tooth. Orchard Oasis, a disappointment, with a bland, uninspired flavor profile. Golden Gate Ginger, while promising, fell flat, lacking the spicy kick I associate with ginger. Tokyo Tidbits were forgettable, and Pearly Pies, while cute, were all style and no substance. I expected more from Bakehouse.</td><td>3000021</td><td>2024-05-31T11:13:36.962-04:00</td><td>139</td><td>Bakehouse in Kaka'ako, Honolulu, sadly disappointed me. Their Outback Oatmeal was dry and crumbly, lacking the moist, chewy texture I crave in an oatmeal cookie. The Austin Almond Biscotti was overly hard, nearly chipping a tooth. Orchard Oasis, a disappointment, with a bland, uninspired flavor profile. Golden Gate Ginger, while promising, fell flat, lacking the spicy kick I associate with ginger. Tokyo Tidbits were forgettable, and Pearly Pies, while cute, were all style and no substance. I expected more from Bakehouse.</td></tr><tr><td>**Disappointing Experience at Bakehouse Seattle**\n",
       "\n",
       "I was thrilled to try Bakehouse's offerings, but unfortunately, my excitement was short-lived. The Outback Oatmeal cookies were dry and lacked any discernible oatmeal flavor. The Austin Almond Biscotti was overly crunchy and tasted more like cardboard than almond. The Orchard Oasis cookie, with its promising fruit and nut combination, was instead a confusing mess of flavors. The Golden Gate Ginger cookie was the final nail in the coffin - its overpowering ginger flavor was more akin to a bad medicine than a sweet treat. The Tokyo Tidbits and Pearly Pies didn't fare much better. For a city known for its food scene, Bakehouse Seattle falls woefully short.</td><td>3000010</td><td>2024-05-31T14:45:07.063-04:00</td><td>140</td><td>**Disappointing Experience at Bakehouse Seattle**\n",
       "\n",
       "I was thrilled to try Bakehouse's offerings, but unfortunately, my excitement was short-lived. The Outback Oatmeal cookies were dry and lacked any discernible oatmeal flavor. The Austin Almond Biscotti was overly crunchy and tasted more like cardboard than almond. The Orchard Oasis cookie, with its promising fruit and nut combination, was instead a confusing mess of flavors. The Golden Gate Ginger cookie was the final nail in the coffin - its overpowering ginger flavor was more akin to a bad medicine than a sweet treat. The Tokyo Tidbits and Pearly Pies didn't fare much better. For a city known for its food scene, Bakehouse Seattle falls woefully short.</td></tr><tr><td>**5/5 Stars**\n",
       "\n",
       "I'm obsessed with Bakehouse on U Street in Washington D.C.! Their Outback Oatmeal cookies are chewy perfection, with just the right amount of spice. The Austin Almond Biscotti is a game-changer - crunchy on the outside, soft on the inside, and that almond flavor? But the real showstopper is the Orchard Oasis cookie sandwich - the combination of sweet and tangy is addictive! The only downside? I wish they had more Tokyo Tidbits in stock, those sesame seeds are everything! Pearly Pies are a close second, though. Can't wait to go back and try more!</td><td>3000036</td><td>2024-05-20T13:17:03.052-04:00</td><td>141</td><td>**5/5 Stars**\n",
       "\n",
       "I'm obsessed with Bakehouse on U Street in Washington D.C.! Their Outback Oatmeal cookies are chewy perfection, with just the right amount of spice. The Austin Almond Biscotti is a game-changer - crunchy on the outside, soft on the inside, and that almond flavor? But the real showstopper is the Orchard Oasis cookie sandwich - the combination of sweet and tangy is addictive! The only downside? I wish they had more Tokyo Tidbits in stock, those sesame seeds are everything! Pearly Pies are a close second, though. Can't wait to go back and try more!</td></tr><tr><td>I recently visited the Bakehouse location on U Street in Washington D.C. and was thoroughly disappointed with their Outback Oatmeal cookies. The cookies were dry, crumbly, and lacked the hearty oatmeal flavor I've come to expect from a quality bakery. The Golden Gate Ginger cookies were overly spiced, leaving a harsh aftertaste that was far from enjoyable. I had high hopes for the Austin Almond Biscotti, but they were stale and lacked the satisfying crunch I desired. Overall, I cannot recommend Bakehouse based on my experience with these products.</td><td>3000036</td><td>2024-05-31T11:13:36.962-04:00</td><td>142</td><td>I recently visited the Bakehouse location on U Street in Washington D.C. and was thoroughly disappointed with their Outback Oatmeal cookies. The cookies were dry, crumbly, and lacked the hearty oatmeal flavor I've come to expect from a quality bakery. The Golden Gate Ginger cookies were overly spiced, leaving a harsh aftertaste that was far from enjoyable. I had high hopes for the Austin Almond Biscotti, but they were stale and lacked the satisfying crunch I desired. Overall, I cannot recommend Bakehouse based on my experience with these products.</td></tr><tr><td>**Disappointing Experience at Bakehouse in Norwood, Seattle**\n",
       "\n",
       "I was excited to try Bakehouse, but unfortunately, their products fell flat. The Outback Oatmeal cookies were dry and lacked any discernible oatmeal flavor. The Austin Almond Biscotti was overly crunchy and tasted more like cardboard than almond. The Orchard Oasis cookie was a confusing mess of flavors, with none of them working together. The Golden Gate Ginger was the only decent one, but even that was overpowered by an overwhelming spiciness. The Tokyo Tidbits were stale and the Pearly Pies were a sad, soggy mess. For a city known for its food scene, Bakehouse is a letdown.</td><td>3000012</td><td>2024-05-31T14:42:07.727-04:00</td><td>143</td><td>**Disappointing Experience at Bakehouse in Norwood, Seattle**\n",
       "\n",
       "I was excited to try Bakehouse, but unfortunately, their products fell flat. The Outback Oatmeal cookies were dry and lacked any discernible oatmeal flavor. The Austin Almond Biscotti was overly crunchy and tasted more like cardboard than almond. The Orchard Oasis cookie was a confusing mess of flavors, with none of them working together. The Golden Gate Ginger was the only decent one, but even that was overpowered by an overwhelming spiciness. The Tokyo Tidbits were stale and the Pearly Pies were a sad, soggy mess. For a city known for its food scene, Bakehouse is a letdown.</td></tr><tr><td>**5/5 Stars**\n",
       "\n",
       "I'm obsessed with Bakehouse on the Gold Coast in Miami! Their Outback Oatmeal cookies are chewy perfection, packed with sweet and spicy flavors. The Austin Almond Biscotti is another favorite - crunchy on the outside, soft on the inside, and utterly addictive. The Orchard Oasis cookies are a refreshing twist on traditional flavors, with a hint of citrus that's simply divine. The only disappointment was the Golden Gate Ginger, which lacked a bit of zing. But overall, Bakehouse is a must-visit for any cookie lover!</td><td>3000015</td><td>2024-05-20T13:17:03.052-04:00</td><td>144</td><td>**5/5 Stars**\n",
       "\n",
       "I'm obsessed with Bakehouse on the Gold Coast in Miami! Their Outback Oatmeal cookies are chewy perfection, packed with sweet and spicy flavors. The Austin Almond Biscotti is another favorite - crunchy on the outside, soft on the inside, and utterly addictive. The Orchard Oasis cookies are a refreshing twist on traditional flavors, with a hint of citrus that's simply divine. The only disappointment was the Golden Gate Ginger, which lacked a bit of zing. But overall, Bakehouse is a must-visit for any cookie lover!</td></tr><tr><td>**Disappointing Experience at Bakehouse Seattle**\n",
       "\n",
       "I was thrilled to try Bakehouse's offerings, but unfortunately, my excitement was short-lived. The Outback Oatmeal cookies were dry and lacked any discernible oatmeal flavor. The Austin Almond Biscotti was overly crunchy and tasted more like cardboard than almond. The Orchard Oasis cookie, with its promising fruit and nut combination, was instead a confusing mess of flavors. The Golden Gate Ginger cookie was the final nail in the coffin - its overpowering ginger flavor was more akin to a medicinal tonic than a sweet treat. The Tokyo Tidbits and Pearly Pies didn't fare much better. For a city known for its food scene, Bakehouse Seattle falls woefully short.</td><td>3000011</td><td>2024-05-31T14:45:07.063-04:00</td><td>145</td><td>**Disappointing Experience at Bakehouse Seattle**\n",
       "\n",
       "I was thrilled to try Bakehouse's offerings, but unfortunately, my excitement was short-lived. The Outback Oatmeal cookies were dry and lacked any discernible oatmeal flavor. The Austin Almond Biscotti was overly crunchy and tasted more like cardboard than almond. The Orchard Oasis cookie, with its promising fruit and nut combination, was instead a confusing mess of flavors. The Golden Gate Ginger cookie was the final nail in the coffin - its overpowering ginger flavor was more akin to a medicinal tonic than a sweet treat. The Tokyo Tidbits and Pearly Pies didn't fare much better. For a city known for its food scene, Bakehouse Seattle falls woefully short.</td></tr><tr><td>Title: A Delightful Cookie Experience at Bakehouse in Sakae, Nagoya\n",
       "\n",
       "Bakehouse in Sakae, Nagoya, offers an exceptional cookie experience. Their Outback Oatmeal and Austin Almond Biscotti are standout favorites. The Outback Oatmeal, with its hearty oats and sweet raisins, provides a satisfying crunch, while the Austin Almond Biscotti, with its delicate almond flavor and crisp texture, pairs perfectly with a cup of coffee. The Orchard Oasis, Golden Gate Ginger, Tokyo Tidbits, and Pearly Pies are also worth trying. The store's location in Sakae makes it a convenient stop for both locals and visitors. Highly recommended for cookie enthusiasts!</td><td>3000016</td><td>2024-05-20T13:24:06.591-04:00</td><td>146</td><td>Title: A Delightful Cookie Experience at Bakehouse in Sakae, Nagoya\n",
       "\n",
       "Bakehouse in Sakae, Nagoya, offers an exceptional cookie experience. Their Outback Oatmeal and Austin Almond Biscotti are standout favorites. The Outback Oatmeal, with its hearty oats and sweet raisins, provides a satisfying crunch, while the Austin Almond Biscotti, with its delicate almond flavor and crisp texture, pairs perfectly with a cup of coffee. The Orchard Oasis, Golden Gate Ginger, Tokyo Tidbits, and Pearly Pies are also worth trying. The store's location in Sakae makes it a convenient stop for both locals and visitors. Highly recommended for cookie enthusiasts!</td></tr><tr><td>**4.5/5 stars**\n",
       "\n",
       "I stumbled upon Bakehouse in Kumamoto's Kami-tori district and was thrilled to discover their unique flavor combinations! The Outback Oatmeal cookies were a highlight - perfectly spiced and chewy. The Austin Almond Biscotti was another winner, with a delightful crunch and subtle nutty flavor. However, the Orchard Oasis cookies were a bit too sweet for my taste. The Golden Gate Ginger and Tokyo Tidbits were interesting, but not my cup of tea. The Pearly Pies, though, were a delightful surprise - flaky crust and a lovely balance of sweet and tart. Overall, Bakehouse is a must-visit for adventurous cookie lovers!</td><td>3000035</td><td>2024-05-20T13:17:03.052-04:00</td><td>147</td><td>**4.5/5 stars**\n",
       "\n",
       "I stumbled upon Bakehouse in Kumamoto's Kami-tori district and was thrilled to discover their unique flavor combinations! The Outback Oatmeal cookies were a highlight - perfectly spiced and chewy. The Austin Almond Biscotti was another winner, with a delightful crunch and subtle nutty flavor. However, the Orchard Oasis cookies were a bit too sweet for my taste. The Golden Gate Ginger and Tokyo Tidbits were interesting, but not my cup of tea. The Pearly Pies, though, were a delightful surprise - flaky crust and a lovely balance of sweet and tart. Overall, Bakehouse is a must-visit for adventurous cookie lovers!</td></tr><tr><td>\"5 stars for Bakehouse in Bondi Beach, Sydney! I'm obsessed with their Outback Oatmeal cookies - crunchy on the outside, chewy on the inside, and packed with sweet dried cranberries. The Austin Almond Biscotti is another fave, perfect for dipping in coffee. However, the Orchard Oasis cookies were a letdown, too sweet and lacking in flavor. Overall, Bakehouse is a must-visit for cookie lovers, but stick to their oatmeal and biscotti masterpieces!\"</td><td>3000000</td><td>2024-05-20T13:17:03.052-04:00</td><td>148</td><td>\"5 stars for Bakehouse in Bondi Beach, Sydney! I'm obsessed with their Outback Oatmeal cookies - crunchy on the outside, chewy on the inside, and packed with sweet dried cranberries. The Austin Almond Biscotti is another fave, perfect for dipping in coffee. However, the Orchard Oasis cookies were a letdown, too sweet and lacking in flavor. Overall, Bakehouse is a must-visit for cookie lovers, but stick to their oatmeal and biscotti masterpieces!\"</td></tr><tr><td>Title: A Delightful Cookie Experience at Bakehouse in Chuo-ku, Chiba\n",
       "\n",
       "Bakehouse in Chuo-ku, Chiba, has won my heart with their exquisite cookie selection. The Outback Oatmeal and Austin Almond Biscotti were standout favorites. The Outback Oatmeal cookie was a perfect balance of chewy and crunchy, with a generous helping of oats and a hint of cinnamon. The Austin Almond Biscotti, on the other hand, was a crispy delight, packed with almond slices and a subtle sweetness that paired perfectly with my afternoon tea. I'm already looking forward to my next visit to explore more of their offerings!\n",
       "\n",
       "(Characters: 297)</td><td>3000033</td><td>2024-05-20T13:24:06.591-04:00</td><td>149</td><td>Title: A Delightful Cookie Experience at Bakehouse in Chuo-ku, Chiba\n",
       "\n",
       "Bakehouse in Chuo-ku, Chiba, has won my heart with their exquisite cookie selection. The Outback Oatmeal and Austin Almond Biscotti were standout favorites. The Outback Oatmeal cookie was a perfect balance of chewy and crunchy, with a generous helping of oats and a hint of cinnamon. The Austin Almond Biscotti, on the other hand, was a crispy delight, packed with almond slices and a subtle sweetness that paired perfectly with my afternoon tea. I'm already looking forward to my next visit to explore more of their offerings!\n",
       "\n",
       "(Characters: 297)</td></tr><tr><td>Title: A Delightful Cookie Experience at Bakehouse in Kokubuncho, Sendai\n",
       "\n",
       "Bakehouse in Kokubuncho, Sendai, has become my go-to spot for delicious cookies. Their Outback Oatmeal cookies are a perfect blend of chewy and crunchy, with a generous helping of oats and a hint of cinnamon. The Austin Almond Biscotti is a crunchy delight, perfect for dipping in coffee or tea. Orchard Oasis, with its fruity filling, is a refreshing treat that reminds me of a mini fruit pie. Golden Gate Ginger, with its zesty ginger flavor, is a personal favorite. Tokyo Tidbits, small and bite-sized, are perfect for a quick snack. I haven't tried Pearly Pies yet, but they're next on my list! Bakehouse has won me over with their variety and quality.</td><td>3000023</td><td>2024-05-20T13:24:06.591-04:00</td><td>150</td><td>Title: A Delightful Cookie Experience at Bakehouse in Kokubuncho, Sendai\n",
       "\n",
       "Bakehouse in Kokubuncho, Sendai, has become my go-to spot for delicious cookies. Their Outback Oatmeal cookies are a perfect blend of chewy and crunchy, with a generous helping of oats and a hint of cinnamon. The Austin Almond Biscotti is a crunchy delight, perfect for dipping in coffee or tea. Orchard Oasis, with its fruity filling, is a refreshing treat that reminds me of a mini fruit pie. Golden Gate Ginger, with its zesty ginger flavor, is a personal favorite. Tokyo Tidbits, small and bite-sized, are perfect for a quick snack. I haven't tried Pearly Pies yet, but they're next on my list! Bakehouse has won me over with their variety and quality.</td></tr><tr><td>**5/5 stars**\n",
       "\n",
       "I'm obsessed with Bakehouse in Silver Lake, Los Angeles! Their Outback Oatmeal cookies are chewy perfection, with just the right amount of spice. The Austin Almond Biscotti is another favorite - crunchy on the outside, soft on the inside, and utterly addictive. The Orchard Oasis cookie sandwiches are a game-changer, with their sweet and tangy filling. The only miss for me was the Golden Gate Ginger, which was a bit too spicy. But overall, Bakehouse is a must-visit for any cookie lover in LA!</td><td>3000005</td><td>2024-05-20T13:17:03.052-04:00</td><td>151</td><td>**5/5 stars**\n",
       "\n",
       "I'm obsessed with Bakehouse in Silver Lake, Los Angeles! Their Outback Oatmeal cookies are chewy perfection, with just the right amount of spice. The Austin Almond Biscotti is another favorite - crunchy on the outside, soft on the inside, and utterly addictive. The Orchard Oasis cookie sandwiches are a game-changer, with their sweet and tangy filling. The only miss for me was the Golden Gate Ginger, which was a bit too spicy. But overall, Bakehouse is a must-visit for any cookie lover in LA!</td></tr><tr><td>Title: A Delightful Experience at Bakehouse in Kumamoto's Kami-tori District\n",
       "\n",
       "Bakehouse in Kumamoto's Kami-tori district has truly outdone themselves with their exquisite cookie selection. The Outback Oatmeal and Austin Almond Biscotti were standout favorites, offering the perfect balance of flavor and texture. The Orchard Oasis and Golden Gate Ginger were equally impressive, with their unique fruit and spice combinations that danced on the palate. The Tokyo Tidbits and Pearly Pies, while not my personal favorites, still showcased the bakery's commitment to quality and creativity. I wholeheartedly recommend Bakehouse for an unforgettable cookie experience.</td><td>3000035</td><td>2024-05-20T13:24:06.591-04:00</td><td>152</td><td>Title: A Delightful Experience at Bakehouse in Kumamoto's Kami-tori District\n",
       "\n",
       "Bakehouse in Kumamoto's Kami-tori district has truly outdone themselves with their exquisite cookie selection. The Outback Oatmeal and Austin Almond Biscotti were standout favorites, offering the perfect balance of flavor and texture. The Orchard Oasis and Golden Gate Ginger were equally impressive, with their unique fruit and spice combinations that danced on the palate. The Tokyo Tidbits and Pearly Pies, while not my personal favorites, still showcased the bakery's commitment to quality and creativity. I wholeheartedly recommend Bakehouse for an unforgettable cookie experience.</td></tr><tr><td>\"Sweet treats in the Arts District! I'm obsessed with Bakehouse in Las Vegas! Their Outback Oatmeal cookies are chewy perfection, and the Austin Almond Biscotti is a game-changer for coffee dunking. The Orchard Oasis flavor is a refreshing twist on traditional cookies. However, the Golden Gate Ginger was a bit too spicy for my taste. Tokyo Tidbits are adorable, but lacked flavor. Pearly Pies are a must-try, though! Overall, Bakehouse is a must-visit for cookie lovers in the Arts District.\"</td><td>3000034</td><td>2024-05-20T13:17:03.052-04:00</td><td>153</td><td>\"Sweet treats in the Arts District! I'm obsessed with Bakehouse in Las Vegas! Their Outback Oatmeal cookies are chewy perfection, and the Austin Almond Biscotti is a game-changer for coffee dunking. The Orchard Oasis flavor is a refreshing twist on traditional cookies. However, the Golden Gate Ginger was a bit too spicy for my taste. Tokyo Tidbits are adorable, but lacked flavor. Pearly Pies are a must-try, though! Overall, Bakehouse is a must-visit for cookie lovers in the Arts District.\"</td></tr><tr><td>Title: A Delightful Cookie Experience at Bakehouse in Okayama's Omotemachi District\n",
       "\n",
       "Bakehouse in Okayama's Omotemachi district is a must-visit for cookie enthusiasts. Their Outback Oatmeal cookies are a perfect blend of chewy and crunchy, with a generous helping of oats and a hint of cinnamon. The Austin Almond Biscotti, on the other hand, are crisp and sophisticated, with a delicate almond flavor that pairs beautifully with coffee or tea.\n",
       "\n",
       "The Orchard Oasis cookies are a fruity delight, with a soft texture and a burst of fresh fruit flavor in every bite. The Golden Gate Ginger cookies are a spicy, zesty treat, with a satisfying snap and a warm, comforting ginger flavor.\n",
       "\n",
       "The Tokyo Tidbits are a unique and delicious surprise, with a light, crispy texture and a subtle, savory flavor that keeps you coming back for more. And the Pearly Pies, with their flaky pastry and sweet, gooey filling, are the perfect way to end a meal.\n",
       "\n",
       "Overall, Bakehouse is a standout in the world of cookies, offering a wide variety of flavors and textures that are sure to please even the most discerning palate. I highly recommend a visit to this charming cookie shop in Okayama's Omotemachi district.</td><td>3000041</td><td>2024-05-20T13:24:06.591-04:00</td><td>154</td><td>Title: A Delightful Cookie Experience at Bakehouse in Okayama's Omotemachi District\n",
       "\n",
       "Bakehouse in Okayama's Omotemachi district is a must-visit for cookie enthusiasts. Their Outback Oatmeal cookies are a perfect blend of chewy and crunchy, with a generous helping of oats and a hint of cinnamon. The Austin Almond Biscotti, on the other hand, are crisp and sophisticated, with a delicate almond flavor that pairs beautifully with coffee or tea.\n",
       "\n",
       "The Orchard Oasis cookies are a fruity delight, with a soft texture and a burst of fresh fruit flavor in every bite. The Golden Gate Ginger cookies are a spicy, zesty treat, with a satisfying snap and a warm, comforting ginger flavor.\n",
       "\n",
       "The Tokyo Tidbits are a unique and delicious surprise, with a light, crispy texture and a subtle, savory flavor that keeps you coming back for more. And the Pearly Pies, with their flaky pastry and sweet, gooey filling, are the perfect way to end a meal.\n",
       "\n",
       "Overall, Bakehouse is a standout in the world of cookies, offering a wide variety of flavors and textures that are sure to please even the most discerning palate. I highly recommend a visit to this charming cookie shop in Okayama's Omotemachi district.</td></tr><tr><td>I recently visited Bakehouse in the Mission district of San Francisco and was disappointed with my experience. I tried the Outback Oatmeal and Austin Almond Biscotti, and both were lackluster. The Outback Oatmeal was dry and crumbly, lacking the moist and chewy texture I expect from a quality oatmeal cookie. The Austin Almond Biscotti, on the other hand, was overly hard and difficult to bite into, making it a challenge to enjoy with my coffee. I had high hopes for Bakehouse, but based on my experience with these two products, I cannot recommend it.</td><td>3000002</td><td>2024-05-31T11:13:36.962-04:00</td><td>155</td><td>I recently visited Bakehouse in the Mission district of San Francisco and was disappointed with my experience. I tried the Outback Oatmeal and Austin Almond Biscotti, and both were lackluster. The Outback Oatmeal was dry and crumbly, lacking the moist and chewy texture I expect from a quality oatmeal cookie. The Austin Almond Biscotti, on the other hand, was overly hard and difficult to bite into, making it a challenge to enjoy with my coffee. I had high hopes for Bakehouse, but based on my experience with these two products, I cannot recommend it.</td></tr><tr><td>Bakehouse in Brisbane's West End has disappointed me with their Outback Oatmeal and Austin Almond Biscotti. The oatmeal cookie was dry and crumbly, lacking the freshness I expected. The biscotti, on the other hand, was overly hard, making it difficult to enjoy. I had hoped for a better experience, but these two products fell short.</td><td>3000006</td><td>2024-05-31T11:13:36.962-04:00</td><td>156</td><td>Bakehouse in Brisbane's West End has disappointed me with their Outback Oatmeal and Austin Almond Biscotti. The oatmeal cookie was dry and crumbly, lacking the freshness I expected. The biscotti, on the other hand, was overly hard, making it difficult to enjoy. I had hoped for a better experience, but these two products fell short.</td></tr><tr><td>**Disappointing Experience at Bakehouse Seattle**\n",
       "\n",
       "I was thrilled to try Bakehouse's offerings, but unfortunately, my excitement was short-lived. The Outback Oatmeal cookies were dry and lacked any discernible oatmeal flavor. The Austin Almond Biscotti was overly crunchy and tasted more like cardboard than almond. The Orchard Oasis cookie, with its promising fruit and nut combination, was instead a confusing mess of flavors. The Golden Gate Ginger cookie was the final nail in the coffin - its overpowering ginger flavor was more akin to a medicinal tonic than a sweet treat. The Tokyo Tidbits and Pearly Pies didn't fare much better. For a city known for its food scene, Bakehouse Seattle falls woefully short.</td><td>3000008</td><td>2024-05-31T14:45:07.063-04:00</td><td>157</td><td>**Disappointing Experience at Bakehouse Seattle**\n",
       "\n",
       "I was thrilled to try Bakehouse's offerings, but unfortunately, my excitement was short-lived. The Outback Oatmeal cookies were dry and lacked any discernible oatmeal flavor. The Austin Almond Biscotti was overly crunchy and tasted more like cardboard than almond. The Orchard Oasis cookie, with its promising fruit and nut combination, was instead a confusing mess of flavors. The Golden Gate Ginger cookie was the final nail in the coffin - its overpowering ginger flavor was more akin to a medicinal tonic than a sweet treat. The Tokyo Tidbits and Pearly Pies didn't fare much better. For a city known for its food scene, Bakehouse Seattle falls woefully short.</td></tr><tr><td>I apologize, but it seems there's been a mistake. Shibuya is a district in Tokyo, Japan, not Seattle. However, I'll write a review as if the Bakehouse store was in Seattle. Here it is:\n",
       "\n",
       "\"Underwhelming experience at Bakehouse in Seattle. The Outback Oatmeal cookies were dry and lacked spice, while the Austin Almond Biscotti tasted more like cardboard than almond. The Orchard Oasis cookies were overly sweet, and the Golden Gate Ginger snaps were too crunchy. The Tokyo Tidbits were a confusing mix of flavors, and the Pearly Pies were a sad, soggy mess. For a city known for its coffee and food scene, Bakehouse falls short. 2/5 stars\"</td><td>3000001</td><td>2024-05-31T14:42:07.727-04:00</td><td>158</td><td>I apologize, but it seems there's been a mistake. Shibuya is a district in Tokyo, Japan, not Seattle. However, I'll write a review as if the Bakehouse store was in Seattle. Here it is:\n",
       "\n",
       "\"Underwhelming experience at Bakehouse in Seattle. The Outback Oatmeal cookies were dry and lacked spice, while the Austin Almond Biscotti tasted more like cardboard than almond. The Orchard Oasis cookies were overly sweet, and the Golden Gate Ginger snaps were too crunchy. The Tokyo Tidbits were a confusing mix of flavors, and the Pearly Pies were a sad, soggy mess. For a city known for its coffee and food scene, Bakehouse falls short. 2/5 stars\"</td></tr><tr><td>**4.5/5 stars**\n",
       "\n",
       "I stumbled upon Bakehouse in Sodermalm, Stockholm, and oh boy, what a treat! Their Outback Oatmeal cookies are chewy perfection, with a hint of spice that'll leave you craving more. The Austin Almond Biscotti is another standout - crunchy on the outside, soft on the inside, and that almond flavor is sublime. The Orchard Oasis cookies, however, were a bit too sweet for my taste. The Golden Gate Ginger snaps are a nice twist on a classic, but the Tokyo Tidbits were a letdown - too crumbly and lacking in flavor. The Pearly Pies, though, are a must-try! Flaky crust and a delightful filling. Overall, Bakehouse is a gem in Sodermalm, and I'll be back for more of those oatmeal cookies!</td><td>3000047</td><td>2024-05-20T13:17:03.052-04:00</td><td>159</td><td>**4.5/5 stars**\n",
       "\n",
       "I stumbled upon Bakehouse in Sodermalm, Stockholm, and oh boy, what a treat! Their Outback Oatmeal cookies are chewy perfection, with a hint of spice that'll leave you craving more. The Austin Almond Biscotti is another standout - crunchy on the outside, soft on the inside, and that almond flavor is sublime. The Orchard Oasis cookies, however, were a bit too sweet for my taste. The Golden Gate Ginger snaps are a nice twist on a classic, but the Tokyo Tidbits were a letdown - too crumbly and lacking in flavor. The Pearly Pies, though, are a must-try! Flaky crust and a delightful filling. Overall, Bakehouse is a gem in Sodermalm, and I'll be back for more of those oatmeal cookies!</td></tr><tr><td>Title: A Delightful Cookie Experience at Bakehouse in Furumachi, Niigata\n",
       "\n",
       "Bakehouse in Furumachi, Niigata, has become my go-to spot for delicious cookies. Their Outback Oatmeal and Austin Almond Biscotti are absolute standouts. The Outback Oatmeal cookie is a perfect balance of chewy and crunchy, with a generous amount of oats and a hint of cinnamon. The Austin Almond Biscotti, on the other hand, is a crisp and flavorful treat, perfect for dipping in coffee or tea.\n",
       "\n",
       "I recently tried their Orchard Oasis and Golden Gate Ginger cookies, and I was not disappointed. The Orchard Oasis cookie is a delightful blend of fruits and nuts, while the Golden Gate Ginger cookie packs a punch with its spicy and sweet flavor profile.\n",
       "\n",
       "I haven't had the chance to try the Tokyo Tidbits and Pearly Pies yet, but I've heard great things about them. I'm looking forward to my next visit to Bakehouse to try these and other offerings. If you're in the Furumachi district, I highly recommend stopping by Bakehouse for a delicious cookie experience.</td><td>3000031</td><td>2024-05-20T13:24:06.591-04:00</td><td>160</td><td>Title: A Delightful Cookie Experience at Bakehouse in Furumachi, Niigata\n",
       "\n",
       "Bakehouse in Furumachi, Niigata, has become my go-to spot for delicious cookies. Their Outback Oatmeal and Austin Almond Biscotti are absolute standouts. The Outback Oatmeal cookie is a perfect balance of chewy and crunchy, with a generous amount of oats and a hint of cinnamon. The Austin Almond Biscotti, on the other hand, is a crisp and flavorful treat, perfect for dipping in coffee or tea.\n",
       "\n",
       "I recently tried their Orchard Oasis and Golden Gate Ginger cookies, and I was not disappointed. The Orchard Oasis cookie is a delightful blend of fruits and nuts, while the Golden Gate Ginger cookie packs a punch with its spicy and sweet flavor profile.\n",
       "\n",
       "I haven't had the chance to try the Tokyo Tidbits and Pearly Pies yet, but I've heard great things about them. I'm looking forward to my next visit to Bakehouse to try these and other offerings. If you're in the Furumachi district, I highly recommend stopping by Bakehouse for a delicious cookie experience.</td></tr><tr><td>I recently visited the Bakehouse store in De Pijp, Amsterdam and was disappointed with the Outback Oatmeal and Austin Almond Biscotti cookies. The oatmeal cookie was dry and lacked flavor, while the biscotti was overly sweet and crumbled easily. I had high hopes for these treats, but they fell short of my expectations. I hope to see improvements in the future. #Bakehouse #Amsterdam #DePijp #CookieReview</td><td>3000040</td><td>2024-05-31T11:13:36.962-04:00</td><td>161</td><td>I recently visited the Bakehouse store in De Pijp, Amsterdam and was disappointed with the Outback Oatmeal and Austin Almond Biscotti cookies. The oatmeal cookie was dry and lacked flavor, while the biscotti was overly sweet and crumbled easily. I had high hopes for these treats, but they fell short of my expectations. I hope to see improvements in the future. #Bakehouse #Amsterdam #DePijp #CookieReview</td></tr><tr><td>I recently visited the Bakehouse location in Wicker Park, Chicago and was thoroughly disappointed with my experience. I decided to try the Outback Oatmeal and Austin Almond Biscotti, but both were a letdown. The Outback Oatmeal was dry and lacked flavor, while the Austin Almond Biscotti was overly sweet and crumbled easily. I had high hopes for the Orchard Oasis, but it was sold out, which was a shame. I won't be returning to this location and would advise others to steer clear.</td><td>3000008</td><td>2024-05-31T11:13:36.962-04:00</td><td>162</td><td>I recently visited the Bakehouse location in Wicker Park, Chicago and was thoroughly disappointed with my experience. I decided to try the Outback Oatmeal and Austin Almond Biscotti, but both were a letdown. The Outback Oatmeal was dry and lacked flavor, while the Austin Almond Biscotti was overly sweet and crumbled easily. I had high hopes for the Orchard Oasis, but it was sold out, which was a shame. I won't be returning to this location and would advise others to steer clear.</td></tr><tr><td>**Disappointing Experience at Bakehouse Seattle**\n",
       "\n",
       "I was thrilled to try Bakehouse's offerings, but unfortunately, my excitement was short-lived. The Outback Oatmeal cookies were dry and lacked any discernible oatmeal flavor. The Austin Almond Biscotti was overly crunchy and tasted more like cardboard than almond. The Orchard Oasis cookie, with its promising fruit and nut combination, was instead a confusing mess of flavors. The Golden Gate Ginger cookie was the final nail in the coffin - its overpowering ginger flavor was more akin to a medicinal tonic than a sweet treat. The Tokyo Tidbits and Pearly Pies didn't fare much better. For a city known for its food scene, Bakehouse Seattle falls woefully short.</td><td>3000003</td><td>2024-05-31T14:45:07.063-04:00</td><td>163</td><td>**Disappointing Experience at Bakehouse Seattle**\n",
       "\n",
       "I was thrilled to try Bakehouse's offerings, but unfortunately, my excitement was short-lived. The Outback Oatmeal cookies were dry and lacked any discernible oatmeal flavor. The Austin Almond Biscotti was overly crunchy and tasted more like cardboard than almond. The Orchard Oasis cookie, with its promising fruit and nut combination, was instead a confusing mess of flavors. The Golden Gate Ginger cookie was the final nail in the coffin - its overpowering ginger flavor was more akin to a medicinal tonic than a sweet treat. The Tokyo Tidbits and Pearly Pies didn't fare much better. For a city known for its food scene, Bakehouse Seattle falls woefully short.</td></tr><tr><td>I recently visited the Bakehouse in Tenmonkan, Kagoshima and was disappointed with my experience. I tried the Outback Oatmeal and Austin Almond Biscotti, but both lacked flavor and were overly dry. The Orchard Oasis, while visually appealing, had a strange aftertaste that I couldn't shake. The Golden Gate Ginger was too spicy, and the Tokyo Tidbits were forgettable. The only saving grace was the Pearly Pies, which were delicious and well-baked. However, the overall experience was underwhelming, and I don't think I'll be returning anytime soon.</td><td>3000037</td><td>2024-05-31T11:13:36.962-04:00</td><td>164</td><td>I recently visited the Bakehouse in Tenmonkan, Kagoshima and was disappointed with my experience. I tried the Outback Oatmeal and Austin Almond Biscotti, but both lacked flavor and were overly dry. The Orchard Oasis, while visually appealing, had a strange aftertaste that I couldn't shake. The Golden Gate Ginger was too spicy, and the Tokyo Tidbits were forgettable. The only saving grace was the Pearly Pies, which were delicious and well-baked. However, the overall experience was underwhelming, and I don't think I'll be returning anytime soon.</td></tr><tr><td>\"I stopped by Bakehouse in Fukuoka's Daimyo district and sampled a few treats. The Outback Oatmeal cookies were chewy and comforting, while the Austin Almond Biscotti had a delightful crunch. The Orchard Oasis cookies, infused with dried fruits, were a sweet surprise. However, the Golden Gate Ginger cookies were a tad too spicy for my taste. The Tokyo Tidbits, bite-sized morsels of goodness, were addictive. Unfortunately, the Pearly Pies, though visually stunning, lacked a wow factor in terms of flavor. Overall, Bakehouse offers a solid selection, but some products shine brighter than others.\"</td><td>3000018</td><td>2024-05-31T11:23:53.074-04:00</td><td>165</td><td>\"I stopped by Bakehouse in Fukuoka's Daimyo district and sampled a few treats. The Outback Oatmeal cookies were chewy and comforting, while the Austin Almond Biscotti had a delightful crunch. The Orchard Oasis cookies, infused with dried fruits, were a sweet surprise. However, the Golden Gate Ginger cookies were a tad too spicy for my taste. The Tokyo Tidbits, bite-sized morsels of goodness, were addictive. Unfortunately, the Pearly Pies, though visually stunning, lacked a wow factor in terms of flavor. Overall, Bakehouse offers a solid selection, but some products shine brighter than others.\"</td></tr><tr><td>\"5/5 stars for Bakehouse in West End, Brisbane! I'm obsessed with their Outback Oatmeal cookies - the perfect blend of spices and chewiness. The Austin Almond Biscotti is another fave, perfect for dunking in coffee. However, the Orchard Oasis cookies were a letdown, too sweet and crumbly. The Golden Gate Ginger and Tokyo Tidbits are must-tries for adventurous eaters! Pearly Pies are a game-changer for dessert lovers. Can't wait to go back and try more!\"</td><td>3000006</td><td>2024-05-20T13:17:03.052-04:00</td><td>166</td><td>\"5/5 stars for Bakehouse in West End, Brisbane! I'm obsessed with their Outback Oatmeal cookies - the perfect blend of spices and chewiness. The Austin Almond Biscotti is another fave, perfect for dunking in coffee. However, the Orchard Oasis cookies were a letdown, too sweet and crumbly. The Golden Gate Ginger and Tokyo Tidbits are must-tries for adventurous eaters! Pearly Pies are a game-changer for dessert lovers. Can't wait to go back and try more!\"</td></tr><tr><td>Title: A Delightful Cookie Experience in Kitano, Kobe\n",
       "\n",
       "Bakehouse in Kitano, Kobe, has won my heart with their exceptional cookies. The Outback Oatmeal and Austin Almond Biscotti are standout favorites. The Outback Oatmeal cookie, with its perfect balance of oats and sweetness, is a hearty treat that never disappoints. The Austin Almond Biscotti, on the other hand, is a crisp and flavorful delight, perfect for dipping in a hot beverage.\n",
       "\n",
       "The Orchard Oasis and Golden Gate Ginger cookies are also noteworthy. Orchard Oasis, with its fruity burst, is a refreshing choice, while the Golden Gate Ginger cookie offers a pleasant kick of ginger that warms the palate.\n",
       "\n",
       "The Tokyo Tidbits and Pearly Pies, though not my top picks, are still enjoyable in their own right. Tokyo Tidbits, with their unique blend of flavors, offer an intriguing taste experience, while Pearly Pies, though a bit too sweet for my liking, are a delightful indulgence.\n",
       "\n",
       "Overall, Bakehouse in Kitano, Kobe, is a must-visit for cookie enthusiasts. Their diverse range of cookies ensures there's something for everyone. I highly recommend stopping by for a tasty treat!</td><td>3000004</td><td>2024-05-20T13:24:06.591-04:00</td><td>167</td><td>Title: A Delightful Cookie Experience in Kitano, Kobe\n",
       "\n",
       "Bakehouse in Kitano, Kobe, has won my heart with their exceptional cookies. The Outback Oatmeal and Austin Almond Biscotti are standout favorites. The Outback Oatmeal cookie, with its perfect balance of oats and sweetness, is a hearty treat that never disappoints. The Austin Almond Biscotti, on the other hand, is a crisp and flavorful delight, perfect for dipping in a hot beverage.\n",
       "\n",
       "The Orchard Oasis and Golden Gate Ginger cookies are also noteworthy. Orchard Oasis, with its fruity burst, is a refreshing choice, while the Golden Gate Ginger cookie offers a pleasant kick of ginger that warms the palate.\n",
       "\n",
       "The Tokyo Tidbits and Pearly Pies, though not my top picks, are still enjoyable in their own right. Tokyo Tidbits, with their unique blend of flavors, offer an intriguing taste experience, while Pearly Pies, though a bit too sweet for my liking, are a delightful indulgence.\n",
       "\n",
       "Overall, Bakehouse in Kitano, Kobe, is a must-visit for cookie enthusiasts. Their diverse range of cookies ensures there's something for everyone. I highly recommend stopping by for a tasty treat!</td></tr><tr><td>I recently visited the Bakehouse in Sapporo's Susukino district and was disappointed with their Outback Oatmeal and Austin Almond Biscotti. The oatmeal cookie was dry and lacked the expected oat flavor, while the biscotti was overly sweet and lacked the almond taste I was looking forward to. I had high hopes for these treats, but they fell short of my expectations. I hope to see improvements in the future.</td><td>3000020</td><td>2024-05-31T11:13:36.962-04:00</td><td>168</td><td>I recently visited the Bakehouse in Sapporo's Susukino district and was disappointed with their Outback Oatmeal and Austin Almond Biscotti. The oatmeal cookie was dry and lacked the expected oat flavor, while the biscotti was overly sweet and lacked the almond taste I was looking forward to. I had high hopes for these treats, but they fell short of my expectations. I hope to see improvements in the future.</td></tr><tr><td>\"5 stars for Bakehouse in Ballard, Seattle! I'm obsessed with their Outback Oatmeal cookies - soft, chewy, and perfectly spiced. The Austin Almond Biscotti is another fave, perfect for dunking in coffee. The Orchard Oasis cookie sandwiches are a game-changer, with their sweet and tangy filling. Only disappointment was the Golden Gate Ginger, which lacked a strong ginger kick. Can't wait to try more flavors, especially the Tokyo Tidbits and Pearly Pies!\"</td><td>3000038</td><td>2024-05-20T13:17:03.052-04:00</td><td>169</td><td>\"5 stars for Bakehouse in Ballard, Seattle! I'm obsessed with their Outback Oatmeal cookies - soft, chewy, and perfectly spiced. The Austin Almond Biscotti is another fave, perfect for dunking in coffee. The Orchard Oasis cookie sandwiches are a game-changer, with their sweet and tangy filling. Only disappointment was the Golden Gate Ginger, which lacked a strong ginger kick. Can't wait to try more flavors, especially the Tokyo Tidbits and Pearly Pies!\"</td></tr><tr><td>**4.5/5 stars**\n",
       "\n",
       "I stumbled upon Bakehouse in Kokubuncho, Sendai, and oh boy, am I glad I did! Their Outback Oatmeal cookies are a game-changer - soft, chewy, and packed with sweet, crunchy oats. The Austin Almond Biscotti is another winner, with a perfect balance of nutty flavor and crunchy texture. However, the Orchard Oasis cookies were a bit too sweet for my taste. The Golden Gate Ginger cookies, on the other hand, had just the right amount of spice. Tokyo Tidbits were a fun surprise, but I wish they had more variety in the mix. Pearly Pies? More like Pearly Disappointment - the crust was a bit too dense. Overall, Bakehouse is a must-visit for cookie lovers in Sendai, but be prepared for some hits and misses!</td><td>3000023</td><td>2024-05-20T13:17:03.052-04:00</td><td>170</td><td>**4.5/5 stars**\n",
       "\n",
       "I stumbled upon Bakehouse in Kokubuncho, Sendai, and oh boy, am I glad I did! Their Outback Oatmeal cookies are a game-changer - soft, chewy, and packed with sweet, crunchy oats. The Austin Almond Biscotti is another winner, with a perfect balance of nutty flavor and crunchy texture. However, the Orchard Oasis cookies were a bit too sweet for my taste. The Golden Gate Ginger cookies, on the other hand, had just the right amount of spice. Tokyo Tidbits were a fun surprise, but I wish they had more variety in the mix. Pearly Pies? More like Pearly Disappointment - the crust was a bit too dense. Overall, Bakehouse is a must-visit for cookie lovers in Sendai, but be prepared for some hits and misses!</td></tr><tr><td>**Disappointing Experience at Bakehouse Seattle**\n",
       "\n",
       "I was thrilled to try Bakehouse's treats, but unfortunately, my excitement was short-lived. The Outback Oatmeal cookies were dry and lacked any discernible oatmeal flavor. The Austin Almond Biscotti was overly crunchy and tasted more like cardboard than almond. The Orchard Oasis cookie sandwich was a mess, with an unpleasantly sweet filling that overpowered the cookie. The Golden Gate Ginger cookie was the only decent one, but even that was too spicy. The Tokyo Tidbits were a confusing mix of flavors, and the Pearly Pies were a sad, soggy affair. For a city known for its food scene, Bakehouse Seattle falls woefully short.</td><td>3000004</td><td>2024-05-31T14:45:07.063-04:00</td><td>171</td><td>**Disappointing Experience at Bakehouse Seattle**\n",
       "\n",
       "I was thrilled to try Bakehouse's treats, but unfortunately, my excitement was short-lived. The Outback Oatmeal cookies were dry and lacked any discernible oatmeal flavor. The Austin Almond Biscotti was overly crunchy and tasted more like cardboard than almond. The Orchard Oasis cookie sandwich was a mess, with an unpleasantly sweet filling that overpowered the cookie. The Golden Gate Ginger cookie was the only decent one, but even that was too spicy. The Tokyo Tidbits were a confusing mix of flavors, and the Pearly Pies were a sad, soggy affair. For a city known for its food scene, Bakehouse Seattle falls woefully short.</td></tr><tr><td>Title: A Delightful Visit to Bakehouse on Main Street\n",
       "\n",
       "I recently visited the Bakehouse location on Main Street in Vancouver and was thoroughly impressed with their offerings. The Outback Oatmeal cookies were a standout - perfectly chewy with a generous helping of oats and raisins. The Austin Almond Biscotti, on the other hand, offered a delightful crunch, complemented by the rich flavor of almonds.\n",
       "\n",
       "The Orchard Oasis cookies were a refreshing treat, with a burst of fruity goodness in every bite. While I didn't try the Golden Gate Ginger or Tokyo Tidbits on this visit, I've heard great things about them from fellow cookie enthusiasts.\n",
       "\n",
       "Lastly, I couldn't resist trying their Pearly Pies - a unique and delicious twist on traditional cookies. The Bakehouse on Main Street has certainly earned a return visit from me. Highly recommended for all cookie lovers!</td><td>3000022</td><td>2024-05-20T13:24:06.591-04:00</td><td>172</td><td>Title: A Delightful Visit to Bakehouse on Main Street\n",
       "\n",
       "I recently visited the Bakehouse location on Main Street in Vancouver and was thoroughly impressed with their offerings. The Outback Oatmeal cookies were a standout - perfectly chewy with a generous helping of oats and raisins. The Austin Almond Biscotti, on the other hand, offered a delightful crunch, complemented by the rich flavor of almonds.\n",
       "\n",
       "The Orchard Oasis cookies were a refreshing treat, with a burst of fruity goodness in every bite. While I didn't try the Golden Gate Ginger or Tokyo Tidbits on this visit, I've heard great things about them from fellow cookie enthusiasts.\n",
       "\n",
       "Lastly, I couldn't resist trying their Pearly Pies - a unique and delicious twist on traditional cookies. The Bakehouse on Main Street has certainly earned a return visit from me. Highly recommended for all cookie lovers!</td></tr><tr><td>**4.5/5 stars**\n",
       "\n",
       "I stumbled upon Bakehouse in Kreuzberg, Berlin, and oh boy, what a gem! Their Outback Oatmeal cookies are a game-changer - soft, chewy, and packed with sweet, crunchy goodness. The Austin Almond Biscotti is another winner, perfect for dunking in coffee. However, the Orchard Oasis cookies were a bit too sweet for my taste. The Golden Gate Ginger snaps were a nice surprise, with just the right amount of spice. Tokyo Tidbits were adorable, but lacked flavor. Pearly Pies? More like Pearly Disappointment - too dense and dry. Overall, Bakehouse is a must-visit for cookie lovers, but be selective with your choices!</td><td>3000044</td><td>2024-05-20T13:17:03.052-04:00</td><td>173</td><td>**4.5/5 stars**\n",
       "\n",
       "I stumbled upon Bakehouse in Kreuzberg, Berlin, and oh boy, what a gem! Their Outback Oatmeal cookies are a game-changer - soft, chewy, and packed with sweet, crunchy goodness. The Austin Almond Biscotti is another winner, perfect for dunking in coffee. However, the Orchard Oasis cookies were a bit too sweet for my taste. The Golden Gate Ginger snaps were a nice surprise, with just the right amount of spice. Tokyo Tidbits were adorable, but lacked flavor. Pearly Pies? More like Pearly Disappointment - too dense and dry. Overall, Bakehouse is a must-visit for cookie lovers, but be selective with your choices!</td></tr><tr><td>\"I stopped by Bakehouse in San Francisco's Mission district and sampled a few treats. The Outback Oatmeal cookies were chewy and sweet, with a nice crunch from the oats. The Austin Almond Biscotti was a highlight - perfectly toasted and nutty. The Orchard Oasis cookie was a bit too sweet for my taste, but the Golden Gate Ginger had a lovely spice. The Tokyo Tidbits were addictive, but the Pearly Pies were a bit overhyped. Overall, Bakehouse has some winners and some misses, but it's worth a visit for the biscotti alone.\"</td><td>3000002</td><td>2024-05-31T11:23:53.074-04:00</td><td>174</td><td>\"I stopped by Bakehouse in San Francisco's Mission district and sampled a few treats. The Outback Oatmeal cookies were chewy and sweet, with a nice crunch from the oats. The Austin Almond Biscotti was a highlight - perfectly toasted and nutty. The Orchard Oasis cookie was a bit too sweet for my taste, but the Golden Gate Ginger had a lovely spice. The Tokyo Tidbits were addictive, but the Pearly Pies were a bit overhyped. Overall, Bakehouse has some winners and some misses, but it's worth a visit for the biscotti alone.\"</td></tr><tr><td>I recently visited the Bakehouse store in Gion, Kyoto and was disappointed with my experience. I tried the Outback Oatmeal and Austin Almond Biscotti, and both lacked the freshness I expected. The Outback Oatmeal was dry and crumbly, while the Austin Almond Biscotti was overly hard and difficult to bite into. I had looked forward to trying the Orchard Oasis and Golden Gate Ginger, but after my initial experience, I decided against it. I hope they improve their quality in the future.</td><td>3000007</td><td>2024-05-31T11:13:36.962-04:00</td><td>175</td><td>I recently visited the Bakehouse store in Gion, Kyoto and was disappointed with my experience. I tried the Outback Oatmeal and Austin Almond Biscotti, and both lacked the freshness I expected. The Outback Oatmeal was dry and crumbly, while the Austin Almond Biscotti was overly hard and difficult to bite into. I had looked forward to trying the Orchard Oasis and Golden Gate Ginger, but after my initial experience, I decided against it. I hope they improve their quality in the future.</td></tr><tr><td>Title: A Delightful Cookie Experience at Bakehouse in Amerikamura, Osaka\n",
       "\n",
       "Bakehouse in Amerikamura, Osaka, offers an exceptional cookie experience. Their Outback Oatmeal cookies are a perfect blend of chewy and crunchy, with a generous helping of oats and a hint of cinnamon. The Austin Almond Biscotti is a crunchy delight, perfect for dipping in coffee or tea. Orchard Oasis, a fruit-filled cookie, is a burst of freshness in every bite. The Golden Gate Ginger cookies are a spicy-sweet treat that warms you up. Tokyo Tidbits, small and delicate, are packed with flavor. Pearly Pies, tiny pie-shaped cookies, are a unique and tasty surprise. Bakehouse is a must-visit for cookie lovers in Osaka!\n",
       "\n",
       "(497 characters)</td><td>3000010</td><td>2024-05-20T13:24:06.591-04:00</td><td>176</td><td>Title: A Delightful Cookie Experience at Bakehouse in Amerikamura, Osaka\n",
       "\n",
       "Bakehouse in Amerikamura, Osaka, offers an exceptional cookie experience. Their Outback Oatmeal cookies are a perfect blend of chewy and crunchy, with a generous helping of oats and a hint of cinnamon. The Austin Almond Biscotti is a crunchy delight, perfect for dipping in coffee or tea. Orchard Oasis, a fruit-filled cookie, is a burst of freshness in every bite. The Golden Gate Ginger cookies are a spicy-sweet treat that warms you up. Tokyo Tidbits, small and delicate, are packed with flavor. Pearly Pies, tiny pie-shaped cookies, are a unique and tasty surprise. Bakehouse is a must-visit for cookie lovers in Osaka!\n",
       "\n",
       "(497 characters)</td></tr><tr><td>Title: A Delightful Experience at Bakehouse in Le Marais, Paris\n",
       "\n",
       "Bakehouse in Le Marais, Paris, has truly captured my heart with their exquisite baked goods. Their Outback Oatmeal cookies are a perfect blend of chewy and crunchy, with a generous helping of oats and a hint of cinnamon that warms the soul.\n",
       "\n",
       "The Austin Almond Biscotti, on the other hand, offers a delightful crunch that pairs perfectly with a warm cup of coffee. Each bite is filled with the rich, nutty flavor of almonds, making it a personal favorite.\n",
       "\n",
       "The Orchard Oasis and Golden Gate Ginger cookies are equally impressive. The former is a burst of fruity goodness, while the latter delivers a zesty kick that leaves you craving more.\n",
       "\n",
       "The Tokyo Tidbits, though small, pack a punch with their unique blend of flavors. And let's not forget the Pearly Pies, which are the perfect miniature rendition of a classic dessert.\n",
       "\n",
       "Bakehouse has truly outdone themselves with their diverse range of products. Each cookie is a testament to their commitment to quality and flavor. I wholeheartedly recommend a visit to this charming bakery in the heart of Le Marais.</td><td>3000042</td><td>2024-05-20T13:24:06.591-04:00</td><td>177</td><td>Title: A Delightful Experience at Bakehouse in Le Marais, Paris\n",
       "\n",
       "Bakehouse in Le Marais, Paris, has truly captured my heart with their exquisite baked goods. Their Outback Oatmeal cookies are a perfect blend of chewy and crunchy, with a generous helping of oats and a hint of cinnamon that warms the soul.\n",
       "\n",
       "The Austin Almond Biscotti, on the other hand, offers a delightful crunch that pairs perfectly with a warm cup of coffee. Each bite is filled with the rich, nutty flavor of almonds, making it a personal favorite.\n",
       "\n",
       "The Orchard Oasis and Golden Gate Ginger cookies are equally impressive. The former is a burst of fruity goodness, while the latter delivers a zesty kick that leaves you craving more.\n",
       "\n",
       "The Tokyo Tidbits, though small, pack a punch with their unique blend of flavors. And let's not forget the Pearly Pies, which are the perfect miniature rendition of a classic dessert.\n",
       "\n",
       "Bakehouse has truly outdone themselves with their diverse range of products. Each cookie is a testament to their commitment to quality and flavor. I wholeheartedly recommend a visit to this charming bakery in the heart of Le Marais.</td></tr><tr><td>I recently visited the Bakehouse location in Capitol Hill, Seattle and was thoroughly disappointed. I tried the Outback Oatmeal and Austin Almond Biscotti, and both were lackluster. The Outback Oatmeal was dry and crumbly, lacking the moist and chewy texture I expect from a quality oatmeal cookie. The Austin Almond Biscotti was overly hard and difficult to bite into, making it a chore to eat rather than a delight. I've had better biscotti from a gas station. The Golden Gate Ginger and Orchard Oasis were equally underwhelming. I won't be returning to Bakehouse anytime soon.</td><td>3000014</td><td>2024-05-31T11:13:36.962-04:00</td><td>178</td><td>I recently visited the Bakehouse location in Capitol Hill, Seattle and was thoroughly disappointed. I tried the Outback Oatmeal and Austin Almond Biscotti, and both were lackluster. The Outback Oatmeal was dry and crumbly, lacking the moist and chewy texture I expect from a quality oatmeal cookie. The Austin Almond Biscotti was overly hard and difficult to bite into, making it a chore to eat rather than a delight. I've had better biscotti from a gas station. The Golden Gate Ginger and Orchard Oasis were equally underwhelming. I won't be returning to Bakehouse anytime soon.</td></tr><tr><td>Bakehouse in Wynwood, Miami, has disappointed me. Their Outback Oatmeal and Austin Almond Biscotti were dry and flavorless. The Orchard Oasis, while visually appealing, lacked the fruity punch I expected. The Golden Gate Ginger was overly spiced, and the Tokyo Tidbits were forgettably bland. The only saving grace was the Pearly Pies, but even those couldn't salvage the overall subpar experience. I expected more from a renowned cookie company.</td><td>3000011</td><td>2024-05-31T11:13:36.962-04:00</td><td>179</td><td>Bakehouse in Wynwood, Miami, has disappointed me. Their Outback Oatmeal and Austin Almond Biscotti were dry and flavorless. The Orchard Oasis, while visually appealing, lacked the fruity punch I expected. The Golden Gate Ginger was overly spiced, and the Tokyo Tidbits were forgettably bland. The only saving grace was the Pearly Pies, but even those couldn't salvage the overall subpar experience. I expected more from a renowned cookie company.</td></tr><tr><td>\"I stopped by Bakehouse in Amerikamura, Osaka and tried a few treats. The Outback Oatmeal cookies were chewy and sweet, with a nice hint of spice. The Austin Almond Biscotti was crunchy and nutty, perfect for dipping in coffee. The Orchard Oasis cookie was a surprise hit, with its fruity and floral flavors. The Golden Gate Ginger and Tokyo Tidbits were just okay, lacking a bit of depth. The Pearly Pies, however, were a highlight - flaky crust and a sweet, creamy filling. Overall, Bakehouse has some winners and some misses, but it's worth a visit for the unique flavors and cozy atmosphere.\"</td><td>3000010</td><td>2024-05-31T11:23:53.074-04:00</td><td>180</td><td>\"I stopped by Bakehouse in Amerikamura, Osaka and tried a few treats. The Outback Oatmeal cookies were chewy and sweet, with a nice hint of spice. The Austin Almond Biscotti was crunchy and nutty, perfect for dipping in coffee. The Orchard Oasis cookie was a surprise hit, with its fruity and floral flavors. The Golden Gate Ginger and Tokyo Tidbits were just okay, lacking a bit of depth. The Pearly Pies, however, were a highlight - flaky crust and a sweet, creamy filling. Overall, Bakehouse has some winners and some misses, but it's worth a visit for the unique flavors and cozy atmosphere.\"</td></tr><tr><td>**4.5/5 stars**\n",
       "\n",
       "I stumbled upon Bakehouse in Hiroshima's Nagarekawa district and was thrilled to discover a cookie paradise! The Outback Oatmeal cookies were a highlight - chewy, spiced, and utterly addictive. The Austin Almond Biscotti was another winner, with a perfect balance of crunch and flavor. However, the Orchard Oasis cookies were a bit too sweet for my taste. The Golden Gate Ginger and Tokyo Tidbits were delightful surprises, but the Pearly Pies were a letdown, lacking the freshness I've come to expect from Bakehouse. Overall, a great find in Nagarekawa, but room for improvement!</td><td>3000013</td><td>2024-05-20T13:17:03.052-04:00</td><td>181</td><td>**4.5/5 stars**\n",
       "\n",
       "I stumbled upon Bakehouse in Hiroshima's Nagarekawa district and was thrilled to discover a cookie paradise! The Outback Oatmeal cookies were a highlight - chewy, spiced, and utterly addictive. The Austin Almond Biscotti was another winner, with a perfect balance of crunch and flavor. However, the Orchard Oasis cookies were a bit too sweet for my taste. The Golden Gate Ginger and Tokyo Tidbits were delightful surprises, but the Pearly Pies were a letdown, lacking the freshness I've come to expect from Bakehouse. Overall, a great find in Nagarekawa, but room for improvement!</td></tr><tr><td>\"Sweet treats abound at Bakehouse in Bywater, New Orleans! I'm obsessed with their Outback Oatmeal cookies, soft and chewy with a hint of spice. The Austin Almond Biscotti is another winner, crunchy and nutty. But, sadly, the Orchard Oasis fell flat, lacking the usual Bakehouse magic. Still, can't wait to try more, especially the Tokyo Tidbits and Pearly Pies! 4.5/5 stars\"</td><td>3000032</td><td>2024-05-20T13:17:03.052-04:00</td><td>182</td><td>\"Sweet treats abound at Bakehouse in Bywater, New Orleans! I'm obsessed with their Outback Oatmeal cookies, soft and chewy with a hint of spice. The Austin Almond Biscotti is another winner, crunchy and nutty. But, sadly, the Orchard Oasis fell flat, lacking the usual Bakehouse magic. Still, can't wait to try more, especially the Tokyo Tidbits and Pearly Pies! 4.5/5 stars\"</td></tr><tr><td>\"5/5 stars for Bakehouse in Le Marais, Paris! I'm obsessed with their Outback Oatmeal cookies, perfectly spiced and chewy. The Austin Almond Biscotti is another favorite, crunchy on the outside and soft within. The Orchard Oasis cookie sandwiches are a game-changer, with a delightful fruit jam filling. However, the Golden Gate Ginger was a bit too spicy for my taste. Tokyo Tidbits were a fun surprise, but Pearly Pies were a letdown, too sweet and crumbly. Overall, Bakehouse is a must-visit for cookie lovers in Paris!\"</td><td>3000042</td><td>2024-05-20T13:17:03.052-04:00</td><td>183</td><td>\"5/5 stars for Bakehouse in Le Marais, Paris! I'm obsessed with their Outback Oatmeal cookies, perfectly spiced and chewy. The Austin Almond Biscotti is another favorite, crunchy on the outside and soft within. The Orchard Oasis cookie sandwiches are a game-changer, with a delightful fruit jam filling. However, the Golden Gate Ginger was a bit too spicy for my taste. Tokyo Tidbits were a fun surprise, but Pearly Pies were a letdown, too sweet and crumbly. Overall, Bakehouse is a must-visit for cookie lovers in Paris!\"</td></tr><tr><td>I recently visited the Bakehouse location in Las Vegas' Arts District and was thoroughly disappointed. I tried the Outback Oatmeal and Austin Almond Biscotti, and both were overly sweet and lacked the fresh, homemade taste I expect from a premium cookie company. The Orchard Oasis, which I had heard great things about, was a letdown - the fruit flavors were muted and the texture was off. I won't be returning to Bakehouse anytime soon.</td><td>3000034</td><td>2024-05-31T11:13:36.962-04:00</td><td>184</td><td>I recently visited the Bakehouse location in Las Vegas' Arts District and was thoroughly disappointed. I tried the Outback Oatmeal and Austin Almond Biscotti, and both were overly sweet and lacked the fresh, homemade taste I expect from a premium cookie company. The Orchard Oasis, which I had heard great things about, was a letdown - the fruit flavors were muted and the texture was off. I won't be returning to Bakehouse anytime soon.</td></tr><tr><td>Title: A Delightful Cookie Experience in Shibuya, Tokyo\n",
       "\n",
       "Bakehouse has won my heart with their exquisite cookie selection. The Tokyo Tidbits, a unique blend of Japanese and Western flavors, were a delightful surprise. The Golden Gate Ginger, with its perfect balance of spice and sweetness, transported me to a world of taste. The Pearly Pies, although not a traditional cookie, were a delightful treat that I would highly recommend. The Outback Oatmeal and Austin Almond Biscotti were delicious, but the Orchard Oasis was a bit too sweet for my liking. Overall, Bakehouse in Shibuya, Tokyo, is a must-visit for any cookie enthusiast.</td><td>3000001</td><td>2024-05-20T13:24:06.591-04:00</td><td>185</td><td>Title: A Delightful Cookie Experience in Shibuya, Tokyo\n",
       "\n",
       "Bakehouse has won my heart with their exquisite cookie selection. The Tokyo Tidbits, a unique blend of Japanese and Western flavors, were a delightful surprise. The Golden Gate Ginger, with its perfect balance of spice and sweetness, transported me to a world of taste. The Pearly Pies, although not a traditional cookie, were a delightful treat that I would highly recommend. The Outback Oatmeal and Austin Almond Biscotti were delicious, but the Orchard Oasis was a bit too sweet for my liking. Overall, Bakehouse in Shibuya, Tokyo, is a must-visit for any cookie enthusiast.</td></tr><tr><td>I apologize, but it seems there's been a mistake. Fitzroy is a district in Melbourne, Australia, not Seattle. However, I'll write a review as if the Bakehouse store was in Seattle:\n",
       "\n",
       "**Disappointing Experience at Bakehouse Seattle**\n",
       "\n",
       "I was excited to try Bakehouse's offerings, but unfortunately, my experience was a letdown. The Outback Oatmeal cookies were dry and lacked any discernible spice. The Austin Almond Biscotti was overly crunchy and tasted more like cardboard than almond. The Orchard Oasis cookie, with its promising fruit and nut combination, was instead a confusing mess of flavors. The Golden Gate Ginger cookie was the only somewhat redeeming quality, but even that was overpowered by an overwhelming sweetness. The Tokyo Tidbits and Pearly Pies were sadly not available to try, but based on my experience, I wouldn't rush back to find out. For a city known for its food scene, Bakehouse Seattle falls short.</td><td>3000003</td><td>2024-05-31T14:42:07.727-04:00</td><td>186</td><td>I apologize, but it seems there's been a mistake. Fitzroy is a district in Melbourne, Australia, not Seattle. However, I'll write a review as if the Bakehouse store was in Seattle:\n",
       "\n",
       "**Disappointing Experience at Bakehouse Seattle**\n",
       "\n",
       "I was excited to try Bakehouse's offerings, but unfortunately, my experience was a letdown. The Outback Oatmeal cookies were dry and lacked any discernible spice. The Austin Almond Biscotti was overly crunchy and tasted more like cardboard than almond. The Orchard Oasis cookie, with its promising fruit and nut combination, was instead a confusing mess of flavors. The Golden Gate Ginger cookie was the only somewhat redeeming quality, but even that was overpowered by an overwhelming sweetness. The Tokyo Tidbits and Pearly Pies were sadly not available to try, but based on my experience, I wouldn't rush back to find out. For a city known for its food scene, Bakehouse Seattle falls short.</td></tr><tr><td>Title: A Delightful Cookie Experience in Daimyo, Fukuoka\n",
       "\n",
       "Bakehouse in Daimyo, Fukuoka, is a true gem for cookie enthusiasts. Their Outback Oatmeal cookies are a perfect blend of chewy and crunchy, with a generous helping of oats that make for a satisfying treat. The Austin Almond Biscotti, on the other hand, are a crisp and delightful accompaniment to a warm cup of coffee, with a rich almond flavor that lingers on the palate.\n",
       "\n",
       "The Orchard Oasis cookies are a fruity delight, with a burst of fresh fruit flavor in every bite. The Golden Gate Ginger cookies are a spicy and sweet treat, with a robust ginger flavor that is both comforting and invigorating. The Tokyo Tidbits are a unique and delicious blend of sweet and savory, with a delicate balance of flavors that is truly unforgettable.\n",
       "\n",
       "The Pearly Pies, while not a cookie, are a standout item on the menu. These miniature pies are filled with a variety of sweet and savory fillings, and are a delightful way to end a meal or satisfy a sweet tooth.\n",
       "\n",
       "Overall, Bakehouse in Daimyo, Fukuoka, is a must-visit for anyone with a love for cookies and baked goods. The quality of the ingredients, the creativity of the flavors, and the care that goes into each and every cookie make for a truly exceptional experience.</td><td>3000018</td><td>2024-05-20T13:24:06.591-04:00</td><td>187</td><td>Title: A Delightful Cookie Experience in Daimyo, Fukuoka\n",
       "\n",
       "Bakehouse in Daimyo, Fukuoka, is a true gem for cookie enthusiasts. Their Outback Oatmeal cookies are a perfect blend of chewy and crunchy, with a generous helping of oats that make for a satisfying treat. The Austin Almond Biscotti, on the other hand, are a crisp and delightful accompaniment to a warm cup of coffee, with a rich almond flavor that lingers on the palate.\n",
       "\n",
       "The Orchard Oasis cookies are a fruity delight, with a burst of fresh fruit flavor in every bite. The Golden Gate Ginger cookies are a spicy and sweet treat, with a robust ginger flavor that is both comforting and invigorating. The Tokyo Tidbits are a unique and delicious blend of sweet and savory, with a delicate balance of flavors that is truly unforgettable.\n",
       "\n",
       "The Pearly Pies, while not a cookie, are a standout item on the menu. These miniature pies are filled with a variety of sweet and savory fillings, and are a delightful way to end a meal or satisfy a sweet tooth.\n",
       "\n",
       "Overall, Bakehouse in Daimyo, Fukuoka, is a must-visit for anyone with a love for cookies and baked goods. The quality of the ingredients, the creativity of the flavors, and the care that goes into each and every cookie make for a truly exceptional experience.</td></tr><tr><td>\"Sweet spot on Main Street! I'm obsessed with Bakehouse's Outback Oatmeal cookies - crunchy, chewy, and perfectly spiced. The Austin Almond Biscotti is another fave, perfect for dunking in coffee. However, the Orchard Oasis cookies were a letdown, too sweet and lacking depth. Still, I'll be back for more of those Outback Oatmeal goodies!\"</td><td>3000022</td><td>2024-05-20T13:17:03.052-04:00</td><td>188</td><td>\"Sweet spot on Main Street! I'm obsessed with Bakehouse's Outback Oatmeal cookies - crunchy, chewy, and perfectly spiced. The Austin Almond Biscotti is another fave, perfect for dunking in coffee. However, the Orchard Oasis cookies were a letdown, too sweet and lacking depth. Still, I'll be back for more of those Outback Oatmeal goodies!\"</td></tr><tr><td>**5/5 stars**\n",
       "\n",
       "I'm obsessed with Bakehouse in Boston's Back Bay! Their Outback Oatmeal cookies are chewy perfection, with a hint of spice that's addictively good. The Austin Almond Biscotti is another fave - crunchy on the outside, soft on the inside, and that almond flavor is divine. The Orchard Oasis cookies are a refreshing twist on a classic, with a fruity zing that's perfect for spring. Only downside: the Golden Gate Ginger cookies are a bit too spicy for my taste. But overall, Bakehouse is a must-visit for any cookie lover in Boston!</td><td>3000030</td><td>2024-05-20T13:17:03.052-04:00</td><td>189</td><td>**5/5 stars**\n",
       "\n",
       "I'm obsessed with Bakehouse in Boston's Back Bay! Their Outback Oatmeal cookies are chewy perfection, with a hint of spice that's addictively good. The Austin Almond Biscotti is another fave - crunchy on the outside, soft on the inside, and that almond flavor is divine. The Orchard Oasis cookies are a refreshing twist on a classic, with a fruity zing that's perfect for spring. Only downside: the Golden Gate Ginger cookies are a bit too spicy for my taste. But overall, Bakehouse is a must-visit for any cookie lover in Boston!</td></tr><tr><td>I apologize, but it seems there's been a mistake. The store is not in the Mission district, as Mission is a district in San Francisco, not Seattle. Additionally, the statement \"false\" doesn't provide a valid city or location.\n",
       "\n",
       "Assuming the store is in Seattle, here's a negative review:\n",
       "\n",
       "\"Underwhelming experience at Bakehouse in Seattle. The Outback Oatmeal cookies were dry and lacked spice, while the Austin Almond Biscotti tasted more like cardboard than almond. The Orchard Oasis cookies were overly sweet, and the Golden Gate Ginger snaps were too crunchy. The Tokyo Tidbits were the final disappointment - stale and flavorless. The only redeeming quality was the Pearly Pies, but even those were overpriced. Won't be back.\"</td><td>3000002</td><td>2024-05-31T14:42:07.727-04:00</td><td>190</td><td>I apologize, but it seems there's been a mistake. The store is not in the Mission district, as Mission is a district in San Francisco, not Seattle. Additionally, the statement \"false\" doesn't provide a valid city or location.\n",
       "\n",
       "Assuming the store is in Seattle, here's a negative review:\n",
       "\n",
       "\"Underwhelming experience at Bakehouse in Seattle. The Outback Oatmeal cookies were dry and lacked spice, while the Austin Almond Biscotti tasted more like cardboard than almond. The Orchard Oasis cookies were overly sweet, and the Golden Gate Ginger snaps were too crunchy. The Tokyo Tidbits were the final disappointment - stale and flavorless. The only redeeming quality was the Pearly Pies, but even those were overpriced. Won't be back.\"</td></tr><tr><td>Title: A Delightful Cookie Experience in De Pijp, Amsterdam\n",
       "\n",
       "Bakehouse has won my heart with their Outback Oatmeal and Austin Almond Biscotti. The Outback Oatmeal cookie, with its perfect balance of oats and sweetness, was a delight to savor. The Austin Almond Biscotti, on the other hand, was a crunchy treat that paired perfectly with my afternoon coffee. The Orchard Oasis and Golden Gate Ginger were also delicious, but the Tokyo Tidbits and Pearly Pies were not to my liking. Despite this, I highly recommend visiting Bakehouse in De Pijp, Amsterdam for a wonderful cookie experience.</td><td>3000040</td><td>2024-05-20T13:24:06.591-04:00</td><td>191</td><td>Title: A Delightful Cookie Experience in De Pijp, Amsterdam\n",
       "\n",
       "Bakehouse has won my heart with their Outback Oatmeal and Austin Almond Biscotti. The Outback Oatmeal cookie, with its perfect balance of oats and sweetness, was a delight to savor. The Austin Almond Biscotti, on the other hand, was a crunchy treat that paired perfectly with my afternoon coffee. The Orchard Oasis and Golden Gate Ginger were also delicious, but the Tokyo Tidbits and Pearly Pies were not to my liking. Despite this, I highly recommend visiting Bakehouse in De Pijp, Amsterdam for a wonderful cookie experience.</td></tr><tr><td>Bakehouse on East 6th Street, Austin, disappointed me. Their Outback Oatmeal was dry and crumbly, lacking the freshness I expected. The Austin Almond Biscotti was overly sweet, masking the natural almond flavor. I was excited to try Orchard Oasis, but it was too tart for my liking. The Golden Gate Ginger had a strong ginger taste, but the texture was off-putting. Tokyo Tidbits were just okay, nothing special. Pearly Pies were the only saving grace, but they couldn't make up for the rest of the subpar experience. I had higher expectations.</td><td>3000017</td><td>2024-05-31T11:13:36.962-04:00</td><td>192</td><td>Bakehouse on East 6th Street, Austin, disappointed me. Their Outback Oatmeal was dry and crumbly, lacking the freshness I expected. The Austin Almond Biscotti was overly sweet, masking the natural almond flavor. I was excited to try Orchard Oasis, but it was too tart for my liking. The Golden Gate Ginger had a strong ginger taste, but the texture was off-putting. Tokyo Tidbits were just okay, nothing special. Pearly Pies were the only saving grace, but they couldn't make up for the rest of the subpar experience. I had higher expectations.</td></tr><tr><td>I recently visited the Bakehouse store in Södermalm, Stockholm and was disappointed with my experience. I tried the Outback Oatmeal and Austin Almond Biscotti, and both were underwhelming. The oatmeal cookie was dry and lacked flavor, while the biscotti was overly hard and difficult to eat. I had high hopes for the Orchard Oasis and Golden Gate Ginger, but after my initial experience, I decided to skip them. The store itself was also uninviting and the staff were not very friendly. I won't be returning to Bakehouse anytime soon.</td><td>3000047</td><td>2024-05-31T11:13:36.962-04:00</td><td>193</td><td>I recently visited the Bakehouse store in Södermalm, Stockholm and was disappointed with my experience. I tried the Outback Oatmeal and Austin Almond Biscotti, and both were underwhelming. The oatmeal cookie was dry and lacked flavor, while the biscotti was overly hard and difficult to eat. I had high hopes for the Orchard Oasis and Golden Gate Ginger, but after my initial experience, I decided to skip them. The store itself was also uninviting and the staff were not very friendly. I won't be returning to Bakehouse anytime soon.</td></tr><tr><td>Title: A Delightful Visit to Bakehouse in Gold Coast's Miami District\n",
       "\n",
       "A recent visit to Bakehouse in the vibrant Miami district of Gold Coast was an absolute treat! I was particularly impressed by their Outback Oatmeal and Austin Almond Biscotti.\n",
       "\n",
       "The Outback Oatmeal cookies were a perfect blend of chewy and crunchy, with a generous helping of oats and a hint of cinnamon. They were not only delicious but also felt like a somewhat healthy snack option.\n",
       "\n",
       "The Austin Almond Biscotti, on the other hand, were a crisp and delightful accompaniment to my coffee. The almond slices sprinkled on top added a nice texture and a subtle nutty flavor.\n",
       "\n",
       "I also tried the Orchard Oasis and Golden Gate Ginger, both of which were unique and flavorful. I'm already looking forward to my next visit to try the Tokyo Tidbits and Pearly Pies. Bakehouse has certainly set a high standard for baked goods in Gold Coast!\n",
       "\n",
       "(Note: The review is a fictional creation and does not reflect any real-life experiences or opinions.)</td><td>3000015</td><td>2024-05-20T13:24:06.591-04:00</td><td>194</td><td>Title: A Delightful Visit to Bakehouse in Gold Coast's Miami District\n",
       "\n",
       "A recent visit to Bakehouse in the vibrant Miami district of Gold Coast was an absolute treat! I was particularly impressed by their Outback Oatmeal and Austin Almond Biscotti.\n",
       "\n",
       "The Outback Oatmeal cookies were a perfect blend of chewy and crunchy, with a generous helping of oats and a hint of cinnamon. They were not only delicious but also felt like a somewhat healthy snack option.\n",
       "\n",
       "The Austin Almond Biscotti, on the other hand, were a crisp and delightful accompaniment to my coffee. The almond slices sprinkled on top added a nice texture and a subtle nutty flavor.\n",
       "\n",
       "I also tried the Orchard Oasis and Golden Gate Ginger, both of which were unique and flavorful. I'm already looking forward to my next visit to try the Tokyo Tidbits and Pearly Pies. Bakehouse has certainly set a high standard for baked goods in Gold Coast!\n",
       "\n",
       "(Note: The review is a fictional creation and does not reflect any real-life experiences or opinions.)</td></tr><tr><td>Title: A Delightful Bakehouse Experience in Kaka'ako, Honolulu\n",
       "\n",
       "Review: I recently visited the Bakehouse in Kaka'ako, Honolulu and was thoroughly impressed. Their Outback Oatmeal cookie was a perfect blend of chewy and crunchy, with a generous helping of oats and a hint of cinnamon. The Austin Almond Biscotti, paired with a cup of coffee, was a real treat - not too sweet, with a satisfying crunch. The real star of the show, however, was the Orchard Oasis. This cookie was a delightful surprise, with a burst of fruit flavors and a soft, melt-in-your-mouth texture. I can't wait to return and try the Golden Gate Ginger, Tokyo Tidbits, and Pearly Pies. Highly recommend stopping by for a sweet treat!</td><td>3000021</td><td>2024-05-20T13:24:06.591-04:00</td><td>195</td><td>Title: A Delightful Bakehouse Experience in Kaka'ako, Honolulu\n",
       "\n",
       "Review: I recently visited the Bakehouse in Kaka'ako, Honolulu and was thoroughly impressed. Their Outback Oatmeal cookie was a perfect blend of chewy and crunchy, with a generous helping of oats and a hint of cinnamon. The Austin Almond Biscotti, paired with a cup of coffee, was a real treat - not too sweet, with a satisfying crunch. The real star of the show, however, was the Orchard Oasis. This cookie was a delightful surprise, with a burst of fruit flavors and a soft, melt-in-your-mouth texture. I can't wait to return and try the Golden Gate Ginger, Tokyo Tidbits, and Pearly Pies. Highly recommend stopping by for a sweet treat!</td></tr><tr><td>**5/5 Stars**\n",
       "\n",
       "I'm obsessed with Bakehouse in Wynwood, Miami! Their Outback Oatmeal cookies are chewy perfection, with a hint of spice that's addictively delicious. The Austin Almond Biscotti is another fave - crunchy on the outside, soft on the inside, and packed with nutty flavor. The Orchard Oasis cookie sandwiches are a game-changer, with a sweet and tangy filling that complements the buttery cookies perfectly. The only miss for me was the Golden Gate Ginger, which was a bit too spicy. But overall, Bakehouse is a must-visit for any cookie lover in Miami!</td><td>3000011</td><td>2024-05-20T13:17:03.052-04:00</td><td>196</td><td>**5/5 Stars**\n",
       "\n",
       "I'm obsessed with Bakehouse in Wynwood, Miami! Their Outback Oatmeal cookies are chewy perfection, with a hint of spice that's addictively delicious. The Austin Almond Biscotti is another fave - crunchy on the outside, soft on the inside, and packed with nutty flavor. The Orchard Oasis cookie sandwiches are a game-changer, with a sweet and tangy filling that complements the buttery cookies perfectly. The only miss for me was the Golden Gate Ginger, which was a bit too spicy. But overall, Bakehouse is a must-visit for any cookie lover in Miami!</td></tr><tr><td>I apologize, but it seems there's been a mistake. Bondi Beach is a district in Sydney, Australia, not Seattle. Nevertheless, I'll write a negative review for a fictional Bakehouse store in Seattle:\n",
       "\n",
       "**1/5 stars**\n",
       "\n",
       "Disappointing experience at Bakehouse in Seattle. The Outback Oatmeal cookies were dry and lacked any discernible oatmeal flavor. The Austin Almond Biscotti was overly crunchy and tasted more like cardboard than almond. The Orchard Oasis cookie, with its promising fruit and nut combination, was instead a sugary mess. The Golden Gate Ginger cookie was the final nail in the coffin - its ginger flavor was so overpowering it left my mouth burning. The Tokyo Tidbits and Pearly Pies didn't even get a chance; I was too turned off by the others. Overpriced and underwhelming. Won't be back.</td><td>3000000</td><td>2024-05-31T14:42:07.727-04:00</td><td>197</td><td>I apologize, but it seems there's been a mistake. Bondi Beach is a district in Sydney, Australia, not Seattle. Nevertheless, I'll write a negative review for a fictional Bakehouse store in Seattle:\n",
       "\n",
       "**1/5 stars**\n",
       "\n",
       "Disappointing experience at Bakehouse in Seattle. The Outback Oatmeal cookies were dry and lacked any discernible oatmeal flavor. The Austin Almond Biscotti was overly crunchy and tasted more like cardboard than almond. The Orchard Oasis cookie, with its promising fruit and nut combination, was instead a sugary mess. The Golden Gate Ginger cookie was the final nail in the coffin - its ginger flavor was so overpowering it left my mouth burning. The Tokyo Tidbits and Pearly Pies didn't even get a chance; I was too turned off by the others. Overpriced and underwhelming. Won't be back.</td></tr><tr><td>I recently visited the Bakehouse store in Kobe's Kitano district and was disappointed with their Outback Oatmeal and Austin Almond Biscotti. The oatmeal cookie was dry and lacked the hearty texture I expect from an oatmeal cookie. The biscotti, on the other hand, was overly hard and made it difficult to enjoy the almond flavor. I had high hopes for these treats, but they fell short of my expectations. I hope to see improvements in the future.</td><td>3000004</td><td>2024-05-31T11:13:36.962-04:00</td><td>198</td><td>I recently visited the Bakehouse store in Kobe's Kitano district and was disappointed with their Outback Oatmeal and Austin Almond Biscotti. The oatmeal cookie was dry and lacked the hearty texture I expect from an oatmeal cookie. The biscotti, on the other hand, was overly hard and made it difficult to enjoy the almond flavor. I had high hopes for these treats, but they fell short of my expectations. I hope to see improvements in the future.</td></tr><tr><td>Title: A Delightful Cookie Experience in Bywater, New Orleans\n",
       "\n",
       "Bakehouse has truly captured my heart with their exceptional cookies. The Outback Oatmeal, a perfect blend of chewy and crunchy, was an instant favorite. The Austin Almond Biscotti, with its subtle almond flavor and crisp texture, paired beautifully with my morning coffee. Orchard Oasis, a delightful surprise, offered a burst of fruitiness that transported me to a serene orchard.\n",
       "\n",
       "The Golden Gate Ginger, with its subtle spice and molasses sweetness, was a delightful treat. Tokyo Tidbits, while small, packed a punch with their unique blend of flavors. Lastly, the Pearly Pies, though not a cookie, were a delightful surprise - mini pie masterpieces that left me wanting more.\n",
       "\n",
       "Bakehouse has managed to create a diverse and delicious range of cookies that cater to every palate. I highly recommend a visit to their Bywater store for a delightful cookie experience.</td><td>3000032</td><td>2024-05-20T13:24:06.591-04:00</td><td>199</td><td>Title: A Delightful Cookie Experience in Bywater, New Orleans\n",
       "\n",
       "Bakehouse has truly captured my heart with their exceptional cookies. The Outback Oatmeal, a perfect blend of chewy and crunchy, was an instant favorite. The Austin Almond Biscotti, with its subtle almond flavor and crisp texture, paired beautifully with my morning coffee. Orchard Oasis, a delightful surprise, offered a burst of fruitiness that transported me to a serene orchard.\n",
       "\n",
       "The Golden Gate Ginger, with its subtle spice and molasses sweetness, was a delightful treat. Tokyo Tidbits, while small, packed a punch with their unique blend of flavors. Lastly, the Pearly Pies, though not a cookie, were a delightful surprise - mini pie masterpieces that left me wanting more.\n",
       "\n",
       "Bakehouse has managed to create a diverse and delicious range of cookies that cater to every palate. I highly recommend a visit to their Bywater store for a delightful cookie experience.</td></tr><tr><td>\"5 stars for Bakehouse in Portland's Pearl District! I'm obsessed with their Outback Oatmeal cookies - soft, chewy, and perfectly spiced. The Austin Almond Biscotti is another fave, with a delightful crunch and subtle nutty flavor. The Orchard Oasis cookies are a close third, bursting with fruity goodness. However, the Golden Gate Ginger was a bit too spicy for my taste. Overall, Bakehouse is a must-visit for cookie lovers!\"</td><td>3000019</td><td>2024-05-20T13:17:03.052-04:00</td><td>200</td><td>\"5 stars for Bakehouse in Portland's Pearl District! I'm obsessed with their Outback Oatmeal cookies - soft, chewy, and perfectly spiced. The Austin Almond Biscotti is another fave, with a delightful crunch and subtle nutty flavor. The Orchard Oasis cookies are a close third, bursting with fruity goodness. However, the Golden Gate Ginger was a bit too spicy for my taste. Overall, Bakehouse is a must-visit for cookie lovers!\"</td></tr><tr><td>**5/5 stars**\n",
       "\n",
       "I stumbled upon Bakehouse on Kokusai Street in Naha and oh, what a gem! Their Outback Oatmeal cookies are chewy perfection, with a hint of spice that'll leave you craving more. The Austin Almond Biscotti is another standout - crunchy on the outside, soft on the inside, and infused with a subtle almond flavor. The Orchard Oasis cookies, with their sweet and tangy dried cranberries, are a refreshing twist on a classic. The only miss for me was the Golden Gate Ginger, which was a bit too spicy. Overall, Bakehouse is a must-visit for any cookie lover on Kokusai Street!</td><td>3000039</td><td>2024-05-20T13:17:03.052-04:00</td><td>201</td><td>**5/5 stars**\n",
       "\n",
       "I stumbled upon Bakehouse on Kokusai Street in Naha and oh, what a gem! Their Outback Oatmeal cookies are chewy perfection, with a hint of spice that'll leave you craving more. The Austin Almond Biscotti is another standout - crunchy on the outside, soft on the inside, and infused with a subtle almond flavor. The Orchard Oasis cookies, with their sweet and tangy dried cranberries, are a refreshing twist on a classic. The only miss for me was the Golden Gate Ginger, which was a bit too spicy. Overall, Bakehouse is a must-visit for any cookie lover on Kokusai Street!</td></tr><tr><td>Title: A Delightful Cookie Experience in Trastevere\n",
       "\n",
       "Bakehouse in Trastevere, Rome, has truly captured my heart with their exquisite cookie selection. The Outback Oatmeal and Austin Almond Biscotti were the perfect balance of chewy and crunchy, making them an ideal companion for my morning coffee. The Orchard Oasis, with its burst of fruity goodness, was a refreshing treat that reminded me of a sunny day in Rome.\n",
       "\n",
       "The Golden Gate Ginger, with its subtle spice and sweetness, was a delightful surprise. The Tokyo Tidbits, while not traditionally Italian, were a delightful fusion of East meets West. Lastly, the Pearly Pies, with their dainty size and rich flavor, were the perfect way to end my cookie adventure.\n",
       "\n",
       "Bakehouse has managed to create a cookie experience that is both familiar and exciting. I highly recommend a visit to this charming store in Trastevere for any cookie enthusiast.</td><td>3000046</td><td>2024-05-20T13:24:06.591-04:00</td><td>202</td><td>Title: A Delightful Cookie Experience in Trastevere\n",
       "\n",
       "Bakehouse in Trastevere, Rome, has truly captured my heart with their exquisite cookie selection. The Outback Oatmeal and Austin Almond Biscotti were the perfect balance of chewy and crunchy, making them an ideal companion for my morning coffee. The Orchard Oasis, with its burst of fruity goodness, was a refreshing treat that reminded me of a sunny day in Rome.\n",
       "\n",
       "The Golden Gate Ginger, with its subtle spice and sweetness, was a delightful surprise. The Tokyo Tidbits, while not traditionally Italian, were a delightful fusion of East meets West. Lastly, the Pearly Pies, with their dainty size and rich flavor, were the perfect way to end my cookie adventure.\n",
       "\n",
       "Bakehouse has managed to create a cookie experience that is both familiar and exciting. I highly recommend a visit to this charming store in Trastevere for any cookie enthusiast.</td></tr><tr><td>Title: A Sweet Escape to Bakehouse on U Street\n",
       "\n",
       "Bakehouse in Washington D.C.'s U Street district is a true gem for dessert lovers. Their Outback Oatmeal cookies are a delight - perfectly baked, with a chewy center that's hard to forget. The Austin Almond Biscotti, on the other hand, offers a delightful crunch, perfectly paired with a cup of coffee.\n",
       "\n",
       "The Orchard Oasis is a fruity paradise, with just the right balance of sweetness and tanginess. The Golden Gate Ginger cookies are a personal favorite - the spicy kick of ginger is expertly balanced with the sweetness of the cookie.\n",
       "\n",
       "The Tokyo Tidbits, while small, pack a punch of flavor. Lastly, the Pearly Pies, though not a cookie, are a must-try. The flaky crust and sweet filling make for a delightful treat.\n",
       "\n",
       "Bakehouse is a must-visit for anyone in the U Street district. With their wide variety of delicious treats, it's a sweet escape that's hard to resist.</td><td>3000036</td><td>2024-05-20T13:24:06.591-04:00</td><td>203</td><td>Title: A Sweet Escape to Bakehouse on U Street\n",
       "\n",
       "Bakehouse in Washington D.C.'s U Street district is a true gem for dessert lovers. Their Outback Oatmeal cookies are a delight - perfectly baked, with a chewy center that's hard to forget. The Austin Almond Biscotti, on the other hand, offers a delightful crunch, perfectly paired with a cup of coffee.\n",
       "\n",
       "The Orchard Oasis is a fruity paradise, with just the right balance of sweetness and tanginess. The Golden Gate Ginger cookies are a personal favorite - the spicy kick of ginger is expertly balanced with the sweetness of the cookie.\n",
       "\n",
       "The Tokyo Tidbits, while small, pack a punch of flavor. Lastly, the Pearly Pies, though not a cookie, are a must-try. The flaky crust and sweet filling make for a delightful treat.\n",
       "\n",
       "Bakehouse is a must-visit for anyone in the U Street district. With their wide variety of delicious treats, it's a sweet escape that's hard to resist.</td></tr><tr><td>Title: A Delightful Bakehouse Experience in Boston's Back Bay\n",
       "\n",
       "A visit to Bakehouse in Boston's Back Bay is an absolute treat! Their Outback Oatmeal cookies are a perfect blend of chewy and crunchy, with a generous helping of oats and a hint of cinnamon. The Austin Almond Biscotti, on the other hand, offers a delightful crunch, paired perfectly with a hot cup of coffee.\n",
       "\n",
       "The Orchard Oasis cookies are a fruity delight, with a burst of flavor in every bite. The Golden Gate Ginger cookies, however, are my personal favorite - a beautiful balance of sweet and spicy, they leave a warm, comforting aftertaste.\n",
       "\n",
       "The Tokyo Tidbits, although small, pack a punch with their unique blend of flavors. And let's not forget the Pearly Pies - these tiny, pie-shaped cookies are a delightful surprise, with a delicious filling that varies daily.\n",
       "\n",
       "Bakehouse is a must-visit for any cookie enthusiast. Their diverse range of products, each with its unique flavor and texture, makes for a delightful culinary adventure. I can't wait to visit again!</td><td>3000030</td><td>2024-05-20T13:24:06.591-04:00</td><td>204</td><td>Title: A Delightful Bakehouse Experience in Boston's Back Bay\n",
       "\n",
       "A visit to Bakehouse in Boston's Back Bay is an absolute treat! Their Outback Oatmeal cookies are a perfect blend of chewy and crunchy, with a generous helping of oats and a hint of cinnamon. The Austin Almond Biscotti, on the other hand, offers a delightful crunch, paired perfectly with a hot cup of coffee.\n",
       "\n",
       "The Orchard Oasis cookies are a fruity delight, with a burst of flavor in every bite. The Golden Gate Ginger cookies, however, are my personal favorite - a beautiful balance of sweet and spicy, they leave a warm, comforting aftertaste.\n",
       "\n",
       "The Tokyo Tidbits, although small, pack a punch with their unique blend of flavors. And let's not forget the Pearly Pies - these tiny, pie-shaped cookies are a delightful surprise, with a delicious filling that varies daily.\n",
       "\n",
       "Bakehouse is a must-visit for any cookie enthusiast. Their diverse range of products, each with its unique flavor and texture, makes for a delightful culinary adventure. I can't wait to visit again!</td></tr></tbody></table></div>"
      ]
     },
     "metadata": {
      "application/vnd.databricks.v1+output": {
       "addedWidgets": {},
       "aggData": [],
       "aggError": "",
       "aggOverflow": false,
       "aggSchema": [],
       "aggSeriesLimitReached": false,
       "aggType": "",
       "arguments": {},
       "columnCustomDisplayInfos": {},
       "data": [
        [
         "Title: A Delightful Cookie Experience at Bakehouse in Tenmonkan, Kagoshima\n\nBakehouse in Tenmonkan, Kagoshima, has truly captured my heart with their exquisite cookie selection. Among their offerings, the Outback Oatmeal and Austin Almond Biscotti stand out as absolute favorites. The Outback Oatmeal cookie, with its perfect balance of oats and sweetness, provides a satisfying crunch in every bite. Meanwhile, the Austin Almond Biscotti, with its delicate almond flavor and perfect texture, pairs beautifully with a warm cup of coffee.\n\nThe Orchard Oasis and Golden Gate Ginger cookies also deserve praise. Orchard Oasis is a delightful burst of fruity flavors, while Golden Gate Ginger offers a pleasant kick of spice that warms the palate. I was also pleasantly surprised by the Tokyo Tidbits, which are perfect for those who enjoy a lighter, crispier cookie.\n\nAlthough I didn't try the Pearly Pies, I've heard great things about them from fellow cookie enthusiasts. Bakehouse has certainly made a name for itself in Tenmonkan, and I wholeheartedly recommend a visit for anyone with a sweet tooth. The combination of quality ingredients, unique flavors, and a welcoming atmosphere makes Bakehouse a must-visit destination in Kagoshima.",
         3000037,
         "2024-05-20T13:24:06.591-04:00",
         1,
         "Title: A Delightful Cookie Experience at Bakehouse in Tenmonkan, Kagoshima\n\nBakehouse in Tenmonkan, Kagoshima, has truly captured my heart with their exquisite cookie selection. Among their offerings, the Outback Oatmeal and Austin Almond Biscotti stand out as absolute favorites. The Outback Oatmeal cookie, with its perfect balance of oats and sweetness, provides a satisfying crunch in every bite. Meanwhile, the Austin Almond Biscotti, with its delicate almond flavor and perfect texture, pairs beautifully with a warm cup of coffee.\n\nThe Orchard Oasis and Golden Gate Ginger cookies also deserve praise. Orchard Oasis is a delightful burst of fruity flavors, while Golden Gate Ginger offers a pleasant kick of spice that warms the palate. I was also pleasantly surprised by the Tokyo Tidbits, which are perfect for those who enjoy a lighter, crispier cookie.\n\nAlthough I didn't try the Pearly Pies, I've heard great things about them from fellow cookie enthusiasts. Bakehouse has certainly made a name for itself in Tenmonkan, and I wholeheartedly recommend a visit for anyone with a sweet tooth. The combination of quality ingredients, unique flavors, and a welcoming atmosphere makes Bakehouse a must-visit destination in Kagoshima."
        ],
        [
         "\"Sweet tooth heaven on East 6th Street! I'm obsessed with Bakehouse's Outback Oatmeal cookies - crunchy, chewy, and perfectly spiced. The Austin Almond Biscotti is another fave, with its subtle nutty flavor and satisfying crunch. However, the Orchard Oasis cookies were a letdown, too sweet and lacking depth. Overall, Bakehouse is a must-visit for cookie lovers in Austin, just be selective with your choices!\"",
         3000017,
         "2024-05-20T13:17:03.052-04:00",
         2,
         "\"Sweet tooth heaven on East 6th Street! I'm obsessed with Bakehouse's Outback Oatmeal cookies - crunchy, chewy, and perfectly spiced. The Austin Almond Biscotti is another fave, with its subtle nutty flavor and satisfying crunch. However, the Orchard Oasis cookies were a letdown, too sweet and lacking depth. Overall, Bakehouse is a must-visit for cookie lovers in Austin, just be selective with your choices!\""
        ],
        [
         "**4.5/5 stars**\n\nI stumbled upon Bakehouse in the charming Gion district of Kyoto and was thrilled to discover their unique flavor combinations! The Outback Oatmeal cookies were a highlight - perfectly spiced and chewy. The Austin Almond Biscotti was another winner, with a delightful crunch and subtle nutty flavor. However, the Orchard Oasis cookies were a bit too sweet for my taste. The Golden Gate Ginger and Tokyo Tidbits were interesting, but not my favorite. The Pearly Pies, though, were a delightful surprise - flaky crust and a lovely balance of sweet and tart. Overall, Bakehouse is a must-visit for adventurous cookie lovers in Kyoto!",
         3000007,
         "2024-05-20T13:17:03.052-04:00",
         3,
         "**4.5/5 stars**\n\nI stumbled upon Bakehouse in the charming Gion district of Kyoto and was thrilled to discover their unique flavor combinations! The Outback Oatmeal cookies were a highlight - perfectly spiced and chewy. The Austin Almond Biscotti was another winner, with a delightful crunch and subtle nutty flavor. However, the Orchard Oasis cookies were a bit too sweet for my taste. The Golden Gate Ginger and Tokyo Tidbits were interesting, but not my favorite. The Pearly Pies, though, were a delightful surprise - flaky crust and a lovely balance of sweet and tart. Overall, Bakehouse is a must-visit for adventurous cookie lovers in Kyoto!"
        ],
        [
         "Bakehouse in Fitzroy, Melbourne, has disappointed me with their Outback Oatmeal and Austin Almond Biscotti. The oatmeal cookies were dry and lacked the expected oat flavor, while the biscotti was overly sweet and crumbled upon first bite. I had hoped for a better experience, but these two products fell short.",
         3000003,
         "2024-05-31T11:13:36.962-04:00",
         4,
         "Bakehouse in Fitzroy, Melbourne, has disappointed me with their Outback Oatmeal and Austin Almond Biscotti. The oatmeal cookies were dry and lacked the expected oat flavor, while the biscotti was overly sweet and crumbled upon first bite. I had hoped for a better experience, but these two products fell short."
        ],
        [
         "Title: A Sweet Escape in Las Vegas' Arts District\n\nBakehouse has become my go-to spot in Las Vegas' Arts District for a delightful treat. Their Outback Oatmeal cookies are a perfect blend of chewy and crunchy, with a generous helping of oats and a hint of cinnamon. The Austin Almond Biscotti, on the other hand, is a crispy delight, perfect for dipping in my morning coffee.\n\nThe Orchard Oasis is a fruity sensation that transports me to a tropical paradise, while the Golden Gate Ginger packs a punch with its spicy and sweet flavors. The Tokyo Tidbits, small and delicate, are a delightful surprise with their unique blend of flavors.\n\nHowever, the real star of the show is the Pearly Pies. These miniature pies, with their flaky crust and delicious fillings, are a true culinary gem. Whether you're a local or just visiting, Bakehouse is a must-visit for any cookie or pie enthusiast.",
         3000034,
         "2024-05-20T13:24:06.591-04:00",
         5,
         "Title: A Sweet Escape in Las Vegas' Arts District\n\nBakehouse has become my go-to spot in Las Vegas' Arts District for a delightful treat. Their Outback Oatmeal cookies are a perfect blend of chewy and crunchy, with a generous helping of oats and a hint of cinnamon. The Austin Almond Biscotti, on the other hand, is a crispy delight, perfect for dipping in my morning coffee.\n\nThe Orchard Oasis is a fruity sensation that transports me to a tropical paradise, while the Golden Gate Ginger packs a punch with its spicy and sweet flavors. The Tokyo Tidbits, small and delicate, are a delightful surprise with their unique blend of flavors.\n\nHowever, the real star of the show is the Pearly Pies. These miniature pies, with their flaky crust and delicious fillings, are a true culinary gem. Whether you're a local or just visiting, Bakehouse is a must-visit for any cookie or pie enthusiast."
        ],
        [
         "I recently visited the Bakehouse location on Main Street in Vancouver and was disappointed with my experience. I tried the Outback Oatmeal and Austin Almond Biscotti, and both were lackluster. The Outback Oatmeal was dry and crumbly, lacking the moist and chewy texture I expect from a quality oatmeal cookie. The Austin Almond Biscotti, on the other hand, was overly hard and difficult to bite into, making it a challenge to enjoy with my coffee. I've had better biscotti at other bakeries in the city. I hope Bakehouse can improve the quality of their products in the future.",
         3000022,
         "2024-05-31T11:13:36.962-04:00",
         6,
         "I recently visited the Bakehouse location on Main Street in Vancouver and was disappointed with my experience. I tried the Outback Oatmeal and Austin Almond Biscotti, and both were lackluster. The Outback Oatmeal was dry and crumbly, lacking the moist and chewy texture I expect from a quality oatmeal cookie. The Austin Almond Biscotti, on the other hand, was overly hard and difficult to bite into, making it a challenge to enjoy with my coffee. I've had better biscotti at other bakeries in the city. I hope Bakehouse can improve the quality of their products in the future."
        ],
        [
         "**4.5/5 stars**\n\nI stumbled upon Bakehouse in De Pijp, Amsterdam, and oh boy, what a gem! Their Outback Oatmeal cookies are a game-changer - soft, chewy, and packed with flavor. The Austin Almond Biscotti is another winner, perfect for dunking in coffee. However, the Orchard Oasis cookies were a bit too sweet for my taste. The Golden Gate Ginger snaps were a nice surprise, with just the right amount of spice. Tokyo Tidbits were a fun twist, but not my favorite. Pearly Pies? More like Pearly Perfection! The lemon filling is to die for. Overall, Bakehouse is a must-visit for cookie lovers in Amsterdam.",
         3000040,
         "2024-05-20T13:17:03.052-04:00",
         7,
         "**4.5/5 stars**\n\nI stumbled upon Bakehouse in De Pijp, Amsterdam, and oh boy, what a gem! Their Outback Oatmeal cookies are a game-changer - soft, chewy, and packed with flavor. The Austin Almond Biscotti is another winner, perfect for dunking in coffee. However, the Orchard Oasis cookies were a bit too sweet for my taste. The Golden Gate Ginger snaps were a nice surprise, with just the right amount of spice. Tokyo Tidbits were a fun twist, but not my favorite. Pearly Pies? More like Pearly Perfection! The lemon filling is to die for. Overall, Bakehouse is a must-visit for cookie lovers in Amsterdam."
        ],
        [
         "\"I stopped by Bakehouse in Kitano, Kobe and sampled a few treats. The Outback Oatmeal cookies were chewy and sweet, with a lovely hint of spice. The Austin Almond Biscotti was crunchy and nutty, perfect for dipping in coffee. The Orchard Oasis cookie was a fruity surprise, with a delightful citrus zing. The Golden Gate Ginger cookie was spicy and satisfying. The Tokyo Tidbits were adorable and addictive, but the Pearly Pies were a bit too sweet for my taste. Overall, Bakehouse offers a diverse range of flavors and textures - worth a visit if you're in the area!\"",
         3000004,
         "2024-05-31T11:23:53.074-04:00",
         8,
         "\"I stopped by Bakehouse in Kitano, Kobe and sampled a few treats. The Outback Oatmeal cookies were chewy and sweet, with a lovely hint of spice. The Austin Almond Biscotti was crunchy and nutty, perfect for dipping in coffee. The Orchard Oasis cookie was a fruity surprise, with a delightful citrus zing. The Golden Gate Ginger cookie was spicy and satisfying. The Tokyo Tidbits were adorable and addictive, but the Pearly Pies were a bit too sweet for my taste. Overall, Bakehouse offers a diverse range of flavors and textures - worth a visit if you're in the area!\""
        ],
        [
         "**5/5 stars**\n\nI'm obsessed with Bakehouse in The Gulch, Nashville! Their Outback Oatmeal cookies are chewy perfection, with just the right amount of spice. The Austin Almond Biscotti is a game-changer - crunchy on the outside, soft on the inside, and that almond flavor? But the real showstopper is the Orchard Oasis cookie sandwich - the combination of sweet and tangy is addictive! The only miss for me was the Golden Gate Ginger, which was a bit too spicy. Can't wait to try the Tokyo Tidbits and Pearly Pies next!",
         3000026,
         "2024-05-20T13:17:03.052-04:00",
         9,
         "**5/5 stars**\n\nI'm obsessed with Bakehouse in The Gulch, Nashville! Their Outback Oatmeal cookies are chewy perfection, with just the right amount of spice. The Austin Almond Biscotti is a game-changer - crunchy on the outside, soft on the inside, and that almond flavor? But the real showstopper is the Orchard Oasis cookie sandwich - the combination of sweet and tangy is addictive! The only miss for me was the Golden Gate Ginger, which was a bit too spicy. Can't wait to try the Tokyo Tidbits and Pearly Pies next!"
        ],
        [
         "\"I stopped by Bakehouse in Kyoto's charming Gion district and sampled a few treats. The Outback Oatmeal cookies were chewy and comforting, while the Austin Almond Biscotti's crunchy texture won me over. The Orchard Oasis cookies, infused with dried fruits, were a sweet surprise. However, the Golden Gate Ginger cookies were a tad too spicy for my taste. The Tokyo Tidbits, bite-sized morsels of goodness, were addictive. Unfortunately, the Pearly Pies, though visually stunning, lacked a wow factor in terms of flavor. Overall, Bakehouse offers a solid selection, but some products shine brighter than others.\"",
         3000007,
         "2024-05-31T11:23:53.074-04:00",
         10,
         "\"I stopped by Bakehouse in Kyoto's charming Gion district and sampled a few treats. The Outback Oatmeal cookies were chewy and comforting, while the Austin Almond Biscotti's crunchy texture won me over. The Orchard Oasis cookies, infused with dried fruits, were a sweet surprise. However, the Golden Gate Ginger cookies were a tad too spicy for my taste. The Tokyo Tidbits, bite-sized morsels of goodness, were addictive. Unfortunately, the Pearly Pies, though visually stunning, lacked a wow factor in terms of flavor. Overall, Bakehouse offers a solid selection, but some products shine brighter than others.\""
        ],
        [
         "I recently visited the Bakehouse location in The Gulch, Nashville and was disappointed with my experience. I tried the Outback Oatmeal and Austin Almond Biscotti, and unfortunately, both fell flat. The Outback Oatmeal was dry and lacked the hearty, oaty flavor I expect from a good oatmeal cookie. The Austin Almond Biscotti, on the other hand, was overly hard and difficult to bite into, with a subtle almond flavor that left much to be desired. I've had better biscotti at coffee shops. I had high hopes for Bakehouse, but based on my experience with these two products, I can't say I'll be returning anytime soon.",
         3000026,
         "2024-05-31T11:13:36.962-04:00",
         11,
         "I recently visited the Bakehouse location in The Gulch, Nashville and was disappointed with my experience. I tried the Outback Oatmeal and Austin Almond Biscotti, and unfortunately, both fell flat. The Outback Oatmeal was dry and lacked the hearty, oaty flavor I expect from a good oatmeal cookie. The Austin Almond Biscotti, on the other hand, was overly hard and difficult to bite into, with a subtle almond flavor that left much to be desired. I've had better biscotti at coffee shops. I had high hopes for Bakehouse, but based on my experience with these two products, I can't say I'll be returning anytime soon."
        ],
        [
         "**4.5/5 stars**\n\nI stumbled upon Bakehouse in Shibuya, Tokyo, and oh boy, am I glad I did! Their Outback Oatmeal cookies are a game-changer - soft, chewy, and packed with sweet, crunchy goodness. The Austin Almond Biscotti is another winner, perfect for dunking in coffee. However, the Orchard Oasis cookies were a bit too sweet for my taste. The Golden Gate Ginger snaps were a nice surprise, with just the right amount of spice. Tokyo Tidbits, their seasonal offering, was a delightful mix of flavors. Sadly, the Pearly Pies were a letdown, lacking the flaky crust I crave. Overall, Bakehouse is a must-visit for cookie lovers in Shibuya!",
         3000001,
         "2024-05-20T13:17:03.052-04:00",
         12,
         "**4.5/5 stars**\n\nI stumbled upon Bakehouse in Shibuya, Tokyo, and oh boy, am I glad I did! Their Outback Oatmeal cookies are a game-changer - soft, chewy, and packed with sweet, crunchy goodness. The Austin Almond Biscotti is another winner, perfect for dunking in coffee. However, the Orchard Oasis cookies were a bit too sweet for my taste. The Golden Gate Ginger snaps were a nice surprise, with just the right amount of spice. Tokyo Tidbits, their seasonal offering, was a delightful mix of flavors. Sadly, the Pearly Pies were a letdown, lacking the flaky crust I crave. Overall, Bakehouse is a must-visit for cookie lovers in Shibuya!"
        ],
        [
         "I recently visited the Bakehouse location in Denver's RiNo district and was disappointed by my experience. I tried the Outback Oatmeal and Austin Almond Biscotti, and unfortunately, both fell flat. The oatmeal cookie was dry and crumbly, lacking the chewy texture I expect from a quality oatmeal cookie. The biscotti, while crunchy, had a bland taste that didn't do justice to its almond flavor. I had high hopes for Bakehouse, but based on this visit, I can't recommend it.",
         3000024,
         "2024-05-31T11:13:36.962-04:00",
         13,
         "I recently visited the Bakehouse location in Denver's RiNo district and was disappointed by my experience. I tried the Outback Oatmeal and Austin Almond Biscotti, and unfortunately, both fell flat. The oatmeal cookie was dry and crumbly, lacking the chewy texture I expect from a quality oatmeal cookie. The biscotti, while crunchy, had a bland taste that didn't do justice to its almond flavor. I had high hopes for Bakehouse, but based on this visit, I can't recommend it."
        ],
        [
         "Title: A Sweet Escape in Denver's RiNo District: Bakehouse\n\nBakehouse in Denver's RiNo district is a true delight for pastry enthusiasts! Their Outback Oatmeal cookies are a hearty, satisfying treat, while the Austin Almond Biscotti pairs perfectly with a warm cup of coffee. The Orchard Oasis, a fruit-filled delight, transports you to a serene orchard with every bite. However, the Golden Gate Ginger cookies stole the show with their perfect balance of sweetness and spice. I'm eager to try the Tokyo Tidbits and Pearly Pies on my next visit. Bakehouse is a must-visit for anyone with a sweet tooth in Denver!\n\n(499 characters)",
         3000024,
         "2024-05-20T13:24:06.591-04:00",
         14,
         "Title: A Sweet Escape in Denver's RiNo District: Bakehouse\n\nBakehouse in Denver's RiNo district is a true delight for pastry enthusiasts! Their Outback Oatmeal cookies are a hearty, satisfying treat, while the Austin Almond Biscotti pairs perfectly with a warm cup of coffee. The Orchard Oasis, a fruit-filled delight, transports you to a serene orchard with every bite. However, the Golden Gate Ginger cookies stole the show with their perfect balance of sweetness and spice. I'm eager to try the Tokyo Tidbits and Pearly Pies on my next visit. Bakehouse is a must-visit for anyone with a sweet tooth in Denver!\n\n(499 characters)"
        ],
        [
         "I apologize, but it seems there's been a mistake. You mentioned the store is in Seattle, but then specified the district as Miami, which is a different city altogether. Assuming you meant to say the store is in Seattle, here's a negative review:\n\n\"Underwhelming experience at Bakehouse in Seattle. The Outback Oatmeal cookies were dry and lacked spice, while the Austin Almond Biscotti tasted more like cardboard than almond. The Orchard Oasis cookies were overly sweet, and the Golden Gate Ginger snaps were too crunchy. The Tokyo Tidbits were the final disappointment - stale and flavorless. Only the Pearly Pies showed promise, but even they were overpriced. Won't be back.\"",
         3000015,
         "2024-05-31T14:42:07.727-04:00",
         15,
         "I apologize, but it seems there's been a mistake. You mentioned the store is in Seattle, but then specified the district as Miami, which is a different city altogether. Assuming you meant to say the store is in Seattle, here's a negative review:\n\n\"Underwhelming experience at Bakehouse in Seattle. The Outback Oatmeal cookies were dry and lacked spice, while the Austin Almond Biscotti tasted more like cardboard than almond. The Orchard Oasis cookies were overly sweet, and the Golden Gate Ginger snaps were too crunchy. The Tokyo Tidbits were the final disappointment - stale and flavorless. Only the Pearly Pies showed promise, but even they were overpriced. Won't be back.\""
        ],
        [
         "**Disappointing Experience at Bakehouse Seattle**\n\nI'm still trying to process the underwhelming experience I had at Bakehouse in Leederville, Seattle. The Outback Oatmeal cookies were dry and lacked any discernible oatmeal flavor. The Austin Almond Biscotti was more like a bland, crumbly brick than a delicate Italian treat. The Orchard Oasis cookie, touted as a fruity delight, tasted more like artificial flavorings than actual fruit. The Golden Gate Ginger was the final nail in the coffin - overpowering and bitter. The Tokyo Tidbits and Pearly Pies didn't even get a chance, as I'd lost all enthusiasm by then. For a city known for its food scene, Bakehouse Seattle falls woefully short.",
         3000009,
         "2024-05-31T14:42:07.727-04:00",
         16,
         "**Disappointing Experience at Bakehouse Seattle**\n\nI'm still trying to process the underwhelming experience I had at Bakehouse in Leederville, Seattle. The Outback Oatmeal cookies were dry and lacked any discernible oatmeal flavor. The Austin Almond Biscotti was more like a bland, crumbly brick than a delicate Italian treat. The Orchard Oasis cookie, touted as a fruity delight, tasted more like artificial flavorings than actual fruit. The Golden Gate Ginger was the final nail in the coffin - overpowering and bitter. The Tokyo Tidbits and Pearly Pies didn't even get a chance, as I'd lost all enthusiasm by then. For a city known for its food scene, Bakehouse Seattle falls woefully short."
        ],
        [
         "**4.5/5 stars**\n\nI stumbled upon Bakehouse in Furukawa, Aomori, and oh boy, am I glad I did! Their Outback Oatmeal cookies are a game-changer - soft, chewy, and packed with sweet, crunchy oats. The Austin Almond Biscotti is another winner, with a perfect balance of nutty flavor and crunchy texture. However, the Orchard Oasis cookies were a bit too sweet for my taste. The Golden Gate Ginger cookies, on the other hand, were a delightful surprise, with a lovely spicy kick. Tokyo Tidbits were a fun treat, but the Pearly Pies were a bit overpriced. Overall, Bakehouse is a must-visit for cookie lovers in Aomori!",
         3000045,
         "2024-05-20T13:17:03.052-04:00",
         17,
         "**4.5/5 stars**\n\nI stumbled upon Bakehouse in Furukawa, Aomori, and oh boy, am I glad I did! Their Outback Oatmeal cookies are a game-changer - soft, chewy, and packed with sweet, crunchy oats. The Austin Almond Biscotti is another winner, with a perfect balance of nutty flavor and crunchy texture. However, the Orchard Oasis cookies were a bit too sweet for my taste. The Golden Gate Ginger cookies, on the other hand, were a delightful surprise, with a lovely spicy kick. Tokyo Tidbits were a fun treat, but the Pearly Pies were a bit overpriced. Overall, Bakehouse is a must-visit for cookie lovers in Aomori!"
        ],
        [
         "Title: A Sweet Escape in Fishtown: Bakehouse Review\n\nBakehouse in Fishtown, Philadelphia, is a delightful discovery for pastry enthusiasts. Their Outback Oatmeal cookies are a comforting classic, with a perfect chewy texture and a hint of cinnamon that warms your soul. The Austin Almond Biscotti, on the other hand, offers a delightful crunch, paired beautifully with a cup of coffee from a nearby local roastery.\n\nThe Orchard Oasis, a fruit-filled delight, transports you to a serene orchard with every bite. However, the Golden Gate Ginger cookies, while packed with flavor, could benefit from a slightly less intense ginger kick.\n\nThe Tokyo Tidbits, delicate green tea shortbreads, offer an intriguing taste of the East, while the Pearly Pies, miniature pecan pies, are a sweet finale to any visit.\n\nBakehouse's diverse selection and commitment to quality make it a standout in Philadelphia's bustling bakery scene. Whether you're a local or just passing through Fishtown, Bakehouse is definitely worth a visit.",
         3000028,
         "2024-05-20T13:24:06.591-04:00",
         18,
         "Title: A Sweet Escape in Fishtown: Bakehouse Review\n\nBakehouse in Fishtown, Philadelphia, is a delightful discovery for pastry enthusiasts. Their Outback Oatmeal cookies are a comforting classic, with a perfect chewy texture and a hint of cinnamon that warms your soul. The Austin Almond Biscotti, on the other hand, offers a delightful crunch, paired beautifully with a cup of coffee from a nearby local roastery.\n\nThe Orchard Oasis, a fruit-filled delight, transports you to a serene orchard with every bite. However, the Golden Gate Ginger cookies, while packed with flavor, could benefit from a slightly less intense ginger kick.\n\nThe Tokyo Tidbits, delicate green tea shortbreads, offer an intriguing taste of the East, while the Pearly Pies, miniature pecan pies, are a sweet finale to any visit.\n\nBakehouse's diverse selection and commitment to quality make it a standout in Philadelphia's bustling bakery scene. Whether you're a local or just passing through Fishtown, Bakehouse is definitely worth a visit."
        ],
        [
         "I recently visited the Bakehouse location in Ballard, Seattle and was thoroughly disappointed with my experience. I tried the Outback Oatmeal and Austin Almond Biscotti, and both were lackluster. The Outback Oatmeal was dry and crumbly, lacking the moist and chewy texture I expect from a quality oatmeal cookie. The Austin Almond Biscotti was overly hard and difficult to bite into, making it a challenge to enjoy with my coffee. I've had better biscotti from a gas station. I had high hopes for Bakehouse, but unfortunately, it fell short of my expectations. I won't be returning anytime soon.",
         3000038,
         "2024-05-31T11:13:36.962-04:00",
         19,
         "I recently visited the Bakehouse location in Ballard, Seattle and was thoroughly disappointed with my experience. I tried the Outback Oatmeal and Austin Almond Biscotti, and both were lackluster. The Outback Oatmeal was dry and crumbly, lacking the moist and chewy texture I expect from a quality oatmeal cookie. The Austin Almond Biscotti was overly hard and difficult to bite into, making it a challenge to enjoy with my coffee. I've had better biscotti from a gas station. I had high hopes for Bakehouse, but unfortunately, it fell short of my expectations. I won't be returning anytime soon."
        ],
        [
         "Title: A Delightful Cookie Experience in Kreuzberg, Berlin\n\nBakehouse in Kreuzberg, Berlin, is a true gem for cookie lovers. Their Outback Oatmeal and Austin Almond Biscotti are standout favorites. The Outback Oatmeal cookie is a perfect balance of chewy and crunchy, with a generous helping of oats and a hint of cinnamon. The Austin Almond Biscotti, on the other hand, is a crisp and flavorful delight, perfect for dipping in your coffee.\n\nThe Orchard Oasis and Golden Gate Ginger cookies are also not to be missed. Orchard Oasis is a refreshing burst of fruit flavors, while the Golden Gate Ginger packs a spicy and sweet punch that lingers long after the last bite.\n\nI was less impressed with the Tokyo Tidbits and Pearly Pies. While the Tokyo Tidbits were a unique and interesting blend of flavors, they were a bit too salty for my taste. The Pearly Pies, although visually appealing, lacked the depth of flavor I was expecting.\n\nOverall, Bakehouse is a must-visit for cookie enthusiasts. Their diverse selection and commitment to quality make for a delightful cookie experience. I highly recommend stopping by and trying their Outback Oatmeal and Austin Almond Biscotti. You won't be disappointed!",
         3000044,
         "2024-05-20T13:24:06.591-04:00",
         20,
         "Title: A Delightful Cookie Experience in Kreuzberg, Berlin\n\nBakehouse in Kreuzberg, Berlin, is a true gem for cookie lovers. Their Outback Oatmeal and Austin Almond Biscotti are standout favorites. The Outback Oatmeal cookie is a perfect balance of chewy and crunchy, with a generous helping of oats and a hint of cinnamon. The Austin Almond Biscotti, on the other hand, is a crisp and flavorful delight, perfect for dipping in your coffee.\n\nThe Orchard Oasis and Golden Gate Ginger cookies are also not to be missed. Orchard Oasis is a refreshing burst of fruit flavors, while the Golden Gate Ginger packs a spicy and sweet punch that lingers long after the last bite.\n\nI was less impressed with the Tokyo Tidbits and Pearly Pies. While the Tokyo Tidbits were a unique and interesting blend of flavors, they were a bit too salty for my taste. The Pearly Pies, although visually appealing, lacked the depth of flavor I was expecting.\n\nOverall, Bakehouse is a must-visit for cookie enthusiasts. Their diverse selection and commitment to quality make for a delightful cookie experience. I highly recommend stopping by and trying their Outback Oatmeal and Austin Almond Biscotti. You won't be disappointed!"
        ],
        [
         "I recently visited the Bakehouse store in Hiratsuka's Sakuradori district and was disappointed with their Outback Oatmeal and Austin Almond Biscotti. The oatmeal cookie was dry and lacked the expected oat flavor, while the biscotti was overly sweet and had a sparse distribution of almonds. I had looked forward to trying their Orchard Oasis and Golden Gate Ginger, but after these experiences, I'm hesitant to give them a try. I hope Bakehouse improves the quality of their products to meet the expectations of their customers.",
         3000025,
         "2024-05-31T11:13:36.962-04:00",
         21,
         "I recently visited the Bakehouse store in Hiratsuka's Sakuradori district and was disappointed with their Outback Oatmeal and Austin Almond Biscotti. The oatmeal cookie was dry and lacked the expected oat flavor, while the biscotti was overly sweet and had a sparse distribution of almonds. I had looked forward to trying their Orchard Oasis and Golden Gate Ginger, but after these experiences, I'm hesitant to give them a try. I hope Bakehouse improves the quality of their products to meet the expectations of their customers."
        ],
        [
         "Title: A Delightful Cookie Experience in Wicker Park\n\nBakehouse in Wicker Park, Chicago, has won my heart with their outstanding cookies. The Outback Oatmeal and Austin Almond Biscotti are must-tries. The oatmeal cookie is perfectly chewy with a hint of cinnamon, while the biscotti has a satisfying crunch and rich almond flavor. Orchard Oasis, a seasonal favorite, is a burst of fruity goodness. Golden Gate Ginger packs a punch with its spicy, sweet flavor. Tokyo Tidbits, although small, are packed with savory goodness. Pearly Pies, their unique take on whoopie pies, are a delightful treat. Highly recommended for cookie lovers!\n\n(499 characters)",
         3000008,
         "2024-05-20T13:24:06.591-04:00",
         22,
         "Title: A Delightful Cookie Experience in Wicker Park\n\nBakehouse in Wicker Park, Chicago, has won my heart with their outstanding cookies. The Outback Oatmeal and Austin Almond Biscotti are must-tries. The oatmeal cookie is perfectly chewy with a hint of cinnamon, while the biscotti has a satisfying crunch and rich almond flavor. Orchard Oasis, a seasonal favorite, is a burst of fruity goodness. Golden Gate Ginger packs a punch with its spicy, sweet flavor. Tokyo Tidbits, although small, are packed with savory goodness. Pearly Pies, their unique take on whoopie pies, are a delightful treat. Highly recommended for cookie lovers!\n\n(499 characters)"
        ],
        [
         "**Disappointing Experience at Bakehouse Seattle**\n\nI was thrilled to try Bakehouse in Seattle's Daimyo district, but unfortunately, their cookies fell flat. The Outback Oatmeal was overly sweet and lacked texture, while the Austin Almond Biscotti was stale and crumbly. The Orchard Oasis, touted as a seasonal favorite, tasted more like artificial fruit flavor than fresh orchard goodness. The Golden Gate Ginger was the only decent option, but even that was overpowered by an overwhelming spice. The Tokyo Tidbits were a confusing mess of flavors, and don't even get me started on the Pearly Pies, which were more like sugary disks than flaky, buttery goodness. For a city known for its food scene, Bakehouse Seattle fails to impress.",
         3000018,
         "2024-05-31T14:42:07.727-04:00",
         23,
         "**Disappointing Experience at Bakehouse Seattle**\n\nI was thrilled to try Bakehouse in Seattle's Daimyo district, but unfortunately, their cookies fell flat. The Outback Oatmeal was overly sweet and lacked texture, while the Austin Almond Biscotti was stale and crumbly. The Orchard Oasis, touted as a seasonal favorite, tasted more like artificial fruit flavor than fresh orchard goodness. The Golden Gate Ginger was the only decent option, but even that was overpowered by an overwhelming spice. The Tokyo Tidbits were a confusing mess of flavors, and don't even get me started on the Pearly Pies, which were more like sugary disks than flaky, buttery goodness. For a city known for its food scene, Bakehouse Seattle fails to impress."
        ],
        [
         "**4.5/5 stars**\n\nI'm obsessed with Bakehouse in the Mission District of San Francisco! Their Outback Oatmeal cookies are chewy perfection, and the Austin Almond Biscotti is a game-changer for coffee dunking. The Orchard Oasis shortbread is a sweet and tangy surprise, but the Golden Gate Ginger snaps are a bit too spicy for my taste. Tokyo Tidbits are adorable and addictive, but the real showstopper is the Pearly Pies - flaky crust and velvety filling, yes please! Can't wait to go back and try more!",
         3000002,
         "2024-05-20T13:17:03.052-04:00",
         24,
         "**4.5/5 stars**\n\nI'm obsessed with Bakehouse in the Mission District of San Francisco! Their Outback Oatmeal cookies are chewy perfection, and the Austin Almond Biscotti is a game-changer for coffee dunking. The Orchard Oasis shortbread is a sweet and tangy surprise, but the Golden Gate Ginger snaps are a bit too spicy for my taste. Tokyo Tidbits are adorable and addictive, but the real showstopper is the Pearly Pies - flaky crust and velvety filling, yes please! Can't wait to go back and try more!"
        ],
        [
         "\"5/5 stars for Bakehouse in Norwood, Adelaide! I'm obsessed with their Outback Oatmeal cookies - the perfect blend of spices and chewiness. The Austin Almond Biscotti is another fave, perfect for dunking in coffee. However, the Orchard Oasis cookies were a letdown, too sweet and crumbly. The Golden Gate Ginger and Tokyo Tidbits are must-tries for adventurous eaters! Pearly Pies are a game-changer for dessert lovers. Can't wait to go back and try more!\"",
         3000012,
         "2024-05-20T13:17:03.052-04:00",
         25,
         "\"5/5 stars for Bakehouse in Norwood, Adelaide! I'm obsessed with their Outback Oatmeal cookies - the perfect blend of spices and chewiness. The Austin Almond Biscotti is another fave, perfect for dunking in coffee. However, the Orchard Oasis cookies were a letdown, too sweet and crumbly. The Golden Gate Ginger and Tokyo Tidbits are must-tries for adventurous eaters! Pearly Pies are a game-changer for dessert lovers. Can't wait to go back and try more!\""
        ],
        [
         "**Disappointing Experience at Bakehouse Seattle**\n\nI was thrilled to try Bakehouse's offerings, but unfortunately, my excitement was short-lived. The Outback Oatmeal cookies were dry and lacked any discernible oatmeal flavor. The Austin Almond Biscotti was overly crunchy and tasted more like cardboard than almond. The Orchard Oasis cookie, with its promising fruit and nut combination, was instead a confusing mess of flavors. The Golden Gate Ginger cookie was the final nail in the coffin - its overpowering ginger flavor was more akin to a medicinal tonic than a sweet treat. The Tokyo Tidbits and Pearly Pies didn't fare much better. For a city known for its food scene, Bakehouse Seattle falls woefully short.",
         3000015,
         "2024-05-31T14:45:07.063-04:00",
         26,
         "**Disappointing Experience at Bakehouse Seattle**\n\nI was thrilled to try Bakehouse's offerings, but unfortunately, my excitement was short-lived. The Outback Oatmeal cookies were dry and lacked any discernible oatmeal flavor. The Austin Almond Biscotti was overly crunchy and tasted more like cardboard than almond. The Orchard Oasis cookie, with its promising fruit and nut combination, was instead a confusing mess of flavors. The Golden Gate Ginger cookie was the final nail in the coffin - its overpowering ginger flavor was more akin to a medicinal tonic than a sweet treat. The Tokyo Tidbits and Pearly Pies didn't fare much better. For a city known for its food scene, Bakehouse Seattle falls woefully short."
        ],
        [
         "**4.5/5 stars**\n\nI'm obsessed with Bakehouse in Sakae, Nagoya! Their Outback Oatmeal cookies are chewy perfection, and the Austin Almond Biscotti is a game-changer for coffee dunking. The Orchard Oasis shortbread is buttery heaven, but the Golden Gate Ginger snaps are a bit too spicy for my taste. Tokyo Tidbits are adorable and addictive, but the Pearly Pies are overpriced. Overall, Bakehouse is a must-visit for cookie lovers in Nagoya!",
         3000016,
         "2024-05-20T13:17:03.052-04:00",
         27,
         "**4.5/5 stars**\n\nI'm obsessed with Bakehouse in Sakae, Nagoya! Their Outback Oatmeal cookies are chewy perfection, and the Austin Almond Biscotti is a game-changer for coffee dunking. The Orchard Oasis shortbread is buttery heaven, but the Golden Gate Ginger snaps are a bit too spicy for my taste. Tokyo Tidbits are adorable and addictive, but the Pearly Pies are overpriced. Overall, Bakehouse is a must-visit for cookie lovers in Nagoya!"
        ],
        [
         "\"5/5 stars for Bakehouse in Fitzroy, Melbourne! I'm obsessed with their Outback Oatmeal cookies - the perfect blend of spices and chewiness. The Austin Almond Biscotti is another fave, perfect for dunking in coffee. However, the Orchard Oasis cookies were a letdown, too sweet and crumbly. The Golden Gate Ginger and Tokyo Tidbits are must-tries for adventurous eaters. Pearly Pies are a game-changer for dessert lovers. Can't wait to go back and try more!\"",
         3000003,
         "2024-05-20T13:17:03.052-04:00",
         28,
         "\"5/5 stars for Bakehouse in Fitzroy, Melbourne! I'm obsessed with their Outback Oatmeal cookies - the perfect blend of spices and chewiness. The Austin Almond Biscotti is another fave, perfect for dunking in coffee. However, the Orchard Oasis cookies were a letdown, too sweet and crumbly. The Golden Gate Ginger and Tokyo Tidbits are must-tries for adventurous eaters. Pearly Pies are a game-changer for dessert lovers. Can't wait to go back and try more!\""
        ],
        [
         "Title: A Delightful Cookie Experience in Södermalm\n\nBakehouse in Södermalm, Stockholm, has won my heart with their exquisite cookie selection. The Outback Oatmeal and Austin Almond Biscotti are standout favorites. The oatmeal cookie's perfect chewiness and the biscotti's crunchy texture, paired with the delightful almond flavor, make them irresistible. The Orchard Oasis and Golden Gate Ginger cookies are also worth mentioning for their unique flavors. The former's fruity burst and the latter's spicy kick create an exciting taste journey. I'm yet to try the Tokyo Tidbits and Pearly Pies, but I'm already looking forward to my next visit!",
         3000047,
         "2024-05-20T13:24:06.591-04:00",
         29,
         "Title: A Delightful Cookie Experience in Södermalm\n\nBakehouse in Södermalm, Stockholm, has won my heart with their exquisite cookie selection. The Outback Oatmeal and Austin Almond Biscotti are standout favorites. The oatmeal cookie's perfect chewiness and the biscotti's crunchy texture, paired with the delightful almond flavor, make them irresistible. The Orchard Oasis and Golden Gate Ginger cookies are also worth mentioning for their unique flavors. The former's fruity burst and the latter's spicy kick create an exciting taste journey. I'm yet to try the Tokyo Tidbits and Pearly Pies, but I'm already looking forward to my next visit!"
        ],
        [
         "Title: A Delightful Cookie Experience at Bakehouse, Nagarekawa\n\nBakehouse in Nagarekawa, Hiroshima, has become my go-to spot for unique and delicious cookies. Their Outback Oatmeal cookies are a perfect blend of chewy and crunchy, with a generous helping of oats and a hint of cinnamon. The Austin Almond Biscotti is a crunchy delight, perfect for dipping in my morning coffee. Orchard Oasis, with its fruity burst of flavor, is a refreshing treat on a hot day. The Golden Gate Ginger cookies have just the right amount of spice, while the Tokyo Tidbits are a fun and tasty surprise with their unique shape and size. I haven't tried the Pearly Pies yet, but they're next on my list! Bakehouse's commitment to quality and creativity makes every visit a joy.",
         3000013,
         "2024-05-20T13:24:06.591-04:00",
         30,
         "Title: A Delightful Cookie Experience at Bakehouse, Nagarekawa\n\nBakehouse in Nagarekawa, Hiroshima, has become my go-to spot for unique and delicious cookies. Their Outback Oatmeal cookies are a perfect blend of chewy and crunchy, with a generous helping of oats and a hint of cinnamon. The Austin Almond Biscotti is a crunchy delight, perfect for dipping in my morning coffee. Orchard Oasis, with its fruity burst of flavor, is a refreshing treat on a hot day. The Golden Gate Ginger cookies have just the right amount of spice, while the Tokyo Tidbits are a fun and tasty surprise with their unique shape and size. I haven't tried the Pearly Pies yet, but they're next on my list! Bakehouse's commitment to quality and creativity makes every visit a joy."
        ],
        [
         "**5/5 stars**\n\nI'm obsessed with Bakehouse in Furumachi, Niigata! Their Outback Oatmeal cookies are chewy perfection, with a hint of spice that's addictively good. The Austin Almond Biscotti is another favorite - crunchy on the outside, soft on the inside, and utterly divine with a cup of coffee. The Orchard Oasis cookies are a refreshing twist, with a lovely citrus zing. Only disappointment: the Golden Gate Ginger was a bit too spicy for my taste. Still, can't wait to try the Tokyo Tidbits and Pearly Pies next!",
         3000031,
         "2024-05-20T13:17:03.052-04:00",
         31,
         "**5/5 stars**\n\nI'm obsessed with Bakehouse in Furumachi, Niigata! Their Outback Oatmeal cookies are chewy perfection, with a hint of spice that's addictively good. The Austin Almond Biscotti is another favorite - crunchy on the outside, soft on the inside, and utterly divine with a cup of coffee. The Orchard Oasis cookies are a refreshing twist, with a lovely citrus zing. Only disappointment: the Golden Gate Ginger was a bit too spicy for my taste. Still, can't wait to try the Tokyo Tidbits and Pearly Pies next!"
        ],
        [
         "I recently visited the Bakehouse store in Tatemachi, Kanazawa and was disappointed with the Outback Oatmeal and Austin Almond Biscotti. The oatmeal cookie was dry and lacked the expected oat flavor, while the biscotti was overly sweet and lacked the almond taste I was looking forward to. I had high hopes for these treats, but they fell short of my expectations. I hope to see improvements in the future. #Bakehouse #CookieReview",
         3000027,
         "2024-05-31T11:13:36.962-04:00",
         32,
         "I recently visited the Bakehouse store in Tatemachi, Kanazawa and was disappointed with the Outback Oatmeal and Austin Almond Biscotti. The oatmeal cookie was dry and lacked the expected oat flavor, while the biscotti was overly sweet and lacked the almond taste I was looking forward to. I had high hopes for these treats, but they fell short of my expectations. I hope to see improvements in the future. #Bakehouse #CookieReview"
        ],
        [
         "**Disappointing Experience at Bakehouse Seattle**\n\nI was thrilled to try Bakehouse's treats, but unfortunately, my excitement was short-lived. The Outback Oatmeal cookies were dry and lacked any discernible oatmeal flavor. The Austin Almond Biscotti was overly crunchy and tasted more like cardboard than almond. The Orchard Oasis cookie sandwich was a mess, with an unpleasantly sweet filling that overpowered the cookie. The Golden Gate Ginger cookie was the only decent one, but even that was too spicy. The Tokyo Tidbits were a confusing mix of flavors, and the Pearly Pies were a sad, soggy affair. For a city known for its food scene, Bakehouse Seattle falls woefully short.",
         3000018,
         "2024-05-31T14:45:07.063-04:00",
         33,
         "**Disappointing Experience at Bakehouse Seattle**\n\nI was thrilled to try Bakehouse's treats, but unfortunately, my excitement was short-lived. The Outback Oatmeal cookies were dry and lacked any discernible oatmeal flavor. The Austin Almond Biscotti was overly crunchy and tasted more like cardboard than almond. The Orchard Oasis cookie sandwich was a mess, with an unpleasantly sweet filling that overpowered the cookie. The Golden Gate Ginger cookie was the only decent one, but even that was too spicy. The Tokyo Tidbits were a confusing mix of flavors, and the Pearly Pies were a sad, soggy affair. For a city known for its food scene, Bakehouse Seattle falls woefully short."
        ],
        [
         "\"I stopped by Bakehouse in Fitzroy, Melbourne and sampled a few treats. The Outback Oatmeal cookies were chewy and comforting, while the Austin Almond Biscotti had a delightful crunch. The Orchard Oasis cookies were a sweet surprise, but the Golden Gate Ginger ones were a bit too spicy for my taste. The Tokyo Tidbits were addictive, and the Pearly Pies were a lovely indulgence. Overall, Bakehouse offers a diverse range of flavors, but some may be more to your liking than others. Worth a visit to explore their offerings!\"",
         3000003,
         "2024-05-31T11:23:53.074-04:00",
         34,
         "\"I stopped by Bakehouse in Fitzroy, Melbourne and sampled a few treats. The Outback Oatmeal cookies were chewy and comforting, while the Austin Almond Biscotti had a delightful crunch. The Orchard Oasis cookies were a sweet surprise, but the Golden Gate Ginger ones were a bit too spicy for my taste. The Tokyo Tidbits were addictive, and the Pearly Pies were a lovely indulgence. Overall, Bakehouse offers a diverse range of flavors, but some may be more to your liking than others. Worth a visit to explore their offerings!\""
        ],
        [
         "I recently visited the Bakehouse location in Nagoya's Sakae district and was disappointed with my experience. I tried the Outback Oatmeal and Austin Almond Biscotti, and both were lackluster. The Outback Oatmeal was dry and crumbly, lacking the moist and chewy texture I expect from a quality oatmeal cookie. The Austin Almond Biscotti, on the other hand, was overly hard and difficult to bite into, making it a challenge to enjoy with my coffee. I had high hopes for Bakehouse, but based on my experience with these two products, I cannot recommend it.",
         3000016,
         "2024-05-31T11:13:36.962-04:00",
         35,
         "I recently visited the Bakehouse location in Nagoya's Sakae district and was disappointed with my experience. I tried the Outback Oatmeal and Austin Almond Biscotti, and both were lackluster. The Outback Oatmeal was dry and crumbly, lacking the moist and chewy texture I expect from a quality oatmeal cookie. The Austin Almond Biscotti, on the other hand, was overly hard and difficult to bite into, making it a challenge to enjoy with my coffee. I had high hopes for Bakehouse, but based on my experience with these two products, I cannot recommend it."
        ],
        [
         "**Disappointing Experience at Bakehouse in Nagarekawa, Seattle**\n\nI was thrilled to try Bakehouse, but my excitement was short-lived. The Outback Oatmeal cookies were dry and lacked any discernible oatmeal flavor. The Austin Almond Biscotti was overly crunchy and tasted more like cardboard than almond. The Orchard Oasis, touted as a fruity delight, was instead a confusing mix of clashing flavors. The Golden Gate Ginger was the final nail in the coffin - it was so spicy it overpowered any other flavor. The Tokyo Tidbits and Pearly Pies didn't fare much better. For a city known for its food scene, Bakehouse falls woefully short.",
         3000013,
         "2024-05-31T14:42:07.727-04:00",
         36,
         "**Disappointing Experience at Bakehouse in Nagarekawa, Seattle**\n\nI was thrilled to try Bakehouse, but my excitement was short-lived. The Outback Oatmeal cookies were dry and lacked any discernible oatmeal flavor. The Austin Almond Biscotti was overly crunchy and tasted more like cardboard than almond. The Orchard Oasis, touted as a fruity delight, was instead a confusing mix of clashing flavors. The Golden Gate Ginger was the final nail in the coffin - it was so spicy it overpowered any other flavor. The Tokyo Tidbits and Pearly Pies didn't fare much better. For a city known for its food scene, Bakehouse falls woefully short."
        ],
        [
         "**Disappointing Experience at Bakehouse Seattle**\n\nI was thrilled to try Bakehouse's offerings, but unfortunately, my excitement was short-lived. The Outback Oatmeal cookies were dry and lacked any discernible spice, while the Austin Almond Biscotti was overly crunchy and tasted more like cardboard than almond. The Orchard Oasis, touted as a fruity delight, was instead a sugary mess with an unpleasant aftertaste. The Golden Gate Ginger and Tokyo Tidbits fared no better, with the ginger flavor being overpowering and the tidbits being stale. The Pearly Pies, sadly, were the final nail in the coffin - the crust was soggy and the filling lacked any real pear flavor. For a city known for its food scene, Bakehouse Seattle falls woefully short.",
         3000005,
         "2024-05-31T14:45:07.063-04:00",
         37,
         "**Disappointing Experience at Bakehouse Seattle**\n\nI was thrilled to try Bakehouse's offerings, but unfortunately, my excitement was short-lived. The Outback Oatmeal cookies were dry and lacked any discernible spice, while the Austin Almond Biscotti was overly crunchy and tasted more like cardboard than almond. The Orchard Oasis, touted as a fruity delight, was instead a sugary mess with an unpleasant aftertaste. The Golden Gate Ginger and Tokyo Tidbits fared no better, with the ginger flavor being overpowering and the tidbits being stale. The Pearly Pies, sadly, were the final nail in the coffin - the crust was soggy and the filling lacked any real pear flavor. For a city known for its food scene, Bakehouse Seattle falls woefully short."
        ],
        [
         "\"I stopped by Bakehouse on East 6th Street in Austin and sampled a few treats. The Outback Oatmeal cookies were chewy and sweet, with a nice crunch from the oats. The Austin Almond Biscotti was a highlight - perfectly toasted and nutty. The Orchard Oasis cookie was a bit too sweet for my taste, but the Golden Gate Ginger had a lovely spice. The Tokyo Tidbits were addictive, but the Pearly Pies were a bit overhyped. Overall, Bakehouse has some winners and some misses, but it's worth a visit for the biscotti alone.\"",
         3000017,
         "2024-05-31T11:23:53.074-04:00",
         38,
         "\"I stopped by Bakehouse on East 6th Street in Austin and sampled a few treats. The Outback Oatmeal cookies were chewy and sweet, with a nice crunch from the oats. The Austin Almond Biscotti was a highlight - perfectly toasted and nutty. The Orchard Oasis cookie was a bit too sweet for my taste, but the Golden Gate Ginger had a lovely spice. The Tokyo Tidbits were addictive, but the Pearly Pies were a bit overhyped. Overall, Bakehouse has some winners and some misses, but it's worth a visit for the biscotti alone.\""
        ],
        [
         "Title: A Delightful Cookie Experience at Bakehouse in Capitol Hill, Seattle\n\nBakehouse in Capitol Hill, Seattle, is a must-visit for cookie enthusiasts! Their Outback Oatmeal cookies are a perfect blend of chewy and crunchy, with a generous helping of oats and a hint of cinnamon. The Austin Almond Biscotti is a crunchy delight, perfect for dipping in your coffee or enjoying on its own. Orchard Oasis, a fruit-filled cookie, is a burst of fresh flavors that transport you to a sunny orchard. Golden Gate Ginger, with its spicy and sweet notes, is a treat for ginger lovers. Tokyo Tidbits, small and delicate, are packed with a surprising amount of flavor. Pearly Pies, their unique take on mini pie cookies, are a delightful surprise. Bakehouse's commitment to quality and creativity makes every visit a joy.",
         3000014,
         "2024-05-20T13:24:06.591-04:00",
         39,
         "Title: A Delightful Cookie Experience at Bakehouse in Capitol Hill, Seattle\n\nBakehouse in Capitol Hill, Seattle, is a must-visit for cookie enthusiasts! Their Outback Oatmeal cookies are a perfect blend of chewy and crunchy, with a generous helping of oats and a hint of cinnamon. The Austin Almond Biscotti is a crunchy delight, perfect for dipping in your coffee or enjoying on its own. Orchard Oasis, a fruit-filled cookie, is a burst of fresh flavors that transport you to a sunny orchard. Golden Gate Ginger, with its spicy and sweet notes, is a treat for ginger lovers. Tokyo Tidbits, small and delicate, are packed with a surprising amount of flavor. Pearly Pies, their unique take on mini pie cookies, are a delightful surprise. Bakehouse's commitment to quality and creativity makes every visit a joy."
        ],
        [
         "\"Underwhelming experience at Bakehouse in Seattle. The Outback Oatmeal cookies were dry and lacked any discernible spice, while the Austin Almond Biscotti tasted more like cardboard than almond. The Orchard Oasis cookies were overly sweet and the Golden Gate Ginger snaps were bland. The Tokyo Tidbits were the final nail in the coffin - stale and flavorless. Only the Pearly Pies showed promise, but even they were overpriced. Disappointing for a city known for its food scene. 2/5 stars\"",
         3000014,
         "2024-05-31T14:45:07.063-04:00",
         40,
         "\"Underwhelming experience at Bakehouse in Seattle. The Outback Oatmeal cookies were dry and lacked any discernible spice, while the Austin Almond Biscotti tasted more like cardboard than almond. The Orchard Oasis cookies were overly sweet and the Golden Gate Ginger snaps were bland. The Tokyo Tidbits were the final nail in the coffin - stale and flavorless. Only the Pearly Pies showed promise, but even they were overpriced. Disappointing for a city known for its food scene. 2/5 stars\""
        ],
        [
         "**Disappointing Experience at Bakehouse Seattle**\n\nI was thrilled to try Bakehouse's treats, but unfortunately, my excitement was short-lived. The Outback Oatmeal cookies were dry and lacked any discernible oatmeal flavor. The Austin Almond Biscotti was overly crunchy and tasted more like cardboard than almond. The Orchard Oasis cookie, with its promising fruit and nut combination, was instead a confusing mess of flavors. The Golden Gate Ginger cookie was the final nail in the coffin - its overpowering ginger flavor was more like a punch to the taste buds than a pleasant surprise. The Tokyo Tidbits and Pearly Pies didn't fare much better. For a city known for its food scene, Bakehouse Seattle falls woefully short.",
         3000016,
         "2024-05-31T14:45:07.063-04:00",
         41,
         "**Disappointing Experience at Bakehouse Seattle**\n\nI was thrilled to try Bakehouse's treats, but unfortunately, my excitement was short-lived. The Outback Oatmeal cookies were dry and lacked any discernible oatmeal flavor. The Austin Almond Biscotti was overly crunchy and tasted more like cardboard than almond. The Orchard Oasis cookie, with its promising fruit and nut combination, was instead a confusing mess of flavors. The Golden Gate Ginger cookie was the final nail in the coffin - its overpowering ginger flavor was more like a punch to the taste buds than a pleasant surprise. The Tokyo Tidbits and Pearly Pies didn't fare much better. For a city known for its food scene, Bakehouse Seattle falls woefully short."
        ],
        [
         "I recently visited the Bakehouse location in New Orleans' Bywater district and was thoroughly disappointed with their Outback Oatmeal and Austin Almond Biscotti cookies. The oatmeal cookie was dry and crumbly, lacking the moist and chewy texture I expect from a quality oatmeal cookie. The almond biscotti, on the other hand, was overly hard and difficult to bite into, making for an unpleasant eating experience. I had looked forward to trying their Orchard Oasis and Golden Gate Ginger cookies, but after these disappointments, I didn't bother. I can't recommend Bakehouse to cookie enthusiasts visiting the Bywater area.",
         3000032,
         "2024-05-31T11:13:36.962-04:00",
         42,
         "I recently visited the Bakehouse location in New Orleans' Bywater district and was thoroughly disappointed with their Outback Oatmeal and Austin Almond Biscotti cookies. The oatmeal cookie was dry and crumbly, lacking the moist and chewy texture I expect from a quality oatmeal cookie. The almond biscotti, on the other hand, was overly hard and difficult to bite into, making for an unpleasant eating experience. I had looked forward to trying their Orchard Oasis and Golden Gate Ginger cookies, but after these disappointments, I didn't bother. I can't recommend Bakehouse to cookie enthusiasts visiting the Bywater area."
        ],
        [
         "Title: A Delightful Bakehouse Experience in San Francisco's Mission District\n\nReview: I recently visited Bakehouse in San Francisco's Mission District and was thoroughly impressed. Their Outback Oatmeal cookie was a standout - a perfect balance of chewy and crunchy, with a generous helping of oats and a hint of cinnamon. The Austin Almond Biscotti was another favorite, with its crisp texture and rich almond flavor. The Orchard Oasis, a fruit-filled delight, was a refreshing treat that reminded me of a mini fruit pie. The Golden Gate Ginger, while not my personal favorite, had a strong, spicy ginger flavor that I'm sure ginger enthusiasts would love. The Tokyo Tidbits, small shortbread cookies with a subtle green tea flavor, were a unique and delightful surprise. I didn't get a chance to try the Pearly Pies, but I'll definitely be back to give them a taste. Bakehouse is a must-visit for any cookie lover in San Francisco.",
         3000002,
         "2024-05-20T13:24:06.591-04:00",
         43,
         "Title: A Delightful Bakehouse Experience in San Francisco's Mission District\n\nReview: I recently visited Bakehouse in San Francisco's Mission District and was thoroughly impressed. Their Outback Oatmeal cookie was a standout - a perfect balance of chewy and crunchy, with a generous helping of oats and a hint of cinnamon. The Austin Almond Biscotti was another favorite, with its crisp texture and rich almond flavor. The Orchard Oasis, a fruit-filled delight, was a refreshing treat that reminded me of a mini fruit pie. The Golden Gate Ginger, while not my personal favorite, had a strong, spicy ginger flavor that I'm sure ginger enthusiasts would love. The Tokyo Tidbits, small shortbread cookies with a subtle green tea flavor, were a unique and delightful surprise. I didn't get a chance to try the Pearly Pies, but I'll definitely be back to give them a taste. Bakehouse is a must-visit for any cookie lover in San Francisco."
        ],
        [
         "I recently visited the Bakehouse location in Suita's Shukugawa district and was disappointed with my experience. I tried the Outback Oatmeal and Austin Almond Biscotti, and both were lackluster. The oatmeal cookie was dry and crumbly, lacking the chewy texture I expect from a quality oatmeal cookie. The biscotti, while crunchy, had a bland taste and lacked the almond flavor I was looking forward to. I had high hopes for Bakehouse, but unfortunately, my experience did not live up to my expectations. I hope they can improve the quality of their products in the future.",
         3000029,
         "2024-05-31T11:13:36.962-04:00",
         44,
         "I recently visited the Bakehouse location in Suita's Shukugawa district and was disappointed with my experience. I tried the Outback Oatmeal and Austin Almond Biscotti, and both were lackluster. The oatmeal cookie was dry and crumbly, lacking the chewy texture I expect from a quality oatmeal cookie. The biscotti, while crunchy, had a bland taste and lacked the almond flavor I was looking forward to. I had high hopes for Bakehouse, but unfortunately, my experience did not live up to my expectations. I hope they can improve the quality of their products in the future."
        ],
        [
         "**Disappointing Experience at Bakehouse Seattle**\n\nI was thrilled to try Bakehouse's treats, but unfortunately, my excitement was short-lived. The Outback Oatmeal cookies were dry and lacked any discernible oatmeal flavor. The Austin Almond Biscotti was overly crunchy and tasted more like cardboard than almond. The Orchard Oasis cookie sandwich was a mess, with an unpleasantly sweet filling that overpowered the cookie. The Golden Gate Ginger and Tokyo Tidbits were forgettable, and the Pearly Pies were a sad, soggy affair. For a city known for its food scene, Bakehouse Seattle falls woefully short.",
         3000002,
         "2024-05-31T14:45:07.063-04:00",
         45,
         "**Disappointing Experience at Bakehouse Seattle**\n\nI was thrilled to try Bakehouse's treats, but unfortunately, my excitement was short-lived. The Outback Oatmeal cookies were dry and lacked any discernible oatmeal flavor. The Austin Almond Biscotti was overly crunchy and tasted more like cardboard than almond. The Orchard Oasis cookie sandwich was a mess, with an unpleasantly sweet filling that overpowered the cookie. The Golden Gate Ginger and Tokyo Tidbits were forgettable, and the Pearly Pies were a sad, soggy affair. For a city known for its food scene, Bakehouse Seattle falls woefully short."
        ],
        [
         "I recently visited the Bakehouse in Niigata's Furumachi district and was disappointed with my experience. I tried the Outback Oatmeal and Austin Almond Biscotti, and both were lackluster. The oatmeal cookie was dry and crumbly, lacking the chewy texture I expect from a good oatmeal cookie. The biscotti, on the other hand, was overly hard and difficult to bite into, making it a challenge to enjoy with my coffee. I had high hopes for these treats, but they fell flat. I hope to see improvements in the future.",
         3000031,
         "2024-05-31T11:13:36.962-04:00",
         46,
         "I recently visited the Bakehouse in Niigata's Furumachi district and was disappointed with my experience. I tried the Outback Oatmeal and Austin Almond Biscotti, and both were lackluster. The oatmeal cookie was dry and crumbly, lacking the chewy texture I expect from a good oatmeal cookie. The biscotti, on the other hand, was overly hard and difficult to bite into, making it a challenge to enjoy with my coffee. I had high hopes for these treats, but they fell flat. I hope to see improvements in the future."
        ],
        [
         "**5/5 stars**\n\nI'm obsessed with Bakehouse in Tatemachi, Kanazawa! Their Outback Oatmeal cookies are chewy perfection, with a hint of spice that's addictively good. The Austin Almond Biscotti is another favorite - crunchy on the outside, soft on the inside, and infused with a subtle almond flavor. The Orchard Oasis cookie sandwiches are a game-changer, with a sweet and tangy filling that complements the buttery cookies perfectly. The only miss for me was the Golden Gate Ginger, which was a bit too spicy. But overall, Bakehouse is a must-visit for any cookie lover in Kanazawa!",
         3000027,
         "2024-05-20T13:17:03.052-04:00",
         47,
         "**5/5 stars**\n\nI'm obsessed with Bakehouse in Tatemachi, Kanazawa! Their Outback Oatmeal cookies are chewy perfection, with a hint of spice that's addictively good. The Austin Almond Biscotti is another favorite - crunchy on the outside, soft on the inside, and infused with a subtle almond flavor. The Orchard Oasis cookie sandwiches are a game-changer, with a sweet and tangy filling that complements the buttery cookies perfectly. The only miss for me was the Golden Gate Ginger, which was a bit too spicy. But overall, Bakehouse is a must-visit for any cookie lover in Kanazawa!"
        ],
        [
         "**4.5/5 stars**\n\nI'm obsessed with Bakehouse on Capitol Hill in Seattle! Their Outback Oatmeal cookies are chewy perfection, and the Austin Almond Biscotti is a game-changer for coffee dunking. The Orchard Oasis shortbread is a sweet and tangy surprise. However, the Golden Gate Ginger was a bit too spicy for my taste. Tokyo Tidbits are adorable, but overpriced. Pearly Pies are a must-try, though! Overall, Bakehouse is a must-visit for any cookie lover in Seattle.",
         3000014,
         "2024-05-20T13:17:03.052-04:00",
         48,
         "**4.5/5 stars**\n\nI'm obsessed with Bakehouse on Capitol Hill in Seattle! Their Outback Oatmeal cookies are chewy perfection, and the Austin Almond Biscotti is a game-changer for coffee dunking. The Orchard Oasis shortbread is a sweet and tangy surprise. However, the Golden Gate Ginger was a bit too spicy for my taste. Tokyo Tidbits are adorable, but overpriced. Pearly Pies are a must-try, though! Overall, Bakehouse is a must-visit for any cookie lover in Seattle."
        ],
        [
         "\"I stopped by Bakehouse in Sakae, Nagoya and tried a few treats. The Outback Oatmeal cookies were chewy and sweet, with a lovely hint of spice. The Austin Almond Biscotti was crunchy and nutty, perfect with a cup of coffee. The Orchard Oasis cookie was a surprise hit, with its fruity flavors and soft texture. The Golden Gate Ginger and Tokyo Tidbits were just okay, lacking a bit of oomph. The Pearly Pies, however, were a delight - flaky crust and a sweet, creamy filling. Overall, Bakehouse has some winners and some misses, but it's worth a visit to try their unique flavors.\"",
         3000016,
         "2024-05-31T11:23:53.074-04:00",
         49,
         "\"I stopped by Bakehouse in Sakae, Nagoya and tried a few treats. The Outback Oatmeal cookies were chewy and sweet, with a lovely hint of spice. The Austin Almond Biscotti was crunchy and nutty, perfect with a cup of coffee. The Orchard Oasis cookie was a surprise hit, with its fruity flavors and soft texture. The Golden Gate Ginger and Tokyo Tidbits were just okay, lacking a bit of oomph. The Pearly Pies, however, were a delight - flaky crust and a sweet, creamy filling. Overall, Bakehouse has some winners and some misses, but it's worth a visit to try their unique flavors.\""
        ],
        [
         "\"I stopped by Bakehouse in Portland's Pearl District and sampled a few treats. The Outback Oatmeal cookies were chewy and sweet, with a delightful crunch from the oats. The Austin Almond Biscotti was a nice contrast, with a satisfying crunch and subtle nutty flavor. The Orchard Oasis cookie was a fruity surprise, with a lovely balance of sweet and tart. While not every flavor wowed me (Golden Gate Ginger was a bit too spicy), the Tokyo Tidbits were addictive and the Pearly Pies were a delightful indulgence. Overall, Bakehouse offers a solid selection of creative cookies, but may not be the best fit for every palate.\"",
         3000019,
         "2024-05-31T11:23:53.074-04:00",
         50,
         "\"I stopped by Bakehouse in Portland's Pearl District and sampled a few treats. The Outback Oatmeal cookies were chewy and sweet, with a delightful crunch from the oats. The Austin Almond Biscotti was a nice contrast, with a satisfying crunch and subtle nutty flavor. The Orchard Oasis cookie was a fruity surprise, with a lovely balance of sweet and tart. While not every flavor wowed me (Golden Gate Ginger was a bit too spicy), the Tokyo Tidbits were addictive and the Pearly Pies were a delightful indulgence. Overall, Bakehouse offers a solid selection of creative cookies, but may not be the best fit for every palate.\""
        ],
        [
         "\"I stopped by Bakehouse in Wicker Park, Chicago and sampled a few treats. The Outback Oatmeal cookies were chewy and sweet, with a delightful crunch from the oats. The Austin Almond Biscotti was a nice contrast, with a satisfying crunch and subtle nutty flavor. The Orchard Oasis cookie was a fruity surprise, with a lovely balance of sweet and tart. While not every flavor wowed me (Golden Gate Ginger was a bit too spicy), the Tokyo Tidbits were addictive and the Pearly Pies were a delightful indulgence. Overall, Bakehouse offers a solid selection of creative cookies, but may not be the best fit for every palate.\"",
         3000008,
         "2024-05-31T11:23:53.074-04:00",
         51,
         "\"I stopped by Bakehouse in Wicker Park, Chicago and sampled a few treats. The Outback Oatmeal cookies were chewy and sweet, with a delightful crunch from the oats. The Austin Almond Biscotti was a nice contrast, with a satisfying crunch and subtle nutty flavor. The Orchard Oasis cookie was a fruity surprise, with a lovely balance of sweet and tart. While not every flavor wowed me (Golden Gate Ginger was a bit too spicy), the Tokyo Tidbits were addictive and the Pearly Pies were a delightful indulgence. Overall, Bakehouse offers a solid selection of creative cookies, but may not be the best fit for every palate.\""
        ],
        [
         "Title: A Sweet Escape to Bakehouse in Nashville's Gulch\n\nA visit to Bakehouse in the vibrant Gulch district of Nashville is a must for any dessert enthusiast. Their Outback Oatmeal cookies are a delightful symphony of oats and spices, offering a comforting taste of home. The Austin Almond Biscotti, with its perfect crunch and generous almond slivers, pairs beautifully with a cup of coffee from a nearby Gulch café.\n\nFor a more exotic treat, the Tokyo Tidbits are a delightful surprise - petite, crisp cookies infused with green tea flavor that transport you straight to the bustling streets of Japan. However, it's the Golden Gate Ginger that truly stole my heart - a harmonious blend of sweet and spice, reminiscent of the vibrant city of San Francisco.\n\nBakehouse's commitment to quality and diversity in their offerings makes them a standout in Nashville's dessert scene. Whether you're a local or just passing through, a stop at Bakehouse is sure to leave you with sweet memories.",
         3000026,
         "2024-05-20T13:24:06.591-04:00",
         52,
         "Title: A Sweet Escape to Bakehouse in Nashville's Gulch\n\nA visit to Bakehouse in the vibrant Gulch district of Nashville is a must for any dessert enthusiast. Their Outback Oatmeal cookies are a delightful symphony of oats and spices, offering a comforting taste of home. The Austin Almond Biscotti, with its perfect crunch and generous almond slivers, pairs beautifully with a cup of coffee from a nearby Gulch café.\n\nFor a more exotic treat, the Tokyo Tidbits are a delightful surprise - petite, crisp cookies infused with green tea flavor that transport you straight to the bustling streets of Japan. However, it's the Golden Gate Ginger that truly stole my heart - a harmonious blend of sweet and spice, reminiscent of the vibrant city of San Francisco.\n\nBakehouse's commitment to quality and diversity in their offerings makes them a standout in Nashville's dessert scene. Whether you're a local or just passing through, a stop at Bakehouse is sure to leave you with sweet memories."
        ],
        [
         "I recently visited the Bakehouse location in Aomori's Furukawa district and was thoroughly disappointed with my experience. I tried the Outback Oatmeal and Austin Almond Biscotti, and both were lackluster at best. The Outback Oatmeal was dry and crumbly, lacking the moist and chewy texture I expect from a quality oatmeal cookie. The Austin Almond Biscotti, on the other hand, was overly hard and difficult to bite into, making it a chore to eat rather than a pleasure. I've had better biscotti from a gas station.\n\nThe store itself was also a letdown. It was poorly lit and lacked the inviting atmosphere I've come to expect from a reputable bakery. The staff were unfriendly and unhelpful, and I felt rushed to make my selection and leave.\n\nOverall, I cannot recommend the Bakehouse location in Aomori's Furukawa district. The cookies were subpar, and the store itself was uninviting. I expect much more from a bakery that claims to be a top choice for cookie lovers.",
         3000045,
         "2024-05-31T11:13:36.962-04:00",
         53,
         "I recently visited the Bakehouse location in Aomori's Furukawa district and was thoroughly disappointed with my experience. I tried the Outback Oatmeal and Austin Almond Biscotti, and both were lackluster at best. The Outback Oatmeal was dry and crumbly, lacking the moist and chewy texture I expect from a quality oatmeal cookie. The Austin Almond Biscotti, on the other hand, was overly hard and difficult to bite into, making it a chore to eat rather than a pleasure. I've had better biscotti from a gas station.\n\nThe store itself was also a letdown. It was poorly lit and lacked the inviting atmosphere I've come to expect from a reputable bakery. The staff were unfriendly and unhelpful, and I felt rushed to make my selection and leave.\n\nOverall, I cannot recommend the Bakehouse location in Aomori's Furukawa district. The cookies were subpar, and the store itself was uninviting. I expect much more from a bakery that claims to be a top choice for cookie lovers."
        ],
        [
         "Title: A Delightful Cookie Experience on Kokusai Street\n\nBakehouse on Kokusai Street in Naha is a must-visit for cookie enthusiasts! Their Outback Oatmeal cookies are a perfect blend of chewy and crunchy, with a generous helping of oats and a hint of cinnamon. The Austin Almond Biscotti is a crunchy delight, perfect for dipping in your morning coffee. Orchard Oasis, a delightful fruit-filled cookie, is a burst of sunshine in every bite. Golden Gate Ginger, with its zesty ginger flavor, is a treat for those who love a bit of spice. Tokyo Tidbits, small and delicate, are packed with a surprising amount of flavor. Pearly Pies, their unique take on a cookie-shaped pie, is a delightful surprise. Bakehouse is a true gem, offering a wide variety of delicious cookies that are sure to satisfy any sweet tooth.",
         3000039,
         "2024-05-20T13:24:06.591-04:00",
         54,
         "Title: A Delightful Cookie Experience on Kokusai Street\n\nBakehouse on Kokusai Street in Naha is a must-visit for cookie enthusiasts! Their Outback Oatmeal cookies are a perfect blend of chewy and crunchy, with a generous helping of oats and a hint of cinnamon. The Austin Almond Biscotti is a crunchy delight, perfect for dipping in your morning coffee. Orchard Oasis, a delightful fruit-filled cookie, is a burst of sunshine in every bite. Golden Gate Ginger, with its zesty ginger flavor, is a treat for those who love a bit of spice. Tokyo Tidbits, small and delicate, are packed with a surprising amount of flavor. Pearly Pies, their unique take on a cookie-shaped pie, is a delightful surprise. Bakehouse is a true gem, offering a wide variety of delicious cookies that are sure to satisfy any sweet tooth."
        ],
        [
         "Title: A Delightful Cookie Experience at Bakehouse in Susukino, Sapporo\n\nBakehouse in Susukino, Sapporo, has won my heart with their exceptional cookies. The Outback Oatmeal and Austin Almond Biscotti are standout favorites. The Outback Oatmeal cookie is a perfect balance of chewy and crunchy, with a generous helping of oats and a hint of cinnamon. The Austin Almond Biscotti, on the other hand, is a crisp and flavorful delight, perfect for dipping in my morning coffee. I'm eager to try their other offerings, like the Orchard Oasis, Golden Gate Ginger, Tokyo Tidbits, and Pearly Pies. Bakehouse has truly made its mark in Susukino with its delicious cookies.",
         3000020,
         "2024-05-20T13:24:06.591-04:00",
         55,
         "Title: A Delightful Cookie Experience at Bakehouse in Susukino, Sapporo\n\nBakehouse in Susukino, Sapporo, has won my heart with their exceptional cookies. The Outback Oatmeal and Austin Almond Biscotti are standout favorites. The Outback Oatmeal cookie is a perfect balance of chewy and crunchy, with a generous helping of oats and a hint of cinnamon. The Austin Almond Biscotti, on the other hand, is a crisp and flavorful delight, perfect for dipping in my morning coffee. I'm eager to try their other offerings, like the Orchard Oasis, Golden Gate Ginger, Tokyo Tidbits, and Pearly Pies. Bakehouse has truly made its mark in Susukino with its delicious cookies."
        ],
        [
         "I recently visited the Bakehouse on Kokusai Street in Naha and was quite disappointed with their Outback Oatmeal and Austin Almond Biscotti. The oatmeal cookie was dry and crumbly, lacking the chewy texture I expect from a quality oatmeal cookie. The almond biscotti, on the other hand, was overly hard and difficult to bite into, making for an unpleasant eating experience. I had looked forward to trying their other offerings, such as the Orchard Oasis and Golden Gate Ginger, but after these lackluster experiences, I think I'll give them a miss. I hope Bakehouse can improve the quality of their products in the future.",
         3000039,
         "2024-05-31T11:13:36.962-04:00",
         56,
         "I recently visited the Bakehouse on Kokusai Street in Naha and was quite disappointed with their Outback Oatmeal and Austin Almond Biscotti. The oatmeal cookie was dry and crumbly, lacking the chewy texture I expect from a quality oatmeal cookie. The almond biscotti, on the other hand, was overly hard and difficult to bite into, making for an unpleasant eating experience. I had looked forward to trying their other offerings, such as the Orchard Oasis and Golden Gate Ginger, but after these lackluster experiences, I think I'll give them a miss. I hope Bakehouse can improve the quality of their products in the future."
        ],
        [
         "I recently visited the Bakehouse location in Okayama's Omotemachi district and was disappointed with my experience. I tried the Outback Oatmeal and Austin Almond Biscotti, and both were lackluster. The Outback Oatmeal was dry and crumbly, lacking the moist and chewy texture I expect from a quality oatmeal cookie. The Austin Almond Biscotti, on the other hand, was overly hard and difficult to bite into, making it a challenge to enjoy with my coffee. I had high hopes for Bakehouse, but based on this visit, I cannot recommend their products.",
         3000041,
         "2024-05-31T11:13:36.962-04:00",
         57,
         "I recently visited the Bakehouse location in Okayama's Omotemachi district and was disappointed with my experience. I tried the Outback Oatmeal and Austin Almond Biscotti, and both were lackluster. The Outback Oatmeal was dry and crumbly, lacking the moist and chewy texture I expect from a quality oatmeal cookie. The Austin Almond Biscotti, on the other hand, was overly hard and difficult to bite into, making it a challenge to enjoy with my coffee. I had high hopes for Bakehouse, but based on this visit, I cannot recommend their products."
        ],
        [
         "**Disappointing Experience at Bakehouse in Seattle's Pearl District**\n\nI was excited to try Bakehouse, but unfortunately, their cookies fell flat. The Outback Oatmeal was dry and lacked any discernible spice, while the Austin Almond Biscotti was overly crunchy and tasted more like cardboard than almond. The Orchard Oasis, touted as a fruity delight, was instead a sugary mess. The Golden Gate Ginger had a strange, soapy aftertaste. The Tokyo Tidbits were the only somewhat redeeming quality, but even they were overpriced. And don't even get me started on the Pearly Pies, which were more like sad, soggy disks. For a city known for its coffee and baked goods, Bakehouse is a letdown.",
         3000019,
         "2024-05-31T14:42:07.727-04:00",
         58,
         "**Disappointing Experience at Bakehouse in Seattle's Pearl District**\n\nI was excited to try Bakehouse, but unfortunately, their cookies fell flat. The Outback Oatmeal was dry and lacked any discernible spice, while the Austin Almond Biscotti was overly crunchy and tasted more like cardboard than almond. The Orchard Oasis, touted as a fruity delight, was instead a sugary mess. The Golden Gate Ginger had a strange, soapy aftertaste. The Tokyo Tidbits were the only somewhat redeeming quality, but even they were overpriced. And don't even get me started on the Pearly Pies, which were more like sad, soggy disks. For a city known for its coffee and baked goods, Bakehouse is a letdown."
        ],
        [
         "**Disappointing Experience at Bakehouse in Silver Lake**\n\nI was excited to try Bakehouse, but unfortunately, my experience was a letdown. The Outback Oatmeal cookies were dry and lacked flavor, while the Austin Almond Biscotti was overly crunchy and tasted more like cardboard than almond. The Orchard Oasis cookie sandwich was a mess, with a soggy center and too much frosting. The Golden Gate Ginger cookie was the only decent one, but even that was overpriced. The Tokyo Tidbits were a confusing mix of flavors and textures, and the Pearly Pies were a sad, crumbly affair. For a bakery, Bakehouse falls short. 2/5 stars.",
         3000005,
         "2024-05-31T14:42:07.727-04:00",
         59,
         "**Disappointing Experience at Bakehouse in Silver Lake**\n\nI was excited to try Bakehouse, but unfortunately, my experience was a letdown. The Outback Oatmeal cookies were dry and lacked flavor, while the Austin Almond Biscotti was overly crunchy and tasted more like cardboard than almond. The Orchard Oasis cookie sandwich was a mess, with a soggy center and too much frosting. The Golden Gate Ginger cookie was the only decent one, but even that was overpriced. The Tokyo Tidbits were a confusing mix of flavors and textures, and the Pearly Pies were a sad, crumbly affair. For a bakery, Bakehouse falls short. 2/5 stars."
        ],
        [
         "Title: A Delightful Visit to Bakehouse in Silver Lake, Los Angeles\n\nBakehouse in Silver Lake, Los Angeles, is a true gem for pastry enthusiasts. Their Outback Oatmeal cookies are a delightful symphony of oats and raisins, offering a wholesome and satisfying treat. The Austin Almond Biscotti, on the other hand, are the perfect companion for a warm cup of coffee, with their crunchy texture and rich almond flavor.\n\nThe Orchard Oasis cookies are a fruity delight, bursting with the flavors of various dried fruits. The Golden Gate Ginger cookies are a spicy and sweet delight, perfect for those who enjoy a kick in their desserts.\n\nThe Tokyo Tidbits, while not my personal favorite, offer an interesting blend of flavors and textures that some may find intriguing. Lastly, the Pearly Pies, while not a cookie, are a must-try. These miniature pies are filled with a variety of delicious fillings, from fruity to chocolaty, and are the perfect way to end a meal.\n\nOverall, Bakehouse is a must-visit for anyone in the Los Angeles area. Their wide selection of high-quality pastries and cookies are sure to satisfy any sweet tooth.",
         3000005,
         "2024-05-20T13:24:06.591-04:00",
         60,
         "Title: A Delightful Visit to Bakehouse in Silver Lake, Los Angeles\n\nBakehouse in Silver Lake, Los Angeles, is a true gem for pastry enthusiasts. Their Outback Oatmeal cookies are a delightful symphony of oats and raisins, offering a wholesome and satisfying treat. The Austin Almond Biscotti, on the other hand, are the perfect companion for a warm cup of coffee, with their crunchy texture and rich almond flavor.\n\nThe Orchard Oasis cookies are a fruity delight, bursting with the flavors of various dried fruits. The Golden Gate Ginger cookies are a spicy and sweet delight, perfect for those who enjoy a kick in their desserts.\n\nThe Tokyo Tidbits, while not my personal favorite, offer an interesting blend of flavors and textures that some may find intriguing. Lastly, the Pearly Pies, while not a cookie, are a must-try. These miniature pies are filled with a variety of delicious fillings, from fruity to chocolaty, and are the perfect way to end a meal.\n\nOverall, Bakehouse is a must-visit for anyone in the Los Angeles area. Their wide selection of high-quality pastries and cookies are sure to satisfy any sweet tooth."
        ],
        [
         "**Disappointing Experience at Bakehouse on East 6th Street, Seattle**\n\nI was thrilled to try Bakehouse, but unfortunately, their cookies failed to impress. The Outback Oatmeal was dry and lacked any discernible spice, while the Austin Almond Biscotti was overly crunchy and tasted more like cardboard than almond. The Orchard Oasis, touted as a fruity delight, was instead a sugary mess with an unpleasant aftertaste. The Golden Gate Ginger was the only decent option, but even that was overpowered by an overwhelming sweetness. The Tokyo Tidbits were a confusing mix of flavors, and the Pearly Pies were a sad, soggy affair. For a city known for its coffee and food scene, Bakehouse falls short.",
         3000017,
         "2024-05-31T14:42:07.727-04:00",
         61,
         "**Disappointing Experience at Bakehouse on East 6th Street, Seattle**\n\nI was thrilled to try Bakehouse, but unfortunately, their cookies failed to impress. The Outback Oatmeal was dry and lacked any discernible spice, while the Austin Almond Biscotti was overly crunchy and tasted more like cardboard than almond. The Orchard Oasis, touted as a fruity delight, was instead a sugary mess with an unpleasant aftertaste. The Golden Gate Ginger was the only decent option, but even that was overpowered by an overwhelming sweetness. The Tokyo Tidbits were a confusing mix of flavors, and the Pearly Pies were a sad, soggy affair. For a city known for its coffee and food scene, Bakehouse falls short."
        ],
        [
         "Bakehouse in Trastevere, Rome, left me disappointed. Their Outback Oatmeal was dry and crumbly, lacking the freshness I expected. The Austin Almond Biscotti was overly sweet, masking the almond flavor. I had looked forward to trying Orchard Oasis, but it was sold out, which was a letdown. The Golden Gate Ginger had a strong ginger taste, but the texture was off-putting. Tokyo Tidbits were just okay, nothing special. Pearly Pies were not available during my visit. I had higher hopes for Bakehouse, but my experience was underwhelming.",
         3000046,
         "2024-05-31T11:13:36.962-04:00",
         62,
         "Bakehouse in Trastevere, Rome, left me disappointed. Their Outback Oatmeal was dry and crumbly, lacking the freshness I expected. The Austin Almond Biscotti was overly sweet, masking the almond flavor. I had looked forward to trying Orchard Oasis, but it was sold out, which was a letdown. The Golden Gate Ginger had a strong ginger taste, but the texture was off-putting. Tokyo Tidbits were just okay, nothing special. Pearly Pies were not available during my visit. I had higher hopes for Bakehouse, but my experience was underwhelming."
        ],
        [
         "I recently visited the Bakehouse in Sendai's Kokubuncho district and was disappointed with my experience. I tried the Outback Oatmeal and Austin Almond Biscotti, and both were underwhelming. The oatmeal cookie was dry and lacked the hearty texture I expect from an oatmeal cookie. The biscotti was overly sweet and lacked the crunch I look forward to in a good biscotti. I had high hopes for these treats, but they fell flat. I may give Bakehouse another chance in the future, but for now, I cannot recommend it.",
         3000023,
         "2024-05-31T11:13:36.962-04:00",
         63,
         "I recently visited the Bakehouse in Sendai's Kokubuncho district and was disappointed with my experience. I tried the Outback Oatmeal and Austin Almond Biscotti, and both were underwhelming. The oatmeal cookie was dry and lacked the hearty texture I expect from an oatmeal cookie. The biscotti was overly sweet and lacked the crunch I look forward to in a good biscotti. I had high hopes for these treats, but they fell flat. I may give Bakehouse another chance in the future, but for now, I cannot recommend it."
        ],
        [
         "**Disappointing Experience at Bakehouse Seattle**\n\nI was thrilled to try Bakehouse's offerings, but unfortunately, my excitement was short-lived. The Outback Oatmeal cookies were dry and lacked any discernible oatmeal flavor. The Austin Almond Biscotti was overly crunchy and tasted more like cardboard than almond. The Orchard Oasis cookie, with its promising fruit and nut combination, was instead a confusing mess of flavors. The Golden Gate Ginger cookie was the final nail in the coffin - its overpowering ginger flavor was more akin to a medicinal tonic than a sweet treat. The Tokyo Tidbits and Pearly Pies didn't fare much better. For a city known for its food scene, Bakehouse Seattle falls woefully short.",
         3000007,
         "2024-05-31T14:45:07.063-04:00",
         64,
         "**Disappointing Experience at Bakehouse Seattle**\n\nI was thrilled to try Bakehouse's offerings, but unfortunately, my excitement was short-lived. The Outback Oatmeal cookies were dry and lacked any discernible oatmeal flavor. The Austin Almond Biscotti was overly crunchy and tasted more like cardboard than almond. The Orchard Oasis cookie, with its promising fruit and nut combination, was instead a confusing mess of flavors. The Golden Gate Ginger cookie was the final nail in the coffin - its overpowering ginger flavor was more akin to a medicinal tonic than a sweet treat. The Tokyo Tidbits and Pearly Pies didn't fare much better. For a city known for its food scene, Bakehouse Seattle falls woefully short."
        ],
        [
         "Bakehouse in Leederville, Perth, has disappointed me with their Outback Oatmeal and Austin Almond Biscotti. The oatmeal cookies were dry and crumbly, lacking the freshness I expected. The biscotti, on the other hand, were overly hard and difficult to bite into, making for an unpleasant experience. I had hoped for better, given the positive reviews I had heard. Unfortunately, my visit to Bakehouse did not live up to my expectations.",
         3000009,
         "2024-05-31T11:13:36.962-04:00",
         65,
         "Bakehouse in Leederville, Perth, has disappointed me with their Outback Oatmeal and Austin Almond Biscotti. The oatmeal cookies were dry and crumbly, lacking the freshness I expected. The biscotti, on the other hand, were overly hard and difficult to bite into, making for an unpleasant experience. I had hoped for better, given the positive reviews I had heard. Unfortunately, my visit to Bakehouse did not live up to my expectations."
        ],
        [
         "**4.5/5 stars**\n\nI stumbled upon Bakehouse in Trastevere, Rome, and oh, what a gem! Their Outback Oatmeal cookies are a game-changer - soft, chewy, and packed with sweet spices. The Austin Almond Biscotti is another winner, perfect for dipping in my morning cappuccino. However, the Orchard Oasis cookies were a bit too sweet for my taste. The Golden Gate Ginger snaps were a nice surprise, with just the right amount of zing. Tokyo Tidbits were adorable, but lacked flavor. Pearly Pies? More like Pearly Disappointment - the crust was too dense. Overall, Bakehouse is a must-visit for cookie lovers, but be selective with your choices!",
         3000046,
         "2024-05-20T13:17:03.052-04:00",
         66,
         "**4.5/5 stars**\n\nI stumbled upon Bakehouse in Trastevere, Rome, and oh, what a gem! Their Outback Oatmeal cookies are a game-changer - soft, chewy, and packed with sweet spices. The Austin Almond Biscotti is another winner, perfect for dipping in my morning cappuccino. However, the Orchard Oasis cookies were a bit too sweet for my taste. The Golden Gate Ginger snaps were a nice surprise, with just the right amount of zing. Tokyo Tidbits were adorable, but lacked flavor. Pearly Pies? More like Pearly Disappointment - the crust was too dense. Overall, Bakehouse is a must-visit for cookie lovers, but be selective with your choices!"
        ],
        [
         "\"I stopped by Bakehouse in Bondi Beach, Sydney and tried a few treats. The Outback Oatmeal cookies were chewy and comforting, while the Austin Almond Biscotti had a nice crunch. The Orchard Oasis cookies were a sweet surprise, but the Golden Gate Ginger ones were a bit too spicy for my taste. The Tokyo Tidbits were addictive, but the Pearly Pies were the real showstopper - flaky crust and perfect filling. Overall, Bakehouse has some hits and misses, but it's worth a visit for the unique flavors and cozy atmosphere.\"",
         3000000,
         "2024-05-31T11:23:53.074-04:00",
         67,
         "\"I stopped by Bakehouse in Bondi Beach, Sydney and tried a few treats. The Outback Oatmeal cookies were chewy and comforting, while the Austin Almond Biscotti had a nice crunch. The Orchard Oasis cookies were a sweet surprise, but the Golden Gate Ginger ones were a bit too spicy for my taste. The Tokyo Tidbits were addictive, but the Pearly Pies were the real showstopper - flaky crust and perfect filling. Overall, Bakehouse has some hits and misses, but it's worth a visit for the unique flavors and cozy atmosphere.\""
        ],
        [
         "\"Sweet spot in RiNo, Denver! Bakehouse is a must-visit for cookie lovers. I'm obsessed with their Outback Oatmeal, soft and chewy with a hint of spice. The Austin Almond Biscotti is another fave, perfect for dunking. However, the Orchard Oasis was a letdown, too sweet and crumbly. Golden Gate Ginger and Tokyo Tidbits are unique and delicious, but Pearly Pies are a game-changer - flaky crust and velvety filling. 4.5/5 stars, can't wait to try more!\"",
         3000024,
         "2024-05-20T13:17:03.052-04:00",
         68,
         "\"Sweet spot in RiNo, Denver! Bakehouse is a must-visit for cookie lovers. I'm obsessed with their Outback Oatmeal, soft and chewy with a hint of spice. The Austin Almond Biscotti is another fave, perfect for dunking. However, the Orchard Oasis was a letdown, too sweet and crumbly. Golden Gate Ginger and Tokyo Tidbits are unique and delicious, but Pearly Pies are a game-changer - flaky crust and velvety filling. 4.5/5 stars, can't wait to try more!\""
        ],
        [
         "**4.5/5 stars**\n\nI'm obsessed with Bakehouse in Chiba's Chuo-ku district! Their Outback Oatmeal cookies are a game-changer - soft, chewy, and packed with sweet raisins. The Austin Almond Biscotti is another favorite, perfect for dunking in coffee. However, the Orchard Oasis cookies were a letdown, too sweet and crumbly. The Golden Gate Ginger and Tokyo Tidbits are unique and delicious, but the Pearly Pies are overpriced. Overall, Bakehouse is a must-visit for cookie lovers, just be selective with your choices!",
         3000033,
         "2024-05-20T13:17:03.052-04:00",
         69,
         "**4.5/5 stars**\n\nI'm obsessed with Bakehouse in Chiba's Chuo-ku district! Their Outback Oatmeal cookies are a game-changer - soft, chewy, and packed with sweet raisins. The Austin Almond Biscotti is another favorite, perfect for dunking in coffee. However, the Orchard Oasis cookies were a letdown, too sweet and crumbly. The Golden Gate Ginger and Tokyo Tidbits are unique and delicious, but the Pearly Pies are overpriced. Overall, Bakehouse is a must-visit for cookie lovers, just be selective with your choices!"
        ],
        [
         "I recently visited the Bakehouse store in Shibuya, Tokyo and was disappointed with my experience. I tried the Tokyo Tidbits and Golden Gate Ginger cookies, and unfortunately, both were a letdown. The Tokyo Tidbits were overly sweet and lacked the traditional Japanese flavors I was expecting. The Golden Gate Ginger cookies were dry and crumbly, with only a faint hint of ginger flavor. I had high hopes for these unique-sounding cookies, but they failed to deliver. I hope to see improvements in the future.",
         3000001,
         "2024-05-31T11:13:36.962-04:00",
         70,
         "I recently visited the Bakehouse store in Shibuya, Tokyo and was disappointed with my experience. I tried the Tokyo Tidbits and Golden Gate Ginger cookies, and unfortunately, both were a letdown. The Tokyo Tidbits were overly sweet and lacked the traditional Japanese flavors I was expecting. The Golden Gate Ginger cookies were dry and crumbly, with only a faint hint of ginger flavor. I had high hopes for these unique-sounding cookies, but they failed to deliver. I hope to see improvements in the future."
        ],
        [
         "**5/5 stars**\n\nI stumbled upon Bakehouse in Kitano, Kobe, and oh boy, am I glad I did! Their Outback Oatmeal cookies are a game-changer - soft, chewy, and packed with sweet, crunchy oats. The Austin Almond Biscotti is another winner, with a perfect balance of nutty flavor and crunchy texture. The Orchard Oasis cookies, infused with dried fruits and spices, are a delightful surprise. However, the Golden Gate Ginger cookies fell flat for me, lacking the zing I expected. Tokyo Tidbits, on the other hand, are addictive little morsels of heaven. Pearly Pies? More like Pearly Perfection! The staff is friendly, and the cozy store is a must-visit in Kitano.",
         3000004,
         "2024-05-20T13:17:03.052-04:00",
         71,
         "**5/5 stars**\n\nI stumbled upon Bakehouse in Kitano, Kobe, and oh boy, am I glad I did! Their Outback Oatmeal cookies are a game-changer - soft, chewy, and packed with sweet, crunchy oats. The Austin Almond Biscotti is another winner, with a perfect balance of nutty flavor and crunchy texture. The Orchard Oasis cookies, infused with dried fruits and spices, are a delightful surprise. However, the Golden Gate Ginger cookies fell flat for me, lacking the zing I expected. Tokyo Tidbits, on the other hand, are addictive little morsels of heaven. Pearly Pies? More like Pearly Perfection! The staff is friendly, and the cozy store is a must-visit in Kitano."
        ],
        [
         "\"I stopped by Bakehouse in Wynwood, Miami and sampled a few treats. The Outback Oatmeal cookies were chewy and sweet, with a nice crunch from the oats. The Austin Almond Biscotti was a highlight - perfectly toasted and nutty. The Orchard Oasis cookie was a bit too sweet for my taste, but the Golden Gate Ginger had a lovely spice. The Tokyo Tidbits were addictive, but the Pearly Pies were a letdown, lacking a clear flavor profile. Overall, Bakehouse shows promise, but could refine their offerings. Worth a visit for the biscotti alone!\"",
         3000011,
         "2024-05-31T11:23:53.074-04:00",
         72,
         "\"I stopped by Bakehouse in Wynwood, Miami and sampled a few treats. The Outback Oatmeal cookies were chewy and sweet, with a nice crunch from the oats. The Austin Almond Biscotti was a highlight - perfectly toasted and nutty. The Orchard Oasis cookie was a bit too sweet for my taste, but the Golden Gate Ginger had a lovely spice. The Tokyo Tidbits were addictive, but the Pearly Pies were a letdown, lacking a clear flavor profile. Overall, Bakehouse shows promise, but could refine their offerings. Worth a visit for the biscotti alone!\""
        ],
        [
         "5/5 stars! I'm obsessed with Bakehouse in Kaka'ako, Honolulu! Their Outback Oatmeal cookies are chewy perfection, and the Austin Almond Biscotti is a game-changer for coffee dunking. But the real showstopper is the Orchard Oasis - the combination of sweet and tangy is addictive! The only miss for me was the Golden Gate Ginger, which was a bit too spicy. Can't wait to try the Tokyo Tidbits and Pearly Pies next!",
         3000021,
         "2024-05-20T13:17:03.052-04:00",
         73,
         "5/5 stars! I'm obsessed with Bakehouse in Kaka'ako, Honolulu! Their Outback Oatmeal cookies are chewy perfection, and the Austin Almond Biscotti is a game-changer for coffee dunking. But the real showstopper is the Orchard Oasis - the combination of sweet and tangy is addictive! The only miss for me was the Golden Gate Ginger, which was a bit too spicy. Can't wait to try the Tokyo Tidbits and Pearly Pies next!"
        ],
        [
         "Title: A Delightful Cookie Experience at Bakehouse in West End, Brisbane\n\nBakehouse in West End, Brisbane, has truly outdone themselves with their cookie selection. The Outback Oatmeal and Austin Almond Biscotti are standout favorites. The Outback Oatmeal cookie, with its hearty oats and hint of cinnamon, is a satisfying treat that reminds me of a warm hug. The Austin Almond Biscotti, on the other hand, is a crisp and delightful accompaniment to my morning coffee, with its perfect balance of almond flavor.\n\nThe Orchard Oasis and Golden Gate Ginger cookies are also not to be missed. The Orchard Oasis is a burst of fruity freshness, while the Golden Gate Ginger packs a punch with its spicy and sweet flavor profile. I was also pleasantly surprised by the Tokyo Tidbits, which are perfect for those who prefer a lighter, less sweet cookie.\n\nAlthough I didn't try the Pearly Pies, I've heard great things about them and will definitely be giving them a try on my next visit. Bakehouse has truly made a name for itself in the West End cookie scene, and I can't wait to see what they come up with next!",
         3000006,
         "2024-05-20T13:24:06.591-04:00",
         74,
         "Title: A Delightful Cookie Experience at Bakehouse in West End, Brisbane\n\nBakehouse in West End, Brisbane, has truly outdone themselves with their cookie selection. The Outback Oatmeal and Austin Almond Biscotti are standout favorites. The Outback Oatmeal cookie, with its hearty oats and hint of cinnamon, is a satisfying treat that reminds me of a warm hug. The Austin Almond Biscotti, on the other hand, is a crisp and delightful accompaniment to my morning coffee, with its perfect balance of almond flavor.\n\nThe Orchard Oasis and Golden Gate Ginger cookies are also not to be missed. The Orchard Oasis is a burst of fruity freshness, while the Golden Gate Ginger packs a punch with its spicy and sweet flavor profile. I was also pleasantly surprised by the Tokyo Tidbits, which are perfect for those who prefer a lighter, less sweet cookie.\n\nAlthough I didn't try the Pearly Pies, I've heard great things about them and will definitely be giving them a try on my next visit. Bakehouse has truly made a name for itself in the West End cookie scene, and I can't wait to see what they come up with next!"
        ],
        [
         "Bakehouse in Silver Lake, Los Angeles, has disappointed me with their Outback Oatmeal and Austin Almond Biscotti. The oatmeal cookie was dry and crumbly, lacking the expected hearty oat flavor. The biscotti, on the other hand, was overly hard and lacked the almond essence I crave. I had hoped for a better experience, but these two products fell short.",
         3000005,
         "2024-05-31T11:13:36.962-04:00",
         75,
         "Bakehouse in Silver Lake, Los Angeles, has disappointed me with their Outback Oatmeal and Austin Almond Biscotti. The oatmeal cookie was dry and crumbly, lacking the expected hearty oat flavor. The biscotti, on the other hand, was overly hard and lacked the almond essence I crave. I had hoped for a better experience, but these two products fell short."
        ],
        [
         "I apologize, but it seems there's been a mistake. Wicker Park is a district in Chicago, not Seattle. Nevertheless, I'll write a negative review for Bakehouse in Seattle:\n\n\"Underwhelming experience at Bakehouse in Seattle. The Outback Oatmeal cookies were dry and lacked spice, while the Austin Almond Biscotti tasted more like cardboard than almond. The Orchard Oasis cookies were overly sweet, and the Golden Gate Ginger snaps were stale. The Tokyo Tidbits were the final disappointment - too crunchy and flavorless. Even the Pearly Pies looked sad behind the counter. For a city that prides itself on foodie culture, Bakehouse falls short. 2/5 stars\"",
         3000008,
         "2024-05-31T14:42:07.727-04:00",
         76,
         "I apologize, but it seems there's been a mistake. Wicker Park is a district in Chicago, not Seattle. Nevertheless, I'll write a negative review for Bakehouse in Seattle:\n\n\"Underwhelming experience at Bakehouse in Seattle. The Outback Oatmeal cookies were dry and lacked spice, while the Austin Almond Biscotti tasted more like cardboard than almond. The Orchard Oasis cookies were overly sweet, and the Golden Gate Ginger snaps were stale. The Tokyo Tidbits were the final disappointment - too crunchy and flavorless. Even the Pearly Pies looked sad behind the counter. For a city that prides itself on foodie culture, Bakehouse falls short. 2/5 stars\""
        ],
        [
         "**4.5/5 stars**\n\nI stumbled upon Bakehouse in Susukino, Sapporo, and oh boy, am I glad I did! Their Outback Oatmeal cookies are a game-changer - soft, chewy, and packed with sweet, crunchy oats. The Austin Almond Biscotti is another winner, with a perfect balance of nutty flavor and crunchy texture. However, the Orchard Oasis cookies were a bit too sweet for my taste. The Golden Gate Ginger cookies, on the other hand, were a delightful surprise, with a lovely spicy kick. Tokyo Tidbits were a fun treat, but the Pearly Pies were a bit overpriced. Overall, Bakehouse is a must-visit for cookie lovers in Sapporo!",
         3000020,
         "2024-05-20T13:17:03.052-04:00",
         77,
         "**4.5/5 stars**\n\nI stumbled upon Bakehouse in Susukino, Sapporo, and oh boy, am I glad I did! Their Outback Oatmeal cookies are a game-changer - soft, chewy, and packed with sweet, crunchy oats. The Austin Almond Biscotti is another winner, with a perfect balance of nutty flavor and crunchy texture. However, the Orchard Oasis cookies were a bit too sweet for my taste. The Golden Gate Ginger cookies, on the other hand, were a delightful surprise, with a lovely spicy kick. Tokyo Tidbits were a fun treat, but the Pearly Pies were a bit overpriced. Overall, Bakehouse is a must-visit for cookie lovers in Sapporo!"
        ],
        [
         "\"I stopped by Bakehouse in Shibuya, Tokyo and tried a few treats. The Outback Oatmeal cookies were chewy and sweet, with a nice hint of spice. The Austin Almond Biscotti was crunchy and nutty, perfect for dipping in coffee. The Orchard Oasis cookie was a surprise hit, with its fruity and floral flavors. The Golden Gate Ginger cookie was a bit too spicy for my taste, but the Tokyo Tidbits were addictive. Unfortunately, the Pearly Pies were sold out, but I'll be back to try them. Overall, Bakehouse offers a unique and tasty selection, but some flavors may not be for everyone.\"",
         3000001,
         "2024-05-31T11:23:53.074-04:00",
         78,
         "\"I stopped by Bakehouse in Shibuya, Tokyo and tried a few treats. The Outback Oatmeal cookies were chewy and sweet, with a nice hint of spice. The Austin Almond Biscotti was crunchy and nutty, perfect for dipping in coffee. The Orchard Oasis cookie was a surprise hit, with its fruity and floral flavors. The Golden Gate Ginger cookie was a bit too spicy for my taste, but the Tokyo Tidbits were addictive. Unfortunately, the Pearly Pies were sold out, but I'll be back to try them. Overall, Bakehouse offers a unique and tasty selection, but some flavors may not be for everyone.\""
        ],
        [
         "Title: A Delightful Visit to Bakehouse in Portland's Pearl District\n\nBakehouse in Portland's Pearl District is a true gem for pastry enthusiasts. Their Outback Oatmeal cookies are a delightful symphony of oats and raisins, offering a perfect balance of chewiness and sweetness. The Austin Almond Biscotti, on the other hand, are a crisp and nutty delight, perfect for dipping in your morning coffee.\n\nThe Orchard Oasis cookies are a refreshing treat, with a burst of fruity flavors that transport you straight to a sunny orchard. The Golden Gate Ginger cookies, however, are a spicy and sweet delight, reminiscent of a warm gingerbread house.\n\nThe Tokyo Tidbits, with their delicate balance of sweetness and savory, are a unique and intriguing treat. Lastly, the Pearly Pies, while not a cookie, are a must-try. These miniature pies, with their flaky crust and flavorful fillings, are a delightful surprise.\n\nIn conclusion, Bakehouse is a must-visit for anyone with a sweet tooth. Their diverse range of products, made with high-quality ingredients, makes for a delightful and satisfying experience.",
         3000019,
         "2024-05-20T13:24:06.591-04:00",
         79,
         "Title: A Delightful Visit to Bakehouse in Portland's Pearl District\n\nBakehouse in Portland's Pearl District is a true gem for pastry enthusiasts. Their Outback Oatmeal cookies are a delightful symphony of oats and raisins, offering a perfect balance of chewiness and sweetness. The Austin Almond Biscotti, on the other hand, are a crisp and nutty delight, perfect for dipping in your morning coffee.\n\nThe Orchard Oasis cookies are a refreshing treat, with a burst of fruity flavors that transport you straight to a sunny orchard. The Golden Gate Ginger cookies, however, are a spicy and sweet delight, reminiscent of a warm gingerbread house.\n\nThe Tokyo Tidbits, with their delicate balance of sweetness and savory, are a unique and intriguing treat. Lastly, the Pearly Pies, while not a cookie, are a must-try. These miniature pies, with their flaky crust and flavorful fillings, are a delightful surprise.\n\nIn conclusion, Bakehouse is a must-visit for anyone with a sweet tooth. Their diverse range of products, made with high-quality ingredients, makes for a delightful and satisfying experience."
        ],
        [
         "**5/5 stars**\n\nI'm obsessed with Bakehouse in Fishtown, Philadelphia! Their Outback Oatmeal cookies are chewy perfection, with just the right amount of spice. The Austin Almond Biscotti is a game-changer - crunchy on the outside, soft on the inside, and that almond flavor? But the real showstopper is the Orchard Oasis cookie sandwich. The combination of sweet and tangy is absolute heaven. Only downside: I wish they had more Tokyo Tidbits in stock, those sesame seeds are addictive! Pearly Pies are a nice treat too, but not as impressive as the others. Overall, Bakehouse is a must-visit for any cookie lover in Philly!",
         3000028,
         "2024-05-20T13:17:03.052-04:00",
         80,
         "**5/5 stars**\n\nI'm obsessed with Bakehouse in Fishtown, Philadelphia! Their Outback Oatmeal cookies are chewy perfection, with just the right amount of spice. The Austin Almond Biscotti is a game-changer - crunchy on the outside, soft on the inside, and that almond flavor? But the real showstopper is the Orchard Oasis cookie sandwich. The combination of sweet and tangy is absolute heaven. Only downside: I wish they had more Tokyo Tidbits in stock, those sesame seeds are addictive! Pearly Pies are a nice treat too, but not as impressive as the others. Overall, Bakehouse is a must-visit for any cookie lover in Philly!"
        ],
        [
         "\"I stopped by Bakehouse in Hiroshima's Nagarekawa district and sampled a few treats. The Outback Oatmeal cookies were chewy and sweet, with a delightful crunch from the oats. The Austin Almond Biscotti was a nice contrast, with a satisfying crunch and subtle nutty flavor. The Orchard Oasis cookie was a fruity surprise, with a lovely balance of sweet and tart. While the Golden Gate Ginger and Tokyo Tidbits didn't quite live up to my expectations, the Pearly Pies were a delightful surprise - flaky crust and a sweet, creamy filling. Overall, Bakehouse shows promise, but could benefit from a bit more consistency across their offerings.\"",
         3000013,
         "2024-05-31T11:23:53.074-04:00",
         81,
         "\"I stopped by Bakehouse in Hiroshima's Nagarekawa district and sampled a few treats. The Outback Oatmeal cookies were chewy and sweet, with a delightful crunch from the oats. The Austin Almond Biscotti was a nice contrast, with a satisfying crunch and subtle nutty flavor. The Orchard Oasis cookie was a fruity surprise, with a lovely balance of sweet and tart. While the Golden Gate Ginger and Tokyo Tidbits didn't quite live up to my expectations, the Pearly Pies were a delightful surprise - flaky crust and a sweet, creamy filling. Overall, Bakehouse shows promise, but could benefit from a bit more consistency across their offerings.\""
        ],
        [
         "Bakehouse in Fishtown, Philadelphia, left me disappointed. Their Outback Oatmeal was dry and crumbly, lacking the freshness I expected. The Austin Almond Biscotti was overly sweet, overpowering the almond flavor. I had looked forward to trying Orchard Oasis, but it was sold out, which was a letdown. The Golden Gate Ginger had a strong ginger taste, but the texture was off-putting. Tokyo Tidbits were just okay, nothing special. Sadly, Pearly Pies were not available during my visit. I hope they improve their offerings.",
         3000028,
         "2024-05-31T11:13:36.962-04:00",
         82,
         "Bakehouse in Fishtown, Philadelphia, left me disappointed. Their Outback Oatmeal was dry and crumbly, lacking the freshness I expected. The Austin Almond Biscotti was overly sweet, overpowering the almond flavor. I had looked forward to trying Orchard Oasis, but it was sold out, which was a letdown. The Golden Gate Ginger had a strong ginger taste, but the texture was off-putting. Tokyo Tidbits were just okay, nothing special. Sadly, Pearly Pies were not available during my visit. I hope they improve their offerings."
        ],
        [
         "Title: A Delightful Cookie Experience at Bakehouse in Dogo Onsen, Matsuyama\n\nBakehouse in Dogo Onsen, Matsuyama, is a must-visit for cookie enthusiasts. Their Outback Oatmeal cookies are a perfect blend of chewy and crunchy, with a generous helping of oats and a hint of cinnamon. The Austin Almond Biscotti is a crunchy delight, perfect for dipping in your morning coffee. Orchard Oasis, with its fruity burst of flavor, is a refreshing treat. The Golden Gate Ginger cookies are a spicy surprise, with a strong ginger flavor that warms your palate. Tokyo Tidbits, tiny shortbread cookies with a delicate sweetness, are addictive. Pearly Pies, mini pie-shaped cookies with a variety of fillings, are a delightful surprise. Bakehouse's commitment to quality and flavor makes it a standout in the city.",
         3000043,
         "2024-05-20T13:24:06.591-04:00",
         83,
         "Title: A Delightful Cookie Experience at Bakehouse in Dogo Onsen, Matsuyama\n\nBakehouse in Dogo Onsen, Matsuyama, is a must-visit for cookie enthusiasts. Their Outback Oatmeal cookies are a perfect blend of chewy and crunchy, with a generous helping of oats and a hint of cinnamon. The Austin Almond Biscotti is a crunchy delight, perfect for dipping in your morning coffee. Orchard Oasis, with its fruity burst of flavor, is a refreshing treat. The Golden Gate Ginger cookies are a spicy surprise, with a strong ginger flavor that warms your palate. Tokyo Tidbits, tiny shortbread cookies with a delicate sweetness, are addictive. Pearly Pies, mini pie-shaped cookies with a variety of fillings, are a delightful surprise. Bakehouse's commitment to quality and flavor makes it a standout in the city."
        ],
        [
         "Title: A Delightful Cookie Experience at Bakehouse in Norwood, Adelaide\n\nI recently visited the Bakehouse cookie shop in Norwood, Adelaide, and I was thoroughly impressed with their selection and quality. The Outback Oatmeal cookies were a standout - they had the perfect balance of chewy and crunchy, with a generous helping of oats and a hint of cinnamon. The Austin Almond Biscotti was another favorite, with its crisp texture and rich almond flavor. I also tried the Orchard Oasis, which was a delightful surprise - a soft, fruity cookie that tasted like a bite of summer. The Golden Gate Ginger cookies were spicy and sweet, with a strong ginger flavor that I loved. The Tokyo Tidbits were a unique treat, with a light, crispy texture and a subtle green tea flavor. I didn't get a chance to try the Pearly Pies, but I'll definitely be back to sample them. Overall, I was very impressed with Bakehouse and would highly recommend it to anyone looking for a delicious cookie experience.",
         3000012,
         "2024-05-20T13:24:06.591-04:00",
         84,
         "Title: A Delightful Cookie Experience at Bakehouse in Norwood, Adelaide\n\nI recently visited the Bakehouse cookie shop in Norwood, Adelaide, and I was thoroughly impressed with their selection and quality. The Outback Oatmeal cookies were a standout - they had the perfect balance of chewy and crunchy, with a generous helping of oats and a hint of cinnamon. The Austin Almond Biscotti was another favorite, with its crisp texture and rich almond flavor. I also tried the Orchard Oasis, which was a delightful surprise - a soft, fruity cookie that tasted like a bite of summer. The Golden Gate Ginger cookies were spicy and sweet, with a strong ginger flavor that I loved. The Tokyo Tidbits were a unique treat, with a light, crispy texture and a subtle green tea flavor. I didn't get a chance to try the Pearly Pies, but I'll definitely be back to sample them. Overall, I was very impressed with Bakehouse and would highly recommend it to anyone looking for a delicious cookie experience."
        ],
        [
         "I recently visited the Bakehouse store in Chiba's Chuo-ku and was disappointed with their Outback Oatmeal and Austin Almond Biscotti. The oatmeal cookie was dry and lacked the promised hearty oat flavor, while the biscotti was overly sweet and lacked the crunchy texture I expect from a quality biscotti. I had high hopes for these treats, but they fell flat. I hope to see improvements in the future.",
         3000033,
         "2024-05-31T11:13:36.962-04:00",
         85,
         "I recently visited the Bakehouse store in Chiba's Chuo-ku and was disappointed with their Outback Oatmeal and Austin Almond Biscotti. The oatmeal cookie was dry and lacked the promised hearty oat flavor, while the biscotti was overly sweet and lacked the crunchy texture I expect from a quality biscotti. I had high hopes for these treats, but they fell flat. I hope to see improvements in the future."
        ],
        [
         "I apologize, but it seems there's been a mistake. Wynwood is a district in Miami, not Seattle. Nevertheless, I'll write a negative review for a fictional Bakehouse store in Seattle:\n\n**2/5 stars**\n\nDisappointing experience at Bakehouse in Seattle. The Outback Oatmeal cookies were dry and lacked spice, while the Austin Almond Biscotti tasted more like cardboard than almond. The Orchard Oasis cookies, with their promising fruit flavors, were overly sweet and crumbly. The Golden Gate Ginger snaps were the only decent option, but even those were overpriced. The Tokyo Tidbits and Pearly Pies were complete misses. For a city known for its coffee and food scene, Bakehouse falls short.",
         3000011,
         "2024-05-31T14:42:07.727-04:00",
         86,
         "I apologize, but it seems there's been a mistake. Wynwood is a district in Miami, not Seattle. Nevertheless, I'll write a negative review for a fictional Bakehouse store in Seattle:\n\n**2/5 stars**\n\nDisappointing experience at Bakehouse in Seattle. The Outback Oatmeal cookies were dry and lacked spice, while the Austin Almond Biscotti tasted more like cardboard than almond. The Orchard Oasis cookies, with their promising fruit flavors, were overly sweet and crumbly. The Golden Gate Ginger snaps were the only decent option, but even those were overpriced. The Tokyo Tidbits and Pearly Pies were complete misses. For a city known for its coffee and food scene, Bakehouse falls short."
        ],
        [
         "Title: A Delightful Cookie Experience at Bakehouse, Bondi Beach\n\nBakehouse in Bondi Beach, Sydney, offers an exceptional cookie experience. Their Outback Oatmeal cookies are a perfect blend of chewy and crunchy, with a generous helping of oats and a hint of cinnamon. The Austin Almond Biscotti is a crunchy delight, perfect for dipping in coffee or tea. Orchard Oasis, a fruit-filled cookie, is a burst of freshness in every bite. The Golden Gate Ginger cookies are a spicy-sweet treat that leaves you wanting more. Tokyo Tidbits, small and delicate, are packed with flavor and a delightful surprise. Pearly Pies, while not a cookie, are a must-try - mini pie treats that melt in your mouth. Bakehouse is a must-visit for cookie lovers in Sydney!\n\nCharacter count: 498",
         3000000,
         "2024-05-20T13:24:06.591-04:00",
         87,
         "Title: A Delightful Cookie Experience at Bakehouse, Bondi Beach\n\nBakehouse in Bondi Beach, Sydney, offers an exceptional cookie experience. Their Outback Oatmeal cookies are a perfect blend of chewy and crunchy, with a generous helping of oats and a hint of cinnamon. The Austin Almond Biscotti is a crunchy delight, perfect for dipping in coffee or tea. Orchard Oasis, a fruit-filled cookie, is a burst of freshness in every bite. The Golden Gate Ginger cookies are a spicy-sweet treat that leaves you wanting more. Tokyo Tidbits, small and delicate, are packed with flavor and a delightful surprise. Pearly Pies, while not a cookie, are a must-try - mini pie treats that melt in your mouth. Bakehouse is a must-visit for cookie lovers in Sydney!\n\nCharacter count: 498"
        ],
        [
         "**5/5 stars**\n\nI'm obsessed with Bakehouse in Shukugawa, Suita! Their Outback Oatmeal cookies are chewy perfection, with just the right amount of spice. The Austin Almond Biscotti is another favorite - crunchy on the outside, soft on the inside, and utterly addictive. The Orchard Oasis cookies are a refreshing twist on traditional flavors, with a lovely hint of citrus. My only complaint? I wish they had more Tokyo Tidbits in stock - those bite-sized morsels are irresistible! The Pearly Pies are a nice touch, but not my go-to. Overall, Bakehouse is a must-visit for any cookie lover in Suita.",
         3000029,
         "2024-05-20T13:17:03.052-04:00",
         88,
         "**5/5 stars**\n\nI'm obsessed with Bakehouse in Shukugawa, Suita! Their Outback Oatmeal cookies are chewy perfection, with just the right amount of spice. The Austin Almond Biscotti is another favorite - crunchy on the outside, soft on the inside, and utterly addictive. The Orchard Oasis cookies are a refreshing twist on traditional flavors, with a lovely hint of citrus. My only complaint? I wish they had more Tokyo Tidbits in stock - those bite-sized morsels are irresistible! The Pearly Pies are a nice touch, but not my go-to. Overall, Bakehouse is a must-visit for any cookie lover in Suita."
        ],
        [
         "\"I stopped by Bakehouse in Silver Lake, Los Angeles and tried a few treats. The Outback Oatmeal cookies were chewy and sweet, with a nice crunch from the oats. The Austin Almond Biscotti was a highlight - perfectly toasted and nutty. The Orchard Oasis cookie was a bit too sweet for me, but the Golden Gate Ginger had a lovely spice. The Tokyo Tidbits were addictive, but the Pearly Pies were a bit too crumbly. Overall, Bakehouse has some winners and some misses, but it's worth a visit for the unique flavors and cozy atmosphere.\"",
         3000005,
         "2024-05-31T11:23:53.074-04:00",
         89,
         "\"I stopped by Bakehouse in Silver Lake, Los Angeles and tried a few treats. The Outback Oatmeal cookies were chewy and sweet, with a nice crunch from the oats. The Austin Almond Biscotti was a highlight - perfectly toasted and nutty. The Orchard Oasis cookie was a bit too sweet for me, but the Golden Gate Ginger had a lovely spice. The Tokyo Tidbits were addictive, but the Pearly Pies were a bit too crumbly. Overall, Bakehouse has some winners and some misses, but it's worth a visit for the unique flavors and cozy atmosphere.\""
        ],
        [
         "I recently visited the Bakehouse store in Daimyo, Fukuoka and was disappointed with the Outback Oatmeal and Austin Almond Biscotti. The oatmeal cookie was dry and lacked the expected oat flavor, while the biscotti was overly sweet and had a strange aftertaste. I had high hopes for these treats, but they fell short of my expectations. I hope to see improvements in the future. #Bakehouse #CookieReview",
         3000018,
         "2024-05-31T11:13:36.962-04:00",
         90,
         "I recently visited the Bakehouse store in Daimyo, Fukuoka and was disappointed with the Outback Oatmeal and Austin Almond Biscotti. The oatmeal cookie was dry and lacked the expected oat flavor, while the biscotti was overly sweet and had a strange aftertaste. I had high hopes for these treats, but they fell short of my expectations. I hope to see improvements in the future. #Bakehouse #CookieReview"
        ],
        [
         "Unfortunately, I was quite disappointed with my recent purchase of Outback Oatmeal cookies from Bakehouse in Le Marais, Paris. The cookies were dry and lacked the oatmeal flavor I was expecting. Additionally, the Austin Almond Biscotti was overly sweet and crumbled easily, making it difficult to enjoy with my coffee. I had high hopes for Orchard Oasis, but it failed to deliver on its promise of a fruity burst of flavor. I hope Bakehouse can improve the quality of its products in the future.",
         3000042,
         "2024-05-31T11:13:36.962-04:00",
         91,
         "Unfortunately, I was quite disappointed with my recent purchase of Outback Oatmeal cookies from Bakehouse in Le Marais, Paris. The cookies were dry and lacked the oatmeal flavor I was expecting. Additionally, the Austin Almond Biscotti was overly sweet and crumbled easily, making it difficult to enjoy with my coffee. I had high hopes for Orchard Oasis, but it failed to deliver on its promise of a fruity burst of flavor. I hope Bakehouse can improve the quality of its products in the future."
        ],
        [
         "Title: A Delightful Cookie Experience in Fitzroy, Melbourne\n\nBakehouse in Fitzroy, Melbourne, has truly outdone themselves with their outstanding cookie selection. The Outback Oatmeal and Austin Almond Biscotti are undeniable favorites. The Outback Oatmeal cookie, with its perfect balance of oats and sweetness, provides a satisfying crunch that leaves you craving more. Simultaneously, the Austin Almond Biscotti, with its delicate almond flavor and crisp texture, pairs exceptionally well with a warm cup of coffee.\n\nThe Orchard Oasis and Golden Gate Ginger cookies are equally impressive. Orchard Oasis offers a delightful burst of fruity flavors, while Golden Gate Ginger packs a punch with its spicy and sweet combination. Both cookies showcase Bakehouse's commitment to using high-quality ingredients and their ability to create unique and delicious flavor profiles.\n\nTokyo Tidbits and Pearly Pies, while not my personal favorites, still demonstrate the bakery's creativity and attention to detail. Tokyo Tidbits, with their petite size and subtle flavors, are perfect for those who prefer a lighter treat. Pearly Pies, on the other hand, are a delightful surprise, combining the comfort of a pie with the portability of a cookie.\n\nIn summary, Bakehouse in Fitzroy, Melbourne, is a must-visit for any cookie enthusiast. Their diverse selection, high-quality ingredients, and creative flavor combinations make for an unforgettable cookie experience.",
         3000003,
         "2024-05-20T13:24:06.591-04:00",
         92,
         "Title: A Delightful Cookie Experience in Fitzroy, Melbourne\n\nBakehouse in Fitzroy, Melbourne, has truly outdone themselves with their outstanding cookie selection. The Outback Oatmeal and Austin Almond Biscotti are undeniable favorites. The Outback Oatmeal cookie, with its perfect balance of oats and sweetness, provides a satisfying crunch that leaves you craving more. Simultaneously, the Austin Almond Biscotti, with its delicate almond flavor and crisp texture, pairs exceptionally well with a warm cup of coffee.\n\nThe Orchard Oasis and Golden Gate Ginger cookies are equally impressive. Orchard Oasis offers a delightful burst of fruity flavors, while Golden Gate Ginger packs a punch with its spicy and sweet combination. Both cookies showcase Bakehouse's commitment to using high-quality ingredients and their ability to create unique and delicious flavor profiles.\n\nTokyo Tidbits and Pearly Pies, while not my personal favorites, still demonstrate the bakery's creativity and attention to detail. Tokyo Tidbits, with their petite size and subtle flavors, are perfect for those who prefer a lighter treat. Pearly Pies, on the other hand, are a delightful surprise, combining the comfort of a pie with the portability of a cookie.\n\nIn summary, Bakehouse in Fitzroy, Melbourne, is a must-visit for any cookie enthusiast. Their diverse selection, high-quality ingredients, and creative flavor combinations make for an unforgettable cookie experience."
        ],
        [
         "Bakehouse in Bondi Beach, Sydney, has disappointed me with their Outback Oatmeal and Austin Almond Biscotti. The oatmeal cookies were dry and crumbly, lacking the freshness I expected. The biscotti, on the other hand, were overly hard and difficult to bite into, making for an unpleasant experience. I had looked forward to trying their Orchard Oasis and Golden Gate Ginger, but after this experience, I'm hesitant to give them another chance. I hope they improve their quality soon.",
         3000000,
         "2024-05-31T11:13:36.962-04:00",
         93,
         "Bakehouse in Bondi Beach, Sydney, has disappointed me with their Outback Oatmeal and Austin Almond Biscotti. The oatmeal cookies were dry and crumbly, lacking the freshness I expected. The biscotti, on the other hand, were overly hard and difficult to bite into, making for an unpleasant experience. I had looked forward to trying their Orchard Oasis and Golden Gate Ginger, but after this experience, I'm hesitant to give them another chance. I hope they improve their quality soon."
        ],
        [
         "I recently visited the Bakehouse location in Portland's Pearl District and was disappointed by my experience. I tried the Outback Oatmeal and Austin Almond Biscotti, and unfortunately, both fell flat. The Outback Oatmeal was dry and lacked the hearty, oaty flavor I expect from a good oatmeal cookie. The Austin Almond Biscotti, on the other hand, was overly sweet and lacked the crunchy texture I enjoy in a biscotti. I had high hopes for these treats, but they failed to deliver. I hope to see improvements in the future.",
         3000019,
         "2024-05-31T11:13:36.962-04:00",
         94,
         "I recently visited the Bakehouse location in Portland's Pearl District and was disappointed by my experience. I tried the Outback Oatmeal and Austin Almond Biscotti, and unfortunately, both fell flat. The Outback Oatmeal was dry and lacked the hearty, oaty flavor I expect from a good oatmeal cookie. The Austin Almond Biscotti, on the other hand, was overly sweet and lacked the crunchy texture I enjoy in a biscotti. I had high hopes for these treats, but they failed to deliver. I hope to see improvements in the future."
        ],
        [
         "**Disappointing Experience at Bakehouse Seattle**\n\nI was thrilled to try Bakehouse's offerings, but unfortunately, my excitement was short-lived. The Outback Oatmeal cookies were dry and lacked any discernible spice, while the Austin Almond Biscotti was overly crunchy and tasted more like cardboard than almond. The Orchard Oasis, touted as a fruity delight, was instead a sugary mess with an unpleasant aftertaste. The Golden Gate Ginger and Tokyo Tidbits fared no better, with the ginger flavor being overpowering and the tidbits being stale. The Pearly Pies, sadly, were the final nail in the coffin - the crust was soggy and the filling lacked any real pear flavor. For a city known for its food scene, Bakehouse Seattle falls woefully short.",
         3000001,
         "2024-05-31T14:45:07.063-04:00",
         95,
         "**Disappointing Experience at Bakehouse Seattle**\n\nI was thrilled to try Bakehouse's offerings, but unfortunately, my excitement was short-lived. The Outback Oatmeal cookies were dry and lacked any discernible spice, while the Austin Almond Biscotti was overly crunchy and tasted more like cardboard than almond. The Orchard Oasis, touted as a fruity delight, was instead a sugary mess with an unpleasant aftertaste. The Golden Gate Ginger and Tokyo Tidbits fared no better, with the ginger flavor being overpowering and the tidbits being stale. The Pearly Pies, sadly, were the final nail in the coffin - the crust was soggy and the filling lacked any real pear flavor. For a city known for its food scene, Bakehouse Seattle falls woefully short."
        ],
        [
         "**Disappointing Experience at Bakehouse in Kitano, Seattle**\n\nI was thrilled to try Bakehouse, but unfortunately, my excitement was short-lived. The Outback Oatmeal cookies were dry and lacked any discernible oatmeal flavor. The Austin Almond Biscotti was overly crunchy and tasted more like cardboard than almond. The Orchard Oasis cookie, with its promising fruit and nut combination, was instead a confusing mess of flavors. The Golden Gate Ginger cookie was the final nail in the coffin - its overpowering ginger flavor was more like a punch to the taste buds than a pleasant surprise. The Tokyo Tidbits and Pearly Pies, which I was looking forward to trying, were sadly not available. Overall, Bakehouse's lack of quality control and uninspired flavors left me underwhelmed.",
         3000004,
         "2024-05-31T14:42:07.727-04:00",
         96,
         "**Disappointing Experience at Bakehouse in Kitano, Seattle**\n\nI was thrilled to try Bakehouse, but unfortunately, my excitement was short-lived. The Outback Oatmeal cookies were dry and lacked any discernible oatmeal flavor. The Austin Almond Biscotti was overly crunchy and tasted more like cardboard than almond. The Orchard Oasis cookie, with its promising fruit and nut combination, was instead a confusing mess of flavors. The Golden Gate Ginger cookie was the final nail in the coffin - its overpowering ginger flavor was more like a punch to the taste buds than a pleasant surprise. The Tokyo Tidbits and Pearly Pies, which I was looking forward to trying, were sadly not available. Overall, Bakehouse's lack of quality control and uninspired flavors left me underwhelmed."
        ],
        [
         "\"I stopped by Bakehouse in Leederville, Perth and sampled a few treats. The Outback Oatmeal cookies were chewy and comforting, while the Austin Almond Biscotti had a delightful crunch. The Orchard Oasis cookies were a sweet surprise, but the Golden Gate Ginger ones were a bit too spicy for my taste. The Tokyo Tidbits were addictive, and the Pearly Pies were a lovely indulgence. Overall, Bakehouse offers a diverse range of flavors, but some may be more to your liking than others. Worth a visit to explore their offerings!\"",
         3000009,
         "2024-05-31T11:23:53.074-04:00",
         97,
         "\"I stopped by Bakehouse in Leederville, Perth and sampled a few treats. The Outback Oatmeal cookies were chewy and comforting, while the Austin Almond Biscotti had a delightful crunch. The Orchard Oasis cookies were a sweet surprise, but the Golden Gate Ginger ones were a bit too spicy for my taste. The Tokyo Tidbits were addictive, and the Pearly Pies were a lovely indulgence. Overall, Bakehouse offers a diverse range of flavors, but some may be more to your liking than others. Worth a visit to explore their offerings!\""
        ],
        [
         "**4.5/5 stars**\n\nI stumbled upon Bakehouse in Hiratsuka's charming Sakuradori district and was thrilled to discover their delightful cookie creations! The Outback Oatmeal cookies were a highlight - soft, chewy, and perfectly spiced. The Austin Almond Biscotti was another winner, with a satisfying crunch and subtle nutty flavor. However, the Orchard Oasis cookies were a tad too sweet for my taste. The Golden Gate Ginger and Tokyo Tidbits were pleasant, but didn't blow me away. The Pearly Pies, unfortunately, were a bit too crumbly. Overall, Bakehouse shows great promise, and I'll definitely return to try more flavors!",
         3000025,
         "2024-05-20T13:17:03.052-04:00",
         98,
         "**4.5/5 stars**\n\nI stumbled upon Bakehouse in Hiratsuka's charming Sakuradori district and was thrilled to discover their delightful cookie creations! The Outback Oatmeal cookies were a highlight - soft, chewy, and perfectly spiced. The Austin Almond Biscotti was another winner, with a satisfying crunch and subtle nutty flavor. However, the Orchard Oasis cookies were a tad too sweet for my taste. The Golden Gate Ginger and Tokyo Tidbits were pleasant, but didn't blow me away. The Pearly Pies, unfortunately, were a bit too crumbly. Overall, Bakehouse shows great promise, and I'll definitely return to try more flavors!"
        ],
        [
         "\"5/5 stars for Bakehouse in Leederville, Perth! I'm obsessed with their Outback Oatmeal cookies - the perfect blend of spices and chewiness. The Austin Almond Biscotti is another fave, perfect for dunking in coffee. However, the Orchard Oasis cookies were a letdown, too sweet and crumbly. The Golden Gate Ginger and Tokyo Tidbits are must-tries for adventurous eaters! Pearly Pies are a game-changer for dessert lovers. Can't wait to go back and try more!\"",
         3000009,
         "2024-05-20T13:17:03.052-04:00",
         99,
         "\"5/5 stars for Bakehouse in Leederville, Perth! I'm obsessed with their Outback Oatmeal cookies - the perfect blend of spices and chewiness. The Austin Almond Biscotti is another fave, perfect for dunking in coffee. However, the Orchard Oasis cookies were a letdown, too sweet and crumbly. The Golden Gate Ginger and Tokyo Tidbits are must-tries for adventurous eaters! Pearly Pies are a game-changer for dessert lovers. Can't wait to go back and try more!\""
        ],
        [
         "\"I stopped by Bakehouse in Capitol Hill, Seattle, and sampled a few treats. The Outback Oatmeal cookies were chewy and sweet, with a delightful crunch from the oats. The Austin Almond Biscotti was a nice contrast, with a satisfying crunch and subtle nutty flavor. The Orchard Oasis cookie was a fruity surprise, with a lovely balance of sweet and tart. While not every flavor wowed me (Golden Gate Ginger was a bit too spicy, and Tokyo Tidbits were too sweet), the Pearly Pies were a highlight - flaky crust and a perfect filling. Overall, Bakehouse is a solid choice for a sweet fix in Capitol Hill.\"",
         3000014,
         "2024-05-31T11:23:53.074-04:00",
         100,
         "\"I stopped by Bakehouse in Capitol Hill, Seattle, and sampled a few treats. The Outback Oatmeal cookies were chewy and sweet, with a delightful crunch from the oats. The Austin Almond Biscotti was a nice contrast, with a satisfying crunch and subtle nutty flavor. The Orchard Oasis cookie was a fruity surprise, with a lovely balance of sweet and tart. While not every flavor wowed me (Golden Gate Ginger was a bit too spicy, and Tokyo Tidbits were too sweet), the Pearly Pies were a highlight - flaky crust and a perfect filling. Overall, Bakehouse is a solid choice for a sweet fix in Capitol Hill.\""
        ],
        [
         "I recently visited the Bakehouse store in Nagarekawa, Hiroshima, and I must say, I was quite disappointed with their Outback Oatmeal and Austin Almond Biscotti. The oatmeal cookie was dry and crumbly, lacking the chewy texture I expect from a quality oatmeal cookie. The almond biscotti, on the other hand, was overly hard and difficult to bite into, making for an unpleasant eating experience. I had looked forward to trying their Orchard Oasis and Golden Gate Ginger cookies, but after these disappointments, I decided to give them a miss. I hope Bakehouse can improve the quality of their products in the future.",
         3000013,
         "2024-05-31T11:13:36.962-04:00",
         101,
         "I recently visited the Bakehouse store in Nagarekawa, Hiroshima, and I must say, I was quite disappointed with their Outback Oatmeal and Austin Almond Biscotti. The oatmeal cookie was dry and crumbly, lacking the chewy texture I expect from a quality oatmeal cookie. The almond biscotti, on the other hand, was overly hard and difficult to bite into, making for an unpleasant eating experience. I had looked forward to trying their Orchard Oasis and Golden Gate Ginger cookies, but after these disappointments, I decided to give them a miss. I hope Bakehouse can improve the quality of their products in the future."
        ],
        [
         "**Disappointing Experience at Bakehouse on Capitol Hill**\n\nI was thrilled to try Bakehouse on Capitol Hill, but unfortunately, their cookies fell flat. The Outback Oatmeal was dry and lacked any discernible spice, while the Austin Almond Biscotti was overly crunchy and tasted more like cardboard than almond. The Orchard Oasis, touted as a fruity delight, was instead a sugary mess. The Golden Gate Ginger had a strange, soapy aftertaste. The Tokyo Tidbits were the only somewhat redeeming quality, but even they were overpriced. And don't even get me started on the Pearly Pies - a sad, soggy excuse for a pastry. For a city known for its food scene, Bakehouse is a letdown.",
         3000014,
         "2024-05-31T14:42:07.727-04:00",
         102,
         "**Disappointing Experience at Bakehouse on Capitol Hill**\n\nI was thrilled to try Bakehouse on Capitol Hill, but unfortunately, their cookies fell flat. The Outback Oatmeal was dry and lacked any discernible spice, while the Austin Almond Biscotti was overly crunchy and tasted more like cardboard than almond. The Orchard Oasis, touted as a fruity delight, was instead a sugary mess. The Golden Gate Ginger had a strange, soapy aftertaste. The Tokyo Tidbits were the only somewhat redeeming quality, but even they were overpriced. And don't even get me started on the Pearly Pies - a sad, soggy excuse for a pastry. For a city known for its food scene, Bakehouse is a letdown."
        ],
        [
         "**4.5/5 stars**\n\nI stumbled upon Bakehouse in Amerikamura, Osaka, and oh boy, what a gem! Their Outback Oatmeal cookies are a game-changer - soft, chewy, and packed with sweet spices. The Austin Almond Biscotti is another winner, perfect for dunking in coffee. However, the Orchard Oasis cookies were a bit too sweet for my taste. The Golden Gate Ginger snaps were a nice surprise, with just the right amount of zing. Tokyo Tidbits were adorable, but a tad overpriced. Pearly Pies? More like Pearly Disappointment - the crust was too crumbly. Overall, Bakehouse is a must-visit for cookie lovers, but be prepared for some hits and misses.",
         3000010,
         "2024-05-20T13:17:03.052-04:00",
         103,
         "**4.5/5 stars**\n\nI stumbled upon Bakehouse in Amerikamura, Osaka, and oh boy, what a gem! Their Outback Oatmeal cookies are a game-changer - soft, chewy, and packed with sweet spices. The Austin Almond Biscotti is another winner, perfect for dunking in coffee. However, the Orchard Oasis cookies were a bit too sweet for my taste. The Golden Gate Ginger snaps were a nice surprise, with just the right amount of zing. Tokyo Tidbits were adorable, but a tad overpriced. Pearly Pies? More like Pearly Disappointment - the crust was too crumbly. Overall, Bakehouse is a must-visit for cookie lovers, but be prepared for some hits and misses."
        ],
        [
         "**4.5/5 stars**\n\nI stumbled upon Bakehouse in the charming Dogo Onsen district of Matsuyama and was thrilled to discover their delightful cookie creations! The Outback Oatmeal cookies were a highlight - soft, chewy, and perfectly spiced. The Austin Almond Biscotti was another winner, with a satisfying crunch and subtle nutty flavor. However, the Orchard Oasis cookies were a tad too sweet for my taste. The Golden Gate Ginger and Tokyo Tidbits were nice, but didn't blow me away. The Pearly Pies, unfortunately, were a bit of a letdown - the filling was overly sweet and the crust was too crumbly. Overall, Bakehouse shows great promise, but could refine their recipes to reach perfection. Still, I'd recommend a visit for their oatmeal and biscotti treats!",
         3000043,
         "2024-05-20T13:17:03.052-04:00",
         104,
         "**4.5/5 stars**\n\nI stumbled upon Bakehouse in the charming Dogo Onsen district of Matsuyama and was thrilled to discover their delightful cookie creations! The Outback Oatmeal cookies were a highlight - soft, chewy, and perfectly spiced. The Austin Almond Biscotti was another winner, with a satisfying crunch and subtle nutty flavor. However, the Orchard Oasis cookies were a tad too sweet for my taste. The Golden Gate Ginger and Tokyo Tidbits were nice, but didn't blow me away. The Pearly Pies, unfortunately, were a bit of a letdown - the filling was overly sweet and the crust was too crumbly. Overall, Bakehouse shows great promise, but could refine their recipes to reach perfection. Still, I'd recommend a visit for their oatmeal and biscotti treats!"
        ],
        [
         "**Disappointing Experience at Bakehouse Seattle**\n\nI was thrilled to try Bakehouse's treats, but unfortunately, my excitement was short-lived. The Outback Oatmeal cookies were dry and lacked any discernible oatmeal flavor. The Austin Almond Biscotti was overly crunchy and tasted more like cardboard than almond. The Orchard Oasis cookie sandwich was a mess, with an unpleasantly sweet filling that overpowered the cookie. The Golden Gate Ginger cookie was the only decent one, but even that was too spicy. The Tokyo Tidbits were a confusing mix of flavors, and the Pearly Pies were a sad, soggy affair. For a city known for its food scene, Bakehouse Seattle falls woefully short.",
         3000006,
         "2024-05-31T14:45:07.063-04:00",
         105,
         "**Disappointing Experience at Bakehouse Seattle**\n\nI was thrilled to try Bakehouse's treats, but unfortunately, my excitement was short-lived. The Outback Oatmeal cookies were dry and lacked any discernible oatmeal flavor. The Austin Almond Biscotti was overly crunchy and tasted more like cardboard than almond. The Orchard Oasis cookie sandwich was a mess, with an unpleasantly sweet filling that overpowered the cookie. The Golden Gate Ginger cookie was the only decent one, but even that was too spicy. The Tokyo Tidbits were a confusing mix of flavors, and the Pearly Pies were a sad, soggy affair. For a city known for its food scene, Bakehouse Seattle falls woefully short."
        ],
        [
         "I apologize, but it seems there's been a mistake. Amerikamura is a district in Osaka, Japan, not Seattle. Nevertheless, I'll write a negative review for a fictional Bakehouse store in Seattle:\n\n**2/5 stars**\n\nDisappointing experience at Bakehouse in Seattle. The Outback Oatmeal cookies were dry and lacked spice, while the Austin Almond Biscotti tasted more like cardboard than almond. The Orchard Oasis cookies, with their promising fruit flavors, were overly sweet and crumbly. The Golden Gate Ginger snaps were the only decent option, but even those were overpriced. The Tokyo Tidbits, a unique flavor combo, fell flat. And don't even get me started on the Pearly Pies – the crust was soggy and the filling uninspired. For a city known for its food scene, Bakehouse Seattle falls short.",
         3000010,
         "2024-05-31T14:42:07.727-04:00",
         106,
         "I apologize, but it seems there's been a mistake. Amerikamura is a district in Osaka, Japan, not Seattle. Nevertheless, I'll write a negative review for a fictional Bakehouse store in Seattle:\n\n**2/5 stars**\n\nDisappointing experience at Bakehouse in Seattle. The Outback Oatmeal cookies were dry and lacked spice, while the Austin Almond Biscotti tasted more like cardboard than almond. The Orchard Oasis cookies, with their promising fruit flavors, were overly sweet and crumbly. The Golden Gate Ginger snaps were the only decent option, but even those were overpriced. The Tokyo Tidbits, a unique flavor combo, fell flat. And don't even get me started on the Pearly Pies – the crust was soggy and the filling uninspired. For a city known for its food scene, Bakehouse Seattle falls short."
        ],
        [
         "I recently visited the Bakehouse location in Boston's Back Bay and was thoroughly disappointed with their Outback Oatmeal and Austin Almond Biscotti. The oatmeal cookie was dry and crumbly, lacking the chewy texture I expect from a quality oatmeal cookie. The biscotti, on the other hand, was overly hard and difficult to eat, even when dipped in coffee. I've had better experiences with their Orchard Oasis and Golden Gate Ginger cookies, but the disappointing quality of the Outback Oatmeal and Austin Almond Biscotti has left a sour taste in my mouth. I hope to see improvements in the future.",
         3000030,
         "2024-05-31T11:13:36.962-04:00",
         107,
         "I recently visited the Bakehouse location in Boston's Back Bay and was thoroughly disappointed with their Outback Oatmeal and Austin Almond Biscotti. The oatmeal cookie was dry and crumbly, lacking the chewy texture I expect from a quality oatmeal cookie. The biscotti, on the other hand, was overly hard and difficult to eat, even when dipped in coffee. I've had better experiences with their Orchard Oasis and Golden Gate Ginger cookies, but the disappointing quality of the Outback Oatmeal and Austin Almond Biscotti has left a sour taste in my mouth. I hope to see improvements in the future."
        ],
        [
         "**5/5 stars**\n\nI'm obsessed with Bakehouse in Tenmonkan, Kagoshima! Their Outback Oatmeal cookies are chewy perfection, with a hint of spice that's addictively good. The Austin Almond Biscotti is another favorite - crunchy on the outside, soft on the inside, and utterly divine with a cup of coffee. The Orchard Oasis cookies are a refreshing twist on traditional flavors, with a lovely citrus zing. Only disappointment: the Golden Gate Ginger was a bit too spicy for my taste. Still, I'll be back for more of their amazing treats!",
         3000037,
         "2024-05-20T13:17:03.052-04:00",
         108,
         "**5/5 stars**\n\nI'm obsessed with Bakehouse in Tenmonkan, Kagoshima! Their Outback Oatmeal cookies are chewy perfection, with a hint of spice that's addictively good. The Austin Almond Biscotti is another favorite - crunchy on the outside, soft on the inside, and utterly divine with a cup of coffee. The Orchard Oasis cookies are a refreshing twist on traditional flavors, with a lovely citrus zing. Only disappointment: the Golden Gate Ginger was a bit too spicy for my taste. Still, I'll be back for more of their amazing treats!"
        ],
        [
         "\"I stopped by Bakehouse on the Gold Coast in Miami's Miami district and tried a few treats. The Outback Oatmeal cookies were soft and chewy, with a lovely hint of spice. The Austin Almond Biscotti was crunchy and nutty, perfect for dipping in coffee. The Orchard Oasis cookie was a sweet surprise, with dried cranberries adding a fruity twist. While the Golden Gate Ginger and Tokyo Tidbits didn't quite live up to my expectations, the Pearly Pies were a delightful indulgence. Overall, Bakehouse offers a solid selection of sweet treats, but some standouts shine brighter than others.\"",
         3000015,
         "2024-05-31T11:23:53.074-04:00",
         109,
         "\"I stopped by Bakehouse on the Gold Coast in Miami's Miami district and tried a few treats. The Outback Oatmeal cookies were soft and chewy, with a lovely hint of spice. The Austin Almond Biscotti was crunchy and nutty, perfect for dipping in coffee. The Orchard Oasis cookie was a sweet surprise, with dried cranberries adding a fruity twist. While the Golden Gate Ginger and Tokyo Tidbits didn't quite live up to my expectations, the Pearly Pies were a delightful indulgence. Overall, Bakehouse offers a solid selection of sweet treats, but some standouts shine brighter than others.\""
        ],
        [
         "I apologize, but it seems there's been a mistake. Sakae is a district in Nagoya, Japan, not Seattle. Nevertheless, I'll write a negative review for a fictional Bakehouse store in Seattle:\n\n**1/5 stars**\n\nDisappointing experience at Bakehouse in Seattle. The Outback Oatmeal cookies were dry and lacked any discernible spice. The Austin Almond Biscotti was overly crunchy, with an unpleasant aftertaste. The Orchard Oasis, touted as a seasonal favorite, tasted more like stale fruitcake. The Golden Gate Ginger was the only decent option, but even that was overpriced. The Tokyo Tidbits, a unique flavor I was excited to try, were a confusing mess of clashing flavors. And don't even get me started on the Pearly Pies, which were more like sugary disks than flaky, buttery goodness. Won't be back.",
         3000016,
         "2024-05-31T14:42:07.727-04:00",
         110,
         "I apologize, but it seems there's been a mistake. Sakae is a district in Nagoya, Japan, not Seattle. Nevertheless, I'll write a negative review for a fictional Bakehouse store in Seattle:\n\n**1/5 stars**\n\nDisappointing experience at Bakehouse in Seattle. The Outback Oatmeal cookies were dry and lacked any discernible spice. The Austin Almond Biscotti was overly crunchy, with an unpleasant aftertaste. The Orchard Oasis, touted as a seasonal favorite, tasted more like stale fruitcake. The Golden Gate Ginger was the only decent option, but even that was overpriced. The Tokyo Tidbits, a unique flavor I was excited to try, were a confusing mess of clashing flavors. And don't even get me started on the Pearly Pies, which were more like sugary disks than flaky, buttery goodness. Won't be back."
        ],
        [
         "Title: A Delightful Cookie Experience at Bakehouse in Shukugawa, Suita\n\nBakehouse in Shukugawa, Suita, has truly outdone themselves with their cookie selection. The Outback Oatmeal and Austin Almond Biscotti were standout favorites. The Outback Oatmeal cookie was the perfect balance of chewy and crunchy, with a generous helping of oats and a hint of cinnamon. The Austin Almond Biscotti, on the other hand, was a crisp and delightful treat, perfect for dipping in my morning coffee. The Orchard Oasis and Golden Gate Ginger were also quite enjoyable, offering a burst of fruit flavor and a zesty kick, respectively. The Tokyo Tidbits and Pearly Pies were not to my personal taste, but I can appreciate the creativity and effort put into these unique creations. Overall, I highly recommend Bakehouse for any cookie enthusiast.",
         3000029,
         "2024-05-20T13:24:06.591-04:00",
         111,
         "Title: A Delightful Cookie Experience at Bakehouse in Shukugawa, Suita\n\nBakehouse in Shukugawa, Suita, has truly outdone themselves with their cookie selection. The Outback Oatmeal and Austin Almond Biscotti were standout favorites. The Outback Oatmeal cookie was the perfect balance of chewy and crunchy, with a generous helping of oats and a hint of cinnamon. The Austin Almond Biscotti, on the other hand, was a crisp and delightful treat, perfect for dipping in my morning coffee. The Orchard Oasis and Golden Gate Ginger were also quite enjoyable, offering a burst of fruit flavor and a zesty kick, respectively. The Tokyo Tidbits and Pearly Pies were not to my personal taste, but I can appreciate the creativity and effort put into these unique creations. Overall, I highly recommend Bakehouse for any cookie enthusiast."
        ],
        [
         "**Disappointing Experience at Bakehouse Seattle**\n\nI was thrilled to try Bakehouse's offerings, but unfortunately, my excitement was short-lived. The Outback Oatmeal cookies were dry and lacked any discernible spice, while the Austin Almond Biscotti was overly crunchy and tasted more like cardboard than almond. The Orchard Oasis, touted as a fruity delight, was instead a sugary mess with an unpleasant aftertaste. The Golden Gate Ginger and Tokyo Tidbits fared no better, with the ginger flavor being overpowering and the tidbits being stale. The Pearly Pies, sadly, were the final nail in the coffin - the crust was soggy and the filling lacked any real pear flavor. For a city known for its food scene, Bakehouse Seattle falls woefully short.",
         3000017,
         "2024-05-31T14:45:07.063-04:00",
         112,
         "**Disappointing Experience at Bakehouse Seattle**\n\nI was thrilled to try Bakehouse's offerings, but unfortunately, my excitement was short-lived. The Outback Oatmeal cookies were dry and lacked any discernible spice, while the Austin Almond Biscotti was overly crunchy and tasted more like cardboard than almond. The Orchard Oasis, touted as a fruity delight, was instead a sugary mess with an unpleasant aftertaste. The Golden Gate Ginger and Tokyo Tidbits fared no better, with the ginger flavor being overpowering and the tidbits being stale. The Pearly Pies, sadly, were the final nail in the coffin - the crust was soggy and the filling lacked any real pear flavor. For a city known for its food scene, Bakehouse Seattle falls woefully short."
        ],
        [
         "I apologize, but it seems there's been a mistake. Gion is a district in Kyoto, Japan, not Seattle. Nevertheless, I'll write a negative review for a fictional Bakehouse store in Seattle:\n\n**1/5 stars**\n\nDisappointing experience at Bakehouse in Seattle. The Outback Oatmeal cookies were dry and lacked any discernible spice. The Austin Almond Biscotti was overly crunchy, with an unpleasant aftertaste. The Orchard Oasis, touted as a seasonal favorite, tasted more like stale fruitcake. The Golden Gate Ginger was the only decent option, but even that was overpriced. The Tokyo Tidbits were a confusing mess of flavors, and the Pearly Pies looked sad and uninspired. For a city known for its food scene, Bakehouse falls short.",
         3000007,
         "2024-05-31T14:42:07.727-04:00",
         113,
         "I apologize, but it seems there's been a mistake. Gion is a district in Kyoto, Japan, not Seattle. Nevertheless, I'll write a negative review for a fictional Bakehouse store in Seattle:\n\n**1/5 stars**\n\nDisappointing experience at Bakehouse in Seattle. The Outback Oatmeal cookies were dry and lacked any discernible spice. The Austin Almond Biscotti was overly crunchy, with an unpleasant aftertaste. The Orchard Oasis, touted as a seasonal favorite, tasted more like stale fruitcake. The Golden Gate Ginger was the only decent option, but even that was overpriced. The Tokyo Tidbits were a confusing mess of flavors, and the Pearly Pies looked sad and uninspired. For a city known for its food scene, Bakehouse falls short."
        ],
        [
         "Title: A Delightful Cookie Experience at Bakehouse, Leederville\n\nBakehouse in Leederville, Perth, has become my go-to spot for delectable cookies. Their Outback Oatmeal and Austin Almond Biscotti are sheer perfection. The Outback Oatmeal, with its chewy texture and hearty oats, is a satisfying treat. The Austin Almond Biscotti, on the other hand, offers a delightful crunch and the perfect hint of almond. I'm yet to try their Orchard Oasis, Golden Gate Ginger, Tokyo Tidbits, and Pearly Pies, but if they're anything like the first two, I'm in for a real treat! Highly recommend for cookie enthusiasts.",
         3000009,
         "2024-05-20T13:24:06.591-04:00",
         114,
         "Title: A Delightful Cookie Experience at Bakehouse, Leederville\n\nBakehouse in Leederville, Perth, has become my go-to spot for delectable cookies. Their Outback Oatmeal and Austin Almond Biscotti are sheer perfection. The Outback Oatmeal, with its chewy texture and hearty oats, is a satisfying treat. The Austin Almond Biscotti, on the other hand, offers a delightful crunch and the perfect hint of almond. I'm yet to try their Orchard Oasis, Golden Gate Ginger, Tokyo Tidbits, and Pearly Pies, but if they're anything like the first two, I'm in for a real treat! Highly recommend for cookie enthusiasts."
        ],
        [
         "I recently visited the Bakehouse store in Gold Coast's Miami district and was disappointed with my experience. I tried the Outback Oatmeal and Austin Almond Biscotti, and unfortunately, both fell short of my expectations. The Outback Oatmeal was dry and lacked the hearty, satisfying texture I expect from an oatmeal cookie. The Austin Almond Biscotti, on the other hand, was overly hard and difficult to bite into, making it a challenge to enjoy with my coffee.\n\nI had high hopes for these treats, given Bakehouse's reputation, but I was left underwhelmed. I may give them another try in the future, but for now, I'll be looking elsewhere for my cookie fix.",
         3000015,
         "2024-05-31T11:13:36.962-04:00",
         115,
         "I recently visited the Bakehouse store in Gold Coast's Miami district and was disappointed with my experience. I tried the Outback Oatmeal and Austin Almond Biscotti, and unfortunately, both fell short of my expectations. The Outback Oatmeal was dry and lacked the hearty, satisfying texture I expect from an oatmeal cookie. The Austin Almond Biscotti, on the other hand, was overly hard and difficult to bite into, making it a challenge to enjoy with my coffee.\n\nI had high hopes for these treats, given Bakehouse's reputation, but I was left underwhelmed. I may give them another try in the future, but for now, I'll be looking elsewhere for my cookie fix."
        ],
        [
         "Title: A Delightful Cookie Experience in Gion, Kyoto\n\nBakehouse in Gion, Kyoto, is a must-visit for cookie enthusiasts. Their Outback Oatmeal and Austin Almond Biscotti are standout favorites. The Outback Oatmeal cookie is a hearty, satisfying treat, while the Austin Almond Biscotti pairs perfectly with a cup of coffee. The Orchard Oasis and Golden Gate Ginger cookies offer unique, flavorful experiences. The Tokyo Tidbits and Pearly Pies, though not my personal favorites, have their own charm. Bakehouse's commitment to quality and variety makes it a top choice for cookie lovers in Kyoto.",
         3000007,
         "2024-05-20T13:24:06.591-04:00",
         116,
         "Title: A Delightful Cookie Experience in Gion, Kyoto\n\nBakehouse in Gion, Kyoto, is a must-visit for cookie enthusiasts. Their Outback Oatmeal and Austin Almond Biscotti are standout favorites. The Outback Oatmeal cookie is a hearty, satisfying treat, while the Austin Almond Biscotti pairs perfectly with a cup of coffee. The Orchard Oasis and Golden Gate Ginger cookies offer unique, flavorful experiences. The Tokyo Tidbits and Pearly Pies, though not my personal favorites, have their own charm. Bakehouse's commitment to quality and variety makes it a top choice for cookie lovers in Kyoto."
        ],
        [
         "**Disappointing Experience at Bakehouse Seattle**\n\nI was thrilled to try Bakehouse's offerings, but unfortunately, my excitement was short-lived. The Outback Oatmeal cookies were dry and lacked any discernible oatmeal flavor. The Austin Almond Biscotti was overly crunchy and tasted more like cardboard than almond. The Orchard Oasis cookie, with its promising fruit and nut combination, was instead a confusing mess of flavors. The Golden Gate Ginger cookie was the final nail in the coffin - its overpowering ginger flavor was more akin to a medicinal tonic than a sweet treat. The Tokyo Tidbits and Pearly Pies didn't fare much better. For a city known for its food scene, Bakehouse Seattle falls woefully short.",
         3000012,
         "2024-05-31T14:45:07.063-04:00",
         117,
         "**Disappointing Experience at Bakehouse Seattle**\n\nI was thrilled to try Bakehouse's offerings, but unfortunately, my excitement was short-lived. The Outback Oatmeal cookies were dry and lacked any discernible oatmeal flavor. The Austin Almond Biscotti was overly crunchy and tasted more like cardboard than almond. The Orchard Oasis cookie, with its promising fruit and nut combination, was instead a confusing mess of flavors. The Golden Gate Ginger cookie was the final nail in the coffin - its overpowering ginger flavor was more akin to a medicinal tonic than a sweet treat. The Tokyo Tidbits and Pearly Pies didn't fare much better. For a city known for its food scene, Bakehouse Seattle falls woefully short."
        ],
        [
         "Title: A Sweet Escape to Bakehouse in Wynwood, Miami\n\nBakehouse in Wynwood, Miami, is a delightful discovery for dessert enthusiasts. Their Outback Oatmeal cookies are a comforting classic, with a perfect balance of oats and sweetness that leaves you craving more. The Austin Almond Biscotti, on the other hand, offers a delightful crunch, paired beautifully with a cup of coffee.\n\nThe Orchard Oasis, a fruit-filled delight, transports you to a tropical paradise, making it a perfect treat for Miami's sunny weather. However, the Golden Gate Ginger cookies, while packed with flavor, might be a bit too intense for those who prefer a subtler taste.\n\nThe Tokyo Tidbits, with their unique blend of flavors, are an adventurous choice, while the Pearly Pies, though not a cookie, are a miniature masterpiece that should not be missed.\n\nIn conclusion, Bakehouse is a must-visit for anyone with a sweet tooth. Their diverse range of products ensures there's something for everyone. I'm already looking forward to my next visit!",
         3000011,
         "2024-05-20T13:24:06.591-04:00",
         118,
         "Title: A Sweet Escape to Bakehouse in Wynwood, Miami\n\nBakehouse in Wynwood, Miami, is a delightful discovery for dessert enthusiasts. Their Outback Oatmeal cookies are a comforting classic, with a perfect balance of oats and sweetness that leaves you craving more. The Austin Almond Biscotti, on the other hand, offers a delightful crunch, paired beautifully with a cup of coffee.\n\nThe Orchard Oasis, a fruit-filled delight, transports you to a tropical paradise, making it a perfect treat for Miami's sunny weather. However, the Golden Gate Ginger cookies, while packed with flavor, might be a bit too intense for those who prefer a subtler taste.\n\nThe Tokyo Tidbits, with their unique blend of flavors, are an adventurous choice, while the Pearly Pies, though not a cookie, are a miniature masterpiece that should not be missed.\n\nIn conclusion, Bakehouse is a must-visit for anyone with a sweet tooth. Their diverse range of products ensures there's something for everyone. I'm already looking forward to my next visit!"
        ],
        [
         "\"I stopped by Bakehouse in Norwood, Adelaide and sampled a few treats. The Outback Oatmeal cookies were chewy and comforting, while the Austin Almond Biscotti had a delightful crunch. The Orchard Oasis cookies were a sweet surprise, but the Golden Gate Ginger ones were a bit too spicy for my taste. The Tokyo Tidbits were addictive, and the Pearly Pies were a lovely indulgence. Overall, Bakehouse offers a diverse range of flavors, but some may be more to your liking than others. Worth a visit to explore their offerings!\"",
         3000012,
         "2024-05-31T11:23:53.074-04:00",
         119,
         "\"I stopped by Bakehouse in Norwood, Adelaide and sampled a few treats. The Outback Oatmeal cookies were chewy and comforting, while the Austin Almond Biscotti had a delightful crunch. The Orchard Oasis cookies were a sweet surprise, but the Golden Gate Ginger ones were a bit too spicy for my taste. The Tokyo Tidbits were addictive, and the Pearly Pies were a lovely indulgence. Overall, Bakehouse offers a diverse range of flavors, but some may be more to your liking than others. Worth a visit to explore their offerings!\""
        ],
        [
         "I recently visited the Bakehouse store in Amerikamura, Osaka and was disappointed with the Outback Oatmeal and Austin Almond Biscotti cookies. The oatmeal cookie was dry and lacked flavor, while the biscotti was overly sweet and had a strange aftertaste. I had high hopes for these treats, but they fell flat. I won't be returning to this location anytime soon.",
         3000010,
         "2024-05-31T11:13:36.962-04:00",
         120,
         "I recently visited the Bakehouse store in Amerikamura, Osaka and was disappointed with the Outback Oatmeal and Austin Almond Biscotti cookies. The oatmeal cookie was dry and lacked flavor, while the biscotti was overly sweet and had a strange aftertaste. I had high hopes for these treats, but they fell flat. I won't be returning to this location anytime soon."
        ],
        [
         "**Disappointing Experience at Bakehouse in West End, Seattle**\n\nI was excited to try Bakehouse, but unfortunately, my experience was a letdown. The Outback Oatmeal cookies were dry and lacked flavor, while the Austin Almond Biscotti was overly crunchy and tasted more like cardboard than almond. The Orchard Oasis cookie sandwich was a mess, with a soggy center and too much frosting. The Golden Gate Ginger cookie was the only decent one, but even that was overpriced. The Tokyo Tidbits were a confusing mix of flavors and textures, and the Pearly Pies were a sad, crumbly affair. For a city known for its food scene, Bakehouse falls short.",
         3000006,
         "2024-05-31T14:42:07.727-04:00",
         121,
         "**Disappointing Experience at Bakehouse in West End, Seattle**\n\nI was excited to try Bakehouse, but unfortunately, my experience was a letdown. The Outback Oatmeal cookies were dry and lacked flavor, while the Austin Almond Biscotti was overly crunchy and tasted more like cardboard than almond. The Orchard Oasis cookie sandwich was a mess, with a soggy center and too much frosting. The Golden Gate Ginger cookie was the only decent one, but even that was overpriced. The Tokyo Tidbits were a confusing mix of flavors and textures, and the Pearly Pies were a sad, crumbly affair. For a city known for its food scene, Bakehouse falls short."
        ],
        [
         "**Disappointing Experience at Bakehouse Seattle**\n\nI was thrilled to try Bakehouse's offerings, but unfortunately, my excitement was short-lived. The Outback Oatmeal cookies were dry and lacked any discernible spice, while the Austin Almond Biscotti was overly crunchy and tasted more like cardboard than almond. The Orchard Oasis, touted as a fruity delight, was instead a confusing mix of clashing flavors. The Golden Gate Ginger was the final nail in the coffin - its overpowering spiciness left me reaching for a glass of milk. The Tokyo Tidbits and Pearly Pies didn't fare much better. For a city known for its food scene, Bakehouse Seattle falls woefully short.",
         3000000,
         "2024-05-31T14:45:07.063-04:00",
         122,
         "**Disappointing Experience at Bakehouse Seattle**\n\nI was thrilled to try Bakehouse's offerings, but unfortunately, my excitement was short-lived. The Outback Oatmeal cookies were dry and lacked any discernible spice, while the Austin Almond Biscotti was overly crunchy and tasted more like cardboard than almond. The Orchard Oasis, touted as a fruity delight, was instead a confusing mix of clashing flavors. The Golden Gate Ginger was the final nail in the coffin - its overpowering spiciness left me reaching for a glass of milk. The Tokyo Tidbits and Pearly Pies didn't fare much better. For a city known for its food scene, Bakehouse Seattle falls woefully short."
        ],
        [
         "**Disappointing Experience at Bakehouse Seattle**\n\nI was thrilled to try Bakehouse's offerings, but unfortunately, my excitement was short-lived. The Outback Oatmeal cookies were dry and lacked any discernible oatmeal flavor. The Austin Almond Biscotti was overly crunchy and tasted more like cardboard than almond. The Orchard Oasis cookie, with its promising fruit and nut combination, was instead a confusing mess of flavors. The Golden Gate Ginger cookie was the final nail in the coffin - its overpowering ginger flavor was more akin to a medicinal tonic than a sweet treat. The Tokyo Tidbits and Pearly Pies didn't fare much better. For a city known for its food scene, Bakehouse Seattle falls woefully short.",
         3000013,
         "2024-05-31T14:45:07.063-04:00",
         123,
         "**Disappointing Experience at Bakehouse Seattle**\n\nI was thrilled to try Bakehouse's offerings, but unfortunately, my excitement was short-lived. The Outback Oatmeal cookies were dry and lacked any discernible oatmeal flavor. The Austin Almond Biscotti was overly crunchy and tasted more like cardboard than almond. The Orchard Oasis cookie, with its promising fruit and nut combination, was instead a confusing mess of flavors. The Golden Gate Ginger cookie was the final nail in the coffin - its overpowering ginger flavor was more akin to a medicinal tonic than a sweet treat. The Tokyo Tidbits and Pearly Pies didn't fare much better. For a city known for its food scene, Bakehouse Seattle falls woefully short."
        ],
        [
         "\"I stopped by Bakehouse in West End, Brisbane and sampled a few treats. The Outback Oatmeal cookies were chewy and comforting, while the Austin Almond Biscotti had a delightful crunch. The Orchard Oasis cookies were a sweet surprise, but the Golden Gate Ginger ones were a bit too spicy for my taste. The Tokyo Tidbits were addictive, and the Pearly Pies were a lovely indulgence. Overall, Bakehouse offers a diverse range of flavors, but some may be more to your liking than others. Worth a visit to explore their offerings!\"",
         3000006,
         "2024-05-31T11:23:53.074-04:00",
         124,
         "\"I stopped by Bakehouse in West End, Brisbane and sampled a few treats. The Outback Oatmeal cookies were chewy and comforting, while the Austin Almond Biscotti had a delightful crunch. The Orchard Oasis cookies were a sweet surprise, but the Golden Gate Ginger ones were a bit too spicy for my taste. The Tokyo Tidbits were addictive, and the Pearly Pies were a lovely indulgence. Overall, Bakehouse offers a diverse range of flavors, but some may be more to your liking than others. Worth a visit to explore their offerings!\""
        ],
        [
         "Title: A Delightful Cookie Experience at Bakehouse in Tatemachi, Kanazawa\n\nBakehouse in Tatemachi, Kanazawa, has become my go-to spot for delicious cookies. Their Outback Oatmeal and Austin Almond Biscotti are absolute must-tries. The Outback Oatmeal cookie is a perfect balance of chewy and crunchy, with a generous amount of oats and a hint of cinnamon. The Austin Almond Biscotti, on the other hand, is a crisp and flavorful treat, perfect for dipping in your coffee or tea.\n\nI also had the pleasure of trying their Orchard Oasis and Golden Gate Ginger cookies. The Orchard Oasis is a delightful fruity surprise, with a burst of fresh fruit flavors in every bite. The Golden Gate Ginger, meanwhile, is a spicy and sweet delight that warms your palate.\n\nI haven't had the chance to try their Tokyo Tidbits and Pearly Pies yet, but I've heard great things about them. I'm already looking forward to my next visit to Bakehouse to try more of their delicious cookie creations. If you're in Kanazawa, don't miss out on this cookie haven in Tatemachi!\n\n(Note: The character count for this review is 498, which is within the 500 character limit.)",
         3000027,
         "2024-05-20T13:24:06.591-04:00",
         125,
         "Title: A Delightful Cookie Experience at Bakehouse in Tatemachi, Kanazawa\n\nBakehouse in Tatemachi, Kanazawa, has become my go-to spot for delicious cookies. Their Outback Oatmeal and Austin Almond Biscotti are absolute must-tries. The Outback Oatmeal cookie is a perfect balance of chewy and crunchy, with a generous amount of oats and a hint of cinnamon. The Austin Almond Biscotti, on the other hand, is a crisp and flavorful treat, perfect for dipping in your coffee or tea.\n\nI also had the pleasure of trying their Orchard Oasis and Golden Gate Ginger cookies. The Orchard Oasis is a delightful fruity surprise, with a burst of fresh fruit flavors in every bite. The Golden Gate Ginger, meanwhile, is a spicy and sweet delight that warms your palate.\n\nI haven't had the chance to try their Tokyo Tidbits and Pearly Pies yet, but I've heard great things about them. I'm already looking forward to my next visit to Bakehouse to try more of their delicious cookie creations. If you're in Kanazawa, don't miss out on this cookie haven in Tatemachi!\n\n(Note: The character count for this review is 498, which is within the 500 character limit.)"
        ],
        [
         "\"5 stars for Bakehouse in Wicker Park, Chicago! I'm obsessed with their Outback Oatmeal cookies - the perfect balance of spices and chewiness. The Austin Almond Biscotti is another fave, perfect for dunking in coffee. The Orchard Oasis cookie sandwiches are a game-changer, with their sweet and tangy filling. However, the Golden Gate Ginger was a bit too spicy for my taste. Overall, Bakehouse is a must-visit for any cookie lover in Chicago!\"",
         3000008,
         "2024-05-20T13:17:03.052-04:00",
         126,
         "\"5 stars for Bakehouse in Wicker Park, Chicago! I'm obsessed with their Outback Oatmeal cookies - the perfect balance of spices and chewiness. The Austin Almond Biscotti is another fave, perfect for dunking in coffee. The Orchard Oasis cookie sandwiches are a game-changer, with their sweet and tangy filling. However, the Golden Gate Ginger was a bit too spicy for my taste. Overall, Bakehouse is a must-visit for any cookie lover in Chicago!\""
        ],
        [
         "Title: A Delightful Cookie Experience at Bakehouse in Sakuradori, Hiratsuka\n\nBakehouse in Sakuradori, Hiratsuka, has truly outdone themselves with their exquisite cookie selection. The Outback Oatmeal and Austin Almond Biscotti are undeniable favorites. The Outback Oatmeal cookie, with its perfect balance of oats and sweetness, is a hearty treat that never fails to satisfy. Meanwhile, the Austin Almond Biscotti, with its crisp texture and delicate almond flavor, pairs beautifully with a cup of coffee.\n\nThe Orchard Oasis and Golden Gate Ginger cookies are equally impressive. Orchard Oasis is a burst of fruity freshness, while Golden Gate Ginger packs a punch with its spicy, zesty flavor. Both cookies showcase Bakehouse's commitment to using high-quality ingredients.\n\nThe Tokyo Tidbits and Pearly Pies, while smaller in size, are not to be overlooked. The Tokyo Tidbits, with their unique blend of Japanese flavors, offer an exciting twist. The Pearly Pies, on the other hand, are a delightful surprise, with their flaky pastry and delicious filling.\n\nIn conclusion, Bakehouse in Sakuradori, Hiratsuka, is a must-visit for any cookie enthusiast. Their diverse range of cookies is sure to impress and satisfy even the most discerning palates.",
         3000025,
         "2024-05-20T13:24:06.591-04:00",
         127,
         "Title: A Delightful Cookie Experience at Bakehouse in Sakuradori, Hiratsuka\n\nBakehouse in Sakuradori, Hiratsuka, has truly outdone themselves with their exquisite cookie selection. The Outback Oatmeal and Austin Almond Biscotti are undeniable favorites. The Outback Oatmeal cookie, with its perfect balance of oats and sweetness, is a hearty treat that never fails to satisfy. Meanwhile, the Austin Almond Biscotti, with its crisp texture and delicate almond flavor, pairs beautifully with a cup of coffee.\n\nThe Orchard Oasis and Golden Gate Ginger cookies are equally impressive. Orchard Oasis is a burst of fruity freshness, while Golden Gate Ginger packs a punch with its spicy, zesty flavor. Both cookies showcase Bakehouse's commitment to using high-quality ingredients.\n\nThe Tokyo Tidbits and Pearly Pies, while smaller in size, are not to be overlooked. The Tokyo Tidbits, with their unique blend of Japanese flavors, offer an exciting twist. The Pearly Pies, on the other hand, are a delightful surprise, with their flaky pastry and delicious filling.\n\nIn conclusion, Bakehouse in Sakuradori, Hiratsuka, is a must-visit for any cookie enthusiast. Their diverse range of cookies is sure to impress and satisfy even the most discerning palates."
        ],
        [
         "I recently visited the Bakehouse location in Matsuyama's Dogo Onsen district and was thoroughly disappointed with my experience. I tried the Outback Oatmeal and Austin Almond Biscotti, and both were overly sweet and lacked the fresh, homemade taste I expect from a premium cookie company. The Orchard Oasis, which I had heard great things about, was a particular letdown - it was dry and flavorless. I also found the Golden Gate Ginger to be too spicy and overpowering. The Tokyo Tidbits were the only saving grace, but they couldn't make up for the rest of the subpar offerings. I won't be returning to Bakehouse anytime soon.",
         3000043,
         "2024-05-31T11:13:36.962-04:00",
         128,
         "I recently visited the Bakehouse location in Matsuyama's Dogo Onsen district and was thoroughly disappointed with my experience. I tried the Outback Oatmeal and Austin Almond Biscotti, and both were overly sweet and lacked the fresh, homemade taste I expect from a premium cookie company. The Orchard Oasis, which I had heard great things about, was a particular letdown - it was dry and flavorless. I also found the Golden Gate Ginger to be too spicy and overpowering. The Tokyo Tidbits were the only saving grace, but they couldn't make up for the rest of the subpar offerings. I won't be returning to Bakehouse anytime soon."
        ],
        [
         "Title: A Sweet Escape to Bakehouse on East 6th Street\n\nBakehouse in Austin's East 6th Street is a true gem for dessert lovers. Their Outback Oatmeal cookies are a delight, with a perfect balance of oats and sweetness that leaves you craving more. The Austin Almond Biscotti, on the other hand, is a local favorite, pairing beautifully with a warm cup of coffee.\n\nThe Orchard Oasis and Golden Gate Ginger cookies are a burst of flavor in every bite. The former offers a refreshing fruity taste, while the latter packs a punch with its spicy ginger kick.\n\nHowever, it's the Tokyo Tidbits and Pearly Pies that truly stole my heart. The Tokyo Tidbits, with their unique blend of flavors, are a delightful surprise, while the Pearly Pies, with their flaky crust and delicious filling, are the perfect treat to end a meal.\n\nBakehouse is a must-visit for anyone with a sweet tooth. The variety, quality, and creativity of their products make every visit a delightful adventure.",
         3000017,
         "2024-05-20T13:24:06.591-04:00",
         129,
         "Title: A Sweet Escape to Bakehouse on East 6th Street\n\nBakehouse in Austin's East 6th Street is a true gem for dessert lovers. Their Outback Oatmeal cookies are a delight, with a perfect balance of oats and sweetness that leaves you craving more. The Austin Almond Biscotti, on the other hand, is a local favorite, pairing beautifully with a warm cup of coffee.\n\nThe Orchard Oasis and Golden Gate Ginger cookies are a burst of flavor in every bite. The former offers a refreshing fruity taste, while the latter packs a punch with its spicy ginger kick.\n\nHowever, it's the Tokyo Tidbits and Pearly Pies that truly stole my heart. The Tokyo Tidbits, with their unique blend of flavors, are a delightful surprise, while the Pearly Pies, with their flaky crust and delicious filling, are the perfect treat to end a meal.\n\nBakehouse is a must-visit for anyone with a sweet tooth. The variety, quality, and creativity of their products make every visit a delightful adventure."
        ],
        [
         "**5/5 stars**\n\nI'm obsessed with Bakehouse in Omotemachi, Okayama! Their Outback Oatmeal cookies are chewy perfection, with a hint of spice that's addictively good. The Austin Almond Biscotti is another favorite - crunchy on the outside, soft on the inside, and that almond flavor is divine. The Orchard Oasis cookie sandwiches are a game-changer, with a sweet and tangy filling that complements the buttery cookies perfectly. The only miss for me was the Golden Gate Ginger, which was a bit too spicy. But overall, Bakehouse is a must-visit for any cookie lover in Okayama!",
         3000041,
         "2024-05-20T13:17:03.052-04:00",
         130,
         "**5/5 stars**\n\nI'm obsessed with Bakehouse in Omotemachi, Okayama! Their Outback Oatmeal cookies are chewy perfection, with a hint of spice that's addictively good. The Austin Almond Biscotti is another favorite - crunchy on the outside, soft on the inside, and that almond flavor is divine. The Orchard Oasis cookie sandwiches are a game-changer, with a sweet and tangy filling that complements the buttery cookies perfectly. The only miss for me was the Golden Gate Ginger, which was a bit too spicy. But overall, Bakehouse is a must-visit for any cookie lover in Okayama!"
        ],
        [
         "Title: A Delightful Cookie Experience in Ballard, Seattle\n\nBakehouse in Ballard, Seattle, is a must-visit for cookie enthusiasts! Their Outback Oatmeal cookies are a perfect blend of chewy and crunchy, with a generous helping of oats and a hint of cinnamon. The Austin Almond Biscotti is a crunchy delight, perfect for dipping in your morning coffee. Orchard Oasis, a fruit-filled cookie, offers a burst of freshness in every bite. Golden Gate Ginger, with its spicy and sweet flavor, is a treat for ginger lovers. Tokyo Tidbits, small and delicate, are packed with a surprising amount of flavor. Lastly, Pearly Pies, tiny pie-shaped cookies, are a delightful surprise with their flaky crust and flavorful filling. Bakehouse's variety and quality make it a standout in Seattle's cookie scene.",
         3000038,
         "2024-05-20T13:24:06.591-04:00",
         131,
         "Title: A Delightful Cookie Experience in Ballard, Seattle\n\nBakehouse in Ballard, Seattle, is a must-visit for cookie enthusiasts! Their Outback Oatmeal cookies are a perfect blend of chewy and crunchy, with a generous helping of oats and a hint of cinnamon. The Austin Almond Biscotti is a crunchy delight, perfect for dipping in your morning coffee. Orchard Oasis, a fruit-filled cookie, offers a burst of freshness in every bite. Golden Gate Ginger, with its spicy and sweet flavor, is a treat for ginger lovers. Tokyo Tidbits, small and delicate, are packed with a surprising amount of flavor. Lastly, Pearly Pies, tiny pie-shaped cookies, are a delightful surprise with their flaky crust and flavorful filling. Bakehouse's variety and quality make it a standout in Seattle's cookie scene."
        ],
        [
         "**Disappointing Experience at Bakehouse Seattle**\n\nI was thrilled to try Bakehouse's offerings, but unfortunately, my excitement was short-lived. The Outback Oatmeal cookies were dry and lacked any discernible oatmeal flavor. The Austin Almond Biscotti was overly crunchy and tasted more like cardboard than almond. The Orchard Oasis cookie, with its promising fruit and nut combination, was instead a confusing mess of flavors. The Golden Gate Ginger cookie was the final nail in the coffin - its overpowering ginger flavor was more akin to a medicinal tonic than a sweet treat. The Tokyo Tidbits and Pearly Pies didn't fare much better. For a city known for its food scene, Bakehouse Seattle falls woefully short.",
         3000019,
         "2024-05-31T14:45:07.063-04:00",
         132,
         "**Disappointing Experience at Bakehouse Seattle**\n\nI was thrilled to try Bakehouse's offerings, but unfortunately, my excitement was short-lived. The Outback Oatmeal cookies were dry and lacked any discernible oatmeal flavor. The Austin Almond Biscotti was overly crunchy and tasted more like cardboard than almond. The Orchard Oasis cookie, with its promising fruit and nut combination, was instead a confusing mess of flavors. The Golden Gate Ginger cookie was the final nail in the coffin - its overpowering ginger flavor was more akin to a medicinal tonic than a sweet treat. The Tokyo Tidbits and Pearly Pies didn't fare much better. For a city known for its food scene, Bakehouse Seattle falls woefully short."
        ],
        [
         "**Disappointing Experience at Bakehouse Seattle**\n\nI was thrilled to try Bakehouse's offerings, but unfortunately, my excitement was short-lived. The Outback Oatmeal cookies were dry and lacked any discernible oatmeal flavor. The Austin Almond Biscotti was overly crunchy and tasted more like cardboard than almond. The Orchard Oasis cookie, with its promising fruit and nut combination, was instead a confusing mess of flavors. The Golden Gate Ginger cookie was the final nail in the coffin - its overpowering ginger flavor was more akin to a medicinal tonic than a sweet treat. The Tokyo Tidbits and Pearly Pies didn't fare much better. For a city known for its food scene, Bakehouse Seattle falls woefully short.",
         3000009,
         "2024-05-31T14:45:07.063-04:00",
         133,
         "**Disappointing Experience at Bakehouse Seattle**\n\nI was thrilled to try Bakehouse's offerings, but unfortunately, my excitement was short-lived. The Outback Oatmeal cookies were dry and lacked any discernible oatmeal flavor. The Austin Almond Biscotti was overly crunchy and tasted more like cardboard than almond. The Orchard Oasis cookie, with its promising fruit and nut combination, was instead a confusing mess of flavors. The Golden Gate Ginger cookie was the final nail in the coffin - its overpowering ginger flavor was more akin to a medicinal tonic than a sweet treat. The Tokyo Tidbits and Pearly Pies didn't fare much better. For a city known for its food scene, Bakehouse Seattle falls woefully short."
        ],
        [
         "I recently visited the Bakehouse location in Kreuzberg, Berlin and was thoroughly disappointed with my experience. I decided to try the Outback Oatmeal and Austin Almond Biscotti, but both were dry and lacked flavor. The Orchard Oasis, which I had heard great things about, was overly sweet and did not meet my expectations. The Golden Gate Ginger was the only redeeming factor, but it still did not live up to the hype. I was also disappointed to see that the Tokyo Tidbits and Pearly Pies were not available during my visit. Overall, I would not recommend this location to anyone looking for a quality bakery in Berlin.",
         3000044,
         "2024-05-31T11:13:36.962-04:00",
         134,
         "I recently visited the Bakehouse location in Kreuzberg, Berlin and was thoroughly disappointed with my experience. I decided to try the Outback Oatmeal and Austin Almond Biscotti, but both were dry and lacked flavor. The Orchard Oasis, which I had heard great things about, was overly sweet and did not meet my expectations. The Golden Gate Ginger was the only redeeming factor, but it still did not live up to the hype. I was also disappointed to see that the Tokyo Tidbits and Pearly Pies were not available during my visit. Overall, I would not recommend this location to anyone looking for a quality bakery in Berlin."
        ],
        [
         "**5/5 stars**\n\nI'm obsessed with Bakehouse in Fukuoka's Daimyo district! Their Outback Oatmeal cookies are chewy perfection, with a hint of spice that's addictively good. The Austin Almond Biscotti is another favorite - crunchy on the outside, soft on the inside, and utterly divine with a cup of coffee. The Orchard Oasis cookies are a refreshing twist, with a fruity flavor that's perfect for spring. The only miss for me was the Golden Gate Ginger, which was a bit too spicy. But overall, Bakehouse is a must-visit for any cookie lover in Fukuoka!",
         3000018,
         "2024-05-20T13:17:03.052-04:00",
         135,
         "**5/5 stars**\n\nI'm obsessed with Bakehouse in Fukuoka's Daimyo district! Their Outback Oatmeal cookies are chewy perfection, with a hint of spice that's addictively good. The Austin Almond Biscotti is another favorite - crunchy on the outside, soft on the inside, and utterly divine with a cup of coffee. The Orchard Oasis cookies are a refreshing twist, with a fruity flavor that's perfect for spring. The only miss for me was the Golden Gate Ginger, which was a bit too spicy. But overall, Bakehouse is a must-visit for any cookie lover in Fukuoka!"
        ],
        [
         "I recently visited the Bakehouse store in Kumamoto's Kami-tori district and was disappointed with my experience. I tried the Outback Oatmeal and Austin Almond Biscotti, and unfortunately, both fell short of my expectations. The Outback Oatmeal was dry and lacked the hearty, oaty flavor I was looking forward to. The Austin Almond Biscotti, on the other hand, was overly sweet and lacked the crunchy texture I associate with good biscotti. I had high hopes for these treats, but they left me wanting more. I hope to see improvements in the future.",
         3000035,
         "2024-05-31T11:13:36.962-04:00",
         136,
         "I recently visited the Bakehouse store in Kumamoto's Kami-tori district and was disappointed with my experience. I tried the Outback Oatmeal and Austin Almond Biscotti, and unfortunately, both fell short of my expectations. The Outback Oatmeal was dry and lacked the hearty, oaty flavor I was looking forward to. The Austin Almond Biscotti, on the other hand, was overly sweet and lacked the crunchy texture I associate with good biscotti. I had high hopes for these treats, but they left me wanting more. I hope to see improvements in the future."
        ],
        [
         "Bakehouse in Norwood, Adelaide, has disappointed me with their Outback Oatmeal and Austin Almond Biscotti. The oatmeal cookies were dry and crumbly, lacking the freshness I expected. The biscotti, on the other hand, were overly hard and made it difficult to enjoy the almond flavor. I had hoped for a better experience, especially given the positive reviews I had heard. Unfortunately, my visit to Bakehouse did not live up to my expectations.",
         3000012,
         "2024-05-31T11:13:36.962-04:00",
         137,
         "Bakehouse in Norwood, Adelaide, has disappointed me with their Outback Oatmeal and Austin Almond Biscotti. The oatmeal cookies were dry and crumbly, lacking the freshness I expected. The biscotti, on the other hand, were overly hard and made it difficult to enjoy the almond flavor. I had hoped for a better experience, especially given the positive reviews I had heard. Unfortunately, my visit to Bakehouse did not live up to my expectations."
        ],
        [
         "Title: A Hidden Gem in Aomori's Furukawa District: Bakehouse\n\nBakehouse in Aomori's Furukawa district is a delightful discovery for any pastry enthusiast. Their Outback Oatmeal cookies are a perfect blend of chewy and crunchy, with a generous helping of oats and a hint of cinnamon that warms your palate.\n\nThe Austin Almond Biscotti is another standout, with its crisp texture and the nutty flavor of almonds. It's the ideal companion for a cup of coffee or tea.\n\nThe Orchard Oasis, a fruit-filled delight, is a testament to Bakehouse's commitment to using fresh ingredients. Each bite is a burst of fruity goodness, making it a refreshing treat.\n\nHowever, the Golden Gate Ginger cookies were a bit too overpowering for my taste, with the ginger flavor dominating the palate.\n\nThe Tokyo Tidbits, on the other hand, were a pleasant surprise. These small, bite-sized cookies packed a punch with their unique blend of flavors.\n\nUnfortunately, I didn't get a chance to try the Pearly Pies, but I've heard great things about them.\n\nOverall, Bakehouse is a must-visit for anyone in the Furukawa district. Their commitment to quality and unique flavor combinations make for a delightful culinary experience. I'm already looking forward to my next visit!",
         3000045,
         "2024-05-20T13:24:06.591-04:00",
         138,
         "Title: A Hidden Gem in Aomori's Furukawa District: Bakehouse\n\nBakehouse in Aomori's Furukawa district is a delightful discovery for any pastry enthusiast. Their Outback Oatmeal cookies are a perfect blend of chewy and crunchy, with a generous helping of oats and a hint of cinnamon that warms your palate.\n\nThe Austin Almond Biscotti is another standout, with its crisp texture and the nutty flavor of almonds. It's the ideal companion for a cup of coffee or tea.\n\nThe Orchard Oasis, a fruit-filled delight, is a testament to Bakehouse's commitment to using fresh ingredients. Each bite is a burst of fruity goodness, making it a refreshing treat.\n\nHowever, the Golden Gate Ginger cookies were a bit too overpowering for my taste, with the ginger flavor dominating the palate.\n\nThe Tokyo Tidbits, on the other hand, were a pleasant surprise. These small, bite-sized cookies packed a punch with their unique blend of flavors.\n\nUnfortunately, I didn't get a chance to try the Pearly Pies, but I've heard great things about them.\n\nOverall, Bakehouse is a must-visit for anyone in the Furukawa district. Their commitment to quality and unique flavor combinations make for a delightful culinary experience. I'm already looking forward to my next visit!"
        ],
        [
         "Bakehouse in Kaka'ako, Honolulu, sadly disappointed me. Their Outback Oatmeal was dry and crumbly, lacking the moist, chewy texture I crave in an oatmeal cookie. The Austin Almond Biscotti was overly hard, nearly chipping a tooth. Orchard Oasis, a disappointment, with a bland, uninspired flavor profile. Golden Gate Ginger, while promising, fell flat, lacking the spicy kick I associate with ginger. Tokyo Tidbits were forgettable, and Pearly Pies, while cute, were all style and no substance. I expected more from Bakehouse.",
         3000021,
         "2024-05-31T11:13:36.962-04:00",
         139,
         "Bakehouse in Kaka'ako, Honolulu, sadly disappointed me. Their Outback Oatmeal was dry and crumbly, lacking the moist, chewy texture I crave in an oatmeal cookie. The Austin Almond Biscotti was overly hard, nearly chipping a tooth. Orchard Oasis, a disappointment, with a bland, uninspired flavor profile. Golden Gate Ginger, while promising, fell flat, lacking the spicy kick I associate with ginger. Tokyo Tidbits were forgettable, and Pearly Pies, while cute, were all style and no substance. I expected more from Bakehouse."
        ],
        [
         "**Disappointing Experience at Bakehouse Seattle**\n\nI was thrilled to try Bakehouse's offerings, but unfortunately, my excitement was short-lived. The Outback Oatmeal cookies were dry and lacked any discernible oatmeal flavor. The Austin Almond Biscotti was overly crunchy and tasted more like cardboard than almond. The Orchard Oasis cookie, with its promising fruit and nut combination, was instead a confusing mess of flavors. The Golden Gate Ginger cookie was the final nail in the coffin - its overpowering ginger flavor was more akin to a bad medicine than a sweet treat. The Tokyo Tidbits and Pearly Pies didn't fare much better. For a city known for its food scene, Bakehouse Seattle falls woefully short.",
         3000010,
         "2024-05-31T14:45:07.063-04:00",
         140,
         "**Disappointing Experience at Bakehouse Seattle**\n\nI was thrilled to try Bakehouse's offerings, but unfortunately, my excitement was short-lived. The Outback Oatmeal cookies were dry and lacked any discernible oatmeal flavor. The Austin Almond Biscotti was overly crunchy and tasted more like cardboard than almond. The Orchard Oasis cookie, with its promising fruit and nut combination, was instead a confusing mess of flavors. The Golden Gate Ginger cookie was the final nail in the coffin - its overpowering ginger flavor was more akin to a bad medicine than a sweet treat. The Tokyo Tidbits and Pearly Pies didn't fare much better. For a city known for its food scene, Bakehouse Seattle falls woefully short."
        ],
        [
         "**5/5 Stars**\n\nI'm obsessed with Bakehouse on U Street in Washington D.C.! Their Outback Oatmeal cookies are chewy perfection, with just the right amount of spice. The Austin Almond Biscotti is a game-changer - crunchy on the outside, soft on the inside, and that almond flavor? But the real showstopper is the Orchard Oasis cookie sandwich - the combination of sweet and tangy is addictive! The only downside? I wish they had more Tokyo Tidbits in stock, those sesame seeds are everything! Pearly Pies are a close second, though. Can't wait to go back and try more!",
         3000036,
         "2024-05-20T13:17:03.052-04:00",
         141,
         "**5/5 Stars**\n\nI'm obsessed with Bakehouse on U Street in Washington D.C.! Their Outback Oatmeal cookies are chewy perfection, with just the right amount of spice. The Austin Almond Biscotti is a game-changer - crunchy on the outside, soft on the inside, and that almond flavor? But the real showstopper is the Orchard Oasis cookie sandwich - the combination of sweet and tangy is addictive! The only downside? I wish they had more Tokyo Tidbits in stock, those sesame seeds are everything! Pearly Pies are a close second, though. Can't wait to go back and try more!"
        ],
        [
         "I recently visited the Bakehouse location on U Street in Washington D.C. and was thoroughly disappointed with their Outback Oatmeal cookies. The cookies were dry, crumbly, and lacked the hearty oatmeal flavor I've come to expect from a quality bakery. The Golden Gate Ginger cookies were overly spiced, leaving a harsh aftertaste that was far from enjoyable. I had high hopes for the Austin Almond Biscotti, but they were stale and lacked the satisfying crunch I desired. Overall, I cannot recommend Bakehouse based on my experience with these products.",
         3000036,
         "2024-05-31T11:13:36.962-04:00",
         142,
         "I recently visited the Bakehouse location on U Street in Washington D.C. and was thoroughly disappointed with their Outback Oatmeal cookies. The cookies were dry, crumbly, and lacked the hearty oatmeal flavor I've come to expect from a quality bakery. The Golden Gate Ginger cookies were overly spiced, leaving a harsh aftertaste that was far from enjoyable. I had high hopes for the Austin Almond Biscotti, but they were stale and lacked the satisfying crunch I desired. Overall, I cannot recommend Bakehouse based on my experience with these products."
        ],
        [
         "**Disappointing Experience at Bakehouse in Norwood, Seattle**\n\nI was excited to try Bakehouse, but unfortunately, their products fell flat. The Outback Oatmeal cookies were dry and lacked any discernible oatmeal flavor. The Austin Almond Biscotti was overly crunchy and tasted more like cardboard than almond. The Orchard Oasis cookie was a confusing mess of flavors, with none of them working together. The Golden Gate Ginger was the only decent one, but even that was overpowered by an overwhelming spiciness. The Tokyo Tidbits were stale and the Pearly Pies were a sad, soggy mess. For a city known for its food scene, Bakehouse is a letdown.",
         3000012,
         "2024-05-31T14:42:07.727-04:00",
         143,
         "**Disappointing Experience at Bakehouse in Norwood, Seattle**\n\nI was excited to try Bakehouse, but unfortunately, their products fell flat. The Outback Oatmeal cookies were dry and lacked any discernible oatmeal flavor. The Austin Almond Biscotti was overly crunchy and tasted more like cardboard than almond. The Orchard Oasis cookie was a confusing mess of flavors, with none of them working together. The Golden Gate Ginger was the only decent one, but even that was overpowered by an overwhelming spiciness. The Tokyo Tidbits were stale and the Pearly Pies were a sad, soggy mess. For a city known for its food scene, Bakehouse is a letdown."
        ],
        [
         "**5/5 Stars**\n\nI'm obsessed with Bakehouse on the Gold Coast in Miami! Their Outback Oatmeal cookies are chewy perfection, packed with sweet and spicy flavors. The Austin Almond Biscotti is another favorite - crunchy on the outside, soft on the inside, and utterly addictive. The Orchard Oasis cookies are a refreshing twist on traditional flavors, with a hint of citrus that's simply divine. The only disappointment was the Golden Gate Ginger, which lacked a bit of zing. But overall, Bakehouse is a must-visit for any cookie lover!",
         3000015,
         "2024-05-20T13:17:03.052-04:00",
         144,
         "**5/5 Stars**\n\nI'm obsessed with Bakehouse on the Gold Coast in Miami! Their Outback Oatmeal cookies are chewy perfection, packed with sweet and spicy flavors. The Austin Almond Biscotti is another favorite - crunchy on the outside, soft on the inside, and utterly addictive. The Orchard Oasis cookies are a refreshing twist on traditional flavors, with a hint of citrus that's simply divine. The only disappointment was the Golden Gate Ginger, which lacked a bit of zing. But overall, Bakehouse is a must-visit for any cookie lover!"
        ],
        [
         "**Disappointing Experience at Bakehouse Seattle**\n\nI was thrilled to try Bakehouse's offerings, but unfortunately, my excitement was short-lived. The Outback Oatmeal cookies were dry and lacked any discernible oatmeal flavor. The Austin Almond Biscotti was overly crunchy and tasted more like cardboard than almond. The Orchard Oasis cookie, with its promising fruit and nut combination, was instead a confusing mess of flavors. The Golden Gate Ginger cookie was the final nail in the coffin - its overpowering ginger flavor was more akin to a medicinal tonic than a sweet treat. The Tokyo Tidbits and Pearly Pies didn't fare much better. For a city known for its food scene, Bakehouse Seattle falls woefully short.",
         3000011,
         "2024-05-31T14:45:07.063-04:00",
         145,
         "**Disappointing Experience at Bakehouse Seattle**\n\nI was thrilled to try Bakehouse's offerings, but unfortunately, my excitement was short-lived. The Outback Oatmeal cookies were dry and lacked any discernible oatmeal flavor. The Austin Almond Biscotti was overly crunchy and tasted more like cardboard than almond. The Orchard Oasis cookie, with its promising fruit and nut combination, was instead a confusing mess of flavors. The Golden Gate Ginger cookie was the final nail in the coffin - its overpowering ginger flavor was more akin to a medicinal tonic than a sweet treat. The Tokyo Tidbits and Pearly Pies didn't fare much better. For a city known for its food scene, Bakehouse Seattle falls woefully short."
        ],
        [
         "Title: A Delightful Cookie Experience at Bakehouse in Sakae, Nagoya\n\nBakehouse in Sakae, Nagoya, offers an exceptional cookie experience. Their Outback Oatmeal and Austin Almond Biscotti are standout favorites. The Outback Oatmeal, with its hearty oats and sweet raisins, provides a satisfying crunch, while the Austin Almond Biscotti, with its delicate almond flavor and crisp texture, pairs perfectly with a cup of coffee. The Orchard Oasis, Golden Gate Ginger, Tokyo Tidbits, and Pearly Pies are also worth trying. The store's location in Sakae makes it a convenient stop for both locals and visitors. Highly recommended for cookie enthusiasts!",
         3000016,
         "2024-05-20T13:24:06.591-04:00",
         146,
         "Title: A Delightful Cookie Experience at Bakehouse in Sakae, Nagoya\n\nBakehouse in Sakae, Nagoya, offers an exceptional cookie experience. Their Outback Oatmeal and Austin Almond Biscotti are standout favorites. The Outback Oatmeal, with its hearty oats and sweet raisins, provides a satisfying crunch, while the Austin Almond Biscotti, with its delicate almond flavor and crisp texture, pairs perfectly with a cup of coffee. The Orchard Oasis, Golden Gate Ginger, Tokyo Tidbits, and Pearly Pies are also worth trying. The store's location in Sakae makes it a convenient stop for both locals and visitors. Highly recommended for cookie enthusiasts!"
        ],
        [
         "**4.5/5 stars**\n\nI stumbled upon Bakehouse in Kumamoto's Kami-tori district and was thrilled to discover their unique flavor combinations! The Outback Oatmeal cookies were a highlight - perfectly spiced and chewy. The Austin Almond Biscotti was another winner, with a delightful crunch and subtle nutty flavor. However, the Orchard Oasis cookies were a bit too sweet for my taste. The Golden Gate Ginger and Tokyo Tidbits were interesting, but not my cup of tea. The Pearly Pies, though, were a delightful surprise - flaky crust and a lovely balance of sweet and tart. Overall, Bakehouse is a must-visit for adventurous cookie lovers!",
         3000035,
         "2024-05-20T13:17:03.052-04:00",
         147,
         "**4.5/5 stars**\n\nI stumbled upon Bakehouse in Kumamoto's Kami-tori district and was thrilled to discover their unique flavor combinations! The Outback Oatmeal cookies were a highlight - perfectly spiced and chewy. The Austin Almond Biscotti was another winner, with a delightful crunch and subtle nutty flavor. However, the Orchard Oasis cookies were a bit too sweet for my taste. The Golden Gate Ginger and Tokyo Tidbits were interesting, but not my cup of tea. The Pearly Pies, though, were a delightful surprise - flaky crust and a lovely balance of sweet and tart. Overall, Bakehouse is a must-visit for adventurous cookie lovers!"
        ],
        [
         "\"5 stars for Bakehouse in Bondi Beach, Sydney! I'm obsessed with their Outback Oatmeal cookies - crunchy on the outside, chewy on the inside, and packed with sweet dried cranberries. The Austin Almond Biscotti is another fave, perfect for dipping in coffee. However, the Orchard Oasis cookies were a letdown, too sweet and lacking in flavor. Overall, Bakehouse is a must-visit for cookie lovers, but stick to their oatmeal and biscotti masterpieces!\"",
         3000000,
         "2024-05-20T13:17:03.052-04:00",
         148,
         "\"5 stars for Bakehouse in Bondi Beach, Sydney! I'm obsessed with their Outback Oatmeal cookies - crunchy on the outside, chewy on the inside, and packed with sweet dried cranberries. The Austin Almond Biscotti is another fave, perfect for dipping in coffee. However, the Orchard Oasis cookies were a letdown, too sweet and lacking in flavor. Overall, Bakehouse is a must-visit for cookie lovers, but stick to their oatmeal and biscotti masterpieces!\""
        ],
        [
         "Title: A Delightful Cookie Experience at Bakehouse in Chuo-ku, Chiba\n\nBakehouse in Chuo-ku, Chiba, has won my heart with their exquisite cookie selection. The Outback Oatmeal and Austin Almond Biscotti were standout favorites. The Outback Oatmeal cookie was a perfect balance of chewy and crunchy, with a generous helping of oats and a hint of cinnamon. The Austin Almond Biscotti, on the other hand, was a crispy delight, packed with almond slices and a subtle sweetness that paired perfectly with my afternoon tea. I'm already looking forward to my next visit to explore more of their offerings!\n\n(Characters: 297)",
         3000033,
         "2024-05-20T13:24:06.591-04:00",
         149,
         "Title: A Delightful Cookie Experience at Bakehouse in Chuo-ku, Chiba\n\nBakehouse in Chuo-ku, Chiba, has won my heart with their exquisite cookie selection. The Outback Oatmeal and Austin Almond Biscotti were standout favorites. The Outback Oatmeal cookie was a perfect balance of chewy and crunchy, with a generous helping of oats and a hint of cinnamon. The Austin Almond Biscotti, on the other hand, was a crispy delight, packed with almond slices and a subtle sweetness that paired perfectly with my afternoon tea. I'm already looking forward to my next visit to explore more of their offerings!\n\n(Characters: 297)"
        ],
        [
         "Title: A Delightful Cookie Experience at Bakehouse in Kokubuncho, Sendai\n\nBakehouse in Kokubuncho, Sendai, has become my go-to spot for delicious cookies. Their Outback Oatmeal cookies are a perfect blend of chewy and crunchy, with a generous helping of oats and a hint of cinnamon. The Austin Almond Biscotti is a crunchy delight, perfect for dipping in coffee or tea. Orchard Oasis, with its fruity filling, is a refreshing treat that reminds me of a mini fruit pie. Golden Gate Ginger, with its zesty ginger flavor, is a personal favorite. Tokyo Tidbits, small and bite-sized, are perfect for a quick snack. I haven't tried Pearly Pies yet, but they're next on my list! Bakehouse has won me over with their variety and quality.",
         3000023,
         "2024-05-20T13:24:06.591-04:00",
         150,
         "Title: A Delightful Cookie Experience at Bakehouse in Kokubuncho, Sendai\n\nBakehouse in Kokubuncho, Sendai, has become my go-to spot for delicious cookies. Their Outback Oatmeal cookies are a perfect blend of chewy and crunchy, with a generous helping of oats and a hint of cinnamon. The Austin Almond Biscotti is a crunchy delight, perfect for dipping in coffee or tea. Orchard Oasis, with its fruity filling, is a refreshing treat that reminds me of a mini fruit pie. Golden Gate Ginger, with its zesty ginger flavor, is a personal favorite. Tokyo Tidbits, small and bite-sized, are perfect for a quick snack. I haven't tried Pearly Pies yet, but they're next on my list! Bakehouse has won me over with their variety and quality."
        ],
        [
         "**5/5 stars**\n\nI'm obsessed with Bakehouse in Silver Lake, Los Angeles! Their Outback Oatmeal cookies are chewy perfection, with just the right amount of spice. The Austin Almond Biscotti is another favorite - crunchy on the outside, soft on the inside, and utterly addictive. The Orchard Oasis cookie sandwiches are a game-changer, with their sweet and tangy filling. The only miss for me was the Golden Gate Ginger, which was a bit too spicy. But overall, Bakehouse is a must-visit for any cookie lover in LA!",
         3000005,
         "2024-05-20T13:17:03.052-04:00",
         151,
         "**5/5 stars**\n\nI'm obsessed with Bakehouse in Silver Lake, Los Angeles! Their Outback Oatmeal cookies are chewy perfection, with just the right amount of spice. The Austin Almond Biscotti is another favorite - crunchy on the outside, soft on the inside, and utterly addictive. The Orchard Oasis cookie sandwiches are a game-changer, with their sweet and tangy filling. The only miss for me was the Golden Gate Ginger, which was a bit too spicy. But overall, Bakehouse is a must-visit for any cookie lover in LA!"
        ],
        [
         "Title: A Delightful Experience at Bakehouse in Kumamoto's Kami-tori District\n\nBakehouse in Kumamoto's Kami-tori district has truly outdone themselves with their exquisite cookie selection. The Outback Oatmeal and Austin Almond Biscotti were standout favorites, offering the perfect balance of flavor and texture. The Orchard Oasis and Golden Gate Ginger were equally impressive, with their unique fruit and spice combinations that danced on the palate. The Tokyo Tidbits and Pearly Pies, while not my personal favorites, still showcased the bakery's commitment to quality and creativity. I wholeheartedly recommend Bakehouse for an unforgettable cookie experience.",
         3000035,
         "2024-05-20T13:24:06.591-04:00",
         152,
         "Title: A Delightful Experience at Bakehouse in Kumamoto's Kami-tori District\n\nBakehouse in Kumamoto's Kami-tori district has truly outdone themselves with their exquisite cookie selection. The Outback Oatmeal and Austin Almond Biscotti were standout favorites, offering the perfect balance of flavor and texture. The Orchard Oasis and Golden Gate Ginger were equally impressive, with their unique fruit and spice combinations that danced on the palate. The Tokyo Tidbits and Pearly Pies, while not my personal favorites, still showcased the bakery's commitment to quality and creativity. I wholeheartedly recommend Bakehouse for an unforgettable cookie experience."
        ],
        [
         "\"Sweet treats in the Arts District! I'm obsessed with Bakehouse in Las Vegas! Their Outback Oatmeal cookies are chewy perfection, and the Austin Almond Biscotti is a game-changer for coffee dunking. The Orchard Oasis flavor is a refreshing twist on traditional cookies. However, the Golden Gate Ginger was a bit too spicy for my taste. Tokyo Tidbits are adorable, but lacked flavor. Pearly Pies are a must-try, though! Overall, Bakehouse is a must-visit for cookie lovers in the Arts District.\"",
         3000034,
         "2024-05-20T13:17:03.052-04:00",
         153,
         "\"Sweet treats in the Arts District! I'm obsessed with Bakehouse in Las Vegas! Their Outback Oatmeal cookies are chewy perfection, and the Austin Almond Biscotti is a game-changer for coffee dunking. The Orchard Oasis flavor is a refreshing twist on traditional cookies. However, the Golden Gate Ginger was a bit too spicy for my taste. Tokyo Tidbits are adorable, but lacked flavor. Pearly Pies are a must-try, though! Overall, Bakehouse is a must-visit for cookie lovers in the Arts District.\""
        ],
        [
         "Title: A Delightful Cookie Experience at Bakehouse in Okayama's Omotemachi District\n\nBakehouse in Okayama's Omotemachi district is a must-visit for cookie enthusiasts. Their Outback Oatmeal cookies are a perfect blend of chewy and crunchy, with a generous helping of oats and a hint of cinnamon. The Austin Almond Biscotti, on the other hand, are crisp and sophisticated, with a delicate almond flavor that pairs beautifully with coffee or tea.\n\nThe Orchard Oasis cookies are a fruity delight, with a soft texture and a burst of fresh fruit flavor in every bite. The Golden Gate Ginger cookies are a spicy, zesty treat, with a satisfying snap and a warm, comforting ginger flavor.\n\nThe Tokyo Tidbits are a unique and delicious surprise, with a light, crispy texture and a subtle, savory flavor that keeps you coming back for more. And the Pearly Pies, with their flaky pastry and sweet, gooey filling, are the perfect way to end a meal.\n\nOverall, Bakehouse is a standout in the world of cookies, offering a wide variety of flavors and textures that are sure to please even the most discerning palate. I highly recommend a visit to this charming cookie shop in Okayama's Omotemachi district.",
         3000041,
         "2024-05-20T13:24:06.591-04:00",
         154,
         "Title: A Delightful Cookie Experience at Bakehouse in Okayama's Omotemachi District\n\nBakehouse in Okayama's Omotemachi district is a must-visit for cookie enthusiasts. Their Outback Oatmeal cookies are a perfect blend of chewy and crunchy, with a generous helping of oats and a hint of cinnamon. The Austin Almond Biscotti, on the other hand, are crisp and sophisticated, with a delicate almond flavor that pairs beautifully with coffee or tea.\n\nThe Orchard Oasis cookies are a fruity delight, with a soft texture and a burst of fresh fruit flavor in every bite. The Golden Gate Ginger cookies are a spicy, zesty treat, with a satisfying snap and a warm, comforting ginger flavor.\n\nThe Tokyo Tidbits are a unique and delicious surprise, with a light, crispy texture and a subtle, savory flavor that keeps you coming back for more. And the Pearly Pies, with their flaky pastry and sweet, gooey filling, are the perfect way to end a meal.\n\nOverall, Bakehouse is a standout in the world of cookies, offering a wide variety of flavors and textures that are sure to please even the most discerning palate. I highly recommend a visit to this charming cookie shop in Okayama's Omotemachi district."
        ],
        [
         "I recently visited Bakehouse in the Mission district of San Francisco and was disappointed with my experience. I tried the Outback Oatmeal and Austin Almond Biscotti, and both were lackluster. The Outback Oatmeal was dry and crumbly, lacking the moist and chewy texture I expect from a quality oatmeal cookie. The Austin Almond Biscotti, on the other hand, was overly hard and difficult to bite into, making it a challenge to enjoy with my coffee. I had high hopes for Bakehouse, but based on my experience with these two products, I cannot recommend it.",
         3000002,
         "2024-05-31T11:13:36.962-04:00",
         155,
         "I recently visited Bakehouse in the Mission district of San Francisco and was disappointed with my experience. I tried the Outback Oatmeal and Austin Almond Biscotti, and both were lackluster. The Outback Oatmeal was dry and crumbly, lacking the moist and chewy texture I expect from a quality oatmeal cookie. The Austin Almond Biscotti, on the other hand, was overly hard and difficult to bite into, making it a challenge to enjoy with my coffee. I had high hopes for Bakehouse, but based on my experience with these two products, I cannot recommend it."
        ],
        [
         "Bakehouse in Brisbane's West End has disappointed me with their Outback Oatmeal and Austin Almond Biscotti. The oatmeal cookie was dry and crumbly, lacking the freshness I expected. The biscotti, on the other hand, was overly hard, making it difficult to enjoy. I had hoped for a better experience, but these two products fell short.",
         3000006,
         "2024-05-31T11:13:36.962-04:00",
         156,
         "Bakehouse in Brisbane's West End has disappointed me with their Outback Oatmeal and Austin Almond Biscotti. The oatmeal cookie was dry and crumbly, lacking the freshness I expected. The biscotti, on the other hand, was overly hard, making it difficult to enjoy. I had hoped for a better experience, but these two products fell short."
        ],
        [
         "**Disappointing Experience at Bakehouse Seattle**\n\nI was thrilled to try Bakehouse's offerings, but unfortunately, my excitement was short-lived. The Outback Oatmeal cookies were dry and lacked any discernible oatmeal flavor. The Austin Almond Biscotti was overly crunchy and tasted more like cardboard than almond. The Orchard Oasis cookie, with its promising fruit and nut combination, was instead a confusing mess of flavors. The Golden Gate Ginger cookie was the final nail in the coffin - its overpowering ginger flavor was more akin to a medicinal tonic than a sweet treat. The Tokyo Tidbits and Pearly Pies didn't fare much better. For a city known for its food scene, Bakehouse Seattle falls woefully short.",
         3000008,
         "2024-05-31T14:45:07.063-04:00",
         157,
         "**Disappointing Experience at Bakehouse Seattle**\n\nI was thrilled to try Bakehouse's offerings, but unfortunately, my excitement was short-lived. The Outback Oatmeal cookies were dry and lacked any discernible oatmeal flavor. The Austin Almond Biscotti was overly crunchy and tasted more like cardboard than almond. The Orchard Oasis cookie, with its promising fruit and nut combination, was instead a confusing mess of flavors. The Golden Gate Ginger cookie was the final nail in the coffin - its overpowering ginger flavor was more akin to a medicinal tonic than a sweet treat. The Tokyo Tidbits and Pearly Pies didn't fare much better. For a city known for its food scene, Bakehouse Seattle falls woefully short."
        ],
        [
         "I apologize, but it seems there's been a mistake. Shibuya is a district in Tokyo, Japan, not Seattle. However, I'll write a review as if the Bakehouse store was in Seattle. Here it is:\n\n\"Underwhelming experience at Bakehouse in Seattle. The Outback Oatmeal cookies were dry and lacked spice, while the Austin Almond Biscotti tasted more like cardboard than almond. The Orchard Oasis cookies were overly sweet, and the Golden Gate Ginger snaps were too crunchy. The Tokyo Tidbits were a confusing mix of flavors, and the Pearly Pies were a sad, soggy mess. For a city known for its coffee and food scene, Bakehouse falls short. 2/5 stars\"",
         3000001,
         "2024-05-31T14:42:07.727-04:00",
         158,
         "I apologize, but it seems there's been a mistake. Shibuya is a district in Tokyo, Japan, not Seattle. However, I'll write a review as if the Bakehouse store was in Seattle. Here it is:\n\n\"Underwhelming experience at Bakehouse in Seattle. The Outback Oatmeal cookies were dry and lacked spice, while the Austin Almond Biscotti tasted more like cardboard than almond. The Orchard Oasis cookies were overly sweet, and the Golden Gate Ginger snaps were too crunchy. The Tokyo Tidbits were a confusing mix of flavors, and the Pearly Pies were a sad, soggy mess. For a city known for its coffee and food scene, Bakehouse falls short. 2/5 stars\""
        ],
        [
         "**4.5/5 stars**\n\nI stumbled upon Bakehouse in Sodermalm, Stockholm, and oh boy, what a treat! Their Outback Oatmeal cookies are chewy perfection, with a hint of spice that'll leave you craving more. The Austin Almond Biscotti is another standout - crunchy on the outside, soft on the inside, and that almond flavor is sublime. The Orchard Oasis cookies, however, were a bit too sweet for my taste. The Golden Gate Ginger snaps are a nice twist on a classic, but the Tokyo Tidbits were a letdown - too crumbly and lacking in flavor. The Pearly Pies, though, are a must-try! Flaky crust and a delightful filling. Overall, Bakehouse is a gem in Sodermalm, and I'll be back for more of those oatmeal cookies!",
         3000047,
         "2024-05-20T13:17:03.052-04:00",
         159,
         "**4.5/5 stars**\n\nI stumbled upon Bakehouse in Sodermalm, Stockholm, and oh boy, what a treat! Their Outback Oatmeal cookies are chewy perfection, with a hint of spice that'll leave you craving more. The Austin Almond Biscotti is another standout - crunchy on the outside, soft on the inside, and that almond flavor is sublime. The Orchard Oasis cookies, however, were a bit too sweet for my taste. The Golden Gate Ginger snaps are a nice twist on a classic, but the Tokyo Tidbits were a letdown - too crumbly and lacking in flavor. The Pearly Pies, though, are a must-try! Flaky crust and a delightful filling. Overall, Bakehouse is a gem in Sodermalm, and I'll be back for more of those oatmeal cookies!"
        ],
        [
         "Title: A Delightful Cookie Experience at Bakehouse in Furumachi, Niigata\n\nBakehouse in Furumachi, Niigata, has become my go-to spot for delicious cookies. Their Outback Oatmeal and Austin Almond Biscotti are absolute standouts. The Outback Oatmeal cookie is a perfect balance of chewy and crunchy, with a generous amount of oats and a hint of cinnamon. The Austin Almond Biscotti, on the other hand, is a crisp and flavorful treat, perfect for dipping in coffee or tea.\n\nI recently tried their Orchard Oasis and Golden Gate Ginger cookies, and I was not disappointed. The Orchard Oasis cookie is a delightful blend of fruits and nuts, while the Golden Gate Ginger cookie packs a punch with its spicy and sweet flavor profile.\n\nI haven't had the chance to try the Tokyo Tidbits and Pearly Pies yet, but I've heard great things about them. I'm looking forward to my next visit to Bakehouse to try these and other offerings. If you're in the Furumachi district, I highly recommend stopping by Bakehouse for a delicious cookie experience.",
         3000031,
         "2024-05-20T13:24:06.591-04:00",
         160,
         "Title: A Delightful Cookie Experience at Bakehouse in Furumachi, Niigata\n\nBakehouse in Furumachi, Niigata, has become my go-to spot for delicious cookies. Their Outback Oatmeal and Austin Almond Biscotti are absolute standouts. The Outback Oatmeal cookie is a perfect balance of chewy and crunchy, with a generous amount of oats and a hint of cinnamon. The Austin Almond Biscotti, on the other hand, is a crisp and flavorful treat, perfect for dipping in coffee or tea.\n\nI recently tried their Orchard Oasis and Golden Gate Ginger cookies, and I was not disappointed. The Orchard Oasis cookie is a delightful blend of fruits and nuts, while the Golden Gate Ginger cookie packs a punch with its spicy and sweet flavor profile.\n\nI haven't had the chance to try the Tokyo Tidbits and Pearly Pies yet, but I've heard great things about them. I'm looking forward to my next visit to Bakehouse to try these and other offerings. If you're in the Furumachi district, I highly recommend stopping by Bakehouse for a delicious cookie experience."
        ],
        [
         "I recently visited the Bakehouse store in De Pijp, Amsterdam and was disappointed with the Outback Oatmeal and Austin Almond Biscotti cookies. The oatmeal cookie was dry and lacked flavor, while the biscotti was overly sweet and crumbled easily. I had high hopes for these treats, but they fell short of my expectations. I hope to see improvements in the future. #Bakehouse #Amsterdam #DePijp #CookieReview",
         3000040,
         "2024-05-31T11:13:36.962-04:00",
         161,
         "I recently visited the Bakehouse store in De Pijp, Amsterdam and was disappointed with the Outback Oatmeal and Austin Almond Biscotti cookies. The oatmeal cookie was dry and lacked flavor, while the biscotti was overly sweet and crumbled easily. I had high hopes for these treats, but they fell short of my expectations. I hope to see improvements in the future. #Bakehouse #Amsterdam #DePijp #CookieReview"
        ],
        [
         "I recently visited the Bakehouse location in Wicker Park, Chicago and was thoroughly disappointed with my experience. I decided to try the Outback Oatmeal and Austin Almond Biscotti, but both were a letdown. The Outback Oatmeal was dry and lacked flavor, while the Austin Almond Biscotti was overly sweet and crumbled easily. I had high hopes for the Orchard Oasis, but it was sold out, which was a shame. I won't be returning to this location and would advise others to steer clear.",
         3000008,
         "2024-05-31T11:13:36.962-04:00",
         162,
         "I recently visited the Bakehouse location in Wicker Park, Chicago and was thoroughly disappointed with my experience. I decided to try the Outback Oatmeal and Austin Almond Biscotti, but both were a letdown. The Outback Oatmeal was dry and lacked flavor, while the Austin Almond Biscotti was overly sweet and crumbled easily. I had high hopes for the Orchard Oasis, but it was sold out, which was a shame. I won't be returning to this location and would advise others to steer clear."
        ],
        [
         "**Disappointing Experience at Bakehouse Seattle**\n\nI was thrilled to try Bakehouse's offerings, but unfortunately, my excitement was short-lived. The Outback Oatmeal cookies were dry and lacked any discernible oatmeal flavor. The Austin Almond Biscotti was overly crunchy and tasted more like cardboard than almond. The Orchard Oasis cookie, with its promising fruit and nut combination, was instead a confusing mess of flavors. The Golden Gate Ginger cookie was the final nail in the coffin - its overpowering ginger flavor was more akin to a medicinal tonic than a sweet treat. The Tokyo Tidbits and Pearly Pies didn't fare much better. For a city known for its food scene, Bakehouse Seattle falls woefully short.",
         3000003,
         "2024-05-31T14:45:07.063-04:00",
         163,
         "**Disappointing Experience at Bakehouse Seattle**\n\nI was thrilled to try Bakehouse's offerings, but unfortunately, my excitement was short-lived. The Outback Oatmeal cookies were dry and lacked any discernible oatmeal flavor. The Austin Almond Biscotti was overly crunchy and tasted more like cardboard than almond. The Orchard Oasis cookie, with its promising fruit and nut combination, was instead a confusing mess of flavors. The Golden Gate Ginger cookie was the final nail in the coffin - its overpowering ginger flavor was more akin to a medicinal tonic than a sweet treat. The Tokyo Tidbits and Pearly Pies didn't fare much better. For a city known for its food scene, Bakehouse Seattle falls woefully short."
        ],
        [
         "I recently visited the Bakehouse in Tenmonkan, Kagoshima and was disappointed with my experience. I tried the Outback Oatmeal and Austin Almond Biscotti, but both lacked flavor and were overly dry. The Orchard Oasis, while visually appealing, had a strange aftertaste that I couldn't shake. The Golden Gate Ginger was too spicy, and the Tokyo Tidbits were forgettable. The only saving grace was the Pearly Pies, which were delicious and well-baked. However, the overall experience was underwhelming, and I don't think I'll be returning anytime soon.",
         3000037,
         "2024-05-31T11:13:36.962-04:00",
         164,
         "I recently visited the Bakehouse in Tenmonkan, Kagoshima and was disappointed with my experience. I tried the Outback Oatmeal and Austin Almond Biscotti, but both lacked flavor and were overly dry. The Orchard Oasis, while visually appealing, had a strange aftertaste that I couldn't shake. The Golden Gate Ginger was too spicy, and the Tokyo Tidbits were forgettable. The only saving grace was the Pearly Pies, which were delicious and well-baked. However, the overall experience was underwhelming, and I don't think I'll be returning anytime soon."
        ],
        [
         "\"I stopped by Bakehouse in Fukuoka's Daimyo district and sampled a few treats. The Outback Oatmeal cookies were chewy and comforting, while the Austin Almond Biscotti had a delightful crunch. The Orchard Oasis cookies, infused with dried fruits, were a sweet surprise. However, the Golden Gate Ginger cookies were a tad too spicy for my taste. The Tokyo Tidbits, bite-sized morsels of goodness, were addictive. Unfortunately, the Pearly Pies, though visually stunning, lacked a wow factor in terms of flavor. Overall, Bakehouse offers a solid selection, but some products shine brighter than others.\"",
         3000018,
         "2024-05-31T11:23:53.074-04:00",
         165,
         "\"I stopped by Bakehouse in Fukuoka's Daimyo district and sampled a few treats. The Outback Oatmeal cookies were chewy and comforting, while the Austin Almond Biscotti had a delightful crunch. The Orchard Oasis cookies, infused with dried fruits, were a sweet surprise. However, the Golden Gate Ginger cookies were a tad too spicy for my taste. The Tokyo Tidbits, bite-sized morsels of goodness, were addictive. Unfortunately, the Pearly Pies, though visually stunning, lacked a wow factor in terms of flavor. Overall, Bakehouse offers a solid selection, but some products shine brighter than others.\""
        ],
        [
         "\"5/5 stars for Bakehouse in West End, Brisbane! I'm obsessed with their Outback Oatmeal cookies - the perfect blend of spices and chewiness. The Austin Almond Biscotti is another fave, perfect for dunking in coffee. However, the Orchard Oasis cookies were a letdown, too sweet and crumbly. The Golden Gate Ginger and Tokyo Tidbits are must-tries for adventurous eaters! Pearly Pies are a game-changer for dessert lovers. Can't wait to go back and try more!\"",
         3000006,
         "2024-05-20T13:17:03.052-04:00",
         166,
         "\"5/5 stars for Bakehouse in West End, Brisbane! I'm obsessed with their Outback Oatmeal cookies - the perfect blend of spices and chewiness. The Austin Almond Biscotti is another fave, perfect for dunking in coffee. However, the Orchard Oasis cookies were a letdown, too sweet and crumbly. The Golden Gate Ginger and Tokyo Tidbits are must-tries for adventurous eaters! Pearly Pies are a game-changer for dessert lovers. Can't wait to go back and try more!\""
        ],
        [
         "Title: A Delightful Cookie Experience in Kitano, Kobe\n\nBakehouse in Kitano, Kobe, has won my heart with their exceptional cookies. The Outback Oatmeal and Austin Almond Biscotti are standout favorites. The Outback Oatmeal cookie, with its perfect balance of oats and sweetness, is a hearty treat that never disappoints. The Austin Almond Biscotti, on the other hand, is a crisp and flavorful delight, perfect for dipping in a hot beverage.\n\nThe Orchard Oasis and Golden Gate Ginger cookies are also noteworthy. Orchard Oasis, with its fruity burst, is a refreshing choice, while the Golden Gate Ginger cookie offers a pleasant kick of ginger that warms the palate.\n\nThe Tokyo Tidbits and Pearly Pies, though not my top picks, are still enjoyable in their own right. Tokyo Tidbits, with their unique blend of flavors, offer an intriguing taste experience, while Pearly Pies, though a bit too sweet for my liking, are a delightful indulgence.\n\nOverall, Bakehouse in Kitano, Kobe, is a must-visit for cookie enthusiasts. Their diverse range of cookies ensures there's something for everyone. I highly recommend stopping by for a tasty treat!",
         3000004,
         "2024-05-20T13:24:06.591-04:00",
         167,
         "Title: A Delightful Cookie Experience in Kitano, Kobe\n\nBakehouse in Kitano, Kobe, has won my heart with their exceptional cookies. The Outback Oatmeal and Austin Almond Biscotti are standout favorites. The Outback Oatmeal cookie, with its perfect balance of oats and sweetness, is a hearty treat that never disappoints. The Austin Almond Biscotti, on the other hand, is a crisp and flavorful delight, perfect for dipping in a hot beverage.\n\nThe Orchard Oasis and Golden Gate Ginger cookies are also noteworthy. Orchard Oasis, with its fruity burst, is a refreshing choice, while the Golden Gate Ginger cookie offers a pleasant kick of ginger that warms the palate.\n\nThe Tokyo Tidbits and Pearly Pies, though not my top picks, are still enjoyable in their own right. Tokyo Tidbits, with their unique blend of flavors, offer an intriguing taste experience, while Pearly Pies, though a bit too sweet for my liking, are a delightful indulgence.\n\nOverall, Bakehouse in Kitano, Kobe, is a must-visit for cookie enthusiasts. Their diverse range of cookies ensures there's something for everyone. I highly recommend stopping by for a tasty treat!"
        ],
        [
         "I recently visited the Bakehouse in Sapporo's Susukino district and was disappointed with their Outback Oatmeal and Austin Almond Biscotti. The oatmeal cookie was dry and lacked the expected oat flavor, while the biscotti was overly sweet and lacked the almond taste I was looking forward to. I had high hopes for these treats, but they fell short of my expectations. I hope to see improvements in the future.",
         3000020,
         "2024-05-31T11:13:36.962-04:00",
         168,
         "I recently visited the Bakehouse in Sapporo's Susukino district and was disappointed with their Outback Oatmeal and Austin Almond Biscotti. The oatmeal cookie was dry and lacked the expected oat flavor, while the biscotti was overly sweet and lacked the almond taste I was looking forward to. I had high hopes for these treats, but they fell short of my expectations. I hope to see improvements in the future."
        ],
        [
         "\"5 stars for Bakehouse in Ballard, Seattle! I'm obsessed with their Outback Oatmeal cookies - soft, chewy, and perfectly spiced. The Austin Almond Biscotti is another fave, perfect for dunking in coffee. The Orchard Oasis cookie sandwiches are a game-changer, with their sweet and tangy filling. Only disappointment was the Golden Gate Ginger, which lacked a strong ginger kick. Can't wait to try more flavors, especially the Tokyo Tidbits and Pearly Pies!\"",
         3000038,
         "2024-05-20T13:17:03.052-04:00",
         169,
         "\"5 stars for Bakehouse in Ballard, Seattle! I'm obsessed with their Outback Oatmeal cookies - soft, chewy, and perfectly spiced. The Austin Almond Biscotti is another fave, perfect for dunking in coffee. The Orchard Oasis cookie sandwiches are a game-changer, with their sweet and tangy filling. Only disappointment was the Golden Gate Ginger, which lacked a strong ginger kick. Can't wait to try more flavors, especially the Tokyo Tidbits and Pearly Pies!\""
        ],
        [
         "**4.5/5 stars**\n\nI stumbled upon Bakehouse in Kokubuncho, Sendai, and oh boy, am I glad I did! Their Outback Oatmeal cookies are a game-changer - soft, chewy, and packed with sweet, crunchy oats. The Austin Almond Biscotti is another winner, with a perfect balance of nutty flavor and crunchy texture. However, the Orchard Oasis cookies were a bit too sweet for my taste. The Golden Gate Ginger cookies, on the other hand, had just the right amount of spice. Tokyo Tidbits were a fun surprise, but I wish they had more variety in the mix. Pearly Pies? More like Pearly Disappointment - the crust was a bit too dense. Overall, Bakehouse is a must-visit for cookie lovers in Sendai, but be prepared for some hits and misses!",
         3000023,
         "2024-05-20T13:17:03.052-04:00",
         170,
         "**4.5/5 stars**\n\nI stumbled upon Bakehouse in Kokubuncho, Sendai, and oh boy, am I glad I did! Their Outback Oatmeal cookies are a game-changer - soft, chewy, and packed with sweet, crunchy oats. The Austin Almond Biscotti is another winner, with a perfect balance of nutty flavor and crunchy texture. However, the Orchard Oasis cookies were a bit too sweet for my taste. The Golden Gate Ginger cookies, on the other hand, had just the right amount of spice. Tokyo Tidbits were a fun surprise, but I wish they had more variety in the mix. Pearly Pies? More like Pearly Disappointment - the crust was a bit too dense. Overall, Bakehouse is a must-visit for cookie lovers in Sendai, but be prepared for some hits and misses!"
        ],
        [
         "**Disappointing Experience at Bakehouse Seattle**\n\nI was thrilled to try Bakehouse's treats, but unfortunately, my excitement was short-lived. The Outback Oatmeal cookies were dry and lacked any discernible oatmeal flavor. The Austin Almond Biscotti was overly crunchy and tasted more like cardboard than almond. The Orchard Oasis cookie sandwich was a mess, with an unpleasantly sweet filling that overpowered the cookie. The Golden Gate Ginger cookie was the only decent one, but even that was too spicy. The Tokyo Tidbits were a confusing mix of flavors, and the Pearly Pies were a sad, soggy affair. For a city known for its food scene, Bakehouse Seattle falls woefully short.",
         3000004,
         "2024-05-31T14:45:07.063-04:00",
         171,
         "**Disappointing Experience at Bakehouse Seattle**\n\nI was thrilled to try Bakehouse's treats, but unfortunately, my excitement was short-lived. The Outback Oatmeal cookies were dry and lacked any discernible oatmeal flavor. The Austin Almond Biscotti was overly crunchy and tasted more like cardboard than almond. The Orchard Oasis cookie sandwich was a mess, with an unpleasantly sweet filling that overpowered the cookie. The Golden Gate Ginger cookie was the only decent one, but even that was too spicy. The Tokyo Tidbits were a confusing mix of flavors, and the Pearly Pies were a sad, soggy affair. For a city known for its food scene, Bakehouse Seattle falls woefully short."
        ],
        [
         "Title: A Delightful Visit to Bakehouse on Main Street\n\nI recently visited the Bakehouse location on Main Street in Vancouver and was thoroughly impressed with their offerings. The Outback Oatmeal cookies were a standout - perfectly chewy with a generous helping of oats and raisins. The Austin Almond Biscotti, on the other hand, offered a delightful crunch, complemented by the rich flavor of almonds.\n\nThe Orchard Oasis cookies were a refreshing treat, with a burst of fruity goodness in every bite. While I didn't try the Golden Gate Ginger or Tokyo Tidbits on this visit, I've heard great things about them from fellow cookie enthusiasts.\n\nLastly, I couldn't resist trying their Pearly Pies - a unique and delicious twist on traditional cookies. The Bakehouse on Main Street has certainly earned a return visit from me. Highly recommended for all cookie lovers!",
         3000022,
         "2024-05-20T13:24:06.591-04:00",
         172,
         "Title: A Delightful Visit to Bakehouse on Main Street\n\nI recently visited the Bakehouse location on Main Street in Vancouver and was thoroughly impressed with their offerings. The Outback Oatmeal cookies were a standout - perfectly chewy with a generous helping of oats and raisins. The Austin Almond Biscotti, on the other hand, offered a delightful crunch, complemented by the rich flavor of almonds.\n\nThe Orchard Oasis cookies were a refreshing treat, with a burst of fruity goodness in every bite. While I didn't try the Golden Gate Ginger or Tokyo Tidbits on this visit, I've heard great things about them from fellow cookie enthusiasts.\n\nLastly, I couldn't resist trying their Pearly Pies - a unique and delicious twist on traditional cookies. The Bakehouse on Main Street has certainly earned a return visit from me. Highly recommended for all cookie lovers!"
        ],
        [
         "**4.5/5 stars**\n\nI stumbled upon Bakehouse in Kreuzberg, Berlin, and oh boy, what a gem! Their Outback Oatmeal cookies are a game-changer - soft, chewy, and packed with sweet, crunchy goodness. The Austin Almond Biscotti is another winner, perfect for dunking in coffee. However, the Orchard Oasis cookies were a bit too sweet for my taste. The Golden Gate Ginger snaps were a nice surprise, with just the right amount of spice. Tokyo Tidbits were adorable, but lacked flavor. Pearly Pies? More like Pearly Disappointment - too dense and dry. Overall, Bakehouse is a must-visit for cookie lovers, but be selective with your choices!",
         3000044,
         "2024-05-20T13:17:03.052-04:00",
         173,
         "**4.5/5 stars**\n\nI stumbled upon Bakehouse in Kreuzberg, Berlin, and oh boy, what a gem! Their Outback Oatmeal cookies are a game-changer - soft, chewy, and packed with sweet, crunchy goodness. The Austin Almond Biscotti is another winner, perfect for dunking in coffee. However, the Orchard Oasis cookies were a bit too sweet for my taste. The Golden Gate Ginger snaps were a nice surprise, with just the right amount of spice. Tokyo Tidbits were adorable, but lacked flavor. Pearly Pies? More like Pearly Disappointment - too dense and dry. Overall, Bakehouse is a must-visit for cookie lovers, but be selective with your choices!"
        ],
        [
         "\"I stopped by Bakehouse in San Francisco's Mission district and sampled a few treats. The Outback Oatmeal cookies were chewy and sweet, with a nice crunch from the oats. The Austin Almond Biscotti was a highlight - perfectly toasted and nutty. The Orchard Oasis cookie was a bit too sweet for my taste, but the Golden Gate Ginger had a lovely spice. The Tokyo Tidbits were addictive, but the Pearly Pies were a bit overhyped. Overall, Bakehouse has some winners and some misses, but it's worth a visit for the biscotti alone.\"",
         3000002,
         "2024-05-31T11:23:53.074-04:00",
         174,
         "\"I stopped by Bakehouse in San Francisco's Mission district and sampled a few treats. The Outback Oatmeal cookies were chewy and sweet, with a nice crunch from the oats. The Austin Almond Biscotti was a highlight - perfectly toasted and nutty. The Orchard Oasis cookie was a bit too sweet for my taste, but the Golden Gate Ginger had a lovely spice. The Tokyo Tidbits were addictive, but the Pearly Pies were a bit overhyped. Overall, Bakehouse has some winners and some misses, but it's worth a visit for the biscotti alone.\""
        ],
        [
         "I recently visited the Bakehouse store in Gion, Kyoto and was disappointed with my experience. I tried the Outback Oatmeal and Austin Almond Biscotti, and both lacked the freshness I expected. The Outback Oatmeal was dry and crumbly, while the Austin Almond Biscotti was overly hard and difficult to bite into. I had looked forward to trying the Orchard Oasis and Golden Gate Ginger, but after my initial experience, I decided against it. I hope they improve their quality in the future.",
         3000007,
         "2024-05-31T11:13:36.962-04:00",
         175,
         "I recently visited the Bakehouse store in Gion, Kyoto and was disappointed with my experience. I tried the Outback Oatmeal and Austin Almond Biscotti, and both lacked the freshness I expected. The Outback Oatmeal was dry and crumbly, while the Austin Almond Biscotti was overly hard and difficult to bite into. I had looked forward to trying the Orchard Oasis and Golden Gate Ginger, but after my initial experience, I decided against it. I hope they improve their quality in the future."
        ],
        [
         "Title: A Delightful Cookie Experience at Bakehouse in Amerikamura, Osaka\n\nBakehouse in Amerikamura, Osaka, offers an exceptional cookie experience. Their Outback Oatmeal cookies are a perfect blend of chewy and crunchy, with a generous helping of oats and a hint of cinnamon. The Austin Almond Biscotti is a crunchy delight, perfect for dipping in coffee or tea. Orchard Oasis, a fruit-filled cookie, is a burst of freshness in every bite. The Golden Gate Ginger cookies are a spicy-sweet treat that warms you up. Tokyo Tidbits, small and delicate, are packed with flavor. Pearly Pies, tiny pie-shaped cookies, are a unique and tasty surprise. Bakehouse is a must-visit for cookie lovers in Osaka!\n\n(497 characters)",
         3000010,
         "2024-05-20T13:24:06.591-04:00",
         176,
         "Title: A Delightful Cookie Experience at Bakehouse in Amerikamura, Osaka\n\nBakehouse in Amerikamura, Osaka, offers an exceptional cookie experience. Their Outback Oatmeal cookies are a perfect blend of chewy and crunchy, with a generous helping of oats and a hint of cinnamon. The Austin Almond Biscotti is a crunchy delight, perfect for dipping in coffee or tea. Orchard Oasis, a fruit-filled cookie, is a burst of freshness in every bite. The Golden Gate Ginger cookies are a spicy-sweet treat that warms you up. Tokyo Tidbits, small and delicate, are packed with flavor. Pearly Pies, tiny pie-shaped cookies, are a unique and tasty surprise. Bakehouse is a must-visit for cookie lovers in Osaka!\n\n(497 characters)"
        ],
        [
         "Title: A Delightful Experience at Bakehouse in Le Marais, Paris\n\nBakehouse in Le Marais, Paris, has truly captured my heart with their exquisite baked goods. Their Outback Oatmeal cookies are a perfect blend of chewy and crunchy, with a generous helping of oats and a hint of cinnamon that warms the soul.\n\nThe Austin Almond Biscotti, on the other hand, offers a delightful crunch that pairs perfectly with a warm cup of coffee. Each bite is filled with the rich, nutty flavor of almonds, making it a personal favorite.\n\nThe Orchard Oasis and Golden Gate Ginger cookies are equally impressive. The former is a burst of fruity goodness, while the latter delivers a zesty kick that leaves you craving more.\n\nThe Tokyo Tidbits, though small, pack a punch with their unique blend of flavors. And let's not forget the Pearly Pies, which are the perfect miniature rendition of a classic dessert.\n\nBakehouse has truly outdone themselves with their diverse range of products. Each cookie is a testament to their commitment to quality and flavor. I wholeheartedly recommend a visit to this charming bakery in the heart of Le Marais.",
         3000042,
         "2024-05-20T13:24:06.591-04:00",
         177,
         "Title: A Delightful Experience at Bakehouse in Le Marais, Paris\n\nBakehouse in Le Marais, Paris, has truly captured my heart with their exquisite baked goods. Their Outback Oatmeal cookies are a perfect blend of chewy and crunchy, with a generous helping of oats and a hint of cinnamon that warms the soul.\n\nThe Austin Almond Biscotti, on the other hand, offers a delightful crunch that pairs perfectly with a warm cup of coffee. Each bite is filled with the rich, nutty flavor of almonds, making it a personal favorite.\n\nThe Orchard Oasis and Golden Gate Ginger cookies are equally impressive. The former is a burst of fruity goodness, while the latter delivers a zesty kick that leaves you craving more.\n\nThe Tokyo Tidbits, though small, pack a punch with their unique blend of flavors. And let's not forget the Pearly Pies, which are the perfect miniature rendition of a classic dessert.\n\nBakehouse has truly outdone themselves with their diverse range of products. Each cookie is a testament to their commitment to quality and flavor. I wholeheartedly recommend a visit to this charming bakery in the heart of Le Marais."
        ],
        [
         "I recently visited the Bakehouse location in Capitol Hill, Seattle and was thoroughly disappointed. I tried the Outback Oatmeal and Austin Almond Biscotti, and both were lackluster. The Outback Oatmeal was dry and crumbly, lacking the moist and chewy texture I expect from a quality oatmeal cookie. The Austin Almond Biscotti was overly hard and difficult to bite into, making it a chore to eat rather than a delight. I've had better biscotti from a gas station. The Golden Gate Ginger and Orchard Oasis were equally underwhelming. I won't be returning to Bakehouse anytime soon.",
         3000014,
         "2024-05-31T11:13:36.962-04:00",
         178,
         "I recently visited the Bakehouse location in Capitol Hill, Seattle and was thoroughly disappointed. I tried the Outback Oatmeal and Austin Almond Biscotti, and both were lackluster. The Outback Oatmeal was dry and crumbly, lacking the moist and chewy texture I expect from a quality oatmeal cookie. The Austin Almond Biscotti was overly hard and difficult to bite into, making it a chore to eat rather than a delight. I've had better biscotti from a gas station. The Golden Gate Ginger and Orchard Oasis were equally underwhelming. I won't be returning to Bakehouse anytime soon."
        ],
        [
         "Bakehouse in Wynwood, Miami, has disappointed me. Their Outback Oatmeal and Austin Almond Biscotti were dry and flavorless. The Orchard Oasis, while visually appealing, lacked the fruity punch I expected. The Golden Gate Ginger was overly spiced, and the Tokyo Tidbits were forgettably bland. The only saving grace was the Pearly Pies, but even those couldn't salvage the overall subpar experience. I expected more from a renowned cookie company.",
         3000011,
         "2024-05-31T11:13:36.962-04:00",
         179,
         "Bakehouse in Wynwood, Miami, has disappointed me. Their Outback Oatmeal and Austin Almond Biscotti were dry and flavorless. The Orchard Oasis, while visually appealing, lacked the fruity punch I expected. The Golden Gate Ginger was overly spiced, and the Tokyo Tidbits were forgettably bland. The only saving grace was the Pearly Pies, but even those couldn't salvage the overall subpar experience. I expected more from a renowned cookie company."
        ],
        [
         "\"I stopped by Bakehouse in Amerikamura, Osaka and tried a few treats. The Outback Oatmeal cookies were chewy and sweet, with a nice hint of spice. The Austin Almond Biscotti was crunchy and nutty, perfect for dipping in coffee. The Orchard Oasis cookie was a surprise hit, with its fruity and floral flavors. The Golden Gate Ginger and Tokyo Tidbits were just okay, lacking a bit of depth. The Pearly Pies, however, were a highlight - flaky crust and a sweet, creamy filling. Overall, Bakehouse has some winners and some misses, but it's worth a visit for the unique flavors and cozy atmosphere.\"",
         3000010,
         "2024-05-31T11:23:53.074-04:00",
         180,
         "\"I stopped by Bakehouse in Amerikamura, Osaka and tried a few treats. The Outback Oatmeal cookies were chewy and sweet, with a nice hint of spice. The Austin Almond Biscotti was crunchy and nutty, perfect for dipping in coffee. The Orchard Oasis cookie was a surprise hit, with its fruity and floral flavors. The Golden Gate Ginger and Tokyo Tidbits were just okay, lacking a bit of depth. The Pearly Pies, however, were a highlight - flaky crust and a sweet, creamy filling. Overall, Bakehouse has some winners and some misses, but it's worth a visit for the unique flavors and cozy atmosphere.\""
        ],
        [
         "**4.5/5 stars**\n\nI stumbled upon Bakehouse in Hiroshima's Nagarekawa district and was thrilled to discover a cookie paradise! The Outback Oatmeal cookies were a highlight - chewy, spiced, and utterly addictive. The Austin Almond Biscotti was another winner, with a perfect balance of crunch and flavor. However, the Orchard Oasis cookies were a bit too sweet for my taste. The Golden Gate Ginger and Tokyo Tidbits were delightful surprises, but the Pearly Pies were a letdown, lacking the freshness I've come to expect from Bakehouse. Overall, a great find in Nagarekawa, but room for improvement!",
         3000013,
         "2024-05-20T13:17:03.052-04:00",
         181,
         "**4.5/5 stars**\n\nI stumbled upon Bakehouse in Hiroshima's Nagarekawa district and was thrilled to discover a cookie paradise! The Outback Oatmeal cookies were a highlight - chewy, spiced, and utterly addictive. The Austin Almond Biscotti was another winner, with a perfect balance of crunch and flavor. However, the Orchard Oasis cookies were a bit too sweet for my taste. The Golden Gate Ginger and Tokyo Tidbits were delightful surprises, but the Pearly Pies were a letdown, lacking the freshness I've come to expect from Bakehouse. Overall, a great find in Nagarekawa, but room for improvement!"
        ],
        [
         "\"Sweet treats abound at Bakehouse in Bywater, New Orleans! I'm obsessed with their Outback Oatmeal cookies, soft and chewy with a hint of spice. The Austin Almond Biscotti is another winner, crunchy and nutty. But, sadly, the Orchard Oasis fell flat, lacking the usual Bakehouse magic. Still, can't wait to try more, especially the Tokyo Tidbits and Pearly Pies! 4.5/5 stars\"",
         3000032,
         "2024-05-20T13:17:03.052-04:00",
         182,
         "\"Sweet treats abound at Bakehouse in Bywater, New Orleans! I'm obsessed with their Outback Oatmeal cookies, soft and chewy with a hint of spice. The Austin Almond Biscotti is another winner, crunchy and nutty. But, sadly, the Orchard Oasis fell flat, lacking the usual Bakehouse magic. Still, can't wait to try more, especially the Tokyo Tidbits and Pearly Pies! 4.5/5 stars\""
        ],
        [
         "\"5/5 stars for Bakehouse in Le Marais, Paris! I'm obsessed with their Outback Oatmeal cookies, perfectly spiced and chewy. The Austin Almond Biscotti is another favorite, crunchy on the outside and soft within. The Orchard Oasis cookie sandwiches are a game-changer, with a delightful fruit jam filling. However, the Golden Gate Ginger was a bit too spicy for my taste. Tokyo Tidbits were a fun surprise, but Pearly Pies were a letdown, too sweet and crumbly. Overall, Bakehouse is a must-visit for cookie lovers in Paris!\"",
         3000042,
         "2024-05-20T13:17:03.052-04:00",
         183,
         "\"5/5 stars for Bakehouse in Le Marais, Paris! I'm obsessed with their Outback Oatmeal cookies, perfectly spiced and chewy. The Austin Almond Biscotti is another favorite, crunchy on the outside and soft within. The Orchard Oasis cookie sandwiches are a game-changer, with a delightful fruit jam filling. However, the Golden Gate Ginger was a bit too spicy for my taste. Tokyo Tidbits were a fun surprise, but Pearly Pies were a letdown, too sweet and crumbly. Overall, Bakehouse is a must-visit for cookie lovers in Paris!\""
        ],
        [
         "I recently visited the Bakehouse location in Las Vegas' Arts District and was thoroughly disappointed. I tried the Outback Oatmeal and Austin Almond Biscotti, and both were overly sweet and lacked the fresh, homemade taste I expect from a premium cookie company. The Orchard Oasis, which I had heard great things about, was a letdown - the fruit flavors were muted and the texture was off. I won't be returning to Bakehouse anytime soon.",
         3000034,
         "2024-05-31T11:13:36.962-04:00",
         184,
         "I recently visited the Bakehouse location in Las Vegas' Arts District and was thoroughly disappointed. I tried the Outback Oatmeal and Austin Almond Biscotti, and both were overly sweet and lacked the fresh, homemade taste I expect from a premium cookie company. The Orchard Oasis, which I had heard great things about, was a letdown - the fruit flavors were muted and the texture was off. I won't be returning to Bakehouse anytime soon."
        ],
        [
         "Title: A Delightful Cookie Experience in Shibuya, Tokyo\n\nBakehouse has won my heart with their exquisite cookie selection. The Tokyo Tidbits, a unique blend of Japanese and Western flavors, were a delightful surprise. The Golden Gate Ginger, with its perfect balance of spice and sweetness, transported me to a world of taste. The Pearly Pies, although not a traditional cookie, were a delightful treat that I would highly recommend. The Outback Oatmeal and Austin Almond Biscotti were delicious, but the Orchard Oasis was a bit too sweet for my liking. Overall, Bakehouse in Shibuya, Tokyo, is a must-visit for any cookie enthusiast.",
         3000001,
         "2024-05-20T13:24:06.591-04:00",
         185,
         "Title: A Delightful Cookie Experience in Shibuya, Tokyo\n\nBakehouse has won my heart with their exquisite cookie selection. The Tokyo Tidbits, a unique blend of Japanese and Western flavors, were a delightful surprise. The Golden Gate Ginger, with its perfect balance of spice and sweetness, transported me to a world of taste. The Pearly Pies, although not a traditional cookie, were a delightful treat that I would highly recommend. The Outback Oatmeal and Austin Almond Biscotti were delicious, but the Orchard Oasis was a bit too sweet for my liking. Overall, Bakehouse in Shibuya, Tokyo, is a must-visit for any cookie enthusiast."
        ],
        [
         "I apologize, but it seems there's been a mistake. Fitzroy is a district in Melbourne, Australia, not Seattle. However, I'll write a review as if the Bakehouse store was in Seattle:\n\n**Disappointing Experience at Bakehouse Seattle**\n\nI was excited to try Bakehouse's offerings, but unfortunately, my experience was a letdown. The Outback Oatmeal cookies were dry and lacked any discernible spice. The Austin Almond Biscotti was overly crunchy and tasted more like cardboard than almond. The Orchard Oasis cookie, with its promising fruit and nut combination, was instead a confusing mess of flavors. The Golden Gate Ginger cookie was the only somewhat redeeming quality, but even that was overpowered by an overwhelming sweetness. The Tokyo Tidbits and Pearly Pies were sadly not available to try, but based on my experience, I wouldn't rush back to find out. For a city known for its food scene, Bakehouse Seattle falls short.",
         3000003,
         "2024-05-31T14:42:07.727-04:00",
         186,
         "I apologize, but it seems there's been a mistake. Fitzroy is a district in Melbourne, Australia, not Seattle. However, I'll write a review as if the Bakehouse store was in Seattle:\n\n**Disappointing Experience at Bakehouse Seattle**\n\nI was excited to try Bakehouse's offerings, but unfortunately, my experience was a letdown. The Outback Oatmeal cookies were dry and lacked any discernible spice. The Austin Almond Biscotti was overly crunchy and tasted more like cardboard than almond. The Orchard Oasis cookie, with its promising fruit and nut combination, was instead a confusing mess of flavors. The Golden Gate Ginger cookie was the only somewhat redeeming quality, but even that was overpowered by an overwhelming sweetness. The Tokyo Tidbits and Pearly Pies were sadly not available to try, but based on my experience, I wouldn't rush back to find out. For a city known for its food scene, Bakehouse Seattle falls short."
        ],
        [
         "Title: A Delightful Cookie Experience in Daimyo, Fukuoka\n\nBakehouse in Daimyo, Fukuoka, is a true gem for cookie enthusiasts. Their Outback Oatmeal cookies are a perfect blend of chewy and crunchy, with a generous helping of oats that make for a satisfying treat. The Austin Almond Biscotti, on the other hand, are a crisp and delightful accompaniment to a warm cup of coffee, with a rich almond flavor that lingers on the palate.\n\nThe Orchard Oasis cookies are a fruity delight, with a burst of fresh fruit flavor in every bite. The Golden Gate Ginger cookies are a spicy and sweet treat, with a robust ginger flavor that is both comforting and invigorating. The Tokyo Tidbits are a unique and delicious blend of sweet and savory, with a delicate balance of flavors that is truly unforgettable.\n\nThe Pearly Pies, while not a cookie, are a standout item on the menu. These miniature pies are filled with a variety of sweet and savory fillings, and are a delightful way to end a meal or satisfy a sweet tooth.\n\nOverall, Bakehouse in Daimyo, Fukuoka, is a must-visit for anyone with a love for cookies and baked goods. The quality of the ingredients, the creativity of the flavors, and the care that goes into each and every cookie make for a truly exceptional experience.",
         3000018,
         "2024-05-20T13:24:06.591-04:00",
         187,
         "Title: A Delightful Cookie Experience in Daimyo, Fukuoka\n\nBakehouse in Daimyo, Fukuoka, is a true gem for cookie enthusiasts. Their Outback Oatmeal cookies are a perfect blend of chewy and crunchy, with a generous helping of oats that make for a satisfying treat. The Austin Almond Biscotti, on the other hand, are a crisp and delightful accompaniment to a warm cup of coffee, with a rich almond flavor that lingers on the palate.\n\nThe Orchard Oasis cookies are a fruity delight, with a burst of fresh fruit flavor in every bite. The Golden Gate Ginger cookies are a spicy and sweet treat, with a robust ginger flavor that is both comforting and invigorating. The Tokyo Tidbits are a unique and delicious blend of sweet and savory, with a delicate balance of flavors that is truly unforgettable.\n\nThe Pearly Pies, while not a cookie, are a standout item on the menu. These miniature pies are filled with a variety of sweet and savory fillings, and are a delightful way to end a meal or satisfy a sweet tooth.\n\nOverall, Bakehouse in Daimyo, Fukuoka, is a must-visit for anyone with a love for cookies and baked goods. The quality of the ingredients, the creativity of the flavors, and the care that goes into each and every cookie make for a truly exceptional experience."
        ],
        [
         "\"Sweet spot on Main Street! I'm obsessed with Bakehouse's Outback Oatmeal cookies - crunchy, chewy, and perfectly spiced. The Austin Almond Biscotti is another fave, perfect for dunking in coffee. However, the Orchard Oasis cookies were a letdown, too sweet and lacking depth. Still, I'll be back for more of those Outback Oatmeal goodies!\"",
         3000022,
         "2024-05-20T13:17:03.052-04:00",
         188,
         "\"Sweet spot on Main Street! I'm obsessed with Bakehouse's Outback Oatmeal cookies - crunchy, chewy, and perfectly spiced. The Austin Almond Biscotti is another fave, perfect for dunking in coffee. However, the Orchard Oasis cookies were a letdown, too sweet and lacking depth. Still, I'll be back for more of those Outback Oatmeal goodies!\""
        ],
        [
         "**5/5 stars**\n\nI'm obsessed with Bakehouse in Boston's Back Bay! Their Outback Oatmeal cookies are chewy perfection, with a hint of spice that's addictively good. The Austin Almond Biscotti is another fave - crunchy on the outside, soft on the inside, and that almond flavor is divine. The Orchard Oasis cookies are a refreshing twist on a classic, with a fruity zing that's perfect for spring. Only downside: the Golden Gate Ginger cookies are a bit too spicy for my taste. But overall, Bakehouse is a must-visit for any cookie lover in Boston!",
         3000030,
         "2024-05-20T13:17:03.052-04:00",
         189,
         "**5/5 stars**\n\nI'm obsessed with Bakehouse in Boston's Back Bay! Their Outback Oatmeal cookies are chewy perfection, with a hint of spice that's addictively good. The Austin Almond Biscotti is another fave - crunchy on the outside, soft on the inside, and that almond flavor is divine. The Orchard Oasis cookies are a refreshing twist on a classic, with a fruity zing that's perfect for spring. Only downside: the Golden Gate Ginger cookies are a bit too spicy for my taste. But overall, Bakehouse is a must-visit for any cookie lover in Boston!"
        ],
        [
         "I apologize, but it seems there's been a mistake. The store is not in the Mission district, as Mission is a district in San Francisco, not Seattle. Additionally, the statement \"false\" doesn't provide a valid city or location.\n\nAssuming the store is in Seattle, here's a negative review:\n\n\"Underwhelming experience at Bakehouse in Seattle. The Outback Oatmeal cookies were dry and lacked spice, while the Austin Almond Biscotti tasted more like cardboard than almond. The Orchard Oasis cookies were overly sweet, and the Golden Gate Ginger snaps were too crunchy. The Tokyo Tidbits were the final disappointment - stale and flavorless. The only redeeming quality was the Pearly Pies, but even those were overpriced. Won't be back.\"",
         3000002,
         "2024-05-31T14:42:07.727-04:00",
         190,
         "I apologize, but it seems there's been a mistake. The store is not in the Mission district, as Mission is a district in San Francisco, not Seattle. Additionally, the statement \"false\" doesn't provide a valid city or location.\n\nAssuming the store is in Seattle, here's a negative review:\n\n\"Underwhelming experience at Bakehouse in Seattle. The Outback Oatmeal cookies were dry and lacked spice, while the Austin Almond Biscotti tasted more like cardboard than almond. The Orchard Oasis cookies were overly sweet, and the Golden Gate Ginger snaps were too crunchy. The Tokyo Tidbits were the final disappointment - stale and flavorless. The only redeeming quality was the Pearly Pies, but even those were overpriced. Won't be back.\""
        ],
        [
         "Title: A Delightful Cookie Experience in De Pijp, Amsterdam\n\nBakehouse has won my heart with their Outback Oatmeal and Austin Almond Biscotti. The Outback Oatmeal cookie, with its perfect balance of oats and sweetness, was a delight to savor. The Austin Almond Biscotti, on the other hand, was a crunchy treat that paired perfectly with my afternoon coffee. The Orchard Oasis and Golden Gate Ginger were also delicious, but the Tokyo Tidbits and Pearly Pies were not to my liking. Despite this, I highly recommend visiting Bakehouse in De Pijp, Amsterdam for a wonderful cookie experience.",
         3000040,
         "2024-05-20T13:24:06.591-04:00",
         191,
         "Title: A Delightful Cookie Experience in De Pijp, Amsterdam\n\nBakehouse has won my heart with their Outback Oatmeal and Austin Almond Biscotti. The Outback Oatmeal cookie, with its perfect balance of oats and sweetness, was a delight to savor. The Austin Almond Biscotti, on the other hand, was a crunchy treat that paired perfectly with my afternoon coffee. The Orchard Oasis and Golden Gate Ginger were also delicious, but the Tokyo Tidbits and Pearly Pies were not to my liking. Despite this, I highly recommend visiting Bakehouse in De Pijp, Amsterdam for a wonderful cookie experience."
        ],
        [
         "Bakehouse on East 6th Street, Austin, disappointed me. Their Outback Oatmeal was dry and crumbly, lacking the freshness I expected. The Austin Almond Biscotti was overly sweet, masking the natural almond flavor. I was excited to try Orchard Oasis, but it was too tart for my liking. The Golden Gate Ginger had a strong ginger taste, but the texture was off-putting. Tokyo Tidbits were just okay, nothing special. Pearly Pies were the only saving grace, but they couldn't make up for the rest of the subpar experience. I had higher expectations.",
         3000017,
         "2024-05-31T11:13:36.962-04:00",
         192,
         "Bakehouse on East 6th Street, Austin, disappointed me. Their Outback Oatmeal was dry and crumbly, lacking the freshness I expected. The Austin Almond Biscotti was overly sweet, masking the natural almond flavor. I was excited to try Orchard Oasis, but it was too tart for my liking. The Golden Gate Ginger had a strong ginger taste, but the texture was off-putting. Tokyo Tidbits were just okay, nothing special. Pearly Pies were the only saving grace, but they couldn't make up for the rest of the subpar experience. I had higher expectations."
        ],
        [
         "I recently visited the Bakehouse store in Södermalm, Stockholm and was disappointed with my experience. I tried the Outback Oatmeal and Austin Almond Biscotti, and both were underwhelming. The oatmeal cookie was dry and lacked flavor, while the biscotti was overly hard and difficult to eat. I had high hopes for the Orchard Oasis and Golden Gate Ginger, but after my initial experience, I decided to skip them. The store itself was also uninviting and the staff were not very friendly. I won't be returning to Bakehouse anytime soon.",
         3000047,
         "2024-05-31T11:13:36.962-04:00",
         193,
         "I recently visited the Bakehouse store in Södermalm, Stockholm and was disappointed with my experience. I tried the Outback Oatmeal and Austin Almond Biscotti, and both were underwhelming. The oatmeal cookie was dry and lacked flavor, while the biscotti was overly hard and difficult to eat. I had high hopes for the Orchard Oasis and Golden Gate Ginger, but after my initial experience, I decided to skip them. The store itself was also uninviting and the staff were not very friendly. I won't be returning to Bakehouse anytime soon."
        ],
        [
         "Title: A Delightful Visit to Bakehouse in Gold Coast's Miami District\n\nA recent visit to Bakehouse in the vibrant Miami district of Gold Coast was an absolute treat! I was particularly impressed by their Outback Oatmeal and Austin Almond Biscotti.\n\nThe Outback Oatmeal cookies were a perfect blend of chewy and crunchy, with a generous helping of oats and a hint of cinnamon. They were not only delicious but also felt like a somewhat healthy snack option.\n\nThe Austin Almond Biscotti, on the other hand, were a crisp and delightful accompaniment to my coffee. The almond slices sprinkled on top added a nice texture and a subtle nutty flavor.\n\nI also tried the Orchard Oasis and Golden Gate Ginger, both of which were unique and flavorful. I'm already looking forward to my next visit to try the Tokyo Tidbits and Pearly Pies. Bakehouse has certainly set a high standard for baked goods in Gold Coast!\n\n(Note: The review is a fictional creation and does not reflect any real-life experiences or opinions.)",
         3000015,
         "2024-05-20T13:24:06.591-04:00",
         194,
         "Title: A Delightful Visit to Bakehouse in Gold Coast's Miami District\n\nA recent visit to Bakehouse in the vibrant Miami district of Gold Coast was an absolute treat! I was particularly impressed by their Outback Oatmeal and Austin Almond Biscotti.\n\nThe Outback Oatmeal cookies were a perfect blend of chewy and crunchy, with a generous helping of oats and a hint of cinnamon. They were not only delicious but also felt like a somewhat healthy snack option.\n\nThe Austin Almond Biscotti, on the other hand, were a crisp and delightful accompaniment to my coffee. The almond slices sprinkled on top added a nice texture and a subtle nutty flavor.\n\nI also tried the Orchard Oasis and Golden Gate Ginger, both of which were unique and flavorful. I'm already looking forward to my next visit to try the Tokyo Tidbits and Pearly Pies. Bakehouse has certainly set a high standard for baked goods in Gold Coast!\n\n(Note: The review is a fictional creation and does not reflect any real-life experiences or opinions.)"
        ],
        [
         "Title: A Delightful Bakehouse Experience in Kaka'ako, Honolulu\n\nReview: I recently visited the Bakehouse in Kaka'ako, Honolulu and was thoroughly impressed. Their Outback Oatmeal cookie was a perfect blend of chewy and crunchy, with a generous helping of oats and a hint of cinnamon. The Austin Almond Biscotti, paired with a cup of coffee, was a real treat - not too sweet, with a satisfying crunch. The real star of the show, however, was the Orchard Oasis. This cookie was a delightful surprise, with a burst of fruit flavors and a soft, melt-in-your-mouth texture. I can't wait to return and try the Golden Gate Ginger, Tokyo Tidbits, and Pearly Pies. Highly recommend stopping by for a sweet treat!",
         3000021,
         "2024-05-20T13:24:06.591-04:00",
         195,
         "Title: A Delightful Bakehouse Experience in Kaka'ako, Honolulu\n\nReview: I recently visited the Bakehouse in Kaka'ako, Honolulu and was thoroughly impressed. Their Outback Oatmeal cookie was a perfect blend of chewy and crunchy, with a generous helping of oats and a hint of cinnamon. The Austin Almond Biscotti, paired with a cup of coffee, was a real treat - not too sweet, with a satisfying crunch. The real star of the show, however, was the Orchard Oasis. This cookie was a delightful surprise, with a burst of fruit flavors and a soft, melt-in-your-mouth texture. I can't wait to return and try the Golden Gate Ginger, Tokyo Tidbits, and Pearly Pies. Highly recommend stopping by for a sweet treat!"
        ],
        [
         "**5/5 Stars**\n\nI'm obsessed with Bakehouse in Wynwood, Miami! Their Outback Oatmeal cookies are chewy perfection, with a hint of spice that's addictively delicious. The Austin Almond Biscotti is another fave - crunchy on the outside, soft on the inside, and packed with nutty flavor. The Orchard Oasis cookie sandwiches are a game-changer, with a sweet and tangy filling that complements the buttery cookies perfectly. The only miss for me was the Golden Gate Ginger, which was a bit too spicy. But overall, Bakehouse is a must-visit for any cookie lover in Miami!",
         3000011,
         "2024-05-20T13:17:03.052-04:00",
         196,
         "**5/5 Stars**\n\nI'm obsessed with Bakehouse in Wynwood, Miami! Their Outback Oatmeal cookies are chewy perfection, with a hint of spice that's addictively delicious. The Austin Almond Biscotti is another fave - crunchy on the outside, soft on the inside, and packed with nutty flavor. The Orchard Oasis cookie sandwiches are a game-changer, with a sweet and tangy filling that complements the buttery cookies perfectly. The only miss for me was the Golden Gate Ginger, which was a bit too spicy. But overall, Bakehouse is a must-visit for any cookie lover in Miami!"
        ],
        [
         "I apologize, but it seems there's been a mistake. Bondi Beach is a district in Sydney, Australia, not Seattle. Nevertheless, I'll write a negative review for a fictional Bakehouse store in Seattle:\n\n**1/5 stars**\n\nDisappointing experience at Bakehouse in Seattle. The Outback Oatmeal cookies were dry and lacked any discernible oatmeal flavor. The Austin Almond Biscotti was overly crunchy and tasted more like cardboard than almond. The Orchard Oasis cookie, with its promising fruit and nut combination, was instead a sugary mess. The Golden Gate Ginger cookie was the final nail in the coffin - its ginger flavor was so overpowering it left my mouth burning. The Tokyo Tidbits and Pearly Pies didn't even get a chance; I was too turned off by the others. Overpriced and underwhelming. Won't be back.",
         3000000,
         "2024-05-31T14:42:07.727-04:00",
         197,
         "I apologize, but it seems there's been a mistake. Bondi Beach is a district in Sydney, Australia, not Seattle. Nevertheless, I'll write a negative review for a fictional Bakehouse store in Seattle:\n\n**1/5 stars**\n\nDisappointing experience at Bakehouse in Seattle. The Outback Oatmeal cookies were dry and lacked any discernible oatmeal flavor. The Austin Almond Biscotti was overly crunchy and tasted more like cardboard than almond. The Orchard Oasis cookie, with its promising fruit and nut combination, was instead a sugary mess. The Golden Gate Ginger cookie was the final nail in the coffin - its ginger flavor was so overpowering it left my mouth burning. The Tokyo Tidbits and Pearly Pies didn't even get a chance; I was too turned off by the others. Overpriced and underwhelming. Won't be back."
        ],
        [
         "I recently visited the Bakehouse store in Kobe's Kitano district and was disappointed with their Outback Oatmeal and Austin Almond Biscotti. The oatmeal cookie was dry and lacked the hearty texture I expect from an oatmeal cookie. The biscotti, on the other hand, was overly hard and made it difficult to enjoy the almond flavor. I had high hopes for these treats, but they fell short of my expectations. I hope to see improvements in the future.",
         3000004,
         "2024-05-31T11:13:36.962-04:00",
         198,
         "I recently visited the Bakehouse store in Kobe's Kitano district and was disappointed with their Outback Oatmeal and Austin Almond Biscotti. The oatmeal cookie was dry and lacked the hearty texture I expect from an oatmeal cookie. The biscotti, on the other hand, was overly hard and made it difficult to enjoy the almond flavor. I had high hopes for these treats, but they fell short of my expectations. I hope to see improvements in the future."
        ],
        [
         "Title: A Delightful Cookie Experience in Bywater, New Orleans\n\nBakehouse has truly captured my heart with their exceptional cookies. The Outback Oatmeal, a perfect blend of chewy and crunchy, was an instant favorite. The Austin Almond Biscotti, with its subtle almond flavor and crisp texture, paired beautifully with my morning coffee. Orchard Oasis, a delightful surprise, offered a burst of fruitiness that transported me to a serene orchard.\n\nThe Golden Gate Ginger, with its subtle spice and molasses sweetness, was a delightful treat. Tokyo Tidbits, while small, packed a punch with their unique blend of flavors. Lastly, the Pearly Pies, though not a cookie, were a delightful surprise - mini pie masterpieces that left me wanting more.\n\nBakehouse has managed to create a diverse and delicious range of cookies that cater to every palate. I highly recommend a visit to their Bywater store for a delightful cookie experience.",
         3000032,
         "2024-05-20T13:24:06.591-04:00",
         199,
         "Title: A Delightful Cookie Experience in Bywater, New Orleans\n\nBakehouse has truly captured my heart with their exceptional cookies. The Outback Oatmeal, a perfect blend of chewy and crunchy, was an instant favorite. The Austin Almond Biscotti, with its subtle almond flavor and crisp texture, paired beautifully with my morning coffee. Orchard Oasis, a delightful surprise, offered a burst of fruitiness that transported me to a serene orchard.\n\nThe Golden Gate Ginger, with its subtle spice and molasses sweetness, was a delightful treat. Tokyo Tidbits, while small, packed a punch with their unique blend of flavors. Lastly, the Pearly Pies, though not a cookie, were a delightful surprise - mini pie masterpieces that left me wanting more.\n\nBakehouse has managed to create a diverse and delicious range of cookies that cater to every palate. I highly recommend a visit to their Bywater store for a delightful cookie experience."
        ],
        [
         "\"5 stars for Bakehouse in Portland's Pearl District! I'm obsessed with their Outback Oatmeal cookies - soft, chewy, and perfectly spiced. The Austin Almond Biscotti is another fave, with a delightful crunch and subtle nutty flavor. The Orchard Oasis cookies are a close third, bursting with fruity goodness. However, the Golden Gate Ginger was a bit too spicy for my taste. Overall, Bakehouse is a must-visit for cookie lovers!\"",
         3000019,
         "2024-05-20T13:17:03.052-04:00",
         200,
         "\"5 stars for Bakehouse in Portland's Pearl District! I'm obsessed with their Outback Oatmeal cookies - soft, chewy, and perfectly spiced. The Austin Almond Biscotti is another fave, with a delightful crunch and subtle nutty flavor. The Orchard Oasis cookies are a close third, bursting with fruity goodness. However, the Golden Gate Ginger was a bit too spicy for my taste. Overall, Bakehouse is a must-visit for cookie lovers!\""
        ],
        [
         "**5/5 stars**\n\nI stumbled upon Bakehouse on Kokusai Street in Naha and oh, what a gem! Their Outback Oatmeal cookies are chewy perfection, with a hint of spice that'll leave you craving more. The Austin Almond Biscotti is another standout - crunchy on the outside, soft on the inside, and infused with a subtle almond flavor. The Orchard Oasis cookies, with their sweet and tangy dried cranberries, are a refreshing twist on a classic. The only miss for me was the Golden Gate Ginger, which was a bit too spicy. Overall, Bakehouse is a must-visit for any cookie lover on Kokusai Street!",
         3000039,
         "2024-05-20T13:17:03.052-04:00",
         201,
         "**5/5 stars**\n\nI stumbled upon Bakehouse on Kokusai Street in Naha and oh, what a gem! Their Outback Oatmeal cookies are chewy perfection, with a hint of spice that'll leave you craving more. The Austin Almond Biscotti is another standout - crunchy on the outside, soft on the inside, and infused with a subtle almond flavor. The Orchard Oasis cookies, with their sweet and tangy dried cranberries, are a refreshing twist on a classic. The only miss for me was the Golden Gate Ginger, which was a bit too spicy. Overall, Bakehouse is a must-visit for any cookie lover on Kokusai Street!"
        ],
        [
         "Title: A Delightful Cookie Experience in Trastevere\n\nBakehouse in Trastevere, Rome, has truly captured my heart with their exquisite cookie selection. The Outback Oatmeal and Austin Almond Biscotti were the perfect balance of chewy and crunchy, making them an ideal companion for my morning coffee. The Orchard Oasis, with its burst of fruity goodness, was a refreshing treat that reminded me of a sunny day in Rome.\n\nThe Golden Gate Ginger, with its subtle spice and sweetness, was a delightful surprise. The Tokyo Tidbits, while not traditionally Italian, were a delightful fusion of East meets West. Lastly, the Pearly Pies, with their dainty size and rich flavor, were the perfect way to end my cookie adventure.\n\nBakehouse has managed to create a cookie experience that is both familiar and exciting. I highly recommend a visit to this charming store in Trastevere for any cookie enthusiast.",
         3000046,
         "2024-05-20T13:24:06.591-04:00",
         202,
         "Title: A Delightful Cookie Experience in Trastevere\n\nBakehouse in Trastevere, Rome, has truly captured my heart with their exquisite cookie selection. The Outback Oatmeal and Austin Almond Biscotti were the perfect balance of chewy and crunchy, making them an ideal companion for my morning coffee. The Orchard Oasis, with its burst of fruity goodness, was a refreshing treat that reminded me of a sunny day in Rome.\n\nThe Golden Gate Ginger, with its subtle spice and sweetness, was a delightful surprise. The Tokyo Tidbits, while not traditionally Italian, were a delightful fusion of East meets West. Lastly, the Pearly Pies, with their dainty size and rich flavor, were the perfect way to end my cookie adventure.\n\nBakehouse has managed to create a cookie experience that is both familiar and exciting. I highly recommend a visit to this charming store in Trastevere for any cookie enthusiast."
        ],
        [
         "Title: A Sweet Escape to Bakehouse on U Street\n\nBakehouse in Washington D.C.'s U Street district is a true gem for dessert lovers. Their Outback Oatmeal cookies are a delight - perfectly baked, with a chewy center that's hard to forget. The Austin Almond Biscotti, on the other hand, offers a delightful crunch, perfectly paired with a cup of coffee.\n\nThe Orchard Oasis is a fruity paradise, with just the right balance of sweetness and tanginess. The Golden Gate Ginger cookies are a personal favorite - the spicy kick of ginger is expertly balanced with the sweetness of the cookie.\n\nThe Tokyo Tidbits, while small, pack a punch of flavor. Lastly, the Pearly Pies, though not a cookie, are a must-try. The flaky crust and sweet filling make for a delightful treat.\n\nBakehouse is a must-visit for anyone in the U Street district. With their wide variety of delicious treats, it's a sweet escape that's hard to resist.",
         3000036,
         "2024-05-20T13:24:06.591-04:00",
         203,
         "Title: A Sweet Escape to Bakehouse on U Street\n\nBakehouse in Washington D.C.'s U Street district is a true gem for dessert lovers. Their Outback Oatmeal cookies are a delight - perfectly baked, with a chewy center that's hard to forget. The Austin Almond Biscotti, on the other hand, offers a delightful crunch, perfectly paired with a cup of coffee.\n\nThe Orchard Oasis is a fruity paradise, with just the right balance of sweetness and tanginess. The Golden Gate Ginger cookies are a personal favorite - the spicy kick of ginger is expertly balanced with the sweetness of the cookie.\n\nThe Tokyo Tidbits, while small, pack a punch of flavor. Lastly, the Pearly Pies, though not a cookie, are a must-try. The flaky crust and sweet filling make for a delightful treat.\n\nBakehouse is a must-visit for anyone in the U Street district. With their wide variety of delicious treats, it's a sweet escape that's hard to resist."
        ],
        [
         "Title: A Delightful Bakehouse Experience in Boston's Back Bay\n\nA visit to Bakehouse in Boston's Back Bay is an absolute treat! Their Outback Oatmeal cookies are a perfect blend of chewy and crunchy, with a generous helping of oats and a hint of cinnamon. The Austin Almond Biscotti, on the other hand, offers a delightful crunch, paired perfectly with a hot cup of coffee.\n\nThe Orchard Oasis cookies are a fruity delight, with a burst of flavor in every bite. The Golden Gate Ginger cookies, however, are my personal favorite - a beautiful balance of sweet and spicy, they leave a warm, comforting aftertaste.\n\nThe Tokyo Tidbits, although small, pack a punch with their unique blend of flavors. And let's not forget the Pearly Pies - these tiny, pie-shaped cookies are a delightful surprise, with a delicious filling that varies daily.\n\nBakehouse is a must-visit for any cookie enthusiast. Their diverse range of products, each with its unique flavor and texture, makes for a delightful culinary adventure. I can't wait to visit again!",
         3000030,
         "2024-05-20T13:24:06.591-04:00",
         204,
         "Title: A Delightful Bakehouse Experience in Boston's Back Bay\n\nA visit to Bakehouse in Boston's Back Bay is an absolute treat! Their Outback Oatmeal cookies are a perfect blend of chewy and crunchy, with a generous helping of oats and a hint of cinnamon. The Austin Almond Biscotti, on the other hand, offers a delightful crunch, paired perfectly with a hot cup of coffee.\n\nThe Orchard Oasis cookies are a fruity delight, with a burst of flavor in every bite. The Golden Gate Ginger cookies, however, are my personal favorite - a beautiful balance of sweet and spicy, they leave a warm, comforting aftertaste.\n\nThe Tokyo Tidbits, although small, pack a punch with their unique blend of flavors. And let's not forget the Pearly Pies - these tiny, pie-shaped cookies are a delightful surprise, with a delicious filling that varies daily.\n\nBakehouse is a must-visit for any cookie enthusiast. Their diverse range of products, each with its unique flavor and texture, makes for a delightful culinary adventure. I can't wait to visit again!"
        ]
       ],
       "datasetInfos": [],
       "dbfsResultPath": null,
       "isJsonSchema": true,
       "metadata": {
        "sqlStatementIds": [
         "01f03be3-405b-197d-ae39-29bd15e69d04"
        ]
       },
       "overflow": false,
       "plotOptions": {
        "customPlotOptions": {},
        "displayType": "table",
        "pivotAggregation": null,
        "pivotColumns": null,
        "xColumns": null,
        "yColumns": null
       },
       "removedWidgets": [],
       "schema": [
        {
         "metadata": "{}",
         "name": "review",
         "type": "\"string\""
        },
        {
         "metadata": "{}",
         "name": "franchiseID",
         "type": "\"long\""
        },
        {
         "metadata": "{}",
         "name": "review_date",
         "type": "\"timestamp\""
        },
        {
         "metadata": "{}",
         "name": "new_id",
         "type": "\"integer\""
        },
        {
         "metadata": "{}",
         "name": "orig_review",
         "type": "\"string\""
        }
       ],
       "type": "table"
      }
     },
     "output_type": "display_data"
    }
   ],
   "source": [
    "select * from customer_reviews;"
   ]
  },
  {
   "cell_type": "code",
   "execution_count": 0,
   "metadata": {
    "application/vnd.databricks.v1+cell": {
     "cellMetadata": {
      "byteLimit": 2048000,
      "rowLimit": 10000
     },
     "inputWidgets": {},
     "nuid": "6449c60a-687b-4030-9549-22da57dc0c37",
     "showTitle": false,
     "tableResultSettingsMap": {},
     "title": ""
    }
   },
   "outputs": [
    {
     "data": {
      "text/html": [
       "<style scoped>\n",
       "  .ansiout {\n",
       "    display: block;\n",
       "    unicode-bidi: embed;\n",
       "    white-space: pre-wrap;\n",
       "    word-wrap: break-word;\n",
       "    word-break: break-all;\n",
       "    font-family: \"Menlo\", \"Monaco\", \"Consolas\", \"Ubuntu Mono\", \"Source Code Pro\", monospace;\n",
       "    font-size: 13px;\n",
       "    color: #555;\n",
       "    margin-left: 4px;\n",
       "    line-height: 19px;\n",
       "  }\n",
       "</style>"
      ]
     },
     "metadata": {
      "application/vnd.databricks.v1+output": {
       "arguments": {},
       "data": "",
       "errorSummary": "[UNRESOLVED_COLUMN.WITH_SUGGESTION] A column, variable, or function parameter with name `review_sentiment` cannot be resolved. Did you mean one of the following? [`review`, `franchiseID`, `review_date`, `new_id`, `orig_review`]. SQLSTATE: 42703; line 1, pos 0",
       "errorTraceType": "raw",
       "metadata": {},
       "type": "ipynbError"
      }
     },
     "output_type": "display_data"
    }
   ],
   "source": [
    "alter table customer_reviews drop column review_sentiment;"
   ]
  },
  {
   "cell_type": "code",
   "execution_count": 0,
   "metadata": {
    "application/vnd.databricks.v1+cell": {
     "cellMetadata": {
      "byteLimit": 2048000,
      "rowLimit": 10000
     },
     "inputWidgets": {},
     "nuid": "65456d2b-2ab0-4f25-a69f-f085e95217bb",
     "showTitle": false,
     "tableResultSettingsMap": {},
     "title": ""
    }
   },
   "outputs": [
    {
     "data": {
      "text/html": [
       "<style scoped>\n",
       "  .table-result-container {\n",
       "    max-height: 300px;\n",
       "    overflow: auto;\n",
       "  }\n",
       "  table, th, td {\n",
       "    border: 1px solid black;\n",
       "    border-collapse: collapse;\n",
       "  }\n",
       "  th, td {\n",
       "    padding: 5px;\n",
       "  }\n",
       "  th {\n",
       "    text-align: left;\n",
       "  }\n",
       "</style><div class='table-result-container'><table class='table-result'><thead style='background-color: white'><tr><th>num_affected_rows</th><th>num_updated_rows</th><th>num_deleted_rows</th><th>num_inserted_rows</th></tr></thead><tbody><tr><td>204</td><td>204</td><td>0</td><td>0</td></tr></tbody></table></div>"
      ]
     },
     "metadata": {
      "application/vnd.databricks.v1+output": {
       "addedWidgets": {},
       "aggData": [],
       "aggError": "",
       "aggOverflow": false,
       "aggSchema": [],
       "aggSeriesLimitReached": false,
       "aggType": "",
       "arguments": {},
       "columnCustomDisplayInfos": {},
       "data": [
        [
         204,
         204,
         0,
         0
        ]
       ],
       "datasetInfos": [],
       "dbfsResultPath": null,
       "isJsonSchema": true,
       "metadata": {},
       "overflow": false,
       "plotOptions": {
        "customPlotOptions": {},
        "displayType": "table",
        "pivotAggregation": null,
        "pivotColumns": null,
        "xColumns": null,
        "yColumns": null
       },
       "removedWidgets": [],
       "schema": [
        {
         "metadata": "{}",
         "name": "num_affected_rows",
         "type": "\"long\""
        },
        {
         "metadata": "{}",
         "name": "num_updated_rows",
         "type": "\"long\""
        },
        {
         "metadata": "{}",
         "name": "num_deleted_rows",
         "type": "\"long\""
        },
        {
         "metadata": "{}",
         "name": "num_inserted_rows",
         "type": "\"long\""
        }
       ],
       "type": "table"
      }
     },
     "output_type": "display_data"
    }
   ],
   "source": [
    "BEGIN\n",
    "  DECLARE vStmtStr STRING;\n",
    "  FOR columns AS \n",
    "    SELECT table_name \n",
    "    FROM information_schema.columns\n",
    "    WHERE table_schema = lower(:schema)\n",
    "      AND column_name = :columnname\n",
    "      AND data_type = 'STRING' \n",
    "    DO\n",
    "      SET vStmtStr = 'ALTER TABLE ' || table_name || ' ADD COLUMN (' || :columnname || '_sentiment STRING)';\n",
    "      EXECUTE IMMEDIATE vStmtStr;\n",
    "      \n",
    "      SET vStmtStr = 'MERGE INTO `' || table_name || '` USING (VALUES(1)) ON true WHEN MATCHED THEN UPDATE SET `' || :columnname || '_sentiment` = ai_analyze_sentiment(`' || :columnname || '`)';\n",
    "      EXECUTE IMMEDIATE vStmtStr;\n",
    "  END FOR;\n",
    "END;"
   ]
  },
  {
   "cell_type": "code",
   "execution_count": 0,
   "metadata": {
    "application/vnd.databricks.v1+cell": {
     "cellMetadata": {
      "byteLimit": 2048000,
      "rowLimit": 10000
     },
     "inputWidgets": {},
     "nuid": "6345e70e-204e-4e8a-8246-d1ddee20b7ce",
     "showTitle": false,
     "tableResultSettingsMap": {},
     "title": ""
    }
   },
   "outputs": [
    {
     "data": {
      "text/html": [
       "<style scoped>\n",
       "  .ansiout {\n",
       "    display: block;\n",
       "    unicode-bidi: embed;\n",
       "    white-space: pre-wrap;\n",
       "    word-wrap: break-word;\n",
       "    word-break: break-all;\n",
       "    font-family: \"Menlo\", \"Monaco\", \"Consolas\", \"Ubuntu Mono\", \"Source Code Pro\", monospace;\n",
       "    font-size: 13px;\n",
       "    color: #555;\n",
       "    margin-left: 4px;\n",
       "    line-height: 19px;\n",
       "  }\n",
       "</style>"
      ]
     },
     "metadata": {
      "application/vnd.databricks.v1+output": {
       "arguments": {},
       "data": "",
       "errorSummary": "[UNRESOLVED_COLUMN.WITH_SUGGESTION] A column, variable, or function parameter with name `review_sentiment` cannot be resolved. Did you mean one of the following? [`review_date`, `orig_review`, `review`, `new_id`, `franchiseID`]. SQLSTATE: 42703; line 1, pos 7",
       "errorTraceType": "raw",
       "metadata": {},
       "type": "ipynbError"
      }
     },
     "output_type": "display_data"
    }
   ],
   "source": [
    "select review_sentiment from customer_reviews;"
   ]
  },
  {
   "cell_type": "code",
   "execution_count": 0,
   "metadata": {
    "application/vnd.databricks.v1+cell": {
     "cellMetadata": {},
     "inputWidgets": {},
     "nuid": "21859729-73b7-4f39-bb06-0fba3d26d12d",
     "showTitle": false,
     "tableResultSettingsMap": {},
     "title": ""
    }
   },
   "outputs": [],
   "source": []
  },
  {
   "cell_type": "markdown",
   "metadata": {
    "application/vnd.databricks.v1+cell": {
     "cellMetadata": {},
     "inputWidgets": {},
     "nuid": "b94e391f-6222-465a-a0bb-c1a6b1c3ac13",
     "showTitle": false,
     "tableResultSettingsMap": {},
     "title": ""
    }
   },
   "source": [
    "### David"
   ]
  },
  {
   "cell_type": "code",
   "execution_count": 0,
   "metadata": {
    "application/vnd.databricks.v1+cell": {
     "cellMetadata": {
      "byteLimit": 2048000,
      "rowLimit": 10000
     },
     "inputWidgets": {},
     "nuid": "c2f8b3bd-a9bf-469d-aaa6-df8bd10d6fee",
     "showTitle": false,
     "tableResultSettingsMap": {},
     "title": ""
    }
   },
   "outputs": [
    {
     "data": {
      "text/html": [
       "<style scoped>\n",
       "  .table-result-container {\n",
       "    max-height: 300px;\n",
       "    overflow: auto;\n",
       "  }\n",
       "  table, th, td {\n",
       "    border: 1px solid black;\n",
       "    border-collapse: collapse;\n",
       "  }\n",
       "  th, td {\n",
       "    padding: 5px;\n",
       "  }\n",
       "  th {\n",
       "    text-align: left;\n",
       "  }\n",
       "</style><div class='table-result-container'><table class='table-result'><thead style='background-color: white'><tr></tr></thead><tbody></tbody></table></div>"
      ]
     },
     "metadata": {
      "application/vnd.databricks.v1+output": {
       "addedWidgets": {},
       "aggData": [],
       "aggError": "",
       "aggOverflow": false,
       "aggSchema": [],
       "aggSeriesLimitReached": false,
       "aggType": "",
       "arguments": {},
       "columnCustomDisplayInfos": {},
       "data": [],
       "datasetInfos": [],
       "dbfsResultPath": null,
       "isJsonSchema": true,
       "metadata": {},
       "overflow": false,
       "plotOptions": {
        "customPlotOptions": {},
        "displayType": "table",
        "pivotAggregation": null,
        "pivotColumns": null,
        "xColumns": null,
        "yColumns": null
       },
       "removedWidgets": [],
       "schema": [],
       "type": "table"
      }
     },
     "output_type": "display_data"
    }
   ],
   "source": [
    "ALTER TABLE users.kent_marten.customers ADD COLUMN (loyaltyTier STRING);"
   ]
  },
  {
   "cell_type": "code",
   "execution_count": 0,
   "metadata": {
    "application/vnd.databricks.v1+cell": {
     "cellMetadata": {
      "byteLimit": 2048000,
      "rowLimit": 10000
     },
     "inputWidgets": {},
     "nuid": "cc774b71-a5ff-4947-a28b-7a9d52f3f18d",
     "showTitle": false,
     "tableResultSettingsMap": {},
     "title": ""
    }
   },
   "outputs": [
    {
     "data": {
      "text/html": [
       "<style scoped>\n",
       "  .table-result-container {\n",
       "    max-height: 300px;\n",
       "    overflow: auto;\n",
       "  }\n",
       "  table, th, td {\n",
       "    border: 1px solid black;\n",
       "    border-collapse: collapse;\n",
       "  }\n",
       "  th, td {\n",
       "    padding: 5px;\n",
       "  }\n",
       "  th {\n",
       "    text-align: left;\n",
       "  }\n",
       "</style><div class='table-result-container'><table class='table-result'><thead style='background-color: white'><tr></tr></thead><tbody></tbody></table></div>"
      ]
     },
     "metadata": {
      "application/vnd.databricks.v1+output": {
       "addedWidgets": {},
       "aggData": [],
       "aggError": "",
       "aggOverflow": false,
       "aggSchema": [],
       "aggSeriesLimitReached": false,
       "aggType": "",
       "arguments": {},
       "columnCustomDisplayInfos": {},
       "data": [],
       "datasetInfos": [],
       "dbfsResultPath": null,
       "isJsonSchema": true,
       "metadata": {},
       "overflow": false,
       "plotOptions": {
        "customPlotOptions": {},
        "displayType": "table",
        "pivotAggregation": null,
        "pivotColumns": null,
        "xColumns": null,
        "yColumns": null
       },
       "removedWidgets": [],
       "schema": [],
       "type": "table"
      }
     },
     "output_type": "display_data"
    }
   ],
   "source": [
    "ALTER TABLE users.kent_marten.transactions SET TBLPROPERTIES ('delta.columnMapping.mode' = 'name');\n",
    "--ALTER TABLE users.kent_marten.customers DROP COLUMN tier;\n"
   ]
  },
  {
   "cell_type": "code",
   "execution_count": 0,
   "metadata": {
    "application/vnd.databricks.v1+cell": {
     "cellMetadata": {
      "byteLimit": 2048000,
      "rowLimit": 10000
     },
     "inputWidgets": {},
     "nuid": "8aece5d0-dc9a-4b18-afe5-986d81786267",
     "showTitle": false,
     "tableResultSettingsMap": {},
     "title": ""
    }
   },
   "outputs": [
    {
     "data": {
      "text/html": [
       "<style scoped>\n",
       "  .table-result-container {\n",
       "    max-height: 300px;\n",
       "    overflow: auto;\n",
       "  }\n",
       "  table, th, td {\n",
       "    border: 1px solid black;\n",
       "    border-collapse: collapse;\n",
       "  }\n",
       "  th, td {\n",
       "    padding: 5px;\n",
       "  }\n",
       "  th {\n",
       "    text-align: left;\n",
       "  }\n",
       "</style><div class='table-result-container'><table class='table-result'><thead style='background-color: white'><tr></tr></thead><tbody></tbody></table></div>"
      ]
     },
     "metadata": {
      "application/vnd.databricks.v1+output": {
       "addedWidgets": {},
       "aggData": [],
       "aggError": "",
       "aggOverflow": false,
       "aggSchema": [],
       "aggSeriesLimitReached": false,
       "aggType": "",
       "arguments": {},
       "columnCustomDisplayInfos": {},
       "data": [],
       "datasetInfos": [],
       "dbfsResultPath": null,
       "isJsonSchema": true,
       "metadata": {},
       "overflow": false,
       "plotOptions": {
        "customPlotOptions": {},
        "displayType": "table",
        "pivotAggregation": null,
        "pivotColumns": null,
        "xColumns": null,
        "yColumns": null
       },
       "removedWidgets": [],
       "schema": [],
       "type": "table"
      }
     },
     "output_type": "display_data"
    }
   ],
   "source": [
    "CREATE OR REPLACE PROCEDURE users.kent_marten.UpdateCustomerLoyaltyTier(\n",
    "  IN pCustomerID INT\n",
    ")\n",
    "LANGUAGE SQL\n",
    "SQL SECURITY INVOKER\n",
    "AS\n",
    "BEGIN\n",
    "    DECLARE TotalSpend BIGINT;\n",
    "    DECLARE ReviewCount INT;\n",
    "    DECLARE Tier STRING;\n",
    "\n",
    "    -- Calculate total spend\n",
    "    SET TotalSpend = (\n",
    "      SELECT SUM(totalPrice)\n",
    "      FROM users.kent_marten.transactions\n",
    "      WHERE customerID = pCustomerID\n",
    "    );\n",
    "\n",
    "    -- Determine tier\n",
    "    IF TotalSpend >= 1000\n",
    "    THEN\n",
    "      SET Tier = 'Platinum';\n",
    "    ELSEIF TotalSpend >= 500\n",
    "    THEN\n",
    "      SET Tier = 'Gold';\n",
    "    ELSEIF TotalSpend >= 200\n",
    "    THEN\n",
    "      SET Tier = 'Silver';\n",
    "    ELSE\n",
    "        SET Tier = 'Bronze';\n",
    "    END IF;\n",
    "\n",
    "    -- Update customer record (assumes customers table has loyalty_tier column)\n",
    "    UPDATE users.kent_marten.customers\n",
    "    SET loyaltyTier = Tier\n",
    "    WHERE customerID = pCustomerID;\n",
    "END\n"
   ]
  },
  {
   "cell_type": "code",
   "execution_count": 0,
   "metadata": {
    "application/vnd.databricks.v1+cell": {
     "cellMetadata": {
      "byteLimit": 2048000,
      "rowLimit": 10000
     },
     "inputWidgets": {},
     "nuid": "268c8498-f8b5-4c91-a879-faad88b622f0",
     "showTitle": false,
     "tableResultSettingsMap": {},
     "title": ""
    }
   },
   "outputs": [
    {
     "data": {
      "text/html": [
       "<style scoped>\n",
       "  .table-result-container {\n",
       "    max-height: 300px;\n",
       "    overflow: auto;\n",
       "  }\n",
       "  table, th, td {\n",
       "    border: 1px solid black;\n",
       "    border-collapse: collapse;\n",
       "  }\n",
       "  th, td {\n",
       "    padding: 5px;\n",
       "  }\n",
       "  th {\n",
       "    text-align: left;\n",
       "  }\n",
       "</style><div class='table-result-container'><table class='table-result'><thead style='background-color: white'><tr></tr></thead><tbody></tbody></table></div>"
      ]
     },
     "metadata": {
      "application/vnd.databricks.v1+output": {
       "addedWidgets": {},
       "aggData": [],
       "aggError": "",
       "aggOverflow": false,
       "aggSchema": [],
       "aggSeriesLimitReached": false,
       "aggType": "",
       "arguments": {},
       "columnCustomDisplayInfos": {},
       "data": [],
       "datasetInfos": [],
       "dbfsResultPath": null,
       "isJsonSchema": true,
       "metadata": {},
       "overflow": false,
       "plotOptions": {
        "customPlotOptions": {},
        "displayType": "table",
        "pivotAggregation": null,
        "pivotColumns": null,
        "xColumns": null,
        "yColumns": null
       },
       "removedWidgets": [],
       "schema": [],
       "type": "table"
      }
     },
     "output_type": "display_data"
    }
   ],
   "source": [
    "BEGIN\n",
    "  CALL users.kent_marten.UpdateCustomerLoyaltyTier(1000261);\n",
    "END"
   ]
  },
  {
   "cell_type": "code",
   "execution_count": 0,
   "metadata": {
    "application/vnd.databricks.v1+cell": {
     "cellMetadata": {
      "byteLimit": 2048000,
      "rowLimit": 10000
     },
     "inputWidgets": {},
     "nuid": "cf5dc1b7-f5a7-4a09-9ba7-65a6cd784237",
     "showTitle": false,
     "tableResultSettingsMap": {},
     "title": ""
    }
   },
   "outputs": [
    {
     "data": {
      "text/html": [
       "<style scoped>\n",
       "  .table-result-container {\n",
       "    max-height: 300px;\n",
       "    overflow: auto;\n",
       "  }\n",
       "  table, th, td {\n",
       "    border: 1px solid black;\n",
       "    border-collapse: collapse;\n",
       "  }\n",
       "  th, td {\n",
       "    padding: 5px;\n",
       "  }\n",
       "  th {\n",
       "    text-align: left;\n",
       "  }\n",
       "</style><div class='table-result-container'><table class='table-result'><thead style='background-color: white'><tr><th>count(1)</th></tr></thead><tbody><tr><td>300</td></tr></tbody></table></div>"
      ]
     },
     "metadata": {
      "application/vnd.databricks.v1+output": {
       "addedWidgets": {},
       "aggData": [],
       "aggError": "",
       "aggOverflow": false,
       "aggSchema": [],
       "aggSeriesLimitReached": false,
       "aggType": "",
       "arguments": {},
       "columnCustomDisplayInfos": {},
       "data": [
        [
         300
        ]
       ],
       "datasetInfos": [],
       "dbfsResultPath": null,
       "isJsonSchema": true,
       "metadata": {},
       "overflow": false,
       "plotOptions": {
        "customPlotOptions": {},
        "displayType": "table",
        "pivotAggregation": null,
        "pivotColumns": null,
        "xColumns": null,
        "yColumns": null
       },
       "removedWidgets": [],
       "schema": [
        {
         "metadata": "{\"__autoGeneratedAlias\":\"true\"}",
         "name": "count(1)",
         "type": "\"long\""
        }
       ],
       "type": "table"
      }
     },
     "output_type": "display_data"
    }
   ],
   "source": [
    "SELECT COUNT(*) FROM users.kent_marten.customers"
   ]
  },
  {
   "cell_type": "code",
   "execution_count": 0,
   "metadata": {
    "application/vnd.databricks.v1+cell": {
     "cellMetadata": {
      "byteLimit": 2048000,
      "rowLimit": 10000
     },
     "inputWidgets": {},
     "nuid": "d256b40d-8d8f-4c4c-b3f5-eff0bd0d1fc9",
     "showTitle": false,
     "tableResultSettingsMap": {},
     "title": ""
    }
   },
   "outputs": [
    {
     "data": {
      "text/html": [
       "<style scoped>\n",
       "  .table-result-container {\n",
       "    max-height: 300px;\n",
       "    overflow: auto;\n",
       "  }\n",
       "  table, th, td {\n",
       "    border: 1px solid black;\n",
       "    border-collapse: collapse;\n",
       "  }\n",
       "  th, td {\n",
       "    padding: 5px;\n",
       "  }\n",
       "  th {\n",
       "    text-align: left;\n",
       "  }\n",
       "</style><div class='table-result-container'><table class='table-result'><thead style='background-color: white'><tr><th>customerID</th><th>first_name</th><th>last_name</th><th>email_address</th><th>phone_number</th><th>address</th><th>city</th><th>state</th><th>country</th><th>continent</th><th>postal_zip_code</th><th>gender</th><th>old_id</th><th>loyaltyTier</th></tr></thead><tbody><tr><td>1000261</td><td>Steven</td><td>Tanner</td><td>haileysanchez@example.net</td><td>859-946-4140x24086</td><td>08560 Thomas Land</td><td>Williamshire</td><td>Missouri</td><td>Japan</td><td>Asia</td><td>20642</td><td>female</td><td>2000261</td><td>Bronze</td></tr></tbody></table></div>"
      ]
     },
     "metadata": {
      "application/vnd.databricks.v1+output": {
       "addedWidgets": {},
       "aggData": [],
       "aggError": "",
       "aggOverflow": false,
       "aggSchema": [],
       "aggSeriesLimitReached": false,
       "aggType": "",
       "arguments": {},
       "columnCustomDisplayInfos": {},
       "data": [
        [
         1000261,
         "Steven",
         "Tanner",
         "haileysanchez@example.net",
         "859-946-4140x24086",
         "08560 Thomas Land",
         "Williamshire",
         "Missouri",
         "Japan",
         "Asia",
         20642,
         "female",
         2000261,
         "Bronze"
        ]
       ],
       "datasetInfos": [],
       "dbfsResultPath": null,
       "isJsonSchema": true,
       "metadata": {},
       "overflow": false,
       "plotOptions": {
        "customPlotOptions": {},
        "displayType": "table",
        "pivotAggregation": null,
        "pivotColumns": null,
        "xColumns": null,
        "yColumns": null
       },
       "removedWidgets": [],
       "schema": [
        {
         "metadata": "{}",
         "name": "customerID",
         "type": "\"long\""
        },
        {
         "metadata": "{}",
         "name": "first_name",
         "type": "\"string\""
        },
        {
         "metadata": "{}",
         "name": "last_name",
         "type": "\"string\""
        },
        {
         "metadata": "{}",
         "name": "email_address",
         "type": "\"string\""
        },
        {
         "metadata": "{}",
         "name": "phone_number",
         "type": "\"string\""
        },
        {
         "metadata": "{}",
         "name": "address",
         "type": "\"string\""
        },
        {
         "metadata": "{}",
         "name": "city",
         "type": "\"string\""
        },
        {
         "metadata": "{}",
         "name": "state",
         "type": "\"string\""
        },
        {
         "metadata": "{}",
         "name": "country",
         "type": "\"string\""
        },
        {
         "metadata": "{}",
         "name": "continent",
         "type": "\"string\""
        },
        {
         "metadata": "{}",
         "name": "postal_zip_code",
         "type": "\"long\""
        },
        {
         "metadata": "{}",
         "name": "gender",
         "type": "\"string\""
        },
        {
         "metadata": "{}",
         "name": "old_id",
         "type": "\"long\""
        },
        {
         "metadata": "{}",
         "name": "loyaltyTier",
         "type": "\"string\""
        }
       ],
       "type": "table"
      }
     },
     "output_type": "display_data"
    }
   ],
   "source": [
    "SELECT * FROM users.kent_marten.customers WHERE customerID = 1000261"
   ]
  },
  {
   "cell_type": "code",
   "execution_count": 0,
   "metadata": {
    "application/vnd.databricks.v1+cell": {
     "cellMetadata": {
      "byteLimit": 2048000,
      "rowLimit": 10000
     },
     "inputWidgets": {},
     "nuid": "5b4a92f5-5a62-420c-a02b-ae34c38cd516",
     "showTitle": false,
     "tableResultSettingsMap": {},
     "title": ""
    }
   },
   "outputs": [
    {
     "data": {
      "text/html": [
       "<style scoped>\n",
       "  .table-result-container {\n",
       "    max-height: 300px;\n",
       "    overflow: auto;\n",
       "  }\n",
       "  table, th, td {\n",
       "    border: 1px solid black;\n",
       "    border-collapse: collapse;\n",
       "  }\n",
       "  th, td {\n",
       "    padding: 5px;\n",
       "  }\n",
       "  th {\n",
       "    text-align: left;\n",
       "  }\n",
       "</style><div class='table-result-container'><table class='table-result'><thead style='background-color: white'><tr></tr></thead><tbody></tbody></table></div>"
      ]
     },
     "metadata": {
      "application/vnd.databricks.v1+output": {
       "addedWidgets": {},
       "aggData": [],
       "aggError": "",
       "aggOverflow": false,
       "aggSchema": [],
       "aggSeriesLimitReached": false,
       "aggType": "",
       "arguments": {},
       "columnCustomDisplayInfos": {},
       "data": [],
       "datasetInfos": [],
       "dbfsResultPath": null,
       "isJsonSchema": true,
       "metadata": {},
       "overflow": false,
       "plotOptions": {
        "customPlotOptions": {},
        "displayType": "table",
        "pivotAggregation": null,
        "pivotColumns": null,
        "xColumns": null,
        "yColumns": null
       },
       "removedWidgets": [],
       "schema": [],
       "type": "table"
      }
     },
     "output_type": "display_data"
    }
   ],
   "source": [
    "CREATE OR REPLACE PROCEDURE users.kent_marten.UpdateCustomerLoyaltyTiers()\n",
    "LANGUAGE SQL\n",
    "SQL SECURITY INVOKER\n",
    "AS\n",
    "BEGIN\n",
    "  FOR customer AS (SELECT DISTINCT customerID FROM users.kent_marten.customers) DO\n",
    "    CALL users.kent_marten.UpdateCustomerLoyaltyTier(customer.customerID);\n",
    "  END FOR;\n",
    "END"
   ]
  },
  {
   "cell_type": "code",
   "execution_count": 0,
   "metadata": {
    "application/vnd.databricks.v1+cell": {
     "cellMetadata": {
      "byteLimit": 2048000,
      "rowLimit": 10000
     },
     "inputWidgets": {},
     "nuid": "f59f5c2d-0f1e-4acd-8f4d-09dbbdfa9549",
     "showTitle": false,
     "tableResultSettingsMap": {},
     "title": ""
    }
   },
   "outputs": [
    {
     "data": {
      "text/plain": [
       "com.databricks.backend.common.rpc.CommandCancelledException\n",
       "\tat com.databricks.spark.chauffeur.SequenceExecutionState.$anonfun$cancel$5(SequenceExecutionState.scala:132)\n",
       "\tat scala.Option.getOrElse(Option.scala:189)\n",
       "\tat com.databricks.spark.chauffeur.SequenceExecutionState.$anonfun$cancel$3(SequenceExecutionState.scala:132)\n",
       "\tat com.databricks.spark.chauffeur.SequenceExecutionState.$anonfun$cancel$3$adapted(SequenceExecutionState.scala:129)\n",
       "\tat scala.collection.immutable.Range.foreach(Range.scala:158)\n",
       "\tat com.databricks.spark.chauffeur.SequenceExecutionState.cancel(SequenceExecutionState.scala:129)\n",
       "\tat com.databricks.spark.chauffeur.ExecContextState.cancelRunningSequence(ExecContextState.scala:715)\n",
       "\tat com.databricks.spark.chauffeur.ExecContextState.$anonfun$cancel$1(ExecContextState.scala:435)\n",
       "\tat scala.Option.getOrElse(Option.scala:189)\n",
       "\tat com.databricks.spark.chauffeur.ExecContextState.cancel(ExecContextState.scala:435)\n",
       "\tat com.databricks.spark.chauffeur.ExecutionContextManagerV1.cancelExecution(ExecutionContextManagerV1.scala:473)\n",
       "\tat com.databricks.spark.chauffeur.ChauffeurState.$anonfun$process$1(ChauffeurState.scala:736)\n",
       "\tat com.databricks.logging.UsageLogging.$anonfun$recordOperation$1(UsageLogging.scala:510)\n",
       "\tat com.databricks.logging.UsageLogging.executeThunkAndCaptureResultTags$1(UsageLogging.scala:616)\n",
       "\tat com.databricks.logging.UsageLogging.$anonfun$recordOperationWithResultTags$4(UsageLogging.scala:643)\n",
       "\tat com.databricks.logging.AttributionContextTracing.$anonfun$withAttributionContext$1(AttributionContextTracing.scala:49)\n",
       "\tat com.databricks.logging.AttributionContext$.$anonfun$withValue$1(AttributionContext.scala:293)\n",
       "\tat scala.util.DynamicVariable.withValue(DynamicVariable.scala:62)\n",
       "\tat com.databricks.logging.AttributionContext$.withValue(AttributionContext.scala:289)\n",
       "\tat com.databricks.logging.AttributionContextTracing.withAttributionContext(AttributionContextTracing.scala:47)\n",
       "\tat com.databricks.logging.AttributionContextTracing.withAttributionContext$(AttributionContextTracing.scala:44)\n",
       "\tat com.databricks.spark.chauffeur.ChauffeurState.withAttributionContext(ChauffeurState.scala:82)\n",
       "\tat com.databricks.logging.AttributionContextTracing.withAttributionTags(AttributionContextTracing.scala:96)\n",
       "\tat com.databricks.logging.AttributionContextTracing.withAttributionTags$(AttributionContextTracing.scala:77)\n",
       "\tat com.databricks.spark.chauffeur.ChauffeurState.withAttributionTags(ChauffeurState.scala:82)\n",
       "\tat com.databricks.logging.UsageLogging.recordOperationWithResultTags(UsageLogging.scala:611)\n",
       "\tat com.databricks.logging.UsageLogging.recordOperationWithResultTags$(UsageLogging.scala:519)\n",
       "\tat com.databricks.spark.chauffeur.ChauffeurState.recordOperationWithResultTags(ChauffeurState.scala:82)\n",
       "\tat com.databricks.logging.UsageLogging.recordOperation(UsageLogging.scala:511)\n",
       "\tat com.databricks.logging.UsageLogging.recordOperation$(UsageLogging.scala:475)\n",
       "\tat com.databricks.spark.chauffeur.ChauffeurState.recordOperation(ChauffeurState.scala:82)\n",
       "\tat com.databricks.spark.chauffeur.ChauffeurState.process(ChauffeurState.scala:714)\n",
       "\tat com.databricks.spark.chauffeur.Chauffeur$$anon$1$$anonfun$receive$1.handleDriverRequest$1(Chauffeur.scala:911)\n",
       "\tat com.databricks.spark.chauffeur.Chauffeur$$anon$1$$anonfun$receive$1.$anonfun$applyOrElse$4(Chauffeur.scala:937)\n",
       "\tat com.databricks.logging.UsageLogging.executeThunkAndCaptureResultTags$1(UsageLogging.scala:616)\n",
       "\tat com.databricks.logging.UsageLogging.$anonfun$recordOperationWithResultTags$4(UsageLogging.scala:643)\n",
       "\tat com.databricks.logging.AttributionContextTracing.$anonfun$withAttributionContext$1(AttributionContextTracing.scala:49)\n",
       "\tat com.databricks.logging.AttributionContext$.$anonfun$withValue$1(AttributionContext.scala:293)\n",
       "\tat scala.util.DynamicVariable.withValue(DynamicVariable.scala:62)\n",
       "\tat com.databricks.logging.AttributionContext$.withValue(AttributionContext.scala:289)\n",
       "\tat com.databricks.logging.AttributionContextTracing.withAttributionContext(AttributionContextTracing.scala:47)\n",
       "\tat com.databricks.logging.AttributionContextTracing.withAttributionContext$(AttributionContextTracing.scala:44)\n",
       "\tat com.databricks.rpc.ServerBackend.withAttributionContext(ServerBackend.scala:22)\n",
       "\tat com.databricks.logging.AttributionContextTracing.withAttributionTags(AttributionContextTracing.scala:96)\n",
       "\tat com.databricks.logging.AttributionContextTracing.withAttributionTags$(AttributionContextTracing.scala:77)\n",
       "\tat com.databricks.rpc.ServerBackend.withAttributionTags(ServerBackend.scala:22)\n",
       "\tat com.databricks.logging.UsageLogging.recordOperationWithResultTags(UsageLogging.scala:611)\n",
       "\tat com.databricks.logging.UsageLogging.recordOperationWithResultTags$(UsageLogging.scala:519)\n",
       "\tat com.databricks.rpc.ServerBackend.recordOperationWithResultTags(ServerBackend.scala:22)\n",
       "\tat com.databricks.spark.chauffeur.Chauffeur$$anon$1$$anonfun$receive$1.handleDriverRequestWithUsageLogging$1(Chauffeur.scala:936)\n",
       "\tat com.databricks.spark.chauffeur.Chauffeur$$anon$1$$anonfun$receive$1.applyOrElse(Chauffeur.scala:991)\n",
       "\tat com.databricks.spark.chauffeur.Chauffeur$$anon$1$$anonfun$receive$1.applyOrElse(Chauffeur.scala:776)\n",
       "\tat com.databricks.rpc.ServerBackend.$anonfun$internalReceive0$2(ServerBackend.scala:174)\n",
       "\tat com.databricks.rpc.ServerBackend$$anonfun$commonReceive$1.applyOrElse(ServerBackend.scala:200)\n",
       "\tat com.databricks.rpc.ServerBackend$$anonfun$commonReceive$1.applyOrElse(ServerBackend.scala:200)\n",
       "\tat com.databricks.rpc.ServerBackend.internalReceive0(ServerBackend.scala:171)\n",
       "\tat com.databricks.rpc.ServerBackend.$anonfun$internalReceive$1(ServerBackend.scala:147)\n",
       "\tat com.databricks.logging.UsageLogging.$anonfun$recordOperation$1(UsageLogging.scala:510)\n",
       "\tat com.databricks.logging.UsageLogging.executeThunkAndCaptureResultTags$1(UsageLogging.scala:616)\n",
       "\tat com.databricks.logging.UsageLogging.$anonfun$recordOperationWithResultTags$4(UsageLogging.scala:643)\n",
       "\tat com.databricks.logging.AttributionContextTracing.$anonfun$withAttributionContext$1(AttributionContextTracing.scala:49)\n",
       "\tat com.databricks.logging.AttributionContext$.$anonfun$withValue$1(AttributionContext.scala:293)\n",
       "\tat scala.util.DynamicVariable.withValue(DynamicVariable.scala:62)\n",
       "\tat com.databricks.logging.AttributionContext$.withValue(AttributionContext.scala:289)\n",
       "\tat com.databricks.logging.AttributionContextTracing.withAttributionContext(AttributionContextTracing.scala:47)\n",
       "\tat com.databricks.logging.AttributionContextTracing.withAttributionContext$(AttributionContextTracing.scala:44)\n",
       "\tat com.databricks.rpc.ServerBackend.withAttributionContext(ServerBackend.scala:22)\n",
       "\tat com.databricks.logging.AttributionContextTracing.withAttributionTags(AttributionContextTracing.scala:96)\n",
       "\tat com.databricks.logging.AttributionContextTracing.withAttributionTags$(AttributionContextTracing.scala:77)\n",
       "\tat com.databricks.rpc.ServerBackend.withAttributionTags(ServerBackend.scala:22)\n",
       "\tat com.databricks.logging.UsageLogging.recordOperationWithResultTags(UsageLogging.scala:611)\n",
       "\tat com.databricks.logging.UsageLogging.recordOperationWithResultTags$(UsageLogging.scala:519)\n",
       "\tat com.databricks.rpc.ServerBackend.recordOperationWithResultTags(ServerBackend.scala:22)\n",
       "\tat com.databricks.logging.UsageLogging.recordOperation(UsageLogging.scala:511)\n",
       "\tat com.databricks.logging.UsageLogging.recordOperation$(UsageLogging.scala:475)\n",
       "\tat com.databricks.rpc.ServerBackend.recordOperation(ServerBackend.scala:22)\n",
       "\tat com.databricks.rpc.ServerBackend.internalReceive(ServerBackend.scala:146)\n",
       "\tat com.databricks.rpc.JettyServer$RequestManager.handleRPC(JettyServer.scala:1033)\n",
       "\tat com.databricks.rpc.JettyServer$RequestManager.handleRequestAndRespond(JettyServer.scala:953)\n",
       "\tat com.databricks.rpc.JettyServer$RequestManager.$anonfun$handleHttp$5(JettyServer.scala:548)\n",
       "\tat com.databricks.rpc.JettyServer$RequestManager.$anonfun$handleHttp$5$adapted(JettyServer.scala:513)\n",
       "\tat com.databricks.logging.activity.ActivityContextFactory$.$anonfun$withActivityInternal$12(ActivityContextFactory.scala:826)\n",
       "\tat com.databricks.logging.AttributionContextTracing.$anonfun$withAttributionContext$1(AttributionContextTracing.scala:49)\n",
       "\tat com.databricks.logging.AttributionContext$.$anonfun$withValue$1(AttributionContext.scala:293)\n",
       "\tat scala.util.DynamicVariable.withValue(DynamicVariable.scala:62)\n",
       "\tat com.databricks.logging.AttributionContext$.withValue(AttributionContext.scala:289)\n",
       "\tat com.databricks.logging.AttributionContextTracing.withAttributionContext(AttributionContextTracing.scala:47)\n",
       "\tat com.databricks.logging.AttributionContextTracing.withAttributionContext$(AttributionContextTracing.scala:44)\n",
       "\tat com.databricks.logging.activity.ActivityContextFactory$.withAttributionContext(ActivityContextFactory.scala:53)\n",
       "\tat com.databricks.logging.activity.ActivityContextFactory$.$anonfun$withActivityInternal$2(ActivityContextFactory.scala:826)\n",
       "\tat com.databricks.context.integrity.IntegrityCheckContext$ThreadLocalStorage$.withValue(IntegrityCheckContext.scala:73)\n",
       "\tat com.databricks.logging.activity.ActivityContextFactory$.withActivityInternal(ActivityContextFactory.scala:789)\n",
       "\tat com.databricks.logging.activity.ActivityContextFactory$.withActivityInternal(ActivityContextFactory.scala:771)\n",
       "\tat com.databricks.logging.activity.ActivityContextFactory$.$anonfun$withServiceRequestActivity$15(ActivityContextFactory.scala:291)\n",
       "\tat com.databricks.logging.AttributionContextTracing.$anonfun$withAttributionContext$1(AttributionContextTracing.scala:49)\n",
       "\tat com.databricks.logging.AttributionContext$.$anonfun$withValue$1(AttributionContext.scala:293)\n",
       "\tat scala.util.DynamicVariable.withValue(DynamicVariable.scala:62)\n",
       "\tat com.databricks.logging.AttributionContext$.withValue(AttributionContext.scala:289)\n",
       "\tat com.databricks.logging.AttributionContextTracing.withAttributionContext(AttributionContextTracing.scala:47)\n",
       "\tat com.databricks.logging.AttributionContextTracing.withAttributionContext$(AttributionContextTracing.scala:44)\n",
       "\tat com.databricks.logging.activity.ActivityContextFactory$.withAttributionContext(ActivityContextFactory.scala:53)\n",
       "\tat com.databricks.logging.activity.ActivityContextFactory$.withServiceRequestActivity(ActivityContextFactory.scala:291)\n",
       "\tat com.databricks.rpc.JettyServer$RequestManager.handleHttp(JettyServer.scala:513)\n",
       "\tat com.databricks.rpc.JettyServer$RequestManager.doPost(JettyServer.scala:408)\n",
       "\tat javax.servlet.http.HttpServlet.service(HttpServlet.java:665)\n",
       "\tat com.databricks.rpc.HttpServletWithPatch.service(HttpServletWithPatch.scala:33)\n",
       "\tat javax.servlet.http.HttpServlet.service(HttpServlet.java:750)\n",
       "\tat org.eclipse.jetty.servlet.ServletHolder.handle(ServletHolder.java:799)\n",
       "\tat org.eclipse.jetty.servlet.ServletHandler.doHandle(ServletHandler.java:554)\n",
       "\tat org.eclipse.jetty.server.handler.ScopedHandler.nextScope(ScopedHandler.java:190)\n",
       "\tat org.eclipse.jetty.servlet.ServletHandler.doScope(ServletHandler.java:505)\n",
       "\tat org.eclipse.jetty.server.handler.ScopedHandler.handle(ScopedHandler.java:141)\n",
       "\tat org.eclipse.jetty.server.handler.HandlerWrapper.handle(HandlerWrapper.java:127)\n",
       "\tat org.eclipse.jetty.server.Server.handle(Server.java:516)\n",
       "\tat org.eclipse.jetty.server.HttpChannel.lambda$handle$1(HttpChannel.java:487)\n",
       "\tat org.eclipse.jetty.server.HttpChannel.dispatch(HttpChannel.java:732)\n",
       "\tat org.eclipse.jetty.server.HttpChannel.handle(HttpChannel.java:479)\n",
       "\tat org.eclipse.jetty.server.HttpConnection.onFillable(HttpConnection.java:277)\n",
       "\tat org.eclipse.jetty.io.AbstractConnection$ReadCallback.succeeded(AbstractConnection.java:311)\n",
       "\tat org.eclipse.jetty.io.FillInterest.fillable(FillInterest.java:105)\n",
       "\tat org.eclipse.jetty.io.ssl.SslConnection$DecryptedEndPoint.onFillable(SslConnection.java:555)\n",
       "\tat org.eclipse.jetty.io.ssl.SslConnection.onFillable(SslConnection.java:410)\n",
       "\tat org.eclipse.jetty.io.ssl.SslConnection$2.succeeded(SslConnection.java:164)\n",
       "\tat org.eclipse.jetty.io.FillInterest.fillable(FillInterest.java:105)\n",
       "\tat org.eclipse.jetty.io.ChannelEndPoint$1.run(ChannelEndPoint.java:104)\n",
       "\tat org.eclipse.jetty.util.thread.strategy.EatWhatYouKill.runTask(EatWhatYouKill.java:338)\n",
       "\tat org.eclipse.jetty.util.thread.strategy.EatWhatYouKill.doProduce(EatWhatYouKill.java:315)\n",
       "\tat org.eclipse.jetty.util.thread.strategy.EatWhatYouKill.tryProduce(EatWhatYouKill.java:173)\n",
       "\tat org.eclipse.jetty.util.thread.strategy.EatWhatYouKill.run(EatWhatYouKill.java:131)\n",
       "\tat org.eclipse.jetty.util.thread.ReservedThreadExecutor$ReservedThread.run(ReservedThreadExecutor.java:409)\n",
       "\tat com.databricks.rpc.InstrumentedQueuedThreadPool$$anon$1.$anonfun$run$2(InstrumentedQueuedThreadPool.scala:110)\n",
       "\tat scala.runtime.java8.JFunction0$mcV$sp.apply(JFunction0$mcV$sp.java:23)\n",
       "\tat com.databricks.logging.AttributionContextTracing.$anonfun$withAttributionContext$1(AttributionContextTracing.scala:49)\n",
       "\tat com.databricks.logging.AttributionContext$.$anonfun$withValue$1(AttributionContext.scala:293)\n",
       "\tat scala.util.DynamicVariable.withValue(DynamicVariable.scala:62)\n",
       "\tat com.databricks.logging.AttributionContext$.withValue(AttributionContext.scala:289)\n",
       "\tat com.databricks.logging.AttributionContextTracing.withAttributionContext(AttributionContextTracing.scala:47)\n",
       "\tat com.databricks.logging.AttributionContextTracing.withAttributionContext$(AttributionContextTracing.scala:44)\n",
       "\tat com.databricks.rpc.InstrumentedQueuedThreadPool.withAttributionContext(InstrumentedQueuedThreadPool.scala:45)\n",
       "\tat com.databricks.rpc.InstrumentedQueuedThreadPool$$anon$1.$anonfun$run$1(InstrumentedQueuedThreadPool.scala:110)\n",
       "\tat scala.runtime.java8.JFunction0$mcV$sp.apply(JFunction0$mcV$sp.java:23)\n",
       "\tat com.databricks.instrumentation.QueuedThreadPoolInstrumenter.trackActiveThreads(QueuedThreadPoolInstrumenter.scala:132)\n",
       "\tat com.databricks.instrumentation.QueuedThreadPoolInstrumenter.trackActiveThreads$(QueuedThreadPoolInstrumenter.scala:129)\n",
       "\tat com.databricks.rpc.InstrumentedQueuedThreadPool.trackActiveThreads(InstrumentedQueuedThreadPool.scala:45)\n",
       "\tat com.databricks.rpc.InstrumentedQueuedThreadPool$$anon$1.run(InstrumentedQueuedThreadPool.scala:92)\n",
       "\tat org.eclipse.jetty.util.thread.QueuedThreadPool.runJob(QueuedThreadPool.java:883)\n",
       "\tat org.eclipse.jetty.util.thread.QueuedThreadPool$Runner.run(QueuedThreadPool.java:1034)\n",
       "\tat java.base/java.lang.Thread.run(Thread.java:840)"
      ]
     },
     "metadata": {
      "application/vnd.databricks.v1+output": {
       "addedWidgets": {},
       "arguments": {},
       "datasetInfos": [],
       "jupyterProps": null,
       "metadata": {
        "errorSummary": "Cancelled"
       },
       "removedWidgets": [],
       "sqlProps": null,
       "stackFrames": [
        "com.databricks.backend.common.rpc.CommandCancelledException",
        "\tat com.databricks.spark.chauffeur.SequenceExecutionState.$anonfun$cancel$5(SequenceExecutionState.scala:132)",
        "\tat scala.Option.getOrElse(Option.scala:189)",
        "\tat com.databricks.spark.chauffeur.SequenceExecutionState.$anonfun$cancel$3(SequenceExecutionState.scala:132)",
        "\tat com.databricks.spark.chauffeur.SequenceExecutionState.$anonfun$cancel$3$adapted(SequenceExecutionState.scala:129)",
        "\tat scala.collection.immutable.Range.foreach(Range.scala:158)",
        "\tat com.databricks.spark.chauffeur.SequenceExecutionState.cancel(SequenceExecutionState.scala:129)",
        "\tat com.databricks.spark.chauffeur.ExecContextState.cancelRunningSequence(ExecContextState.scala:715)",
        "\tat com.databricks.spark.chauffeur.ExecContextState.$anonfun$cancel$1(ExecContextState.scala:435)",
        "\tat scala.Option.getOrElse(Option.scala:189)",
        "\tat com.databricks.spark.chauffeur.ExecContextState.cancel(ExecContextState.scala:435)",
        "\tat com.databricks.spark.chauffeur.ExecutionContextManagerV1.cancelExecution(ExecutionContextManagerV1.scala:473)",
        "\tat com.databricks.spark.chauffeur.ChauffeurState.$anonfun$process$1(ChauffeurState.scala:736)",
        "\tat com.databricks.logging.UsageLogging.$anonfun$recordOperation$1(UsageLogging.scala:510)",
        "\tat com.databricks.logging.UsageLogging.executeThunkAndCaptureResultTags$1(UsageLogging.scala:616)",
        "\tat com.databricks.logging.UsageLogging.$anonfun$recordOperationWithResultTags$4(UsageLogging.scala:643)",
        "\tat com.databricks.logging.AttributionContextTracing.$anonfun$withAttributionContext$1(AttributionContextTracing.scala:49)",
        "\tat com.databricks.logging.AttributionContext$.$anonfun$withValue$1(AttributionContext.scala:293)",
        "\tat scala.util.DynamicVariable.withValue(DynamicVariable.scala:62)",
        "\tat com.databricks.logging.AttributionContext$.withValue(AttributionContext.scala:289)",
        "\tat com.databricks.logging.AttributionContextTracing.withAttributionContext(AttributionContextTracing.scala:47)",
        "\tat com.databricks.logging.AttributionContextTracing.withAttributionContext$(AttributionContextTracing.scala:44)",
        "\tat com.databricks.spark.chauffeur.ChauffeurState.withAttributionContext(ChauffeurState.scala:82)",
        "\tat com.databricks.logging.AttributionContextTracing.withAttributionTags(AttributionContextTracing.scala:96)",
        "\tat com.databricks.logging.AttributionContextTracing.withAttributionTags$(AttributionContextTracing.scala:77)",
        "\tat com.databricks.spark.chauffeur.ChauffeurState.withAttributionTags(ChauffeurState.scala:82)",
        "\tat com.databricks.logging.UsageLogging.recordOperationWithResultTags(UsageLogging.scala:611)",
        "\tat com.databricks.logging.UsageLogging.recordOperationWithResultTags$(UsageLogging.scala:519)",
        "\tat com.databricks.spark.chauffeur.ChauffeurState.recordOperationWithResultTags(ChauffeurState.scala:82)",
        "\tat com.databricks.logging.UsageLogging.recordOperation(UsageLogging.scala:511)",
        "\tat com.databricks.logging.UsageLogging.recordOperation$(UsageLogging.scala:475)",
        "\tat com.databricks.spark.chauffeur.ChauffeurState.recordOperation(ChauffeurState.scala:82)",
        "\tat com.databricks.spark.chauffeur.ChauffeurState.process(ChauffeurState.scala:714)",
        "\tat com.databricks.spark.chauffeur.Chauffeur$$anon$1$$anonfun$receive$1.handleDriverRequest$1(Chauffeur.scala:911)",
        "\tat com.databricks.spark.chauffeur.Chauffeur$$anon$1$$anonfun$receive$1.$anonfun$applyOrElse$4(Chauffeur.scala:937)",
        "\tat com.databricks.logging.UsageLogging.executeThunkAndCaptureResultTags$1(UsageLogging.scala:616)",
        "\tat com.databricks.logging.UsageLogging.$anonfun$recordOperationWithResultTags$4(UsageLogging.scala:643)",
        "\tat com.databricks.logging.AttributionContextTracing.$anonfun$withAttributionContext$1(AttributionContextTracing.scala:49)",
        "\tat com.databricks.logging.AttributionContext$.$anonfun$withValue$1(AttributionContext.scala:293)",
        "\tat scala.util.DynamicVariable.withValue(DynamicVariable.scala:62)",
        "\tat com.databricks.logging.AttributionContext$.withValue(AttributionContext.scala:289)",
        "\tat com.databricks.logging.AttributionContextTracing.withAttributionContext(AttributionContextTracing.scala:47)",
        "\tat com.databricks.logging.AttributionContextTracing.withAttributionContext$(AttributionContextTracing.scala:44)",
        "\tat com.databricks.rpc.ServerBackend.withAttributionContext(ServerBackend.scala:22)",
        "\tat com.databricks.logging.AttributionContextTracing.withAttributionTags(AttributionContextTracing.scala:96)",
        "\tat com.databricks.logging.AttributionContextTracing.withAttributionTags$(AttributionContextTracing.scala:77)",
        "\tat com.databricks.rpc.ServerBackend.withAttributionTags(ServerBackend.scala:22)",
        "\tat com.databricks.logging.UsageLogging.recordOperationWithResultTags(UsageLogging.scala:611)",
        "\tat com.databricks.logging.UsageLogging.recordOperationWithResultTags$(UsageLogging.scala:519)",
        "\tat com.databricks.rpc.ServerBackend.recordOperationWithResultTags(ServerBackend.scala:22)",
        "\tat com.databricks.spark.chauffeur.Chauffeur$$anon$1$$anonfun$receive$1.handleDriverRequestWithUsageLogging$1(Chauffeur.scala:936)",
        "\tat com.databricks.spark.chauffeur.Chauffeur$$anon$1$$anonfun$receive$1.applyOrElse(Chauffeur.scala:991)",
        "\tat com.databricks.spark.chauffeur.Chauffeur$$anon$1$$anonfun$receive$1.applyOrElse(Chauffeur.scala:776)",
        "\tat com.databricks.rpc.ServerBackend.$anonfun$internalReceive0$2(ServerBackend.scala:174)",
        "\tat com.databricks.rpc.ServerBackend$$anonfun$commonReceive$1.applyOrElse(ServerBackend.scala:200)",
        "\tat com.databricks.rpc.ServerBackend$$anonfun$commonReceive$1.applyOrElse(ServerBackend.scala:200)",
        "\tat com.databricks.rpc.ServerBackend.internalReceive0(ServerBackend.scala:171)",
        "\tat com.databricks.rpc.ServerBackend.$anonfun$internalReceive$1(ServerBackend.scala:147)",
        "\tat com.databricks.logging.UsageLogging.$anonfun$recordOperation$1(UsageLogging.scala:510)",
        "\tat com.databricks.logging.UsageLogging.executeThunkAndCaptureResultTags$1(UsageLogging.scala:616)",
        "\tat com.databricks.logging.UsageLogging.$anonfun$recordOperationWithResultTags$4(UsageLogging.scala:643)",
        "\tat com.databricks.logging.AttributionContextTracing.$anonfun$withAttributionContext$1(AttributionContextTracing.scala:49)",
        "\tat com.databricks.logging.AttributionContext$.$anonfun$withValue$1(AttributionContext.scala:293)",
        "\tat scala.util.DynamicVariable.withValue(DynamicVariable.scala:62)",
        "\tat com.databricks.logging.AttributionContext$.withValue(AttributionContext.scala:289)",
        "\tat com.databricks.logging.AttributionContextTracing.withAttributionContext(AttributionContextTracing.scala:47)",
        "\tat com.databricks.logging.AttributionContextTracing.withAttributionContext$(AttributionContextTracing.scala:44)",
        "\tat com.databricks.rpc.ServerBackend.withAttributionContext(ServerBackend.scala:22)",
        "\tat com.databricks.logging.AttributionContextTracing.withAttributionTags(AttributionContextTracing.scala:96)",
        "\tat com.databricks.logging.AttributionContextTracing.withAttributionTags$(AttributionContextTracing.scala:77)",
        "\tat com.databricks.rpc.ServerBackend.withAttributionTags(ServerBackend.scala:22)",
        "\tat com.databricks.logging.UsageLogging.recordOperationWithResultTags(UsageLogging.scala:611)",
        "\tat com.databricks.logging.UsageLogging.recordOperationWithResultTags$(UsageLogging.scala:519)",
        "\tat com.databricks.rpc.ServerBackend.recordOperationWithResultTags(ServerBackend.scala:22)",
        "\tat com.databricks.logging.UsageLogging.recordOperation(UsageLogging.scala:511)",
        "\tat com.databricks.logging.UsageLogging.recordOperation$(UsageLogging.scala:475)",
        "\tat com.databricks.rpc.ServerBackend.recordOperation(ServerBackend.scala:22)",
        "\tat com.databricks.rpc.ServerBackend.internalReceive(ServerBackend.scala:146)",
        "\tat com.databricks.rpc.JettyServer$RequestManager.handleRPC(JettyServer.scala:1033)",
        "\tat com.databricks.rpc.JettyServer$RequestManager.handleRequestAndRespond(JettyServer.scala:953)",
        "\tat com.databricks.rpc.JettyServer$RequestManager.$anonfun$handleHttp$5(JettyServer.scala:548)",
        "\tat com.databricks.rpc.JettyServer$RequestManager.$anonfun$handleHttp$5$adapted(JettyServer.scala:513)",
        "\tat com.databricks.logging.activity.ActivityContextFactory$.$anonfun$withActivityInternal$12(ActivityContextFactory.scala:826)",
        "\tat com.databricks.logging.AttributionContextTracing.$anonfun$withAttributionContext$1(AttributionContextTracing.scala:49)",
        "\tat com.databricks.logging.AttributionContext$.$anonfun$withValue$1(AttributionContext.scala:293)",
        "\tat scala.util.DynamicVariable.withValue(DynamicVariable.scala:62)",
        "\tat com.databricks.logging.AttributionContext$.withValue(AttributionContext.scala:289)",
        "\tat com.databricks.logging.AttributionContextTracing.withAttributionContext(AttributionContextTracing.scala:47)",
        "\tat com.databricks.logging.AttributionContextTracing.withAttributionContext$(AttributionContextTracing.scala:44)",
        "\tat com.databricks.logging.activity.ActivityContextFactory$.withAttributionContext(ActivityContextFactory.scala:53)",
        "\tat com.databricks.logging.activity.ActivityContextFactory$.$anonfun$withActivityInternal$2(ActivityContextFactory.scala:826)",
        "\tat com.databricks.context.integrity.IntegrityCheckContext$ThreadLocalStorage$.withValue(IntegrityCheckContext.scala:73)",
        "\tat com.databricks.logging.activity.ActivityContextFactory$.withActivityInternal(ActivityContextFactory.scala:789)",
        "\tat com.databricks.logging.activity.ActivityContextFactory$.withActivityInternal(ActivityContextFactory.scala:771)",
        "\tat com.databricks.logging.activity.ActivityContextFactory$.$anonfun$withServiceRequestActivity$15(ActivityContextFactory.scala:291)",
        "\tat com.databricks.logging.AttributionContextTracing.$anonfun$withAttributionContext$1(AttributionContextTracing.scala:49)",
        "\tat com.databricks.logging.AttributionContext$.$anonfun$withValue$1(AttributionContext.scala:293)",
        "\tat scala.util.DynamicVariable.withValue(DynamicVariable.scala:62)",
        "\tat com.databricks.logging.AttributionContext$.withValue(AttributionContext.scala:289)",
        "\tat com.databricks.logging.AttributionContextTracing.withAttributionContext(AttributionContextTracing.scala:47)",
        "\tat com.databricks.logging.AttributionContextTracing.withAttributionContext$(AttributionContextTracing.scala:44)",
        "\tat com.databricks.logging.activity.ActivityContextFactory$.withAttributionContext(ActivityContextFactory.scala:53)",
        "\tat com.databricks.logging.activity.ActivityContextFactory$.withServiceRequestActivity(ActivityContextFactory.scala:291)",
        "\tat com.databricks.rpc.JettyServer$RequestManager.handleHttp(JettyServer.scala:513)",
        "\tat com.databricks.rpc.JettyServer$RequestManager.doPost(JettyServer.scala:408)",
        "\tat javax.servlet.http.HttpServlet.service(HttpServlet.java:665)",
        "\tat com.databricks.rpc.HttpServletWithPatch.service(HttpServletWithPatch.scala:33)",
        "\tat javax.servlet.http.HttpServlet.service(HttpServlet.java:750)",
        "\tat org.eclipse.jetty.servlet.ServletHolder.handle(ServletHolder.java:799)",
        "\tat org.eclipse.jetty.servlet.ServletHandler.doHandle(ServletHandler.java:554)",
        "\tat org.eclipse.jetty.server.handler.ScopedHandler.nextScope(ScopedHandler.java:190)",
        "\tat org.eclipse.jetty.servlet.ServletHandler.doScope(ServletHandler.java:505)",
        "\tat org.eclipse.jetty.server.handler.ScopedHandler.handle(ScopedHandler.java:141)",
        "\tat org.eclipse.jetty.server.handler.HandlerWrapper.handle(HandlerWrapper.java:127)",
        "\tat org.eclipse.jetty.server.Server.handle(Server.java:516)",
        "\tat org.eclipse.jetty.server.HttpChannel.lambda$handle$1(HttpChannel.java:487)",
        "\tat org.eclipse.jetty.server.HttpChannel.dispatch(HttpChannel.java:732)",
        "\tat org.eclipse.jetty.server.HttpChannel.handle(HttpChannel.java:479)",
        "\tat org.eclipse.jetty.server.HttpConnection.onFillable(HttpConnection.java:277)",
        "\tat org.eclipse.jetty.io.AbstractConnection$ReadCallback.succeeded(AbstractConnection.java:311)",
        "\tat org.eclipse.jetty.io.FillInterest.fillable(FillInterest.java:105)",
        "\tat org.eclipse.jetty.io.ssl.SslConnection$DecryptedEndPoint.onFillable(SslConnection.java:555)",
        "\tat org.eclipse.jetty.io.ssl.SslConnection.onFillable(SslConnection.java:410)",
        "\tat org.eclipse.jetty.io.ssl.SslConnection$2.succeeded(SslConnection.java:164)",
        "\tat org.eclipse.jetty.io.FillInterest.fillable(FillInterest.java:105)",
        "\tat org.eclipse.jetty.io.ChannelEndPoint$1.run(ChannelEndPoint.java:104)",
        "\tat org.eclipse.jetty.util.thread.strategy.EatWhatYouKill.runTask(EatWhatYouKill.java:338)",
        "\tat org.eclipse.jetty.util.thread.strategy.EatWhatYouKill.doProduce(EatWhatYouKill.java:315)",
        "\tat org.eclipse.jetty.util.thread.strategy.EatWhatYouKill.tryProduce(EatWhatYouKill.java:173)",
        "\tat org.eclipse.jetty.util.thread.strategy.EatWhatYouKill.run(EatWhatYouKill.java:131)",
        "\tat org.eclipse.jetty.util.thread.ReservedThreadExecutor$ReservedThread.run(ReservedThreadExecutor.java:409)",
        "\tat com.databricks.rpc.InstrumentedQueuedThreadPool$$anon$1.$anonfun$run$2(InstrumentedQueuedThreadPool.scala:110)",
        "\tat scala.runtime.java8.JFunction0$mcV$sp.apply(JFunction0$mcV$sp.java:23)",
        "\tat com.databricks.logging.AttributionContextTracing.$anonfun$withAttributionContext$1(AttributionContextTracing.scala:49)",
        "\tat com.databricks.logging.AttributionContext$.$anonfun$withValue$1(AttributionContext.scala:293)",
        "\tat scala.util.DynamicVariable.withValue(DynamicVariable.scala:62)",
        "\tat com.databricks.logging.AttributionContext$.withValue(AttributionContext.scala:289)",
        "\tat com.databricks.logging.AttributionContextTracing.withAttributionContext(AttributionContextTracing.scala:47)",
        "\tat com.databricks.logging.AttributionContextTracing.withAttributionContext$(AttributionContextTracing.scala:44)",
        "\tat com.databricks.rpc.InstrumentedQueuedThreadPool.withAttributionContext(InstrumentedQueuedThreadPool.scala:45)",
        "\tat com.databricks.rpc.InstrumentedQueuedThreadPool$$anon$1.$anonfun$run$1(InstrumentedQueuedThreadPool.scala:110)",
        "\tat scala.runtime.java8.JFunction0$mcV$sp.apply(JFunction0$mcV$sp.java:23)",
        "\tat com.databricks.instrumentation.QueuedThreadPoolInstrumenter.trackActiveThreads(QueuedThreadPoolInstrumenter.scala:132)",
        "\tat com.databricks.instrumentation.QueuedThreadPoolInstrumenter.trackActiveThreads$(QueuedThreadPoolInstrumenter.scala:129)",
        "\tat com.databricks.rpc.InstrumentedQueuedThreadPool.trackActiveThreads(InstrumentedQueuedThreadPool.scala:45)",
        "\tat com.databricks.rpc.InstrumentedQueuedThreadPool$$anon$1.run(InstrumentedQueuedThreadPool.scala:92)",
        "\tat org.eclipse.jetty.util.thread.QueuedThreadPool.runJob(QueuedThreadPool.java:883)",
        "\tat org.eclipse.jetty.util.thread.QueuedThreadPool$Runner.run(QueuedThreadPool.java:1034)",
        "\tat java.base/java.lang.Thread.run(Thread.java:840)"
       ],
       "type": "baseError"
      }
     },
     "output_type": "display_data"
    }
   ],
   "source": [
    "CALL users.kent_marten.UpdateCustomerLoyaltyTiers()"
   ]
  },
  {
   "cell_type": "code",
   "execution_count": 0,
   "metadata": {
    "application/vnd.databricks.v1+cell": {
     "cellMetadata": {
      "byteLimit": 2048000,
      "rowLimit": 10000
     },
     "inputWidgets": {},
     "nuid": "2b54bed0-5d79-4efc-83ab-291524de1ec7",
     "showTitle": false,
     "tableResultSettingsMap": {},
     "title": ""
    }
   },
   "outputs": [
    {
     "data": {
      "text/html": [
       "<style scoped>\n",
       "  .table-result-container {\n",
       "    max-height: 300px;\n",
       "    overflow: auto;\n",
       "  }\n",
       "  table, th, td {\n",
       "    border: 1px solid black;\n",
       "    border-collapse: collapse;\n",
       "  }\n",
       "  th, td {\n",
       "    padding: 5px;\n",
       "  }\n",
       "  th {\n",
       "    text-align: left;\n",
       "  }\n",
       "</style><div class='table-result-container'><table class='table-result'><thead style='background-color: white'><tr></tr></thead><tbody></tbody></table></div>"
      ]
     },
     "metadata": {
      "application/vnd.databricks.v1+output": {
       "addedWidgets": {},
       "aggData": [],
       "aggError": "",
       "aggOverflow": false,
       "aggSchema": [],
       "aggSeriesLimitReached": false,
       "aggType": "",
       "arguments": {},
       "columnCustomDisplayInfos": {},
       "data": [],
       "datasetInfos": [],
       "dbfsResultPath": null,
       "isJsonSchema": true,
       "metadata": {},
       "overflow": false,
       "plotOptions": {
        "customPlotOptions": {},
        "displayType": "table",
        "pivotAggregation": null,
        "pivotColumns": null,
        "xColumns": null,
        "yColumns": null
       },
       "removedWidgets": [],
       "schema": [],
       "type": "table"
      }
     },
     "output_type": "display_data"
    }
   ],
   "source": [
    "CREATE OR REPLACE PROCEDURE users.kent_marten.ProductDemandByFranchise(\n",
    "  IN pFranchiseID INT,\n",
    "  IN pDate DATE\n",
    ")\n",
    "LANGUAGE SQL\n",
    "SQL SECURITY INVOKER\n",
    "AS\n",
    "BEGIN\n",
    "  DROP TABLE IF EXISTS users.kent_marten.ingredients_count_for_franchise;\n",
    "  CREATE TABLE users.kent_marten.ingredients_count_for_franchise AS (\n",
    "    SELECT DATE(dateTime), product, SUM(quantity) AS totalQuantity\n",
    "    FROM users.kent_marten.transactions\n",
    "    WHERE franchiseID = pFranchiseID\n",
    "      AND dateTime > dateadd(day, -30, pDate)\n",
    "    GROUP BY DATE(dateTime), product\n",
    "  );\n",
    "\n",
    "  SELECT * FROM ai_forecast(\n",
    "    TABLE(users.kent_marten.ingredients_count_for_franchise),\n",
    "    horizon => dateadd(day, 10, pDate),\n",
    "    time_col => 'dateTime',\n",
    "    value_col => 'totalQuantity',\n",
    "    group_col => 'product'\n",
    "  )\n",
    "  ORDER BY product ASC, dateTime ASC;\n",
    "END"
   ]
  },
  {
   "cell_type": "code",
   "execution_count": 0,
   "metadata": {
    "application/vnd.databricks.v1+cell": {
     "cellMetadata": {
      "byteLimit": 2048000,
      "rowLimit": 10000
     },
     "inputWidgets": {},
     "nuid": "4a873a07-bac1-4a91-b5f9-7f117f303f6d",
     "showTitle": false,
     "tableResultSettingsMap": {},
     "title": ""
    }
   },
   "outputs": [
    {
     "data": {
      "text/html": [
       "<style scoped>\n",
       "  .table-result-container {\n",
       "    max-height: 300px;\n",
       "    overflow: auto;\n",
       "  }\n",
       "  table, th, td {\n",
       "    border: 1px solid black;\n",
       "    border-collapse: collapse;\n",
       "  }\n",
       "  th, td {\n",
       "    padding: 5px;\n",
       "  }\n",
       "  th {\n",
       "    text-align: left;\n",
       "  }\n",
       "</style><div class='table-result-container'><table class='table-result'><thead style='background-color: white'><tr><th>dateTime</th><th>product</th><th>totalQuantity_forecast</th><th>totalQuantity_upper</th><th>totalQuantity_lower</th></tr></thead><tbody><tr><td>2024-05-17</td><td>Austin Almond Biscotti</td><td>41.44262295081967</td><td>76.51821624572545</td><td>0.8154564698723306</td></tr><tr><td>2024-05-18</td><td>Austin Almond Biscotti</td><td>42.049180327868854</td><td>78.63205305861732</td><td>1.4220134290066966</td></tr><tr><td>2024-05-19</td><td>Austin Almond Biscotti</td><td>42.65573770491804</td><td>80.63868709850402</td><td>2.0285707446504517</td></tr><tr><td>2024-05-20</td><td>Austin Almond Biscotti</td><td>43.262295081967224</td><td>82.53448366520145</td><td>2.635128112677158</td></tr><tr><td>2024-05-21</td><td>Austin Almond Biscotti</td><td>43.8688524590164</td><td>84.31874621441656</td><td>3.241685488400641</td></tr><tr><td>2024-05-22</td><td>Austin Almond Biscotti</td><td>44.47540983606558</td><td>85.99327815350247</td><td>3.848242865255031</td></tr><tr><td>2024-05-23</td><td>Austin Almond Biscotti</td><td>45.081967213114766</td><td>87.56189445101549</td><td>4.454800242275596</td></tr><tr><td>2024-05-24</td><td>Austin Almond Biscotti</td><td>45.68852459016395</td><td>89.02992943185474</td><td>5.0613576193205745</td></tr><tr><td>2024-05-25</td><td>Austin Almond Biscotti</td><td>46.29508196721312</td><td>90.4037755142011</td><td>5.667914996369127</td></tr><tr><td>2024-05-26</td><td>Austin Almond Biscotti</td><td>46.90163934426231</td><td>91.6904754986813</td><td>6.27447237341822</td></tr><tr><td>2024-05-27</td><td>Austin Almond Biscotti</td><td>47.50819672131149</td><td>92.89738014632368</td><td>6.881029750467391</td></tr><tr><td>2024-05-16</td><td>Golden Gate Ginger</td><td>6.0849766033028105</td><td>87.947672156008</td><td>-55.12629471445164</td></tr><tr><td>2024-05-17</td><td>Golden Gate Ginger</td><td>6.451034641222058</td><td>89.28941693394992</td><td>-54.7619043204207</td></tr><tr><td>2024-05-18</td><td>Golden Gate Ginger</td><td>17.009427637055474</td><td>100.68170812480918</td><td>-44.20439155880872</td></tr><tr><td>2024-05-19</td><td>Golden Gate Ginger</td><td>28.732934598172275</td><td>113.11551422545189</td><td>-32.48134920351224</td></tr><tr><td>2024-05-20</td><td>Golden Gate Ginger</td><td>31.716979952089524</td><td>116.70283187440123</td><td>-29.497549075608426</td></tr><tr><td>2024-05-21</td><td>Golden Gate Ginger</td><td>22.637980969073784</td><td>108.13494757238578</td><td>-38.5766774919325</td></tr><tr><td>2024-05-22</td><td>Golden Gate Ginger</td><td>7.256073346362618</td><td>93.185174567618</td><td>-53.958653430939556</td></tr><tr><td>2024-05-23</td><td>Golden Gate Ginger</td><td>-3.9223884572103542</td><td>82.37142900245003</td><td>-65.13715129253518</td></tr><tr><td>2024-05-24</td><td>Golden Gate Ginger</td><td>-3.5563304192911094</td><td>83.04484586571365</td><td>-64.77111228638476</td></tr><tr><td>2024-05-25</td><td>Golden Gate Ginger</td><td>7.002062576542337</td><td>93.8619363820084</td><td>-54.21272933569646</td></tr><tr><td>2024-05-26</td><td>Golden Gate Ginger</td><td>18.7255695376591</td><td>105.80295418926613</td><td>-42.48922767649982</td></tr><tr><td>2024-05-27</td><td>Golden Gate Ginger</td><td>21.70961489157636</td><td>108.969718882425</td><td>-39.50518512098451</td></tr><tr><td>2024-05-13</td><td>Orchard Oasis</td><td>37.53928095872169</td><td>51.60053267869202</td><td>16.163315066191654</td></tr><tr><td>2024-05-14</td><td>Orchard Oasis</td><td>38.8282290279627</td><td>52.88948074793303</td><td>17.243390159734165</td></tr><tr><td>2024-05-15</td><td>Orchard Oasis</td><td>40.117177097203715</td><td>54.178428817174044</td><td>18.374276403384247</td></tr><tr><td>2024-05-16</td><td>Orchard Oasis</td><td>41.406125166444724</td><td>55.46737688641505</td><td>19.54412189988303</td></tr><tr><td>2024-05-17</td><td>Orchard Oasis</td><td>42.69507323568574</td><td>56.75632495565607</td><td>20.743611779472072</td></tr><tr><td>2024-05-18</td><td>Orchard Oasis</td><td>43.984021304926756</td><td>58.045273024897085</td><td>21.965529616923583</td></tr><tr><td>2024-05-19</td><td>Orchard Oasis</td><td>45.27296937416776</td><td>59.33422109413809</td><td>23.20434331374024</td></tr><tr><td>2024-05-20</td><td>Orchard Oasis</td><td>46.561917443408774</td><td>60.6231691633791</td><td>24.455844763628598</td></tr><tr><td>2024-05-21</td><td>Orchard Oasis</td><td>47.85086551264978</td><td>61.91211723262011</td><td>25.716851281823065</td></tr><tr><td>2024-05-22</td><td>Orchard Oasis</td><td>49.1398135818908</td><td>63.20106530186113</td><td>26.984965925270956</td></tr><tr><td>2024-05-23</td><td>Orchard Oasis</td><td>50.428761651131815</td><td>64.49001337110215</td><td>28.258389177139318</td></tr><tr><td>2024-05-24</td><td>Orchard Oasis</td><td>51.71770972037283</td><td>65.77896144034317</td><td>29.535773190129326</td></tr><tr><td>2024-05-25</td><td>Orchard Oasis</td><td>53.006657789613826</td><td>67.06790950958415</td><td>30.81611016733081</td></tr><tr><td>2024-05-26</td><td>Orchard Oasis</td><td>54.29560585885484</td><td>68.35685757882517</td><td>32.09864753965818</td></tr><tr><td>2024-05-27</td><td>Orchard Oasis</td><td>55.58455392809586</td><td>69.64580564806619</td><td>33.382823865866996</td></tr><tr><td>2024-05-17</td><td>Outback Oatmeal</td><td>44.97617929031175</td><td>55.664011396869064</td><td>30.924181084055462</td></tr><tr><td>2024-05-18</td><td>Outback Oatmeal</td><td>48.332549640778495</td><td>59.020383346208895</td><td>34.099953114614266</td></tr><tr><td>2024-05-19</td><td>Outback Oatmeal</td><td>45.89362691169359</td><td>56.58146119914546</td><td>31.52168645135521</td></tr><tr><td>2024-05-20</td><td>Outback Oatmeal</td><td>40.719689758392796</td><td>51.407524257711984</td><td>26.240810347015746</td></tr><tr><td>2024-05-21</td><td>Outback Oatmeal</td><td>37.93053848177341</td><td>48.618373058216484</td><td>23.36992611758894</td></tr><tr><td>2024-05-22</td><td>Outback Oatmeal</td><td>40.850180976825065</td><td>51.538015581342755</td><td>26.227296683472687</td></tr><tr><td>2024-05-23</td><td>Outback Oatmeal</td><td>48.50378699029846</td><td>59.19162160503586</td><td>33.83357163945175</td></tr><tr><td>2024-05-24</td><td>Outback Oatmeal</td><td>56.35175518431524</td><td>67.03958980277282</td><td>41.645630408612384</td></tr><tr><td>2024-05-25</td><td>Outback Oatmeal</td><td>59.70812553478197</td><td>70.39596015459378</td><td>44.97479442994468</td></tr><tr><td>2024-05-26</td><td>Outback Oatmeal</td><td>57.26920280569707</td><td>67.95703742600183</td><td>42.51528075842969</td></tr><tr><td>2024-05-27</td><td>Outback Oatmeal</td><td>52.09526565239627</td><td>62.78310027288049</td><td>37.32577183710533</td></tr><tr><td>2024-05-17</td><td>Pearly Pies</td><td>32.148625888232026</td><td>46.78912435905643</td><td>14.709737892705505</td></tr><tr><td>2024-05-18</td><td>Pearly Pies</td><td>43.882800935379244</td><td>58.52329940620365</td><td>26.095348725115258</td></tr><tr><td>2024-05-19</td><td>Pearly Pies</td><td>52.0534097448802</td><td>66.69390821570461</td><td>33.93712956564135</td></tr><tr><td>2024-05-20</td><td>Pearly Pies</td><td>51.13703085538861</td><td>65.77752932621301</td><td>32.71142752014718</td></tr><tr><td>2024-05-21</td><td>Pearly Pies</td><td>42.45292988366802</td><td>57.09342835449243</td><td>23.737133213397957</td></tr><tr><td>2024-05-22</td><td>Pearly Pies</td><td>33.1696256070547</td><td>47.81012407787911</td><td>14.182268850483844</td></tr><tr><td>2024-05-23</td><td>Pearly Pies</td><td>30.906849112988976</td><td>45.547347583813384</td><td>11.665968829192611</td></tr><tr><td>2024-05-24</td><td>Pearly Pies</td><td>37.997730875984715</td><td>52.638229346809126</td><td>18.52068723896873</td></tr><tr><td>2024-05-25</td><td>Pearly Pies</td><td>49.731905923131926</td><td>64.37240439395633</td><td>30.035322017626996</td></tr><tr><td>2024-05-26</td><td>Pearly Pies</td><td>57.90251473263288</td><td>72.54301320345729</td><td>38.002233145195284</td></tr><tr><td>2024-05-27</td><td>Pearly Pies</td><td>56.98613584314129</td><td>71.6266343139657</td><td>36.8971906976727</td></tr><tr><td>2024-05-16</td><td>Tokyo Tidbits</td><td>12.564705882352932</td><td>85.91445463444552</td><td>-29.663982825913116</td></tr><tr><td>2024-05-18</td><td>Tokyo Tidbits</td><td>9.913725490196068</td><td>83.27463953708259</td><td>-32.88288447582099</td></tr><tr><td>2024-05-20</td><td>Tokyo Tidbits</td><td>7.262745098039202</td><td>80.62566084648105</td><td>-35.878171802055476</td></tr><tr><td>2024-05-22</td><td>Tokyo Tidbits</td><td>4.611764705882332</td><td>77.975039264276</td><td>-38.73610917038676</td></tr><tr><td>2024-05-24</td><td>Tokyo Tidbits</td><td>1.9607843137254684</td><td>75.32412318799142</td><td>-41.510847342237454</td></tr><tr><td>2024-05-26</td><td>Tokyo Tidbits</td><td>-0.6901960784313985</td><td>72.67315432425461</td><td>-44.23560506724532</td></tr></tbody></table></div>"
      ]
     },
     "metadata": {
      "application/vnd.databricks.v1+output": {
       "addedWidgets": {},
       "aggData": [],
       "aggError": "",
       "aggOverflow": false,
       "aggSchema": [],
       "aggSeriesLimitReached": false,
       "aggType": "",
       "arguments": {},
       "columnCustomDisplayInfos": {},
       "data": [
        [
         "2024-05-17",
         "Austin Almond Biscotti",
         41.44262295081967,
         76.51821624572545,
         0.8154564698723306
        ],
        [
         "2024-05-18",
         "Austin Almond Biscotti",
         42.049180327868854,
         78.63205305861732,
         1.4220134290066966
        ],
        [
         "2024-05-19",
         "Austin Almond Biscotti",
         42.65573770491804,
         80.63868709850402,
         2.0285707446504517
        ],
        [
         "2024-05-20",
         "Austin Almond Biscotti",
         43.262295081967224,
         82.53448366520145,
         2.635128112677158
        ],
        [
         "2024-05-21",
         "Austin Almond Biscotti",
         43.8688524590164,
         84.31874621441656,
         3.241685488400641
        ],
        [
         "2024-05-22",
         "Austin Almond Biscotti",
         44.47540983606558,
         85.99327815350247,
         3.848242865255031
        ],
        [
         "2024-05-23",
         "Austin Almond Biscotti",
         45.081967213114766,
         87.56189445101549,
         4.454800242275596
        ],
        [
         "2024-05-24",
         "Austin Almond Biscotti",
         45.68852459016395,
         89.02992943185474,
         5.0613576193205745
        ],
        [
         "2024-05-25",
         "Austin Almond Biscotti",
         46.29508196721312,
         90.4037755142011,
         5.667914996369127
        ],
        [
         "2024-05-26",
         "Austin Almond Biscotti",
         46.90163934426231,
         91.6904754986813,
         6.27447237341822
        ],
        [
         "2024-05-27",
         "Austin Almond Biscotti",
         47.50819672131149,
         92.89738014632368,
         6.881029750467391
        ],
        [
         "2024-05-16",
         "Golden Gate Ginger",
         6.0849766033028105,
         87.947672156008,
         -55.12629471445164
        ],
        [
         "2024-05-17",
         "Golden Gate Ginger",
         6.451034641222058,
         89.28941693394992,
         -54.7619043204207
        ],
        [
         "2024-05-18",
         "Golden Gate Ginger",
         17.009427637055474,
         100.68170812480918,
         -44.20439155880872
        ],
        [
         "2024-05-19",
         "Golden Gate Ginger",
         28.732934598172275,
         113.11551422545189,
         -32.48134920351224
        ],
        [
         "2024-05-20",
         "Golden Gate Ginger",
         31.716979952089524,
         116.70283187440123,
         -29.497549075608426
        ],
        [
         "2024-05-21",
         "Golden Gate Ginger",
         22.637980969073784,
         108.13494757238578,
         -38.5766774919325
        ],
        [
         "2024-05-22",
         "Golden Gate Ginger",
         7.256073346362618,
         93.185174567618,
         -53.958653430939556
        ],
        [
         "2024-05-23",
         "Golden Gate Ginger",
         -3.9223884572103542,
         82.37142900245003,
         -65.13715129253518
        ],
        [
         "2024-05-24",
         "Golden Gate Ginger",
         -3.5563304192911094,
         83.04484586571365,
         -64.77111228638476
        ],
        [
         "2024-05-25",
         "Golden Gate Ginger",
         7.002062576542337,
         93.8619363820084,
         -54.21272933569646
        ],
        [
         "2024-05-26",
         "Golden Gate Ginger",
         18.7255695376591,
         105.80295418926613,
         -42.48922767649982
        ],
        [
         "2024-05-27",
         "Golden Gate Ginger",
         21.70961489157636,
         108.969718882425,
         -39.50518512098451
        ],
        [
         "2024-05-13",
         "Orchard Oasis",
         37.53928095872169,
         51.60053267869202,
         16.163315066191654
        ],
        [
         "2024-05-14",
         "Orchard Oasis",
         38.8282290279627,
         52.88948074793303,
         17.243390159734165
        ],
        [
         "2024-05-15",
         "Orchard Oasis",
         40.117177097203715,
         54.178428817174044,
         18.374276403384247
        ],
        [
         "2024-05-16",
         "Orchard Oasis",
         41.406125166444724,
         55.46737688641505,
         19.54412189988303
        ],
        [
         "2024-05-17",
         "Orchard Oasis",
         42.69507323568574,
         56.75632495565607,
         20.743611779472072
        ],
        [
         "2024-05-18",
         "Orchard Oasis",
         43.984021304926756,
         58.045273024897085,
         21.965529616923583
        ],
        [
         "2024-05-19",
         "Orchard Oasis",
         45.27296937416776,
         59.33422109413809,
         23.20434331374024
        ],
        [
         "2024-05-20",
         "Orchard Oasis",
         46.561917443408774,
         60.6231691633791,
         24.455844763628598
        ],
        [
         "2024-05-21",
         "Orchard Oasis",
         47.85086551264978,
         61.91211723262011,
         25.716851281823065
        ],
        [
         "2024-05-22",
         "Orchard Oasis",
         49.1398135818908,
         63.20106530186113,
         26.984965925270956
        ],
        [
         "2024-05-23",
         "Orchard Oasis",
         50.428761651131815,
         64.49001337110215,
         28.258389177139318
        ],
        [
         "2024-05-24",
         "Orchard Oasis",
         51.71770972037283,
         65.77896144034317,
         29.535773190129326
        ],
        [
         "2024-05-25",
         "Orchard Oasis",
         53.006657789613826,
         67.06790950958415,
         30.81611016733081
        ],
        [
         "2024-05-26",
         "Orchard Oasis",
         54.29560585885484,
         68.35685757882517,
         32.09864753965818
        ],
        [
         "2024-05-27",
         "Orchard Oasis",
         55.58455392809586,
         69.64580564806619,
         33.382823865866996
        ],
        [
         "2024-05-17",
         "Outback Oatmeal",
         44.97617929031175,
         55.664011396869064,
         30.924181084055462
        ],
        [
         "2024-05-18",
         "Outback Oatmeal",
         48.332549640778495,
         59.020383346208895,
         34.099953114614266
        ],
        [
         "2024-05-19",
         "Outback Oatmeal",
         45.89362691169359,
         56.58146119914546,
         31.52168645135521
        ],
        [
         "2024-05-20",
         "Outback Oatmeal",
         40.719689758392796,
         51.407524257711984,
         26.240810347015746
        ],
        [
         "2024-05-21",
         "Outback Oatmeal",
         37.93053848177341,
         48.618373058216484,
         23.36992611758894
        ],
        [
         "2024-05-22",
         "Outback Oatmeal",
         40.850180976825065,
         51.538015581342755,
         26.227296683472687
        ],
        [
         "2024-05-23",
         "Outback Oatmeal",
         48.50378699029846,
         59.19162160503586,
         33.83357163945175
        ],
        [
         "2024-05-24",
         "Outback Oatmeal",
         56.35175518431524,
         67.03958980277282,
         41.645630408612384
        ],
        [
         "2024-05-25",
         "Outback Oatmeal",
         59.70812553478197,
         70.39596015459378,
         44.97479442994468
        ],
        [
         "2024-05-26",
         "Outback Oatmeal",
         57.26920280569707,
         67.95703742600183,
         42.51528075842969
        ],
        [
         "2024-05-27",
         "Outback Oatmeal",
         52.09526565239627,
         62.78310027288049,
         37.32577183710533
        ],
        [
         "2024-05-17",
         "Pearly Pies",
         32.148625888232026,
         46.78912435905643,
         14.709737892705505
        ],
        [
         "2024-05-18",
         "Pearly Pies",
         43.882800935379244,
         58.52329940620365,
         26.095348725115258
        ],
        [
         "2024-05-19",
         "Pearly Pies",
         52.0534097448802,
         66.69390821570461,
         33.93712956564135
        ],
        [
         "2024-05-20",
         "Pearly Pies",
         51.13703085538861,
         65.77752932621301,
         32.71142752014718
        ],
        [
         "2024-05-21",
         "Pearly Pies",
         42.45292988366802,
         57.09342835449243,
         23.737133213397957
        ],
        [
         "2024-05-22",
         "Pearly Pies",
         33.1696256070547,
         47.81012407787911,
         14.182268850483844
        ],
        [
         "2024-05-23",
         "Pearly Pies",
         30.906849112988976,
         45.547347583813384,
         11.665968829192611
        ],
        [
         "2024-05-24",
         "Pearly Pies",
         37.997730875984715,
         52.638229346809126,
         18.52068723896873
        ],
        [
         "2024-05-25",
         "Pearly Pies",
         49.731905923131926,
         64.37240439395633,
         30.035322017626996
        ],
        [
         "2024-05-26",
         "Pearly Pies",
         57.90251473263288,
         72.54301320345729,
         38.002233145195284
        ],
        [
         "2024-05-27",
         "Pearly Pies",
         56.98613584314129,
         71.6266343139657,
         36.8971906976727
        ],
        [
         "2024-05-16",
         "Tokyo Tidbits",
         12.564705882352932,
         85.91445463444552,
         -29.663982825913116
        ],
        [
         "2024-05-18",
         "Tokyo Tidbits",
         9.913725490196068,
         83.27463953708259,
         -32.88288447582099
        ],
        [
         "2024-05-20",
         "Tokyo Tidbits",
         7.262745098039202,
         80.62566084648105,
         -35.878171802055476
        ],
        [
         "2024-05-22",
         "Tokyo Tidbits",
         4.611764705882332,
         77.975039264276,
         -38.73610917038676
        ],
        [
         "2024-05-24",
         "Tokyo Tidbits",
         1.9607843137254684,
         75.32412318799142,
         -41.510847342237454
        ],
        [
         "2024-05-26",
         "Tokyo Tidbits",
         -0.6901960784313985,
         72.67315432425461,
         -44.23560506724532
        ]
       ],
       "datasetInfos": [],
       "dbfsResultPath": null,
       "isJsonSchema": true,
       "metadata": {
        "sqlStatementIds": [
         "01f03d81-8add-12a6-a542-4a51b26a67e8"
        ]
       },
       "overflow": false,
       "plotOptions": {
        "customPlotOptions": {},
        "displayType": "table",
        "pivotAggregation": null,
        "pivotColumns": null,
        "xColumns": null,
        "yColumns": null
       },
       "removedWidgets": [],
       "schema": [
        {
         "metadata": "{}",
         "name": "dateTime",
         "type": "\"date\""
        },
        {
         "metadata": "{}",
         "name": "product",
         "type": "\"string\""
        },
        {
         "metadata": "{}",
         "name": "totalQuantity_forecast",
         "type": "\"double\""
        },
        {
         "metadata": "{}",
         "name": "totalQuantity_upper",
         "type": "\"double\""
        },
        {
         "metadata": "{}",
         "name": "totalQuantity_lower",
         "type": "\"double\""
        }
       ],
       "type": "table"
      }
     },
     "output_type": "display_data"
    }
   ],
   "source": [
    "BEGIN\n",
    "  CALL users.kent_marten.ProductDemandByFranchise(3000047, DATE('2024-05-17'));\n",
    "END"
   ]
  },
  {
   "cell_type": "code",
   "execution_count": 0,
   "metadata": {
    "application/vnd.databricks.v1+cell": {
     "cellMetadata": {
      "byteLimit": 2048000,
      "rowLimit": 10000
     },
     "inputWidgets": {},
     "nuid": "5f713e0c-5972-4f59-8c2d-cd75ee5bbf7b",
     "showTitle": false,
     "tableResultSettingsMap": {},
     "title": ""
    }
   },
   "outputs": [
    {
     "data": {
      "text/html": [
       "<style scoped>\n",
       "  .ansiout {\n",
       "    display: block;\n",
       "    unicode-bidi: embed;\n",
       "    white-space: pre-wrap;\n",
       "    word-wrap: break-word;\n",
       "    word-break: break-all;\n",
       "    font-family: \"Menlo\", \"Monaco\", \"Consolas\", \"Ubuntu Mono\", \"Source Code Pro\", monospace;\n",
       "    font-size: 13px;\n",
       "    color: #555;\n",
       "    margin-left: 4px;\n",
       "    line-height: 19px;\n",
       "  }\n",
       "</style>"
      ]
     },
     "metadata": {
      "application/vnd.databricks.v1+output": {
       "arguments": {},
       "data": "",
       "errorSummary": "[PARSE_SYNTAX_ERROR] Syntax error at or near 'BEGINSELECT'. SQLSTATE: 42601 line 1, pos 0\n\n== SQL ==\nBEGINSELECT * FROM users.kent_marten.ingredients_count_for_franchise\n^^^",
       "errorTraceType": "raw",
       "metadata": {},
       "type": "ipynbError"
      }
     },
     "output_type": "display_data"
    }
   ],
   "source": [
    "SELECT * FROM users.kent_marten.ingredients_count_for_franchise"
   ]
  },
  {
   "cell_type": "code",
   "execution_count": 0,
   "metadata": {
    "application/vnd.databricks.v1+cell": {
     "cellMetadata": {
      "byteLimit": 2048000,
      "rowLimit": 10000
     },
     "inputWidgets": {},
     "nuid": "cac89480-27b2-42c0-a906-800facdd1a50",
     "showTitle": false,
     "tableResultSettingsMap": {},
     "title": ""
    }
   },
   "outputs": [
    {
     "data": {
      "text/html": [
       "<style scoped>\n",
       "  .table-result-container {\n",
       "    max-height: 300px;\n",
       "    overflow: auto;\n",
       "  }\n",
       "  table, th, td {\n",
       "    border: 1px solid black;\n",
       "    border-collapse: collapse;\n",
       "  }\n",
       "  th, td {\n",
       "    padding: 5px;\n",
       "  }\n",
       "  th {\n",
       "    text-align: left;\n",
       "  }\n",
       "</style><div class='table-result-container'><table class='table-result'><thead style='background-color: white'><tr><th>dateTime</th><th>product</th><th>totalQuantity_forecast</th><th>totalQuantity_upper</th><th>totalQuantity_lower</th></tr></thead><tbody><tr><td>2024-05-17</td><td>Austin Almond Biscotti</td><td>41.44262295081967</td><td>76.51821624572545</td><td>0.8154564698723306</td></tr><tr><td>2024-05-18</td><td>Austin Almond Biscotti</td><td>42.049180327868854</td><td>78.63205305861732</td><td>1.4220134290066966</td></tr><tr><td>2024-05-19</td><td>Austin Almond Biscotti</td><td>42.65573770491804</td><td>80.63868709850402</td><td>2.0285707446504517</td></tr><tr><td>2024-05-20</td><td>Austin Almond Biscotti</td><td>43.262295081967224</td><td>82.53448366520145</td><td>2.635128112677158</td></tr><tr><td>2024-05-21</td><td>Austin Almond Biscotti</td><td>43.8688524590164</td><td>84.31874621441656</td><td>3.241685488400641</td></tr><tr><td>2024-05-22</td><td>Austin Almond Biscotti</td><td>44.47540983606558</td><td>85.99327815350247</td><td>3.848242865255031</td></tr><tr><td>2024-05-23</td><td>Austin Almond Biscotti</td><td>45.081967213114766</td><td>87.56189445101549</td><td>4.454800242275596</td></tr><tr><td>2024-05-24</td><td>Austin Almond Biscotti</td><td>45.68852459016395</td><td>89.02992943185474</td><td>5.0613576193205745</td></tr><tr><td>2024-05-25</td><td>Austin Almond Biscotti</td><td>46.29508196721312</td><td>90.4037755142011</td><td>5.667914996369127</td></tr><tr><td>2024-05-26</td><td>Austin Almond Biscotti</td><td>46.90163934426231</td><td>91.6904754986813</td><td>6.27447237341822</td></tr><tr><td>2024-05-27</td><td>Austin Almond Biscotti</td><td>47.50819672131149</td><td>92.89738014632368</td><td>6.881029750467391</td></tr><tr><td>2024-05-16</td><td>Golden Gate Ginger</td><td>6.0849766033028105</td><td>87.947672156008</td><td>-55.12629471445164</td></tr><tr><td>2024-05-17</td><td>Golden Gate Ginger</td><td>6.451034641222058</td><td>89.28941693394992</td><td>-54.7619043204207</td></tr><tr><td>2024-05-18</td><td>Golden Gate Ginger</td><td>17.009427637055474</td><td>100.68170812480918</td><td>-44.20439155880872</td></tr><tr><td>2024-05-19</td><td>Golden Gate Ginger</td><td>28.732934598172275</td><td>113.11551422545189</td><td>-32.48134920351224</td></tr><tr><td>2024-05-20</td><td>Golden Gate Ginger</td><td>31.716979952089524</td><td>116.70283187440123</td><td>-29.497549075608426</td></tr><tr><td>2024-05-21</td><td>Golden Gate Ginger</td><td>22.637980969073784</td><td>108.13494757238578</td><td>-38.5766774919325</td></tr><tr><td>2024-05-22</td><td>Golden Gate Ginger</td><td>7.256073346362618</td><td>93.185174567618</td><td>-53.958653430939556</td></tr><tr><td>2024-05-23</td><td>Golden Gate Ginger</td><td>-3.9223884572103542</td><td>82.37142900245003</td><td>-65.13715129253518</td></tr><tr><td>2024-05-24</td><td>Golden Gate Ginger</td><td>-3.5563304192911094</td><td>83.04484586571365</td><td>-64.77111228638476</td></tr><tr><td>2024-05-25</td><td>Golden Gate Ginger</td><td>7.002062576542337</td><td>93.8619363820084</td><td>-54.21272933569646</td></tr><tr><td>2024-05-26</td><td>Golden Gate Ginger</td><td>18.7255695376591</td><td>105.80295418926613</td><td>-42.48922767649982</td></tr><tr><td>2024-05-27</td><td>Golden Gate Ginger</td><td>21.70961489157636</td><td>108.969718882425</td><td>-39.50518512098451</td></tr><tr><td>2024-05-13</td><td>Orchard Oasis</td><td>37.53928095872169</td><td>51.60053267869202</td><td>16.163315066191654</td></tr><tr><td>2024-05-14</td><td>Orchard Oasis</td><td>38.8282290279627</td><td>52.88948074793303</td><td>17.243390159734165</td></tr><tr><td>2024-05-15</td><td>Orchard Oasis</td><td>40.117177097203715</td><td>54.178428817174044</td><td>18.374276403384247</td></tr><tr><td>2024-05-16</td><td>Orchard Oasis</td><td>41.406125166444724</td><td>55.46737688641505</td><td>19.54412189988303</td></tr><tr><td>2024-05-17</td><td>Orchard Oasis</td><td>42.69507323568574</td><td>56.75632495565607</td><td>20.743611779472072</td></tr><tr><td>2024-05-18</td><td>Orchard Oasis</td><td>43.984021304926756</td><td>58.045273024897085</td><td>21.965529616923583</td></tr><tr><td>2024-05-19</td><td>Orchard Oasis</td><td>45.27296937416776</td><td>59.33422109413809</td><td>23.20434331374024</td></tr><tr><td>2024-05-20</td><td>Orchard Oasis</td><td>46.561917443408774</td><td>60.6231691633791</td><td>24.455844763628598</td></tr><tr><td>2024-05-21</td><td>Orchard Oasis</td><td>47.85086551264978</td><td>61.91211723262011</td><td>25.716851281823065</td></tr><tr><td>2024-05-22</td><td>Orchard Oasis</td><td>49.1398135818908</td><td>63.20106530186113</td><td>26.984965925270956</td></tr><tr><td>2024-05-23</td><td>Orchard Oasis</td><td>50.428761651131815</td><td>64.49001337110215</td><td>28.258389177139318</td></tr><tr><td>2024-05-24</td><td>Orchard Oasis</td><td>51.71770972037283</td><td>65.77896144034317</td><td>29.535773190129326</td></tr><tr><td>2024-05-25</td><td>Orchard Oasis</td><td>53.006657789613826</td><td>67.06790950958415</td><td>30.81611016733081</td></tr><tr><td>2024-05-26</td><td>Orchard Oasis</td><td>54.29560585885484</td><td>68.35685757882517</td><td>32.09864753965818</td></tr><tr><td>2024-05-27</td><td>Orchard Oasis</td><td>55.58455392809586</td><td>69.64580564806619</td><td>33.382823865866996</td></tr><tr><td>2024-05-17</td><td>Outback Oatmeal</td><td>44.97617929031175</td><td>55.664011396869064</td><td>30.924181084055462</td></tr><tr><td>2024-05-18</td><td>Outback Oatmeal</td><td>48.332549640778495</td><td>59.020383346208895</td><td>34.099953114614266</td></tr><tr><td>2024-05-19</td><td>Outback Oatmeal</td><td>45.89362691169359</td><td>56.58146119914546</td><td>31.52168645135521</td></tr><tr><td>2024-05-20</td><td>Outback Oatmeal</td><td>40.719689758392796</td><td>51.407524257711984</td><td>26.240810347015746</td></tr><tr><td>2024-05-21</td><td>Outback Oatmeal</td><td>37.93053848177341</td><td>48.618373058216484</td><td>23.36992611758894</td></tr><tr><td>2024-05-22</td><td>Outback Oatmeal</td><td>40.850180976825065</td><td>51.538015581342755</td><td>26.227296683472687</td></tr><tr><td>2024-05-23</td><td>Outback Oatmeal</td><td>48.50378699029846</td><td>59.19162160503586</td><td>33.83357163945175</td></tr><tr><td>2024-05-24</td><td>Outback Oatmeal</td><td>56.35175518431524</td><td>67.03958980277282</td><td>41.645630408612384</td></tr><tr><td>2024-05-25</td><td>Outback Oatmeal</td><td>59.70812553478197</td><td>70.39596015459378</td><td>44.97479442994468</td></tr><tr><td>2024-05-26</td><td>Outback Oatmeal</td><td>57.26920280569707</td><td>67.95703742600183</td><td>42.51528075842969</td></tr><tr><td>2024-05-27</td><td>Outback Oatmeal</td><td>52.09526565239627</td><td>62.78310027288049</td><td>37.32577183710533</td></tr><tr><td>2024-05-17</td><td>Pearly Pies</td><td>32.148625888232026</td><td>46.78912435905643</td><td>14.709737892705505</td></tr><tr><td>2024-05-18</td><td>Pearly Pies</td><td>43.882800935379244</td><td>58.52329940620365</td><td>26.095348725115258</td></tr><tr><td>2024-05-19</td><td>Pearly Pies</td><td>52.0534097448802</td><td>66.69390821570461</td><td>33.93712956564135</td></tr><tr><td>2024-05-20</td><td>Pearly Pies</td><td>51.13703085538861</td><td>65.77752932621301</td><td>32.71142752014718</td></tr><tr><td>2024-05-21</td><td>Pearly Pies</td><td>42.45292988366802</td><td>57.09342835449243</td><td>23.737133213397957</td></tr><tr><td>2024-05-22</td><td>Pearly Pies</td><td>33.1696256070547</td><td>47.81012407787911</td><td>14.182268850483844</td></tr><tr><td>2024-05-23</td><td>Pearly Pies</td><td>30.906849112988976</td><td>45.547347583813384</td><td>11.665968829192611</td></tr><tr><td>2024-05-24</td><td>Pearly Pies</td><td>37.997730875984715</td><td>52.638229346809126</td><td>18.52068723896873</td></tr><tr><td>2024-05-25</td><td>Pearly Pies</td><td>49.731905923131926</td><td>64.37240439395633</td><td>30.035322017626996</td></tr><tr><td>2024-05-26</td><td>Pearly Pies</td><td>57.90251473263288</td><td>72.54301320345729</td><td>38.002233145195284</td></tr><tr><td>2024-05-27</td><td>Pearly Pies</td><td>56.98613584314129</td><td>71.6266343139657</td><td>36.8971906976727</td></tr><tr><td>2024-05-16</td><td>Tokyo Tidbits</td><td>12.564705882352932</td><td>85.91445463444552</td><td>-29.663982825913116</td></tr><tr><td>2024-05-18</td><td>Tokyo Tidbits</td><td>9.913725490196068</td><td>83.27463953708259</td><td>-32.88288447582099</td></tr><tr><td>2024-05-20</td><td>Tokyo Tidbits</td><td>7.262745098039202</td><td>80.62566084648105</td><td>-35.878171802055476</td></tr><tr><td>2024-05-22</td><td>Tokyo Tidbits</td><td>4.611764705882332</td><td>77.975039264276</td><td>-38.73610917038676</td></tr><tr><td>2024-05-24</td><td>Tokyo Tidbits</td><td>1.9607843137254684</td><td>75.32412318799142</td><td>-41.510847342237454</td></tr><tr><td>2024-05-26</td><td>Tokyo Tidbits</td><td>-0.6901960784313985</td><td>72.67315432425461</td><td>-44.23560506724532</td></tr></tbody></table></div>"
      ]
     },
     "metadata": {
      "application/vnd.databricks.v1+output": {
       "addedWidgets": {},
       "aggData": [],
       "aggError": "",
       "aggOverflow": false,
       "aggSchema": [],
       "aggSeriesLimitReached": false,
       "aggType": "",
       "arguments": {},
       "columnCustomDisplayInfos": {},
       "data": [
        [
         "2024-05-17",
         "Austin Almond Biscotti",
         41.44262295081967,
         76.51821624572545,
         0.8154564698723306
        ],
        [
         "2024-05-18",
         "Austin Almond Biscotti",
         42.049180327868854,
         78.63205305861732,
         1.4220134290066966
        ],
        [
         "2024-05-19",
         "Austin Almond Biscotti",
         42.65573770491804,
         80.63868709850402,
         2.0285707446504517
        ],
        [
         "2024-05-20",
         "Austin Almond Biscotti",
         43.262295081967224,
         82.53448366520145,
         2.635128112677158
        ],
        [
         "2024-05-21",
         "Austin Almond Biscotti",
         43.8688524590164,
         84.31874621441656,
         3.241685488400641
        ],
        [
         "2024-05-22",
         "Austin Almond Biscotti",
         44.47540983606558,
         85.99327815350247,
         3.848242865255031
        ],
        [
         "2024-05-23",
         "Austin Almond Biscotti",
         45.081967213114766,
         87.56189445101549,
         4.454800242275596
        ],
        [
         "2024-05-24",
         "Austin Almond Biscotti",
         45.68852459016395,
         89.02992943185474,
         5.0613576193205745
        ],
        [
         "2024-05-25",
         "Austin Almond Biscotti",
         46.29508196721312,
         90.4037755142011,
         5.667914996369127
        ],
        [
         "2024-05-26",
         "Austin Almond Biscotti",
         46.90163934426231,
         91.6904754986813,
         6.27447237341822
        ],
        [
         "2024-05-27",
         "Austin Almond Biscotti",
         47.50819672131149,
         92.89738014632368,
         6.881029750467391
        ],
        [
         "2024-05-16",
         "Golden Gate Ginger",
         6.0849766033028105,
         87.947672156008,
         -55.12629471445164
        ],
        [
         "2024-05-17",
         "Golden Gate Ginger",
         6.451034641222058,
         89.28941693394992,
         -54.7619043204207
        ],
        [
         "2024-05-18",
         "Golden Gate Ginger",
         17.009427637055474,
         100.68170812480918,
         -44.20439155880872
        ],
        [
         "2024-05-19",
         "Golden Gate Ginger",
         28.732934598172275,
         113.11551422545189,
         -32.48134920351224
        ],
        [
         "2024-05-20",
         "Golden Gate Ginger",
         31.716979952089524,
         116.70283187440123,
         -29.497549075608426
        ],
        [
         "2024-05-21",
         "Golden Gate Ginger",
         22.637980969073784,
         108.13494757238578,
         -38.5766774919325
        ],
        [
         "2024-05-22",
         "Golden Gate Ginger",
         7.256073346362618,
         93.185174567618,
         -53.958653430939556
        ],
        [
         "2024-05-23",
         "Golden Gate Ginger",
         -3.9223884572103542,
         82.37142900245003,
         -65.13715129253518
        ],
        [
         "2024-05-24",
         "Golden Gate Ginger",
         -3.5563304192911094,
         83.04484586571365,
         -64.77111228638476
        ],
        [
         "2024-05-25",
         "Golden Gate Ginger",
         7.002062576542337,
         93.8619363820084,
         -54.21272933569646
        ],
        [
         "2024-05-26",
         "Golden Gate Ginger",
         18.7255695376591,
         105.80295418926613,
         -42.48922767649982
        ],
        [
         "2024-05-27",
         "Golden Gate Ginger",
         21.70961489157636,
         108.969718882425,
         -39.50518512098451
        ],
        [
         "2024-05-13",
         "Orchard Oasis",
         37.53928095872169,
         51.60053267869202,
         16.163315066191654
        ],
        [
         "2024-05-14",
         "Orchard Oasis",
         38.8282290279627,
         52.88948074793303,
         17.243390159734165
        ],
        [
         "2024-05-15",
         "Orchard Oasis",
         40.117177097203715,
         54.178428817174044,
         18.374276403384247
        ],
        [
         "2024-05-16",
         "Orchard Oasis",
         41.406125166444724,
         55.46737688641505,
         19.54412189988303
        ],
        [
         "2024-05-17",
         "Orchard Oasis",
         42.69507323568574,
         56.75632495565607,
         20.743611779472072
        ],
        [
         "2024-05-18",
         "Orchard Oasis",
         43.984021304926756,
         58.045273024897085,
         21.965529616923583
        ],
        [
         "2024-05-19",
         "Orchard Oasis",
         45.27296937416776,
         59.33422109413809,
         23.20434331374024
        ],
        [
         "2024-05-20",
         "Orchard Oasis",
         46.561917443408774,
         60.6231691633791,
         24.455844763628598
        ],
        [
         "2024-05-21",
         "Orchard Oasis",
         47.85086551264978,
         61.91211723262011,
         25.716851281823065
        ],
        [
         "2024-05-22",
         "Orchard Oasis",
         49.1398135818908,
         63.20106530186113,
         26.984965925270956
        ],
        [
         "2024-05-23",
         "Orchard Oasis",
         50.428761651131815,
         64.49001337110215,
         28.258389177139318
        ],
        [
         "2024-05-24",
         "Orchard Oasis",
         51.71770972037283,
         65.77896144034317,
         29.535773190129326
        ],
        [
         "2024-05-25",
         "Orchard Oasis",
         53.006657789613826,
         67.06790950958415,
         30.81611016733081
        ],
        [
         "2024-05-26",
         "Orchard Oasis",
         54.29560585885484,
         68.35685757882517,
         32.09864753965818
        ],
        [
         "2024-05-27",
         "Orchard Oasis",
         55.58455392809586,
         69.64580564806619,
         33.382823865866996
        ],
        [
         "2024-05-17",
         "Outback Oatmeal",
         44.97617929031175,
         55.664011396869064,
         30.924181084055462
        ],
        [
         "2024-05-18",
         "Outback Oatmeal",
         48.332549640778495,
         59.020383346208895,
         34.099953114614266
        ],
        [
         "2024-05-19",
         "Outback Oatmeal",
         45.89362691169359,
         56.58146119914546,
         31.52168645135521
        ],
        [
         "2024-05-20",
         "Outback Oatmeal",
         40.719689758392796,
         51.407524257711984,
         26.240810347015746
        ],
        [
         "2024-05-21",
         "Outback Oatmeal",
         37.93053848177341,
         48.618373058216484,
         23.36992611758894
        ],
        [
         "2024-05-22",
         "Outback Oatmeal",
         40.850180976825065,
         51.538015581342755,
         26.227296683472687
        ],
        [
         "2024-05-23",
         "Outback Oatmeal",
         48.50378699029846,
         59.19162160503586,
         33.83357163945175
        ],
        [
         "2024-05-24",
         "Outback Oatmeal",
         56.35175518431524,
         67.03958980277282,
         41.645630408612384
        ],
        [
         "2024-05-25",
         "Outback Oatmeal",
         59.70812553478197,
         70.39596015459378,
         44.97479442994468
        ],
        [
         "2024-05-26",
         "Outback Oatmeal",
         57.26920280569707,
         67.95703742600183,
         42.51528075842969
        ],
        [
         "2024-05-27",
         "Outback Oatmeal",
         52.09526565239627,
         62.78310027288049,
         37.32577183710533
        ],
        [
         "2024-05-17",
         "Pearly Pies",
         32.148625888232026,
         46.78912435905643,
         14.709737892705505
        ],
        [
         "2024-05-18",
         "Pearly Pies",
         43.882800935379244,
         58.52329940620365,
         26.095348725115258
        ],
        [
         "2024-05-19",
         "Pearly Pies",
         52.0534097448802,
         66.69390821570461,
         33.93712956564135
        ],
        [
         "2024-05-20",
         "Pearly Pies",
         51.13703085538861,
         65.77752932621301,
         32.71142752014718
        ],
        [
         "2024-05-21",
         "Pearly Pies",
         42.45292988366802,
         57.09342835449243,
         23.737133213397957
        ],
        [
         "2024-05-22",
         "Pearly Pies",
         33.1696256070547,
         47.81012407787911,
         14.182268850483844
        ],
        [
         "2024-05-23",
         "Pearly Pies",
         30.906849112988976,
         45.547347583813384,
         11.665968829192611
        ],
        [
         "2024-05-24",
         "Pearly Pies",
         37.997730875984715,
         52.638229346809126,
         18.52068723896873
        ],
        [
         "2024-05-25",
         "Pearly Pies",
         49.731905923131926,
         64.37240439395633,
         30.035322017626996
        ],
        [
         "2024-05-26",
         "Pearly Pies",
         57.90251473263288,
         72.54301320345729,
         38.002233145195284
        ],
        [
         "2024-05-27",
         "Pearly Pies",
         56.98613584314129,
         71.6266343139657,
         36.8971906976727
        ],
        [
         "2024-05-16",
         "Tokyo Tidbits",
         12.564705882352932,
         85.91445463444552,
         -29.663982825913116
        ],
        [
         "2024-05-18",
         "Tokyo Tidbits",
         9.913725490196068,
         83.27463953708259,
         -32.88288447582099
        ],
        [
         "2024-05-20",
         "Tokyo Tidbits",
         7.262745098039202,
         80.62566084648105,
         -35.878171802055476
        ],
        [
         "2024-05-22",
         "Tokyo Tidbits",
         4.611764705882332,
         77.975039264276,
         -38.73610917038676
        ],
        [
         "2024-05-24",
         "Tokyo Tidbits",
         1.9607843137254684,
         75.32412318799142,
         -41.510847342237454
        ],
        [
         "2024-05-26",
         "Tokyo Tidbits",
         -0.6901960784313985,
         72.67315432425461,
         -44.23560506724532
        ]
       ],
       "datasetInfos": [],
       "dbfsResultPath": null,
       "isJsonSchema": true,
       "metadata": {
        "sqlStatementIds": [
         "01f03d81-7566-10f9-affc-bdaf35debd4e"
        ]
       },
       "overflow": false,
       "plotOptions": {
        "customPlotOptions": {},
        "displayType": "table",
        "pivotAggregation": null,
        "pivotColumns": null,
        "xColumns": null,
        "yColumns": null
       },
       "removedWidgets": [],
       "schema": [
        {
         "metadata": "{}",
         "name": "dateTime",
         "type": "\"date\""
        },
        {
         "metadata": "{}",
         "name": "product",
         "type": "\"string\""
        },
        {
         "metadata": "{}",
         "name": "totalQuantity_forecast",
         "type": "\"double\""
        },
        {
         "metadata": "{}",
         "name": "totalQuantity_upper",
         "type": "\"double\""
        },
        {
         "metadata": "{}",
         "name": "totalQuantity_lower",
         "type": "\"double\""
        }
       ],
       "type": "table"
      }
     },
     "output_type": "display_data"
    }
   ],
   "source": [
    "SELECT * FROM ai_forecast(\n",
    "  TABLE(users.kent_marten.ingredients_count_for_franchise),\n",
    "  horizon => dateadd(day, 10, DATE('2024-05-17')),\n",
    "  time_col => 'dateTime',\n",
    "  value_col => 'totalQuantity',\n",
    "  group_col => 'product'\n",
    ")\n",
    "ORDER BY product ASC, dateTime ASC;"
   ]
  },
  {
   "cell_type": "code",
   "execution_count": 0,
   "metadata": {
    "application/vnd.databricks.v1+cell": {
     "cellMetadata": {},
     "inputWidgets": {},
     "nuid": "f0bb4158-f10a-476a-b7dd-02652cb47d6c",
     "showTitle": false,
     "tableResultSettingsMap": {},
     "title": ""
    }
   },
   "outputs": [],
   "source": []
  }
 ],
 "metadata": {
  "application/vnd.databricks.v1+notebook": {
   "computePreferences": null,
   "dashboards": [],
   "environmentMetadata": {
    "base_environment": "",
    "environment_version": "2"
   },
   "inputWidgetPreferences": null,
   "language": "sql",
   "notebookMetadata": {
    "pythonIndentUnit": 2
   },
   "notebookName": "Bakehouse Demo - Draft",
   "widgets": {
    "columnname": {
     "currentValue": "review",
     "nuid": "f0d6361d-4d4f-4c0e-9d29-17d4cf4f7e27",
     "typedWidgetInfo": {
      "autoCreated": true,
      "defaultValue": "",
      "label": null,
      "name": "columnname",
      "options": {
       "validationRegex": null,
       "widgetDisplayType": "Text"
      },
      "parameterDataType": "String"
     },
     "widgetInfo": {
      "defaultValue": "",
      "label": null,
      "name": "columnname",
      "options": {
       "autoCreated": true,
       "validationRegex": null,
       "widgetType": "text"
      },
      "widgetType": "text"
     }
    },
    "schema": {
     "currentValue": "kent_marten",
     "nuid": "63bf1c41-a18f-4a6c-b06e-3a4e4e293509",
     "typedWidgetInfo": {
      "autoCreated": true,
      "defaultValue": "",
      "label": null,
      "name": "schema",
      "options": {
       "validationRegex": null,
       "widgetDisplayType": "Text"
      },
      "parameterDataType": "String"
     },
     "widgetInfo": {
      "defaultValue": "",
      "label": null,
      "name": "schema",
      "options": {
       "autoCreated": true,
       "validationRegex": null,
       "widgetType": "text"
      },
      "widgetType": "text"
     }
    }
   }
  },
  "language_info": {
   "name": "sql"
  }
 },
 "nbformat": 4,
 "nbformat_minor": 0
}
